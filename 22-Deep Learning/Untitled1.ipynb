{
 "cells": [
  {
   "cell_type": "code",
   "execution_count": null,
   "id": "3cbc116a-58de-4e2d-b706-c722b868ff81",
   "metadata": {},
   "outputs": [],
   "source": []
  }
 ],
 "metadata": {
  "kernelspec": {
   "display_name": "",
   "name": ""
  },
  "language_info": {
   "name": ""
  }
 },
 "nbformat": 4,
 "nbformat_minor": 5
}
