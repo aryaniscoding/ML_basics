{
 "cells": [
  {
   "cell_type": "code",
   "execution_count": 1,
   "id": "e58f17a8",
   "metadata": {},
   "outputs": [],
   "source": [
    "# Plotly is an interactive visualization library\n",
    "# CUFFLINKS connect plotly with pandas\n"
   ]
  },
  {
   "cell_type": "code",
   "execution_count": 2,
   "id": "8d1370b9",
   "metadata": {},
   "outputs": [],
   "source": [
    "import chart_studio.plotly as py"
   ]
  },
  {
   "cell_type": "code",
   "execution_count": 2,
   "id": "108026de",
   "metadata": {},
   "outputs": [],
   "source": [
    "import pandas as pd\n",
    "import numpy as np\n",
    "from plotly import __version__\n",
    "%matplotlib inline"
   ]
  },
  {
   "cell_type": "code",
   "execution_count": 4,
   "id": "f8b015d3",
   "metadata": {},
   "outputs": [
    {
     "name": "stdout",
     "output_type": "stream",
     "text": [
      "5.24.1\n"
     ]
    }
   ],
   "source": [
    "print(__version__)"
   ]
  },
  {
   "cell_type": "code",
   "execution_count": 6,
   "id": "b5f66132",
   "metadata": {},
   "outputs": [
    {
     "ename": "ModuleNotFoundError",
     "evalue": "No module named 'cufflinks'",
     "output_type": "error",
     "traceback": [
      "\u001b[1;31m---------------------------------------------------------------------------\u001b[0m",
      "\u001b[1;31mModuleNotFoundError\u001b[0m                       Traceback (most recent call last)",
      "Cell \u001b[1;32mIn[6], line 1\u001b[0m\n\u001b[1;32m----> 1\u001b[0m \u001b[38;5;28;01mimport\u001b[39;00m \u001b[38;5;21;01mcufflinks\u001b[39;00m \u001b[38;5;28;01mas\u001b[39;00m \u001b[38;5;21;01mcf\u001b[39;00m\n",
      "\u001b[1;31mModuleNotFoundError\u001b[0m: No module named 'cufflinks'"
     ]
    }
   ],
   "source": [
    "import cufflinks as cf"
   ]
  },
  {
   "cell_type": "code",
   "execution_count": 8,
   "id": "ae5d32f9",
   "metadata": {},
   "outputs": [],
   "source": [
    "from plotly.offline import download_plotlyjs,init_notebook_mode,plot,iplot"
   ]
  },
  {
   "cell_type": "code",
   "execution_count": 7,
   "id": "2777f8af",
   "metadata": {},
   "outputs": [
    {
     "data": {
      "text/html": [
       "        <script type=\"text/javascript\">\n",
       "        window.PlotlyConfig = {MathJaxConfig: 'local'};\n",
       "        if (window.MathJax && window.MathJax.Hub && window.MathJax.Hub.Config) {window.MathJax.Hub.Config({SVG: {font: \"STIX-Web\"}});}\n",
       "        if (typeof require !== 'undefined') {\n",
       "        require.undef(\"plotly\");\n",
       "        requirejs.config({\n",
       "            paths: {\n",
       "                'plotly': ['https://cdn.plot.ly/plotly-2.12.1.min']\n",
       "            }\n",
       "        });\n",
       "        require(['plotly'], function(Plotly) {\n",
       "            window._Plotly = Plotly;\n",
       "        });\n",
       "        }\n",
       "        </script>\n",
       "        "
      ]
     },
     "metadata": {},
     "output_type": "display_data"
    }
   ],
   "source": [
    "init_notebook_mode(connected = True)"
   ]
  },
  {
   "cell_type": "code",
   "execution_count": 8,
   "id": "cbca78da",
   "metadata": {},
   "outputs": [
    {
     "data": {
      "text/html": [
       "        <script type=\"text/javascript\">\n",
       "        window.PlotlyConfig = {MathJaxConfig: 'local'};\n",
       "        if (window.MathJax && window.MathJax.Hub && window.MathJax.Hub.Config) {window.MathJax.Hub.Config({SVG: {font: \"STIX-Web\"}});}\n",
       "        if (typeof require !== 'undefined') {\n",
       "        require.undef(\"plotly\");\n",
       "        requirejs.config({\n",
       "            paths: {\n",
       "                'plotly': ['https://cdn.plot.ly/plotly-2.12.1.min']\n",
       "            }\n",
       "        });\n",
       "        require(['plotly'], function(Plotly) {\n",
       "            window._Plotly = Plotly;\n",
       "        });\n",
       "        }\n",
       "        </script>\n",
       "        "
      ]
     },
     "metadata": {},
     "output_type": "display_data"
    }
   ],
   "source": [
    "cf.go_offline()"
   ]
  },
  {
   "cell_type": "code",
   "execution_count": 9,
   "id": "3b0cdc8d",
   "metadata": {},
   "outputs": [],
   "source": [
    "# DATA\n",
    "df = pd.DataFrame(np.random.randn(100,4),columns = 'A B C D'.split())"
   ]
  },
  {
   "cell_type": "code",
   "execution_count": 10,
   "id": "4e7d3548",
   "metadata": {},
   "outputs": [
    {
     "data": {
      "text/html": [
       "<div>\n",
       "<style scoped>\n",
       "    .dataframe tbody tr th:only-of-type {\n",
       "        vertical-align: middle;\n",
       "    }\n",
       "\n",
       "    .dataframe tbody tr th {\n",
       "        vertical-align: top;\n",
       "    }\n",
       "\n",
       "    .dataframe thead th {\n",
       "        text-align: right;\n",
       "    }\n",
       "</style>\n",
       "<table border=\"1\" class=\"dataframe\">\n",
       "  <thead>\n",
       "    <tr style=\"text-align: right;\">\n",
       "      <th></th>\n",
       "      <th>A</th>\n",
       "      <th>B</th>\n",
       "      <th>C</th>\n",
       "      <th>D</th>\n",
       "    </tr>\n",
       "  </thead>\n",
       "  <tbody>\n",
       "    <tr>\n",
       "      <th>0</th>\n",
       "      <td>-0.592630</td>\n",
       "      <td>-0.115791</td>\n",
       "      <td>-0.532938</td>\n",
       "      <td>-0.219384</td>\n",
       "    </tr>\n",
       "    <tr>\n",
       "      <th>1</th>\n",
       "      <td>0.256730</td>\n",
       "      <td>0.479849</td>\n",
       "      <td>0.557159</td>\n",
       "      <td>0.036738</td>\n",
       "    </tr>\n",
       "    <tr>\n",
       "      <th>2</th>\n",
       "      <td>-0.437825</td>\n",
       "      <td>0.294281</td>\n",
       "      <td>-0.777378</td>\n",
       "      <td>0.987800</td>\n",
       "    </tr>\n",
       "    <tr>\n",
       "      <th>3</th>\n",
       "      <td>1.053469</td>\n",
       "      <td>0.713107</td>\n",
       "      <td>0.450295</td>\n",
       "      <td>-0.456807</td>\n",
       "    </tr>\n",
       "    <tr>\n",
       "      <th>4</th>\n",
       "      <td>-0.991951</td>\n",
       "      <td>-0.614145</td>\n",
       "      <td>1.013888</td>\n",
       "      <td>0.727110</td>\n",
       "    </tr>\n",
       "  </tbody>\n",
       "</table>\n",
       "</div>"
      ],
      "text/plain": [
       "          A         B         C         D\n",
       "0 -0.592630 -0.115791 -0.532938 -0.219384\n",
       "1  0.256730  0.479849  0.557159  0.036738\n",
       "2 -0.437825  0.294281 -0.777378  0.987800\n",
       "3  1.053469  0.713107  0.450295 -0.456807\n",
       "4 -0.991951 -0.614145  1.013888  0.727110"
      ]
     },
     "execution_count": 10,
     "metadata": {},
     "output_type": "execute_result"
    }
   ],
   "source": [
    "df.head()"
   ]
  },
  {
   "cell_type": "code",
   "execution_count": 11,
   "id": "d63228e3",
   "metadata": {},
   "outputs": [],
   "source": [
    "df2 = pd.DataFrame({'Category':['A','B','C'],'Values':[32,43,50]})"
   ]
  },
  {
   "cell_type": "code",
   "execution_count": 12,
   "id": "f83fe796",
   "metadata": {},
   "outputs": [
    {
     "data": {
      "text/html": [
       "<div>\n",
       "<style scoped>\n",
       "    .dataframe tbody tr th:only-of-type {\n",
       "        vertical-align: middle;\n",
       "    }\n",
       "\n",
       "    .dataframe tbody tr th {\n",
       "        vertical-align: top;\n",
       "    }\n",
       "\n",
       "    .dataframe thead th {\n",
       "        text-align: right;\n",
       "    }\n",
       "</style>\n",
       "<table border=\"1\" class=\"dataframe\">\n",
       "  <thead>\n",
       "    <tr style=\"text-align: right;\">\n",
       "      <th></th>\n",
       "      <th>Category</th>\n",
       "      <th>Values</th>\n",
       "    </tr>\n",
       "  </thead>\n",
       "  <tbody>\n",
       "    <tr>\n",
       "      <th>0</th>\n",
       "      <td>A</td>\n",
       "      <td>32</td>\n",
       "    </tr>\n",
       "    <tr>\n",
       "      <th>1</th>\n",
       "      <td>B</td>\n",
       "      <td>43</td>\n",
       "    </tr>\n",
       "    <tr>\n",
       "      <th>2</th>\n",
       "      <td>C</td>\n",
       "      <td>50</td>\n",
       "    </tr>\n",
       "  </tbody>\n",
       "</table>\n",
       "</div>"
      ],
      "text/plain": [
       "  Category  Values\n",
       "0        A      32\n",
       "1        B      43\n",
       "2        C      50"
      ]
     },
     "execution_count": 12,
     "metadata": {},
     "output_type": "execute_result"
    }
   ],
   "source": [
    "df2"
   ]
  },
  {
   "cell_type": "code",
   "execution_count": 13,
   "id": "926b832e",
   "metadata": {},
   "outputs": [
    {
     "data": {
      "text/plain": [
       "<Axes: >"
      ]
     },
     "execution_count": 13,
     "metadata": {},
     "output_type": "execute_result"
    },
    {
     "data": {
      "image/png": "[encoded data removed]",
      "text/plain": [
       "<Figure size 640x480 with 1 Axes>"
      ]
     },
     "metadata": {},
     "output_type": "display_data"
    }
   ],
   "source": [
    "df.plot()"
   ]
  },
  {
   "cell_type": "code",
   "execution_count": 14,
   "id": "bfb29026",
   "metadata": {},
   "outputs": [
    {
     "data": {
      "application/vnd.plotly.v1+json": {
       "config": {
        "linkText": "Export to plot.ly",
        "plotlyServerURL": "https://plot.ly",
        "showLink": true
       },
       "data": [
        {
         "line": {
          "color": "rgba(255, 153, 51, 1.0)",
          "dash": "solid",
          "shape": "linear",
          "width": 1.3
         },
         "mode": "lines",
         "name": "A",
         "text": "",
         "type": "scatter",
         "x": [
          0,
          1,
          2,
          3,
          4,
          5,
          6,
          7,
          8,
          9,
          10,
          11,
          12,
          13,
          14,
          15,
          16,
          17,
          18,
          19,
          20,
          21,
          22,
          23,
          24,
          25,
          26,
          27,
          28,
          29,
          30,
          31,
          32,
          33,
          34,
          35,
          36,
          37,
          38,
          39,
          40,
          41,
          42,
          43,
          44,
          45,
          46,
          47,
          48,
          49,
          50,
          51,
          52,
          53,
          54,
          55,
          56,
          57,
          58,
          59,
          60,
          61,
          62,
          63,
          64,
          65,
          66,
          67,
          68,
          69,
          70,
          71,
          72,
          73,
          74,
          75,
          76,
          77,
          78,
          79,
          80,
          81,
          82,
          83,
          84,
          85,
          86,
          87,
          88,
          89,
          90,
          91,
          92,
          93,
          94,
          95,
          96,
          97,
          98,
          99
         ],
         "y": [
          -0.5926298961513271,
          0.25673020586304807,
          -0.43782540602292713,
          1.0534689198889642,
          -0.9919513407195126,
          1.611767926213217,
          0.06330100258337129,
          -0.7794590258443483,
          1.3213895611178617,
          2.0428480315223823,
          1.3942054388325047,
          -1.0038641189563902,
          0.38499375800912655,
          0.43771904183757787,
          -0.03450546160271116,
          1.053234080805073,
          2.0397975570567692,
          0.385375865370009,
          1.7676509480340017,
          -0.6649155567520971,
          1.436288459640299,
          -0.4036051333866007,
          0.09260910325620314,
          -0.6542216569397591,
          1.4741915479685124,
          0.9051017853546715,
          -2.196271747394207,
          -0.11339517644243712,
          -0.4449131865951581,
          -0.22841259825041527,
          0.8679037688166911,
          -0.8281381473996741,
          -0.3197383644114914,
          -0.22840516815474368,
          2.853834584156512,
          0.6216999835149216,
          1.5240921155040292,
          -0.31203354460191196,
          0.08094205015951837,
          0.015646307251275072,
          1.7932205291927203,
          0.4653034182676237,
          1.1593511785630377,
          1.5737474570494507,
          1.1662651409043536,
          -0.13617317080506597,
          -1.6664432754952285,
          0.6658652654155452,
          -0.5158901261812123,
          -0.9417598894899648,
          0.5250610445322508,
          1.1998623089464961,
          -0.3229256151506854,
          -1.2920143018845127,
          -0.05205440705465112,
          0.26600301743930166,
          -0.9644056385681528,
          2.4529695305287142,
          2.713126831567635,
          0.23352598710271472,
          0.24763388006906298,
          -1.2243351213532416,
          0.41903421957586184,
          0.48867062808082373,
          -0.7861677504690421,
          -1.2514626078351387,
          0.21186021746577036,
          -0.06017875815427523,
          2.3055917858896997,
          -0.72211444002813,
          -0.12793695931512533,
          -0.007755887247505297,
          -1.0097227248055003,
          0.6030326691920733,
          -0.1739761026833534,
          0.7520083111574457,
          -0.5412741041067098,
          0.12309165184098429,
          0.7562849692392389,
          1.0348364759469733,
          -1.3908296564977056,
          -0.4406362876635684,
          0.574944055766053,
          -0.5819853653510465,
          0.881152636747594,
          0.07868416646062422,
          1.8226632065021642,
          -0.13719437995366995,
          1.1162581459854621,
          -0.7985545018909256,
          0.17241094898690948,
          0.2552260864441374,
          1.0605714157563813,
          0.5179693571027562,
          0.4155143057576676,
          1.4316485846465625,
          -0.7775443753105155,
          -1.063630020330371,
          -0.16289165324194577,
          -0.29531247931902405
         ]
        },
        {
         "line": {
          "color": "rgba(55, 128, 191, 1.0)",
          "dash": "solid",
          "shape": "linear",
          "width": 1.3
         },
         "mode": "lines",
         "name": "B",
         "text": "",
         "type": "scatter",
         "x": [
          0,
          1,
          2,
          3,
          4,
          5,
          6,
          7,
          8,
          9,
          10,
          11,
          12,
          13,
          14,
          15,
          16,
          17,
          18,
          19,
          20,
          21,
          22,
          23,
          24,
          25,
          26,
          27,
          28,
          29,
          30,
          31,
          32,
          33,
          34,
          35,
          36,
          37,
          38,
          39,
          40,
          41,
          42,
          43,
          44,
          45,
          46,
          47,
          48,
          49,
          50,
          51,
          52,
          53,
          54,
          55,
          56,
          57,
          58,
          59,
          60,
          61,
          62,
          63,
          64,
          65,
          66,
          67,
          68,
          69,
          70,
          71,
          72,
          73,
          74,
          75,
          76,
          77,
          78,
          79,
          80,
          81,
          82,
          83,
          84,
          85,
          86,
          87,
          88,
          89,
          90,
          91,
          92,
          93,
          94,
          95,
          96,
          97,
          98,
          99
         ],
         "y": [
          -0.1157907510446745,
          0.4798485260848488,
          0.2942811047577971,
          0.7131066424167334,
          -0.614145259332274,
          1.3367013379768597,
          -0.3611519306104252,
          -0.22674171311266222,
          -0.7922763953214255,
          -1.912388440068962,
          2.94461710583469,
          0.7466399419377467,
          -0.5062250561740432,
          -0.6267758673924915,
          -0.5301364252727697,
          -1.1356102411393012,
          1.7097173351457045,
          -0.5982673480241042,
          0.632599712583573,
          -0.7191789918807273,
          -1.011913867593541,
          1.0862462490282248,
          1.1499817116204132,
          0.7121776705596654,
          -0.7249853951963967,
          -0.24484654770034245,
          -0.10946886787942355,
          0.9444906377964262,
          -0.03956551316859267,
          -1.1913735024463135,
          -0.963486275341088,
          -1.3533511104197,
          -0.10146602362529568,
          0.40726711160299367,
          -1.3279311786454684,
          0.08999558075822016,
          1.4193027223212058,
          0.8481711573298252,
          1.237710700172955,
          -0.9075402340794535,
          0.24104376712171527,
          -0.26683695105423477,
          0.5297046101182764,
          -0.5898451706324817,
          -0.46118554508543186,
          0.4438889661881818,
          -0.022849201447032792,
          0.6538508162804493,
          -0.8969955791054491,
          0.5151826075293686,
          -1.716075531842265,
          -1.2459443299216126,
          -0.39468032622605176,
          -0.594068760568758,
          1.1781478136671775,
          -1.0799218215036783,
          1.0329478909914607,
          0.2282708120345758,
          0.5740812637562833,
          0.998004452114102,
          -0.4240139456347152,
          1.5697362346573667,
          -2.301553062519039,
          -0.05564169983599276,
          -0.5750252875191277,
          0.36899773315170714,
          1.2352274250634883,
          -0.2760983305352888,
          -1.1315843014714326,
          0.47160626469032957,
          0.6224993997445093,
          0.3056078012612184,
          0.3565127710229608,
          0.16192329536141162,
          -0.4482276412402648,
          -0.255341393719222,
          2.731094066424876,
          -0.3509008449363998,
          0.7562307284894754,
          0.307461984745654,
          -0.028086364160419496,
          0.3078805805283829,
          0.2717827333298244,
          -0.21005022861881803,
          0.15616678270870996,
          -0.5508037116094993,
          -0.8595019402724217,
          -1.1811403903781978,
          -1.1051152466130356,
          0.18553196417980916,
          0.625579015927619,
          -0.6408948128706429,
          -0.12432769691673103,
          -1.0699306999590428,
          0.26771926977846544,
          0.8026332176389065,
          1.80141470610895,
          -1.873013331107765,
          0.9099007759609501,
          -1.4396917779942568
         ]
        },
        {
         "line": {
          "color": "rgba(50, 171, 96, 1.0)",
          "dash": "solid",
          "shape": "linear",
          "width": 1.3
         },
         "mode": "lines",
         "name": "C",
         "text": "",
         "type": "scatter",
         "x": [
          0,
          1,
          2,
          3,
          4,
          5,
          6,
          7,
          8,
          9,
          10,
          11,
          12,
          13,
          14,
          15,
          16,
          17,
          18,
          19,
          20,
          21,
          22,
          23,
          24,
          25,
          26,
          27,
          28,
          29,
          30,
          31,
          32,
          33,
          34,
          35,
          36,
          37,
          38,
          39,
          40,
          41,
          42,
          43,
          44,
          45,
          46,
          47,
          48,
          49,
          50,
          51,
          52,
          53,
          54,
          55,
          56,
          57,
          58,
          59,
          60,
          61,
          62,
          63,
          64,
          65,
          66,
          67,
          68,
          69,
          70,
          71,
          72,
          73,
          74,
          75,
          76,
          77,
          78,
          79,
          80,
          81,
          82,
          83,
          84,
          85,
          86,
          87,
          88,
          89,
          90,
          91,
          92,
          93,
          94,
          95,
          96,
          97,
          98,
          99
         ],
         "y": [
          -0.5329383118117111,
          0.557158984686362,
          -0.7773784640077513,
          0.4502948550666474,
          1.0138880505622996,
          0.8643796572088078,
          1.403327846853929,
          0.17662681793324203,
          -0.9256916191776521,
          0.11113838946336113,
          -0.5003135852854012,
          -1.4373836749538296,
          0.004390886289931718,
          0.5052863861856433,
          1.0398284942816312,
          0.4700021219352897,
          1.2942516711557286,
          0.4562530916282091,
          0.4867757023349144,
          0.5251023387128786,
          1.366687500871755,
          0.7341868934647509,
          -0.7406234269138862,
          1.7902580011984228,
          -0.052280405347552884,
          -1.2994890823643053,
          -0.03998407812874461,
          0.2409334336633333,
          -1.1431901553946213,
          -1.3375003089870747,
          0.21267439088163337,
          -0.3727133338594834,
          -1.7432581570902688,
          1.1140649602434551,
          0.11880631666273851,
          -2.009441502210672,
          -0.5510243805032415,
          -0.3965855723196719,
          -0.9207409303162719,
          -1.0943443758622298,
          0.2763122759552882,
          -1.5883444069275798,
          -1.0330063980789108,
          0.5362525437628567,
          0.1411710405785407,
          -0.38437445757092265,
          1.3919900976151998,
          0.9517151174256139,
          -1.1901950141859108,
          -0.14189555170734033,
          0.5968986628418939,
          -0.5005443285631248,
          1.416423978087898,
          0.1431483587824421,
          3.4124450680223752,
          -0.06761336436845361,
          0.8701406858782743,
          -1.5729354220756329,
          -1.5239639144707235,
          -0.35001468782544215,
          -0.3141329650511141,
          1.289147141353759,
          0.6571940529834378,
          0.12691583464319822,
          -0.35819019671388636,
          0.3512140322402031,
          -1.570650531955033,
          1.6844680221586628,
          -1.138982064296053,
          -0.0669494830020375,
          0.10910710717061158,
          0.4366525495605837,
          0.031831925732240654,
          0.7073775791321979,
          0.26398938042263326,
          1.65842532898978,
          1.1225040754670954,
          2.1251585555550387,
          -0.2210800855085304,
          -0.580723734930385,
          0.6749862640274892,
          -0.3248229431990396,
          0.8908237137126089,
          0.38853005247553696,
          -0.008631663873746373,
          1.1576062810456162,
          -2.5163976663842575,
          -0.3794418799086721,
          -1.3282923544858762,
          -2.0459800517490567,
          -0.3781167481915554,
          -0.026801909417827462,
          -0.3209689443383593,
          -1.255685088054047,
          2.753703318492102,
          1.5388188394422968,
          -1.479870267117127,
          0.39163662921207093,
          -0.48390531047703966,
          0.7573644209629506
         ]
        },
        {
         "line": {
          "color": "rgba(128, 0, 128, 1.0)",
          "dash": "solid",
          "shape": "linear",
          "width": 1.3
         },
         "mode": "lines",
         "name": "D",
         "text": "",
         "type": "scatter",
         "x": [
          0,
          1,
          2,
          3,
          4,
          5,
          6,
          7,
          8,
          9,
          10,
          11,
          12,
          13,
          14,
          15,
          16,
          17,
          18,
          19,
          20,
          21,
          22,
          23,
          24,
          25,
          26,
          27,
          28,
          29,
          30,
          31,
          32,
          33,
          34,
          35,
          36,
          37,
          38,
          39,
          40,
          41,
          42,
          43,
          44,
          45,
          46,
          47,
          48,
          49,
          50,
          51,
          52,
          53,
          54,
          55,
          56,
          57,
          58,
          59,
          60,
          61,
          62,
          63,
          64,
          65,
          66,
          67,
          68,
          69,
          70,
          71,
          72,
          73,
          74,
          75,
          76,
          77,
          78,
          79,
          80,
          81,
          82,
          83,
          84,
          85,
          86,
          87,
          88,
          89,
          90,
          91,
          92,
          93,
          94,
          95,
          96,
          97,
          98,
          99
         ],
         "y": [
          -0.2193839724920814,
          0.03673834097851173,
          0.987799585989557,
          -0.45680697868842046,
          0.7271098863401266,
          0.30329210727865613,
          -0.26712978821937444,
          1.0095723743385,
          -0.4228909507045194,
          0.3075892397528451,
          0.9489828485601433,
          -0.22451513255242508,
          -1.1107116681174418,
          0.7680108676987024,
          -0.11630608147155315,
          0.29093326534482966,
          1.9542889849467535,
          1.1110135911541346,
          -2.3296160711306944,
          0.02187744257320405,
          -0.6629555946608392,
          -0.4928989052670513,
          -0.8759945384540662,
          0.6922627648086038,
          1.1262086084701817,
          1.9691467010080486,
          1.3741557642209405,
          -1.3713246219745756,
          -0.1836866932419942,
          1.043777373642293,
          1.1171414932728372,
          -0.8483544586416497,
          0.5475171172834119,
          0.22746681771477958,
          -0.6308476174813245,
          -0.09854811827025602,
          0.022769378814638853,
          -0.4487986629320674,
          -0.9034597245484658,
          -0.6378949254903331,
          -0.4492768708891525,
          1.0555579449603434,
          -0.11470394720695867,
          -0.14609532264882724,
          -0.3802579048952034,
          2.1033300796058008,
          -0.07835629365401076,
          0.255763285824464,
          -1.0829429872566125,
          -0.5984508218594459,
          0.2988305135551518,
          0.7610733152132845,
          -0.15331145876966712,
          -1.0899092691503058,
          0.6887506413586928,
          0.09057229714387154,
          -0.1831544794728409,
          -0.23219247443813748,
          1.0850595737659272,
          0.7079347962395922,
          0.9239648370430716,
          0.5752666639473206,
          -0.0782466539059608,
          -0.5751549927849406,
          0.30293306177254614,
          -1.6128733507367412,
          0.954161956224829,
          0.35331662927665525,
          0.4867032255124756,
          -1.4425153880296329,
          -2.439129093983263,
          1.300863150160351,
          -1.2320162675360742,
          -0.17352268024345233,
          -0.3202322874932672,
          -0.35092980882229036,
          0.5275550115628105,
          1.7884140357936633,
          3.1450296067129244,
          -0.5314874202448286,
          -2.064718091313124,
          0.9534673941924888,
          -0.040331506354160544,
          -0.6352729350658008,
          -0.06096951786361323,
          0.5609324550321262,
          0.3574741859411366,
          -1.7928844510806905,
          -0.033542057166446475,
          -1.412194137336305,
          -0.12324110708590304,
          -0.553675978465696,
          0.7324784603482485,
          -0.250450527950122,
          0.3814857723717101,
          0.0693795153937473,
          1.2127267520325036,
          0.31639856434337044,
          -0.16116887362125037,
          0.7714979567097996
         ]
        }
       ],
       "layout": {
        "legend": {
         "bgcolor": "#F5F6F9",
         "font": {
          "color": "#4D5663"
         }
        },
        "paper_bgcolor": "#F5F6F9",
        "plot_bgcolor": "#F5F6F9",
        "template": {
         "data": {
          "bar": [
           {
            "error_x": {
             "color": "#2a3f5f"
            },
            "error_y": {
             "color": "#2a3f5f"
            },
            "marker": {
             "line": {
              "color": "#E5ECF6",
              "width": 0.5
             },
             "pattern": {
              "fillmode": "overlay",
              "size": 10,
              "solidity": 0.2
             }
            },
            "type": "bar"
           }
          ],
          "barpolar": [
           {
            "marker": {
             "line": {
              "color": "#E5ECF6",
              "width": 0.5
             },
             "pattern": {
              "fillmode": "overlay",
              "size": 10,
              "solidity": 0.2
             }
            },
            "type": "barpolar"
           }
          ],
          "carpet": [
           {
            "aaxis": {
             "endlinecolor": "#2a3f5f",
             "gridcolor": "white",
             "linecolor": "white",
             "minorgridcolor": "white",
             "startlinecolor": "#2a3f5f"
            },
            "baxis": {
             "endlinecolor": "#2a3f5f",
             "gridcolor": "white",
             "linecolor": "white",
             "minorgridcolor": "white",
             "startlinecolor": "#2a3f5f"
            },
            "type": "carpet"
           }
          ],
          "choropleth": [
           {
            "colorbar": {
             "outlinewidth": 0,
             "ticks": ""
            },
            "type": "choropleth"
           }
          ],
          "contour": [
           {
            "colorbar": {
             "outlinewidth": 0,
             "ticks": ""
            },
            "colorscale": [
             [
              0,
              "#0d0887"
             ],
             [
              0.1111111111111111,
              "#46039f"
             ],
             [
              0.2222222222222222,
              "#7201a8"
             ],
             [
              0.3333333333333333,
              "#9c179e"
             ],
             [
              0.4444444444444444,
              "#bd3786"
             ],
             [
              0.5555555555555556,
              "#d8576b"
             ],
             [
              0.6666666666666666,
              "#ed7953"
             ],
             [
              0.7777777777777778,
              "#fb9f3a"
             ],
             [
              0.8888888888888888,
              "#fdca26"
             ],
             [
              1,
              "#f0f921"
             ]
            ],
            "type": "contour"
           }
          ],
          "contourcarpet": [
           {
            "colorbar": {
             "outlinewidth": 0,
             "ticks": ""
            },
            "type": "contourcarpet"
           }
          ],
          "heatmap": [
           {
            "colorbar": {
             "outlinewidth": 0,
             "ticks": ""
            },
            "colorscale": [
             [
              0,
              "#0d0887"
             ],
             [
              0.1111111111111111,
              "#46039f"
             ],
             [
              0.2222222222222222,
              "#7201a8"
             ],
             [
              0.3333333333333333,
              "#9c179e"
             ],
             [
              0.4444444444444444,
              "#bd3786"
             ],
             [
              0.5555555555555556,
              "#d8576b"
             ],
             [
              0.6666666666666666,
              "#ed7953"
             ],
             [
              0.7777777777777778,
              "#fb9f3a"
             ],
             [
              0.8888888888888888,
              "#fdca26"
             ],
             [
              1,
              "#f0f921"
             ]
            ],
            "type": "heatmap"
           }
          ],
          "heatmapgl": [
           {
            "colorbar": {
             "outlinewidth": 0,
             "ticks": ""
            },
            "colorscale": [
             [
              0,
              "#0d0887"
             ],
             [
              0.1111111111111111,
              "#46039f"
             ],
             [
              0.2222222222222222,
              "#7201a8"
             ],
             [
              0.3333333333333333,
              "#9c179e"
             ],
             [
              0.4444444444444444,
              "#bd3786"
             ],
             [
              0.5555555555555556,
              "#d8576b"
             ],
             [
              0.6666666666666666,
              "#ed7953"
             ],
             [
              0.7777777777777778,
              "#fb9f3a"
             ],
             [
              0.8888888888888888,
              "#fdca26"
             ],
             [
              1,
              "#f0f921"
             ]
            ],
            "type": "heatmapgl"
           }
          ],
          "histogram": [
           {
            "marker": {
             "pattern": {
              "fillmode": "overlay",
              "size": 10,
              "solidity": 0.2
             }
            },
            "type": "histogram"
           }
          ],
          "histogram2d": [
           {
            "colorbar": {
             "outlinewidth": 0,
             "ticks": ""
            },
            "colorscale": [
             [
              0,
              "#0d0887"
             ],
             [
              0.1111111111111111,
              "#46039f"
             ],
             [
              0.2222222222222222,
              "#7201a8"
             ],
             [
              0.3333333333333333,
              "#9c179e"
             ],
             [
              0.4444444444444444,
              "#bd3786"
             ],
             [
              0.5555555555555556,
              "#d8576b"
             ],
             [
              0.6666666666666666,
              "#ed7953"
             ],
             [
              0.7777777777777778,
              "#fb9f3a"
             ],
             [
              0.8888888888888888,
              "#fdca26"
             ],
             [
              1,
              "#f0f921"
             ]
            ],
            "type": "histogram2d"
           }
          ],
          "histogram2dcontour": [
           {
            "colorbar": {
             "outlinewidth": 0,
             "ticks": ""
            },
            "colorscale": [
             [
              0,
              "#0d0887"
             ],
             [
              0.1111111111111111,
              "#46039f"
             ],
             [
              0.2222222222222222,
              "#7201a8"
             ],
             [
              0.3333333333333333,
              "#9c179e"
             ],
             [
              0.4444444444444444,
              "#bd3786"
             ],
             [
              0.5555555555555556,
              "#d8576b"
             ],
             [
              0.6666666666666666,
              "#ed7953"
             ],
             [
              0.7777777777777778,
              "#fb9f3a"
             ],
             [
              0.8888888888888888,
              "#fdca26"
             ],
             [
              1,
              "#f0f921"
             ]
            ],
            "type": "histogram2dcontour"
           }
          ],
          "mesh3d": [
           {
            "colorbar": {
             "outlinewidth": 0,
             "ticks": ""
            },
            "type": "mesh3d"
           }
          ],
          "parcoords": [
           {
            "line": {
             "colorbar": {
              "outlinewidth": 0,
              "ticks": ""
             }
            },
            "type": "parcoords"
           }
          ],
          "pie": [
           {
            "automargin": true,
            "type": "pie"
           }
          ],
          "scatter": [
           {
            "fillpattern": {
             "fillmode": "overlay",
             "size": 10,
             "solidity": 0.2
            },
            "type": "scatter"
           }
          ],
          "scatter3d": [
           {
            "line": {
             "colorbar": {
              "outlinewidth": 0,
              "ticks": ""
             }
            },
            "marker": {
             "colorbar": {
              "outlinewidth": 0,
              "ticks": ""
             }
            },
            "type": "scatter3d"
           }
          ],
          "scattercarpet": [
           {
            "marker": {
             "colorbar": {
              "outlinewidth": 0,
              "ticks": ""
             }
            },
            "type": "scattercarpet"
           }
          ],
          "scattergeo": [
           {
            "marker": {
             "colorbar": {
              "outlinewidth": 0,
              "ticks": ""
             }
            },
            "type": "scattergeo"
           }
          ],
          "scattergl": [
           {
            "marker": {
             "colorbar": {
              "outlinewidth": 0,
              "ticks": ""
             }
            },
            "type": "scattergl"
           }
          ],
          "scattermapbox": [
           {
            "marker": {
             "colorbar": {
              "outlinewidth": 0,
              "ticks": ""
             }
            },
            "type": "scattermapbox"
           }
          ],
          "scatterpolar": [
           {
            "marker": {
             "colorbar": {
              "outlinewidth": 0,
              "ticks": ""
             }
            },
            "type": "scatterpolar"
           }
          ],
          "scatterpolargl": [
           {
            "marker": {
             "colorbar": {
              "outlinewidth": 0,
              "ticks": ""
             }
            },
            "type": "scatterpolargl"
           }
          ],
          "scatterternary": [
           {
            "marker": {
             "colorbar": {
              "outlinewidth": 0,
              "ticks": ""
             }
            },
            "type": "scatterternary"
           }
          ],
          "surface": [
           {
            "colorbar": {
             "outlinewidth": 0,
             "ticks": ""
            },
            "colorscale": [
             [
              0,
              "#0d0887"
             ],
             [
              0.1111111111111111,
              "#46039f"
             ],
             [
              0.2222222222222222,
              "#7201a8"
             ],
             [
              0.3333333333333333,
              "#9c179e"
             ],
             [
              0.4444444444444444,
              "#bd3786"
             ],
             [
              0.5555555555555556,
              "#d8576b"
             ],
             [
              0.6666666666666666,
              "#ed7953"
             ],
             [
              0.7777777777777778,
              "#fb9f3a"
             ],
             [
              0.8888888888888888,
              "#fdca26"
             ],
             [
              1,
              "#f0f921"
             ]
            ],
            "type": "surface"
           }
          ],
          "table": [
           {
            "cells": {
             "fill": {
              "color": "#EBF0F8"
             },
             "line": {
              "color": "white"
             }
            },
            "header": {
             "fill": {
              "color": "#C8D4E3"
             },
             "line": {
              "color": "white"
             }
            },
            "type": "table"
           }
          ]
         },
         "layout": {
          "annotationdefaults": {
           "arrowcolor": "#2a3f5f",
           "arrowhead": 0,
           "arrowwidth": 1
          },
          "autotypenumbers": "strict",
          "coloraxis": {
           "colorbar": {
            "outlinewidth": 0,
            "ticks": ""
           }
          },
          "colorscale": {
           "diverging": [
            [
             0,
             "#8e0152"
            ],
            [
             0.1,
             "#c51b7d"
            ],
            [
             0.2,
             "#de77ae"
            ],
            [
             0.3,
             "#f1b6da"
            ],
            [
             0.4,
             "#fde0ef"
            ],
            [
             0.5,
             "#f7f7f7"
            ],
            [
             0.6,
             "#e6f5d0"
            ],
            [
             0.7,
             "#b8e186"
            ],
            [
             0.8,
             "#7fbc41"
            ],
            [
             0.9,
             "#4d9221"
            ],
            [
             1,
             "#276419"
            ]
           ],
           "sequential": [
            [
             0,
             "#0d0887"
            ],
            [
             0.1111111111111111,
             "#46039f"
            ],
            [
             0.2222222222222222,
             "#7201a8"
            ],
            [
             0.3333333333333333,
             "#9c179e"
            ],
            [
             0.4444444444444444,
             "#bd3786"
            ],
            [
             0.5555555555555556,
             "#d8576b"
            ],
            [
             0.6666666666666666,
             "#ed7953"
            ],
            [
             0.7777777777777778,
             "#fb9f3a"
            ],
            [
             0.8888888888888888,
             "#fdca26"
            ],
            [
             1,
             "#f0f921"
            ]
           ],
           "sequentialminus": [
            [
             0,
             "#0d0887"
            ],
            [
             0.1111111111111111,
             "#46039f"
            ],
            [
             0.2222222222222222,
             "#7201a8"
            ],
            [
             0.3333333333333333,
             "#9c179e"
            ],
            [
             0.4444444444444444,
             "#bd3786"
            ],
            [
             0.5555555555555556,
             "#d8576b"
            ],
            [
             0.6666666666666666,
             "#ed7953"
            ],
            [
             0.7777777777777778,
             "#fb9f3a"
            ],
            [
             0.8888888888888888,
             "#fdca26"
            ],
            [
             1,
             "#f0f921"
            ]
           ]
          },
          "colorway": [
           "#636efa",
           "#EF553B",
           "#00cc96",
           "#ab63fa",
           "#FFA15A",
           "#19d3f3",
           "#FF6692",
           "#B6E880",
           "#FF97FF",
           "#FECB52"
          ],
          "font": {
           "color": "#2a3f5f"
          },
          "geo": {
           "bgcolor": "white",
           "lakecolor": "white",
           "landcolor": "#E5ECF6",
           "showlakes": true,
           "showland": true,
           "subunitcolor": "white"
          },
          "hoverlabel": {
           "align": "left"
          },
          "hovermode": "closest",
          "mapbox": {
           "style": "light"
          },
          "paper_bgcolor": "white",
          "plot_bgcolor": "#E5ECF6",
          "polar": {
           "angularaxis": {
            "gridcolor": "white",
            "linecolor": "white",
            "ticks": ""
           },
           "bgcolor": "#E5ECF6",
           "radialaxis": {
            "gridcolor": "white",
            "linecolor": "white",
            "ticks": ""
           }
          },
          "scene": {
           "xaxis": {
            "backgroundcolor": "#E5ECF6",
            "gridcolor": "white",
            "gridwidth": 2,
            "linecolor": "white",
            "showbackground": true,
            "ticks": "",
            "zerolinecolor": "white"
           },
           "yaxis": {
            "backgroundcolor": "#E5ECF6",
            "gridcolor": "white",
            "gridwidth": 2,
            "linecolor": "white",
            "showbackground": true,
            "ticks": "",
            "zerolinecolor": "white"
           },
           "zaxis": {
            "backgroundcolor": "#E5ECF6",
            "gridcolor": "white",
            "gridwidth": 2,
            "linecolor": "white",
            "showbackground": true,
            "ticks": "",
            "zerolinecolor": "white"
           }
          },
          "shapedefaults": {
           "line": {
            "color": "#2a3f5f"
           }
          },
          "ternary": {
           "aaxis": {
            "gridcolor": "white",
            "linecolor": "white",
            "ticks": ""
           },
           "baxis": {
            "gridcolor": "white",
            "linecolor": "white",
            "ticks": ""
           },
           "bgcolor": "#E5ECF6",
           "caxis": {
            "gridcolor": "white",
            "linecolor": "white",
            "ticks": ""
           }
          },
          "title": {
           "x": 0.05
          },
          "xaxis": {
           "automargin": true,
           "gridcolor": "white",
           "linecolor": "white",
           "ticks": "",
           "title": {
            "standoff": 15
           },
           "zerolinecolor": "white",
           "zerolinewidth": 2
          },
          "yaxis": {
           "automargin": true,
           "gridcolor": "white",
           "linecolor": "white",
           "ticks": "",
           "title": {
            "standoff": 15
           },
           "zerolinecolor": "white",
           "zerolinewidth": 2
          }
         }
        },
        "title": {
         "font": {
          "color": "#4D5663"
         }
        },
        "xaxis": {
         "gridcolor": "#E1E5ED",
         "showgrid": true,
         "tickfont": {
          "color": "#4D5663"
         },
         "title": {
          "font": {
           "color": "#4D5663"
          },
          "text": ""
         },
         "zerolinecolor": "#E1E5ED"
        },
        "yaxis": {
         "gridcolor": "#E1E5ED",
         "showgrid": true,
         "tickfont": {
          "color": "#4D5663"
         },
         "title": {
          "font": {
           "color": "#4D5663"
          },
          "text": ""
         },
         "zerolinecolor": "#E1E5ED"
        }
       }
      },
      "text/html": [
       "<div>                            <div id=\"199340c3-08be-445d-b752-727b2ac692cd\" class=\"plotly-graph-div\" style=\"height:525px; width:100%;\"></div>            <script type=\"text/javascript\">                require([\"plotly\"], function(Plotly) {                    window.PLOTLYENV=window.PLOTLYENV || {};\n",
       "                    window.PLOTLYENV.BASE_URL='https://plot.ly';                                    if (document.getElementById(\"199340c3-08be-445d-b752-727b2ac692cd\")) {                    Plotly.newPlot(                        \"199340c3-08be-445d-b752-727b2ac692cd\",                        [{\"line\":{\"color\":\"rgba(255, 153, 51, 1.0)\",\"dash\":\"solid\",\"shape\":\"linear\",\"width\":1.3},\"mode\":\"lines\",\"name\":\"A\",\"text\":\"\",\"x\":[0,1,2,3,4,5,6,7,8,9,10,11,12,13,14,15,16,17,18,19,20,21,22,23,24,25,26,27,28,29,30,31,32,33,34,35,36,37,38,39,40,41,42,43,44,45,46,47,48,49,50,51,52,53,54,55,56,57,58,59,60,61,62,63,64,65,66,67,68,69,70,71,72,73,74,75,76,77,78,79,80,81,82,83,84,85,86,87,88,89,90,91,92,93,94,95,96,97,98,99],\"y\":[-0.5926298961513271,0.25673020586304807,-0.43782540602292713,1.0534689198889642,-0.9919513407195126,1.611767926213217,0.06330100258337129,-0.7794590258443483,1.3213895611178617,2.0428480315223823,1.3942054388325047,-1.0038641189563902,0.38499375800912655,0.43771904183757787,-0.03450546160271116,1.053234080805073,2.0397975570567692,0.385375865370009,1.7676509480340017,-0.6649155567520971,1.436288459640299,-0.4036051333866007,0.09260910325620314,-0.6542216569397591,1.4741915479685124,0.9051017853546715,-2.196271747394207,-0.11339517644243712,-0.4449131865951581,-0.22841259825041527,0.8679037688166911,-0.8281381473996741,-0.3197383644114914,-0.22840516815474368,2.853834584156512,0.6216999835149216,1.5240921155040292,-0.31203354460191196,0.08094205015951837,0.015646307251275072,1.7932205291927203,0.4653034182676237,1.1593511785630377,1.5737474570494507,1.1662651409043536,-0.13617317080506597,-1.6664432754952285,0.6658652654155452,-0.5158901261812123,-0.9417598894899648,0.5250610445322508,1.1998623089464961,-0.3229256151506854,-1.2920143018845127,-0.05205440705465112,0.26600301743930166,-0.9644056385681528,2.4529695305287142,2.713126831567635,0.23352598710271472,0.24763388006906298,-1.2243351213532416,0.41903421957586184,0.48867062808082373,-0.7861677504690421,-1.2514626078351387,0.21186021746577036,-0.06017875815427523,2.3055917858896997,-0.72211444002813,-0.12793695931512533,-0.007755887247505297,-1.0097227248055003,0.6030326691920733,-0.1739761026833534,0.7520083111574457,-0.5412741041067098,0.12309165184098429,0.7562849692392389,1.0348364759469733,-1.3908296564977056,-0.4406362876635684,0.574944055766053,-0.5819853653510465,0.881152636747594,0.07868416646062422,1.8226632065021642,-0.13719437995366995,1.1162581459854621,-0.7985545018909256,0.17241094898690948,0.2552260864441374,1.0605714157563813,0.5179693571027562,0.4155143057576676,1.4316485846465625,-0.7775443753105155,-1.063630020330371,-0.16289165324194577,-0.29531247931902405],\"type\":\"scatter\"},{\"line\":{\"color\":\"rgba(55, 128, 191, 1.0)\",\"dash\":\"solid\",\"shape\":\"linear\",\"width\":1.3},\"mode\":\"lines\",\"name\":\"B\",\"text\":\"\",\"x\":[0,1,2,3,4,5,6,7,8,9,10,11,12,13,14,15,16,17,18,19,20,21,22,23,24,25,26,27,28,29,30,31,32,33,34,35,36,37,38,39,40,41,42,43,44,45,46,47,48,49,50,51,52,53,54,55,56,57,58,59,60,61,62,63,64,65,66,67,68,69,70,71,72,73,74,75,76,77,78,79,80,81,82,83,84,85,86,87,88,89,90,91,92,93,94,95,96,97,98,99],\"y\":[-0.1157907510446745,0.4798485260848488,0.2942811047577971,0.7131066424167334,-0.614145259332274,1.3367013379768597,-0.3611519306104252,-0.22674171311266222,-0.7922763953214255,-1.912388440068962,2.94461710583469,0.7466399419377467,-0.5062250561740432,-0.6267758673924915,-0.5301364252727697,-1.1356102411393012,1.7097173351457045,-0.5982673480241042,0.632599712583573,-0.7191789918807273,-1.011913867593541,1.0862462490282248,1.1499817116204132,0.7121776705596654,-0.7249853951963967,-0.24484654770034245,-0.10946886787942355,0.9444906377964262,-0.03956551316859267,-1.1913735024463135,-0.963486275341088,-1.3533511104197,-0.10146602362529568,0.40726711160299367,-1.3279311786454684,0.08999558075822016,1.4193027223212058,0.8481711573298252,1.237710700172955,-0.9075402340794535,0.24104376712171527,-0.26683695105423477,0.5297046101182764,-0.5898451706324817,-0.46118554508543186,0.4438889661881818,-0.022849201447032792,0.6538508162804493,-0.8969955791054491,0.5151826075293686,-1.716075531842265,-1.2459443299216126,-0.39468032622605176,-0.594068760568758,1.1781478136671775,-1.0799218215036783,1.0329478909914607,0.2282708120345758,0.5740812637562833,0.998004452114102,-0.4240139456347152,1.5697362346573667,-2.301553062519039,-0.05564169983599276,-0.5750252875191277,0.36899773315170714,1.2352274250634883,-0.2760983305352888,-1.1315843014714326,0.47160626469032957,0.6224993997445093,0.3056078012612184,0.3565127710229608,0.16192329536141162,-0.4482276412402648,-0.255341393719222,2.731094066424876,-0.3509008449363998,0.7562307284894754,0.307461984745654,-0.028086364160419496,0.3078805805283829,0.2717827333298244,-0.21005022861881803,0.15616678270870996,-0.5508037116094993,-0.8595019402724217,-1.1811403903781978,-1.1051152466130356,0.18553196417980916,0.625579015927619,-0.6408948128706429,-0.12432769691673103,-1.0699306999590428,0.26771926977846544,0.8026332176389065,1.80141470610895,-1.873013331107765,0.9099007759609501,-1.4396917779942568],\"type\":\"scatter\"},{\"line\":{\"color\":\"rgba(50, 171, 96, 1.0)\",\"dash\":\"solid\",\"shape\":\"linear\",\"width\":1.3},\"mode\":\"lines\",\"name\":\"C\",\"text\":\"\",\"x\":[0,1,2,3,4,5,6,7,8,9,10,11,12,13,14,15,16,17,18,19,20,21,22,23,24,25,26,27,28,29,30,31,32,33,34,35,36,37,38,39,40,41,42,43,44,45,46,47,48,49,50,51,52,53,54,55,56,57,58,59,60,61,62,63,64,65,66,67,68,69,70,71,72,73,74,75,76,77,78,79,80,81,82,83,84,85,86,87,88,89,90,91,92,93,94,95,96,97,98,99],\"y\":[-0.5329383118117111,0.557158984686362,-0.7773784640077513,0.4502948550666474,1.0138880505622996,0.8643796572088078,1.403327846853929,0.17662681793324203,-0.9256916191776521,0.11113838946336113,-0.5003135852854012,-1.4373836749538296,0.004390886289931718,0.5052863861856433,1.0398284942816312,0.4700021219352897,1.2942516711557286,0.4562530916282091,0.4867757023349144,0.5251023387128786,1.366687500871755,0.7341868934647509,-0.7406234269138862,1.7902580011984228,-0.052280405347552884,-1.2994890823643053,-0.03998407812874461,0.2409334336633333,-1.1431901553946213,-1.3375003089870747,0.21267439088163337,-0.3727133338594834,-1.7432581570902688,1.1140649602434551,0.11880631666273851,-2.009441502210672,-0.5510243805032415,-0.3965855723196719,-0.9207409303162719,-1.0943443758622298,0.2763122759552882,-1.5883444069275798,-1.0330063980789108,0.5362525437628567,0.1411710405785407,-0.38437445757092265,1.3919900976151998,0.9517151174256139,-1.1901950141859108,-0.14189555170734033,0.5968986628418939,-0.5005443285631248,1.416423978087898,0.1431483587824421,3.4124450680223752,-0.06761336436845361,0.8701406858782743,-1.5729354220756329,-1.5239639144707235,-0.35001468782544215,-0.3141329650511141,1.289147141353759,0.6571940529834378,0.12691583464319822,-0.35819019671388636,0.3512140322402031,-1.570650531955033,1.6844680221586628,-1.138982064296053,-0.0669494830020375,0.10910710717061158,0.4366525495605837,0.031831925732240654,0.7073775791321979,0.26398938042263326,1.65842532898978,1.1225040754670954,2.1251585555550387,-0.2210800855085304,-0.580723734930385,0.6749862640274892,-0.3248229431990396,0.8908237137126089,0.38853005247553696,-0.008631663873746373,1.1576062810456162,-2.5163976663842575,-0.3794418799086721,-1.3282923544858762,-2.0459800517490567,-0.3781167481915554,-0.026801909417827462,-0.3209689443383593,-1.255685088054047,2.753703318492102,1.5388188394422968,-1.479870267117127,0.39163662921207093,-0.48390531047703966,0.7573644209629506],\"type\":\"scatter\"},{\"line\":{\"color\":\"rgba(128, 0, 128, 1.0)\",\"dash\":\"solid\",\"shape\":\"linear\",\"width\":1.3},\"mode\":\"lines\",\"name\":\"D\",\"text\":\"\",\"x\":[0,1,2,3,4,5,6,7,8,9,10,11,12,13,14,15,16,17,18,19,20,21,22,23,24,25,26,27,28,29,30,31,32,33,34,35,36,37,38,39,40,41,42,43,44,45,46,47,48,49,50,51,52,53,54,55,56,57,58,59,60,61,62,63,64,65,66,67,68,69,70,71,72,73,74,75,76,77,78,79,80,81,82,83,84,85,86,87,88,89,90,91,92,93,94,95,96,97,98,99],\"y\":[-0.2193839724920814,0.03673834097851173,0.987799585989557,-0.45680697868842046,0.7271098863401266,0.30329210727865613,-0.26712978821937444,1.0095723743385,-0.4228909507045194,0.3075892397528451,0.9489828485601433,-0.22451513255242508,-1.1107116681174418,0.7680108676987024,-0.11630608147155315,0.29093326534482966,1.9542889849467535,1.1110135911541346,-2.3296160711306944,0.02187744257320405,-0.6629555946608392,-0.4928989052670513,-0.8759945384540662,0.6922627648086038,1.1262086084701817,1.9691467010080486,1.3741557642209405,-1.3713246219745756,-0.1836866932419942,1.043777373642293,1.1171414932728372,-0.8483544586416497,0.5475171172834119,0.22746681771477958,-0.6308476174813245,-0.09854811827025602,0.022769378814638853,-0.4487986629320674,-0.9034597245484658,-0.6378949254903331,-0.4492768708891525,1.0555579449603434,-0.11470394720695867,-0.14609532264882724,-0.3802579048952034,2.1033300796058008,-0.07835629365401076,0.255763285824464,-1.0829429872566125,-0.5984508218594459,0.2988305135551518,0.7610733152132845,-0.15331145876966712,-1.0899092691503058,0.6887506413586928,0.09057229714387154,-0.1831544794728409,-0.23219247443813748,1.0850595737659272,0.7079347962395922,0.9239648370430716,0.5752666639473206,-0.0782466539059608,-0.5751549927849406,0.30293306177254614,-1.6128733507367412,0.954161956224829,0.35331662927665525,0.4867032255124756,-1.4425153880296329,-2.439129093983263,1.300863150160351,-1.2320162675360742,-0.17352268024345233,-0.3202322874932672,-0.35092980882229036,0.5275550115628105,1.7884140357936633,3.1450296067129244,-0.5314874202448286,-2.064718091313124,0.9534673941924888,-0.040331506354160544,-0.6352729350658008,-0.06096951786361323,0.5609324550321262,0.3574741859411366,-1.7928844510806905,-0.033542057166446475,-1.412194137336305,-0.12324110708590304,-0.553675978465696,0.7324784603482485,-0.250450527950122,0.3814857723717101,0.0693795153937473,1.2127267520325036,0.31639856434337044,-0.16116887362125037,0.7714979567097996],\"type\":\"scatter\"}],                        {\"legend\":{\"bgcolor\":\"#F5F6F9\",\"font\":{\"color\":\"#4D5663\"}},\"paper_bgcolor\":\"#F5F6F9\",\"plot_bgcolor\":\"#F5F6F9\",\"template\":{\"data\":{\"barpolar\":[{\"marker\":{\"line\":{\"color\":\"#E5ECF6\",\"width\":0.5},\"pattern\":{\"fillmode\":\"overlay\",\"size\":10,\"solidity\":0.2}},\"type\":\"barpolar\"}],\"bar\":[{\"error_x\":{\"color\":\"#2a3f5f\"},\"error_y\":{\"color\":\"#2a3f5f\"},\"marker\":{\"line\":{\"color\":\"#E5ECF6\",\"width\":0.5},\"pattern\":{\"fillmode\":\"overlay\",\"size\":10,\"solidity\":0.2}},\"type\":\"bar\"}],\"carpet\":[{\"aaxis\":{\"endlinecolor\":\"#2a3f5f\",\"gridcolor\":\"white\",\"linecolor\":\"white\",\"minorgridcolor\":\"white\",\"startlinecolor\":\"#2a3f5f\"},\"baxis\":{\"endlinecolor\":\"#2a3f5f\",\"gridcolor\":\"white\",\"linecolor\":\"white\",\"minorgridcolor\":\"white\",\"startlinecolor\":\"#2a3f5f\"},\"type\":\"carpet\"}],\"choropleth\":[{\"colorbar\":{\"outlinewidth\":0,\"ticks\":\"\"},\"type\":\"choropleth\"}],\"contourcarpet\":[{\"colorbar\":{\"outlinewidth\":0,\"ticks\":\"\"},\"type\":\"contourcarpet\"}],\"contour\":[{\"colorbar\":{\"outlinewidth\":0,\"ticks\":\"\"},\"colorscale\":[[0.0,\"#0d0887\"],[0.1111111111111111,\"#46039f\"],[0.2222222222222222,\"#7201a8\"],[0.3333333333333333,\"#9c179e\"],[0.4444444444444444,\"#bd3786\"],[0.5555555555555556,\"#d8576b\"],[0.6666666666666666,\"#ed7953\"],[0.7777777777777778,\"#fb9f3a\"],[0.8888888888888888,\"#fdca26\"],[1.0,\"#f0f921\"]],\"type\":\"contour\"}],\"heatmapgl\":[{\"colorbar\":{\"outlinewidth\":0,\"ticks\":\"\"},\"colorscale\":[[0.0,\"#0d0887\"],[0.1111111111111111,\"#46039f\"],[0.2222222222222222,\"#7201a8\"],[0.3333333333333333,\"#9c179e\"],[0.4444444444444444,\"#bd3786\"],[0.5555555555555556,\"#d8576b\"],[0.6666666666666666,\"#ed7953\"],[0.7777777777777778,\"#fb9f3a\"],[0.8888888888888888,\"#fdca26\"],[1.0,\"#f0f921\"]],\"type\":\"heatmapgl\"}],\"heatmap\":[{\"colorbar\":{\"outlinewidth\":0,\"ticks\":\"\"},\"colorscale\":[[0.0,\"#0d0887\"],[0.1111111111111111,\"#46039f\"],[0.2222222222222222,\"#7201a8\"],[0.3333333333333333,\"#9c179e\"],[0.4444444444444444,\"#bd3786\"],[0.5555555555555556,\"#d8576b\"],[0.6666666666666666,\"#ed7953\"],[0.7777777777777778,\"#fb9f3a\"],[0.8888888888888888,\"#fdca26\"],[1.0,\"#f0f921\"]],\"type\":\"heatmap\"}],\"histogram2dcontour\":[{\"colorbar\":{\"outlinewidth\":0,\"ticks\":\"\"},\"colorscale\":[[0.0,\"#0d0887\"],[0.1111111111111111,\"#46039f\"],[0.2222222222222222,\"#7201a8\"],[0.3333333333333333,\"#9c179e\"],[0.4444444444444444,\"#bd3786\"],[0.5555555555555556,\"#d8576b\"],[0.6666666666666666,\"#ed7953\"],[0.7777777777777778,\"#fb9f3a\"],[0.8888888888888888,\"#fdca26\"],[1.0,\"#f0f921\"]],\"type\":\"histogram2dcontour\"}],\"histogram2d\":[{\"colorbar\":{\"outlinewidth\":0,\"ticks\":\"\"},\"colorscale\":[[0.0,\"#0d0887\"],[0.1111111111111111,\"#46039f\"],[0.2222222222222222,\"#7201a8\"],[0.3333333333333333,\"#9c179e\"],[0.4444444444444444,\"#bd3786\"],[0.5555555555555556,\"#d8576b\"],[0.6666666666666666,\"#ed7953\"],[0.7777777777777778,\"#fb9f3a\"],[0.8888888888888888,\"#fdca26\"],[1.0,\"#f0f921\"]],\"type\":\"histogram2d\"}],\"histogram\":[{\"marker\":{\"pattern\":{\"fillmode\":\"overlay\",\"size\":10,\"solidity\":0.2}},\"type\":\"histogram\"}],\"mesh3d\":[{\"colorbar\":{\"outlinewidth\":0,\"ticks\":\"\"},\"type\":\"mesh3d\"}],\"parcoords\":[{\"line\":{\"colorbar\":{\"outlinewidth\":0,\"ticks\":\"\"}},\"type\":\"parcoords\"}],\"pie\":[{\"automargin\":true,\"type\":\"pie\"}],\"scatter3d\":[{\"line\":{\"colorbar\":{\"outlinewidth\":0,\"ticks\":\"\"}},\"marker\":{\"colorbar\":{\"outlinewidth\":0,\"ticks\":\"\"}},\"type\":\"scatter3d\"}],\"scattercarpet\":[{\"marker\":{\"colorbar\":{\"outlinewidth\":0,\"ticks\":\"\"}},\"type\":\"scattercarpet\"}],\"scattergeo\":[{\"marker\":{\"colorbar\":{\"outlinewidth\":0,\"ticks\":\"\"}},\"type\":\"scattergeo\"}],\"scattergl\":[{\"marker\":{\"colorbar\":{\"outlinewidth\":0,\"ticks\":\"\"}},\"type\":\"scattergl\"}],\"scattermapbox\":[{\"marker\":{\"colorbar\":{\"outlinewidth\":0,\"ticks\":\"\"}},\"type\":\"scattermapbox\"}],\"scatterpolargl\":[{\"marker\":{\"colorbar\":{\"outlinewidth\":0,\"ticks\":\"\"}},\"type\":\"scatterpolargl\"}],\"scatterpolar\":[{\"marker\":{\"colorbar\":{\"outlinewidth\":0,\"ticks\":\"\"}},\"type\":\"scatterpolar\"}],\"scatter\":[{\"fillpattern\":{\"fillmode\":\"overlay\",\"size\":10,\"solidity\":0.2},\"type\":\"scatter\"}],\"scatterternary\":[{\"marker\":{\"colorbar\":{\"outlinewidth\":0,\"ticks\":\"\"}},\"type\":\"scatterternary\"}],\"surface\":[{\"colorbar\":{\"outlinewidth\":0,\"ticks\":\"\"},\"colorscale\":[[0.0,\"#0d0887\"],[0.1111111111111111,\"#46039f\"],[0.2222222222222222,\"#7201a8\"],[0.3333333333333333,\"#9c179e\"],[0.4444444444444444,\"#bd3786\"],[0.5555555555555556,\"#d8576b\"],[0.6666666666666666,\"#ed7953\"],[0.7777777777777778,\"#fb9f3a\"],[0.8888888888888888,\"#fdca26\"],[1.0,\"#f0f921\"]],\"type\":\"surface\"}],\"table\":[{\"cells\":{\"fill\":{\"color\":\"#EBF0F8\"},\"line\":{\"color\":\"white\"}},\"header\":{\"fill\":{\"color\":\"#C8D4E3\"},\"line\":{\"color\":\"white\"}},\"type\":\"table\"}]},\"layout\":{\"annotationdefaults\":{\"arrowcolor\":\"#2a3f5f\",\"arrowhead\":0,\"arrowwidth\":1},\"autotypenumbers\":\"strict\",\"coloraxis\":{\"colorbar\":{\"outlinewidth\":0,\"ticks\":\"\"}},\"colorscale\":{\"diverging\":[[0,\"#8e0152\"],[0.1,\"#c51b7d\"],[0.2,\"#de77ae\"],[0.3,\"#f1b6da\"],[0.4,\"#fde0ef\"],[0.5,\"#f7f7f7\"],[0.6,\"#e6f5d0\"],[0.7,\"#b8e186\"],[0.8,\"#7fbc41\"],[0.9,\"#4d9221\"],[1,\"#276419\"]],\"sequential\":[[0.0,\"#0d0887\"],[0.1111111111111111,\"#46039f\"],[0.2222222222222222,\"#7201a8\"],[0.3333333333333333,\"#9c179e\"],[0.4444444444444444,\"#bd3786\"],[0.5555555555555556,\"#d8576b\"],[0.6666666666666666,\"#ed7953\"],[0.7777777777777778,\"#fb9f3a\"],[0.8888888888888888,\"#fdca26\"],[1.0,\"#f0f921\"]],\"sequentialminus\":[[0.0,\"#0d0887\"],[0.1111111111111111,\"#46039f\"],[0.2222222222222222,\"#7201a8\"],[0.3333333333333333,\"#9c179e\"],[0.4444444444444444,\"#bd3786\"],[0.5555555555555556,\"#d8576b\"],[0.6666666666666666,\"#ed7953\"],[0.7777777777777778,\"#fb9f3a\"],[0.8888888888888888,\"#fdca26\"],[1.0,\"#f0f921\"]]},\"colorway\":[\"#636efa\",\"#EF553B\",\"#00cc96\",\"#ab63fa\",\"#FFA15A\",\"#19d3f3\",\"#FF6692\",\"#B6E880\",\"#FF97FF\",\"#FECB52\"],\"font\":{\"color\":\"#2a3f5f\"},\"geo\":{\"bgcolor\":\"white\",\"lakecolor\":\"white\",\"landcolor\":\"#E5ECF6\",\"showlakes\":true,\"showland\":true,\"subunitcolor\":\"white\"},\"hoverlabel\":{\"align\":\"left\"},\"hovermode\":\"closest\",\"mapbox\":{\"style\":\"light\"},\"paper_bgcolor\":\"white\",\"plot_bgcolor\":\"#E5ECF6\",\"polar\":{\"angularaxis\":{\"gridcolor\":\"white\",\"linecolor\":\"white\",\"ticks\":\"\"},\"bgcolor\":\"#E5ECF6\",\"radialaxis\":{\"gridcolor\":\"white\",\"linecolor\":\"white\",\"ticks\":\"\"}},\"scene\":{\"xaxis\":{\"backgroundcolor\":\"#E5ECF6\",\"gridcolor\":\"white\",\"gridwidth\":2,\"linecolor\":\"white\",\"showbackground\":true,\"ticks\":\"\",\"zerolinecolor\":\"white\"},\"yaxis\":{\"backgroundcolor\":\"#E5ECF6\",\"gridcolor\":\"white\",\"gridwidth\":2,\"linecolor\":\"white\",\"showbackground\":true,\"ticks\":\"\",\"zerolinecolor\":\"white\"},\"zaxis\":{\"backgroundcolor\":\"#E5ECF6\",\"gridcolor\":\"white\",\"gridwidth\":2,\"linecolor\":\"white\",\"showbackground\":true,\"ticks\":\"\",\"zerolinecolor\":\"white\"}},\"shapedefaults\":{\"line\":{\"color\":\"#2a3f5f\"}},\"ternary\":{\"aaxis\":{\"gridcolor\":\"white\",\"linecolor\":\"white\",\"ticks\":\"\"},\"baxis\":{\"gridcolor\":\"white\",\"linecolor\":\"white\",\"ticks\":\"\"},\"bgcolor\":\"#E5ECF6\",\"caxis\":{\"gridcolor\":\"white\",\"linecolor\":\"white\",\"ticks\":\"\"}},\"title\":{\"x\":0.05},\"xaxis\":{\"automargin\":true,\"gridcolor\":\"white\",\"linecolor\":\"white\",\"ticks\":\"\",\"title\":{\"standoff\":15},\"zerolinecolor\":\"white\",\"zerolinewidth\":2},\"yaxis\":{\"automargin\":true,\"gridcolor\":\"white\",\"linecolor\":\"white\",\"ticks\":\"\",\"title\":{\"standoff\":15},\"zerolinecolor\":\"white\",\"zerolinewidth\":2}}},\"title\":{\"font\":{\"color\":\"#4D5663\"}},\"xaxis\":{\"gridcolor\":\"#E1E5ED\",\"showgrid\":true,\"tickfont\":{\"color\":\"#4D5663\"},\"title\":{\"font\":{\"color\":\"#4D5663\"},\"text\":\"\"},\"zerolinecolor\":\"#E1E5ED\"},\"yaxis\":{\"gridcolor\":\"#E1E5ED\",\"showgrid\":true,\"tickfont\":{\"color\":\"#4D5663\"},\"title\":{\"font\":{\"color\":\"#4D5663\"},\"text\":\"\"},\"zerolinecolor\":\"#E1E5ED\"}},                        {\"showLink\": true, \"linkText\": \"Export to plot.ly\", \"plotlyServerURL\": \"https://plot.ly\", \"responsive\": true}                    ).then(function(){\n",
       "                            \n",
       "var gd = document.getElementById('199340c3-08be-445d-b752-727b2ac692cd');\n",
       "var x = new MutationObserver(function (mutations, observer) {{\n",
       "        var display = window.getComputedStyle(gd).display;\n",
       "        if (!display || display === 'none') {{\n",
       "            console.log([gd, 'removed!']);\n",
       "            Plotly.purge(gd);\n",
       "            observer.disconnect();\n",
       "        }}\n",
       "}});\n",
       "\n",
       "// Listen for the removal of the full notebook cells\n",
       "var notebookContainer = gd.closest('#notebook-container');\n",
       "if (notebookContainer) {{\n",
       "    x.observe(notebookContainer, {childList: true});\n",
       "}}\n",
       "\n",
       "// Listen for the clearing of the current output cell\n",
       "var outputEl = gd.closest('.output');\n",
       "if (outputEl) {{\n",
       "    x.observe(outputEl, {childList: true});\n",
       "}}\n",
       "\n",
       "                        })                };                });            </script>        </div>"
      ]
     },
     "metadata": {},
     "output_type": "display_data"
    }
   ],
   "source": [
    "df.iplot()"
   ]
  },
  {
   "cell_type": "code",
   "execution_count": 15,
   "id": "f032ee9a",
   "metadata": {},
   "outputs": [
    {
     "data": {
      "application/vnd.plotly.v1+json": {
       "config": {
        "linkText": "Export to plot.ly",
        "plotlyServerURL": "https://plot.ly",
        "showLink": true
       },
       "data": [
        {
         "line": {
          "color": "rgba(255, 153, 51, 1.0)",
          "dash": "solid",
          "shape": "linear",
          "width": 1.3
         },
         "marker": {
          "size": 20,
          "symbol": "circle"
         },
         "mode": "markers",
         "name": "B",
         "text": "",
         "type": "scatter",
         "x": [
          -0.5926298961513271,
          0.25673020586304807,
          -0.43782540602292713,
          1.0534689198889642,
          -0.9919513407195126,
          1.611767926213217,
          0.06330100258337129,
          -0.7794590258443483,
          1.3213895611178617,
          2.0428480315223823,
          1.3942054388325047,
          -1.0038641189563902,
          0.38499375800912655,
          0.43771904183757787,
          -0.03450546160271116,
          1.053234080805073,
          2.0397975570567692,
          0.385375865370009,
          1.7676509480340017,
          -0.6649155567520971,
          1.436288459640299,
          -0.4036051333866007,
          0.09260910325620314,
          -0.6542216569397591,
          1.4741915479685124,
          0.9051017853546715,
          -2.196271747394207,
          -0.11339517644243712,
          -0.4449131865951581,
          -0.22841259825041527,
          0.8679037688166911,
          -0.8281381473996741,
          -0.3197383644114914,
          -0.22840516815474368,
          2.853834584156512,
          0.6216999835149216,
          1.5240921155040292,
          -0.31203354460191196,
          0.08094205015951837,
          0.015646307251275072,
          1.7932205291927203,
          0.4653034182676237,
          1.1593511785630377,
          1.5737474570494507,
          1.1662651409043536,
          -0.13617317080506597,
          -1.6664432754952285,
          0.6658652654155452,
          -0.5158901261812123,
          -0.9417598894899648,
          0.5250610445322508,
          1.1998623089464961,
          -0.3229256151506854,
          -1.2920143018845127,
          -0.05205440705465112,
          0.26600301743930166,
          -0.9644056385681528,
          2.4529695305287142,
          2.713126831567635,
          0.23352598710271472,
          0.24763388006906298,
          -1.2243351213532416,
          0.41903421957586184,
          0.48867062808082373,
          -0.7861677504690421,
          -1.2514626078351387,
          0.21186021746577036,
          -0.06017875815427523,
          2.3055917858896997,
          -0.72211444002813,
          -0.12793695931512533,
          -0.007755887247505297,
          -1.0097227248055003,
          0.6030326691920733,
          -0.1739761026833534,
          0.7520083111574457,
          -0.5412741041067098,
          0.12309165184098429,
          0.7562849692392389,
          1.0348364759469733,
          -1.3908296564977056,
          -0.4406362876635684,
          0.574944055766053,
          -0.5819853653510465,
          0.881152636747594,
          0.07868416646062422,
          1.8226632065021642,
          -0.13719437995366995,
          1.1162581459854621,
          -0.7985545018909256,
          0.17241094898690948,
          0.2552260864441374,
          1.0605714157563813,
          0.5179693571027562,
          0.4155143057576676,
          1.4316485846465625,
          -0.7775443753105155,
          -1.063630020330371,
          -0.16289165324194577,
          -0.29531247931902405
         ],
         "y": [
          -0.1157907510446745,
          0.4798485260848488,
          0.2942811047577971,
          0.7131066424167334,
          -0.614145259332274,
          1.3367013379768597,
          -0.3611519306104252,
          -0.22674171311266222,
          -0.7922763953214255,
          -1.912388440068962,
          2.94461710583469,
          0.7466399419377467,
          -0.5062250561740432,
          -0.6267758673924915,
          -0.5301364252727697,
          -1.1356102411393012,
          1.7097173351457045,
          -0.5982673480241042,
          0.632599712583573,
          -0.7191789918807273,
          -1.011913867593541,
          1.0862462490282248,
          1.1499817116204132,
          0.7121776705596654,
          -0.7249853951963967,
          -0.24484654770034245,
          -0.10946886787942355,
          0.9444906377964262,
          -0.03956551316859267,
          -1.1913735024463135,
          -0.963486275341088,
          -1.3533511104197,
          -0.10146602362529568,
          0.40726711160299367,
          -1.3279311786454684,
          0.08999558075822016,
          1.4193027223212058,
          0.8481711573298252,
          1.237710700172955,
          -0.9075402340794535,
          0.24104376712171527,
          -0.26683695105423477,
          0.5297046101182764,
          -0.5898451706324817,
          -0.46118554508543186,
          0.4438889661881818,
          -0.022849201447032792,
          0.6538508162804493,
          -0.8969955791054491,
          0.5151826075293686,
          -1.716075531842265,
          -1.2459443299216126,
          -0.39468032622605176,
          -0.594068760568758,
          1.1781478136671775,
          -1.0799218215036783,
          1.0329478909914607,
          0.2282708120345758,
          0.5740812637562833,
          0.998004452114102,
          -0.4240139456347152,
          1.5697362346573667,
          -2.301553062519039,
          -0.05564169983599276,
          -0.5750252875191277,
          0.36899773315170714,
          1.2352274250634883,
          -0.2760983305352888,
          -1.1315843014714326,
          0.47160626469032957,
          0.6224993997445093,
          0.3056078012612184,
          0.3565127710229608,
          0.16192329536141162,
          -0.4482276412402648,
          -0.255341393719222,
          2.731094066424876,
          -0.3509008449363998,
          0.7562307284894754,
          0.307461984745654,
          -0.028086364160419496,
          0.3078805805283829,
          0.2717827333298244,
          -0.21005022861881803,
          0.15616678270870996,
          -0.5508037116094993,
          -0.8595019402724217,
          -1.1811403903781978,
          -1.1051152466130356,
          0.18553196417980916,
          0.625579015927619,
          -0.6408948128706429,
          -0.12432769691673103,
          -1.0699306999590428,
          0.26771926977846544,
          0.8026332176389065,
          1.80141470610895,
          -1.873013331107765,
          0.9099007759609501,
          -1.4396917779942568
         ]
        }
       ],
       "layout": {
        "legend": {
         "bgcolor": "#F5F6F9",
         "font": {
          "color": "#4D5663"
         }
        },
        "paper_bgcolor": "#F5F6F9",
        "plot_bgcolor": "#F5F6F9",
        "template": {
         "data": {
          "bar": [
           {
            "error_x": {
             "color": "#2a3f5f"
            },
            "error_y": {
             "color": "#2a3f5f"
            },
            "marker": {
             "line": {
              "color": "#E5ECF6",
              "width": 0.5
             },
             "pattern": {
              "fillmode": "overlay",
              "size": 10,
              "solidity": 0.2
             }
            },
            "type": "bar"
           }
          ],
          "barpolar": [
           {
            "marker": {
             "line": {
              "color": "#E5ECF6",
              "width": 0.5
             },
             "pattern": {
              "fillmode": "overlay",
              "size": 10,
              "solidity": 0.2
             }
            },
            "type": "barpolar"
           }
          ],
          "carpet": [
           {
            "aaxis": {
             "endlinecolor": "#2a3f5f",
             "gridcolor": "white",
             "linecolor": "white",
             "minorgridcolor": "white",
             "startlinecolor": "#2a3f5f"
            },
            "baxis": {
             "endlinecolor": "#2a3f5f",
             "gridcolor": "white",
             "linecolor": "white",
             "minorgridcolor": "white",
             "startlinecolor": "#2a3f5f"
            },
            "type": "carpet"
           }
          ],
          "choropleth": [
           {
            "colorbar": {
             "outlinewidth": 0,
             "ticks": ""
            },
            "type": "choropleth"
           }
          ],
          "contour": [
           {
            "colorbar": {
             "outlinewidth": 0,
             "ticks": ""
            },
            "colorscale": [
             [
              0,
              "#0d0887"
             ],
             [
              0.1111111111111111,
              "#46039f"
             ],
             [
              0.2222222222222222,
              "#7201a8"
             ],
             [
              0.3333333333333333,
              "#9c179e"
             ],
             [
              0.4444444444444444,
              "#bd3786"
             ],
             [
              0.5555555555555556,
              "#d8576b"
             ],
             [
              0.6666666666666666,
              "#ed7953"
             ],
             [
              0.7777777777777778,
              "#fb9f3a"
             ],
             [
              0.8888888888888888,
              "#fdca26"
             ],
             [
              1,
              "#f0f921"
             ]
            ],
            "type": "contour"
           }
          ],
          "contourcarpet": [
           {
            "colorbar": {
             "outlinewidth": 0,
             "ticks": ""
            },
            "type": "contourcarpet"
           }
          ],
          "heatmap": [
           {
            "colorbar": {
             "outlinewidth": 0,
             "ticks": ""
            },
            "colorscale": [
             [
              0,
              "#0d0887"
             ],
             [
              0.1111111111111111,
              "#46039f"
             ],
             [
              0.2222222222222222,
              "#7201a8"
             ],
             [
              0.3333333333333333,
              "#9c179e"
             ],
             [
              0.4444444444444444,
              "#bd3786"
             ],
             [
              0.5555555555555556,
              "#d8576b"
             ],
             [
              0.6666666666666666,
              "#ed7953"
             ],
             [
              0.7777777777777778,
              "#fb9f3a"
             ],
             [
              0.8888888888888888,
              "#fdca26"
             ],
             [
              1,
              "#f0f921"
             ]
            ],
            "type": "heatmap"
           }
          ],
          "heatmapgl": [
           {
            "colorbar": {
             "outlinewidth": 0,
             "ticks": ""
            },
            "colorscale": [
             [
              0,
              "#0d0887"
             ],
             [
              0.1111111111111111,
              "#46039f"
             ],
             [
              0.2222222222222222,
              "#7201a8"
             ],
             [
              0.3333333333333333,
              "#9c179e"
             ],
             [
              0.4444444444444444,
              "#bd3786"
             ],
             [
              0.5555555555555556,
              "#d8576b"
             ],
             [
              0.6666666666666666,
              "#ed7953"
             ],
             [
              0.7777777777777778,
              "#fb9f3a"
             ],
             [
              0.8888888888888888,
              "#fdca26"
             ],
             [
              1,
              "#f0f921"
             ]
            ],
            "type": "heatmapgl"
           }
          ],
          "histogram": [
           {
            "marker": {
             "pattern": {
              "fillmode": "overlay",
              "size": 10,
              "solidity": 0.2
             }
            },
            "type": "histogram"
           }
          ],
          "histogram2d": [
           {
            "colorbar": {
             "outlinewidth": 0,
             "ticks": ""
            },
            "colorscale": [
             [
              0,
              "#0d0887"
             ],
             [
              0.1111111111111111,
              "#46039f"
             ],
             [
              0.2222222222222222,
              "#7201a8"
             ],
             [
              0.3333333333333333,
              "#9c179e"
             ],
             [
              0.4444444444444444,
              "#bd3786"
             ],
             [
              0.5555555555555556,
              "#d8576b"
             ],
             [
              0.6666666666666666,
              "#ed7953"
             ],
             [
              0.7777777777777778,
              "#fb9f3a"
             ],
             [
              0.8888888888888888,
              "#fdca26"
             ],
             [
              1,
              "#f0f921"
             ]
            ],
            "type": "histogram2d"
           }
          ],
          "histogram2dcontour": [
           {
            "colorbar": {
             "outlinewidth": 0,
             "ticks": ""
            },
            "colorscale": [
             [
              0,
              "#0d0887"
             ],
             [
              0.1111111111111111,
              "#46039f"
             ],
             [
              0.2222222222222222,
              "#7201a8"
             ],
             [
              0.3333333333333333,
              "#9c179e"
             ],
             [
              0.4444444444444444,
              "#bd3786"
             ],
             [
              0.5555555555555556,
              "#d8576b"
             ],
             [
              0.6666666666666666,
              "#ed7953"
             ],
             [
              0.7777777777777778,
              "#fb9f3a"
             ],
             [
              0.8888888888888888,
              "#fdca26"
             ],
             [
              1,
              "#f0f921"
             ]
            ],
            "type": "histogram2dcontour"
           }
          ],
          "mesh3d": [
           {
            "colorbar": {
             "outlinewidth": 0,
             "ticks": ""
            },
            "type": "mesh3d"
           }
          ],
          "parcoords": [
           {
            "line": {
             "colorbar": {
              "outlinewidth": 0,
              "ticks": ""
             }
            },
            "type": "parcoords"
           }
          ],
          "pie": [
           {
            "automargin": true,
            "type": "pie"
           }
          ],
          "scatter": [
           {
            "fillpattern": {
             "fillmode": "overlay",
             "size": 10,
             "solidity": 0.2
            },
            "type": "scatter"
           }
          ],
          "scatter3d": [
           {
            "line": {
             "colorbar": {
              "outlinewidth": 0,
              "ticks": ""
             }
            },
            "marker": {
             "colorbar": {
              "outlinewidth": 0,
              "ticks": ""
             }
            },
            "type": "scatter3d"
           }
          ],
          "scattercarpet": [
           {
            "marker": {
             "colorbar": {
              "outlinewidth": 0,
              "ticks": ""
             }
            },
            "type": "scattercarpet"
           }
          ],
          "scattergeo": [
           {
            "marker": {
             "colorbar": {
              "outlinewidth": 0,
              "ticks": ""
             }
            },
            "type": "scattergeo"
           }
          ],
          "scattergl": [
           {
            "marker": {
             "colorbar": {
              "outlinewidth": 0,
              "ticks": ""
             }
            },
            "type": "scattergl"
           }
          ],
          "scattermapbox": [
           {
            "marker": {
             "colorbar": {
              "outlinewidth": 0,
              "ticks": ""
             }
            },
            "type": "scattermapbox"
           }
          ],
          "scatterpolar": [
           {
            "marker": {
             "colorbar": {
              "outlinewidth": 0,
              "ticks": ""
             }
            },
            "type": "scatterpolar"
           }
          ],
          "scatterpolargl": [
           {
            "marker": {
             "colorbar": {
              "outlinewidth": 0,
              "ticks": ""
             }
            },
            "type": "scatterpolargl"
           }
          ],
          "scatterternary": [
           {
            "marker": {
             "colorbar": {
              "outlinewidth": 0,
              "ticks": ""
             }
            },
            "type": "scatterternary"
           }
          ],
          "surface": [
           {
            "colorbar": {
             "outlinewidth": 0,
             "ticks": ""
            },
            "colorscale": [
             [
              0,
              "#0d0887"
             ],
             [
              0.1111111111111111,
              "#46039f"
             ],
             [
              0.2222222222222222,
              "#7201a8"
             ],
             [
              0.3333333333333333,
              "#9c179e"
             ],
             [
              0.4444444444444444,
              "#bd3786"
             ],
             [
              0.5555555555555556,
              "#d8576b"
             ],
             [
              0.6666666666666666,
              "#ed7953"
             ],
             [
              0.7777777777777778,
              "#fb9f3a"
             ],
             [
              0.8888888888888888,
              "#fdca26"
             ],
             [
              1,
              "#f0f921"
             ]
            ],
            "type": "surface"
           }
          ],
          "table": [
           {
            "cells": {
             "fill": {
              "color": "#EBF0F8"
             },
             "line": {
              "color": "white"
             }
            },
            "header": {
             "fill": {
              "color": "#C8D4E3"
             },
             "line": {
              "color": "white"
             }
            },
            "type": "table"
           }
          ]
         },
         "layout": {
          "annotationdefaults": {
           "arrowcolor": "#2a3f5f",
           "arrowhead": 0,
           "arrowwidth": 1
          },
          "autotypenumbers": "strict",
          "coloraxis": {
           "colorbar": {
            "outlinewidth": 0,
            "ticks": ""
           }
          },
          "colorscale": {
           "diverging": [
            [
             0,
             "#8e0152"
            ],
            [
             0.1,
             "#c51b7d"
            ],
            [
             0.2,
             "#de77ae"
            ],
            [
             0.3,
             "#f1b6da"
            ],
            [
             0.4,
             "#fde0ef"
            ],
            [
             0.5,
             "#f7f7f7"
            ],
            [
             0.6,
             "#e6f5d0"
            ],
            [
             0.7,
             "#b8e186"
            ],
            [
             0.8,
             "#7fbc41"
            ],
            [
             0.9,
             "#4d9221"
            ],
            [
             1,
             "#276419"
            ]
           ],
           "sequential": [
            [
             0,
             "#0d0887"
            ],
            [
             0.1111111111111111,
             "#46039f"
            ],
            [
             0.2222222222222222,
             "#7201a8"
            ],
            [
             0.3333333333333333,
             "#9c179e"
            ],
            [
             0.4444444444444444,
             "#bd3786"
            ],
            [
             0.5555555555555556,
             "#d8576b"
            ],
            [
             0.6666666666666666,
             "#ed7953"
            ],
            [
             0.7777777777777778,
             "#fb9f3a"
            ],
            [
             0.8888888888888888,
             "#fdca26"
            ],
            [
             1,
             "#f0f921"
            ]
           ],
           "sequentialminus": [
            [
             0,
             "#0d0887"
            ],
            [
             0.1111111111111111,
             "#46039f"
            ],
            [
             0.2222222222222222,
             "#7201a8"
            ],
            [
             0.3333333333333333,
             "#9c179e"
            ],
            [
             0.4444444444444444,
             "#bd3786"
            ],
            [
             0.5555555555555556,
             "#d8576b"
            ],
            [
             0.6666666666666666,
             "#ed7953"
            ],
            [
             0.7777777777777778,
             "#fb9f3a"
            ],
            [
             0.8888888888888888,
             "#fdca26"
            ],
            [
             1,
             "#f0f921"
            ]
           ]
          },
          "colorway": [
           "#636efa",
           "#EF553B",
           "#00cc96",
           "#ab63fa",
           "#FFA15A",
           "#19d3f3",
           "#FF6692",
           "#B6E880",
           "#FF97FF",
           "#FECB52"
          ],
          "font": {
           "color": "#2a3f5f"
          },
          "geo": {
           "bgcolor": "white",
           "lakecolor": "white",
           "landcolor": "#E5ECF6",
           "showlakes": true,
           "showland": true,
           "subunitcolor": "white"
          },
          "hoverlabel": {
           "align": "left"
          },
          "hovermode": "closest",
          "mapbox": {
           "style": "light"
          },
          "paper_bgcolor": "white",
          "plot_bgcolor": "#E5ECF6",
          "polar": {
           "angularaxis": {
            "gridcolor": "white",
            "linecolor": "white",
            "ticks": ""
           },
           "bgcolor": "#E5ECF6",
           "radialaxis": {
            "gridcolor": "white",
            "linecolor": "white",
            "ticks": ""
           }
          },
          "scene": {
           "xaxis": {
            "backgroundcolor": "#E5ECF6",
            "gridcolor": "white",
            "gridwidth": 2,
            "linecolor": "white",
            "showbackground": true,
            "ticks": "",
            "zerolinecolor": "white"
           },
           "yaxis": {
            "backgroundcolor": "#E5ECF6",
            "gridcolor": "white",
            "gridwidth": 2,
            "linecolor": "white",
            "showbackground": true,
            "ticks": "",
            "zerolinecolor": "white"
           },
           "zaxis": {
            "backgroundcolor": "#E5ECF6",
            "gridcolor": "white",
            "gridwidth": 2,
            "linecolor": "white",
            "showbackground": true,
            "ticks": "",
            "zerolinecolor": "white"
           }
          },
          "shapedefaults": {
           "line": {
            "color": "#2a3f5f"
           }
          },
          "ternary": {
           "aaxis": {
            "gridcolor": "white",
            "linecolor": "white",
            "ticks": ""
           },
           "baxis": {
            "gridcolor": "white",
            "linecolor": "white",
            "ticks": ""
           },
           "bgcolor": "#E5ECF6",
           "caxis": {
            "gridcolor": "white",
            "linecolor": "white",
            "ticks": ""
           }
          },
          "title": {
           "x": 0.05
          },
          "xaxis": {
           "automargin": true,
           "gridcolor": "white",
           "linecolor": "white",
           "ticks": "",
           "title": {
            "standoff": 15
           },
           "zerolinecolor": "white",
           "zerolinewidth": 2
          },
          "yaxis": {
           "automargin": true,
           "gridcolor": "white",
           "linecolor": "white",
           "ticks": "",
           "title": {
            "standoff": 15
           },
           "zerolinecolor": "white",
           "zerolinewidth": 2
          }
         }
        },
        "title": {
         "font": {
          "color": "#4D5663"
         }
        },
        "xaxis": {
         "gridcolor": "#E1E5ED",
         "showgrid": true,
         "tickfont": {
          "color": "#4D5663"
         },
         "title": {
          "font": {
           "color": "#4D5663"
          },
          "text": ""
         },
         "zerolinecolor": "#E1E5ED"
        },
        "yaxis": {
         "gridcolor": "#E1E5ED",
         "showgrid": true,
         "tickfont": {
          "color": "#4D5663"
         },
         "title": {
          "font": {
           "color": "#4D5663"
          },
          "text": ""
         },
         "zerolinecolor": "#E1E5ED"
        }
       }
      },
      "text/html": [
       "<div>                            <div id=\"e031c88a-a92c-49fe-8154-41ccfd30bbce\" class=\"plotly-graph-div\" style=\"height:525px; width:100%;\"></div>            <script type=\"text/javascript\">                require([\"plotly\"], function(Plotly) {                    window.PLOTLYENV=window.PLOTLYENV || {};\n",
       "                    window.PLOTLYENV.BASE_URL='https://plot.ly';                                    if (document.getElementById(\"e031c88a-a92c-49fe-8154-41ccfd30bbce\")) {                    Plotly.newPlot(                        \"e031c88a-a92c-49fe-8154-41ccfd30bbce\",                        [{\"line\":{\"color\":\"rgba(255, 153, 51, 1.0)\",\"dash\":\"solid\",\"shape\":\"linear\",\"width\":1.3},\"marker\":{\"size\":20,\"symbol\":\"circle\"},\"mode\":\"markers\",\"name\":\"B\",\"text\":\"\",\"x\":[-0.5926298961513271,0.25673020586304807,-0.43782540602292713,1.0534689198889642,-0.9919513407195126,1.611767926213217,0.06330100258337129,-0.7794590258443483,1.3213895611178617,2.0428480315223823,1.3942054388325047,-1.0038641189563902,0.38499375800912655,0.43771904183757787,-0.03450546160271116,1.053234080805073,2.0397975570567692,0.385375865370009,1.7676509480340017,-0.6649155567520971,1.436288459640299,-0.4036051333866007,0.09260910325620314,-0.6542216569397591,1.4741915479685124,0.9051017853546715,-2.196271747394207,-0.11339517644243712,-0.4449131865951581,-0.22841259825041527,0.8679037688166911,-0.8281381473996741,-0.3197383644114914,-0.22840516815474368,2.853834584156512,0.6216999835149216,1.5240921155040292,-0.31203354460191196,0.08094205015951837,0.015646307251275072,1.7932205291927203,0.4653034182676237,1.1593511785630377,1.5737474570494507,1.1662651409043536,-0.13617317080506597,-1.6664432754952285,0.6658652654155452,-0.5158901261812123,-0.9417598894899648,0.5250610445322508,1.1998623089464961,-0.3229256151506854,-1.2920143018845127,-0.05205440705465112,0.26600301743930166,-0.9644056385681528,2.4529695305287142,2.713126831567635,0.23352598710271472,0.24763388006906298,-1.2243351213532416,0.41903421957586184,0.48867062808082373,-0.7861677504690421,-1.2514626078351387,0.21186021746577036,-0.06017875815427523,2.3055917858896997,-0.72211444002813,-0.12793695931512533,-0.007755887247505297,-1.0097227248055003,0.6030326691920733,-0.1739761026833534,0.7520083111574457,-0.5412741041067098,0.12309165184098429,0.7562849692392389,1.0348364759469733,-1.3908296564977056,-0.4406362876635684,0.574944055766053,-0.5819853653510465,0.881152636747594,0.07868416646062422,1.8226632065021642,-0.13719437995366995,1.1162581459854621,-0.7985545018909256,0.17241094898690948,0.2552260864441374,1.0605714157563813,0.5179693571027562,0.4155143057576676,1.4316485846465625,-0.7775443753105155,-1.063630020330371,-0.16289165324194577,-0.29531247931902405],\"y\":[-0.1157907510446745,0.4798485260848488,0.2942811047577971,0.7131066424167334,-0.614145259332274,1.3367013379768597,-0.3611519306104252,-0.22674171311266222,-0.7922763953214255,-1.912388440068962,2.94461710583469,0.7466399419377467,-0.5062250561740432,-0.6267758673924915,-0.5301364252727697,-1.1356102411393012,1.7097173351457045,-0.5982673480241042,0.632599712583573,-0.7191789918807273,-1.011913867593541,1.0862462490282248,1.1499817116204132,0.7121776705596654,-0.7249853951963967,-0.24484654770034245,-0.10946886787942355,0.9444906377964262,-0.03956551316859267,-1.1913735024463135,-0.963486275341088,-1.3533511104197,-0.10146602362529568,0.40726711160299367,-1.3279311786454684,0.08999558075822016,1.4193027223212058,0.8481711573298252,1.237710700172955,-0.9075402340794535,0.24104376712171527,-0.26683695105423477,0.5297046101182764,-0.5898451706324817,-0.46118554508543186,0.4438889661881818,-0.022849201447032792,0.6538508162804493,-0.8969955791054491,0.5151826075293686,-1.716075531842265,-1.2459443299216126,-0.39468032622605176,-0.594068760568758,1.1781478136671775,-1.0799218215036783,1.0329478909914607,0.2282708120345758,0.5740812637562833,0.998004452114102,-0.4240139456347152,1.5697362346573667,-2.301553062519039,-0.05564169983599276,-0.5750252875191277,0.36899773315170714,1.2352274250634883,-0.2760983305352888,-1.1315843014714326,0.47160626469032957,0.6224993997445093,0.3056078012612184,0.3565127710229608,0.16192329536141162,-0.4482276412402648,-0.255341393719222,2.731094066424876,-0.3509008449363998,0.7562307284894754,0.307461984745654,-0.028086364160419496,0.3078805805283829,0.2717827333298244,-0.21005022861881803,0.15616678270870996,-0.5508037116094993,-0.8595019402724217,-1.1811403903781978,-1.1051152466130356,0.18553196417980916,0.625579015927619,-0.6408948128706429,-0.12432769691673103,-1.0699306999590428,0.26771926977846544,0.8026332176389065,1.80141470610895,-1.873013331107765,0.9099007759609501,-1.4396917779942568],\"type\":\"scatter\"}],                        {\"legend\":{\"bgcolor\":\"#F5F6F9\",\"font\":{\"color\":\"#4D5663\"}},\"paper_bgcolor\":\"#F5F6F9\",\"plot_bgcolor\":\"#F5F6F9\",\"template\":{\"data\":{\"barpolar\":[{\"marker\":{\"line\":{\"color\":\"#E5ECF6\",\"width\":0.5},\"pattern\":{\"fillmode\":\"overlay\",\"size\":10,\"solidity\":0.2}},\"type\":\"barpolar\"}],\"bar\":[{\"error_x\":{\"color\":\"#2a3f5f\"},\"error_y\":{\"color\":\"#2a3f5f\"},\"marker\":{\"line\":{\"color\":\"#E5ECF6\",\"width\":0.5},\"pattern\":{\"fillmode\":\"overlay\",\"size\":10,\"solidity\":0.2}},\"type\":\"bar\"}],\"carpet\":[{\"aaxis\":{\"endlinecolor\":\"#2a3f5f\",\"gridcolor\":\"white\",\"linecolor\":\"white\",\"minorgridcolor\":\"white\",\"startlinecolor\":\"#2a3f5f\"},\"baxis\":{\"endlinecolor\":\"#2a3f5f\",\"gridcolor\":\"white\",\"linecolor\":\"white\",\"minorgridcolor\":\"white\",\"startlinecolor\":\"#2a3f5f\"},\"type\":\"carpet\"}],\"choropleth\":[{\"colorbar\":{\"outlinewidth\":0,\"ticks\":\"\"},\"type\":\"choropleth\"}],\"contourcarpet\":[{\"colorbar\":{\"outlinewidth\":0,\"ticks\":\"\"},\"type\":\"contourcarpet\"}],\"contour\":[{\"colorbar\":{\"outlinewidth\":0,\"ticks\":\"\"},\"colorscale\":[[0.0,\"#0d0887\"],[0.1111111111111111,\"#46039f\"],[0.2222222222222222,\"#7201a8\"],[0.3333333333333333,\"#9c179e\"],[0.4444444444444444,\"#bd3786\"],[0.5555555555555556,\"#d8576b\"],[0.6666666666666666,\"#ed7953\"],[0.7777777777777778,\"#fb9f3a\"],[0.8888888888888888,\"#fdca26\"],[1.0,\"#f0f921\"]],\"type\":\"contour\"}],\"heatmapgl\":[{\"colorbar\":{\"outlinewidth\":0,\"ticks\":\"\"},\"colorscale\":[[0.0,\"#0d0887\"],[0.1111111111111111,\"#46039f\"],[0.2222222222222222,\"#7201a8\"],[0.3333333333333333,\"#9c179e\"],[0.4444444444444444,\"#bd3786\"],[0.5555555555555556,\"#d8576b\"],[0.6666666666666666,\"#ed7953\"],[0.7777777777777778,\"#fb9f3a\"],[0.8888888888888888,\"#fdca26\"],[1.0,\"#f0f921\"]],\"type\":\"heatmapgl\"}],\"heatmap\":[{\"colorbar\":{\"outlinewidth\":0,\"ticks\":\"\"},\"colorscale\":[[0.0,\"#0d0887\"],[0.1111111111111111,\"#46039f\"],[0.2222222222222222,\"#7201a8\"],[0.3333333333333333,\"#9c179e\"],[0.4444444444444444,\"#bd3786\"],[0.5555555555555556,\"#d8576b\"],[0.6666666666666666,\"#ed7953\"],[0.7777777777777778,\"#fb9f3a\"],[0.8888888888888888,\"#fdca26\"],[1.0,\"#f0f921\"]],\"type\":\"heatmap\"}],\"histogram2dcontour\":[{\"colorbar\":{\"outlinewidth\":0,\"ticks\":\"\"},\"colorscale\":[[0.0,\"#0d0887\"],[0.1111111111111111,\"#46039f\"],[0.2222222222222222,\"#7201a8\"],[0.3333333333333333,\"#9c179e\"],[0.4444444444444444,\"#bd3786\"],[0.5555555555555556,\"#d8576b\"],[0.6666666666666666,\"#ed7953\"],[0.7777777777777778,\"#fb9f3a\"],[0.8888888888888888,\"#fdca26\"],[1.0,\"#f0f921\"]],\"type\":\"histogram2dcontour\"}],\"histogram2d\":[{\"colorbar\":{\"outlinewidth\":0,\"ticks\":\"\"},\"colorscale\":[[0.0,\"#0d0887\"],[0.1111111111111111,\"#46039f\"],[0.2222222222222222,\"#7201a8\"],[0.3333333333333333,\"#9c179e\"],[0.4444444444444444,\"#bd3786\"],[0.5555555555555556,\"#d8576b\"],[0.6666666666666666,\"#ed7953\"],[0.7777777777777778,\"#fb9f3a\"],[0.8888888888888888,\"#fdca26\"],[1.0,\"#f0f921\"]],\"type\":\"histogram2d\"}],\"histogram\":[{\"marker\":{\"pattern\":{\"fillmode\":\"overlay\",\"size\":10,\"solidity\":0.2}},\"type\":\"histogram\"}],\"mesh3d\":[{\"colorbar\":{\"outlinewidth\":0,\"ticks\":\"\"},\"type\":\"mesh3d\"}],\"parcoords\":[{\"line\":{\"colorbar\":{\"outlinewidth\":0,\"ticks\":\"\"}},\"type\":\"parcoords\"}],\"pie\":[{\"automargin\":true,\"type\":\"pie\"}],\"scatter3d\":[{\"line\":{\"colorbar\":{\"outlinewidth\":0,\"ticks\":\"\"}},\"marker\":{\"colorbar\":{\"outlinewidth\":0,\"ticks\":\"\"}},\"type\":\"scatter3d\"}],\"scattercarpet\":[{\"marker\":{\"colorbar\":{\"outlinewidth\":0,\"ticks\":\"\"}},\"type\":\"scattercarpet\"}],\"scattergeo\":[{\"marker\":{\"colorbar\":{\"outlinewidth\":0,\"ticks\":\"\"}},\"type\":\"scattergeo\"}],\"scattergl\":[{\"marker\":{\"colorbar\":{\"outlinewidth\":0,\"ticks\":\"\"}},\"type\":\"scattergl\"}],\"scattermapbox\":[{\"marker\":{\"colorbar\":{\"outlinewidth\":0,\"ticks\":\"\"}},\"type\":\"scattermapbox\"}],\"scatterpolargl\":[{\"marker\":{\"colorbar\":{\"outlinewidth\":0,\"ticks\":\"\"}},\"type\":\"scatterpolargl\"}],\"scatterpolar\":[{\"marker\":{\"colorbar\":{\"outlinewidth\":0,\"ticks\":\"\"}},\"type\":\"scatterpolar\"}],\"scatter\":[{\"fillpattern\":{\"fillmode\":\"overlay\",\"size\":10,\"solidity\":0.2},\"type\":\"scatter\"}],\"scatterternary\":[{\"marker\":{\"colorbar\":{\"outlinewidth\":0,\"ticks\":\"\"}},\"type\":\"scatterternary\"}],\"surface\":[{\"colorbar\":{\"outlinewidth\":0,\"ticks\":\"\"},\"colorscale\":[[0.0,\"#0d0887\"],[0.1111111111111111,\"#46039f\"],[0.2222222222222222,\"#7201a8\"],[0.3333333333333333,\"#9c179e\"],[0.4444444444444444,\"#bd3786\"],[0.5555555555555556,\"#d8576b\"],[0.6666666666666666,\"#ed7953\"],[0.7777777777777778,\"#fb9f3a\"],[0.8888888888888888,\"#fdca26\"],[1.0,\"#f0f921\"]],\"type\":\"surface\"}],\"table\":[{\"cells\":{\"fill\":{\"color\":\"#EBF0F8\"},\"line\":{\"color\":\"white\"}},\"header\":{\"fill\":{\"color\":\"#C8D4E3\"},\"line\":{\"color\":\"white\"}},\"type\":\"table\"}]},\"layout\":{\"annotationdefaults\":{\"arrowcolor\":\"#2a3f5f\",\"arrowhead\":0,\"arrowwidth\":1},\"autotypenumbers\":\"strict\",\"coloraxis\":{\"colorbar\":{\"outlinewidth\":0,\"ticks\":\"\"}},\"colorscale\":{\"diverging\":[[0,\"#8e0152\"],[0.1,\"#c51b7d\"],[0.2,\"#de77ae\"],[0.3,\"#f1b6da\"],[0.4,\"#fde0ef\"],[0.5,\"#f7f7f7\"],[0.6,\"#e6f5d0\"],[0.7,\"#b8e186\"],[0.8,\"#7fbc41\"],[0.9,\"#4d9221\"],[1,\"#276419\"]],\"sequential\":[[0.0,\"#0d0887\"],[0.1111111111111111,\"#46039f\"],[0.2222222222222222,\"#7201a8\"],[0.3333333333333333,\"#9c179e\"],[0.4444444444444444,\"#bd3786\"],[0.5555555555555556,\"#d8576b\"],[0.6666666666666666,\"#ed7953\"],[0.7777777777777778,\"#fb9f3a\"],[0.8888888888888888,\"#fdca26\"],[1.0,\"#f0f921\"]],\"sequentialminus\":[[0.0,\"#0d0887\"],[0.1111111111111111,\"#46039f\"],[0.2222222222222222,\"#7201a8\"],[0.3333333333333333,\"#9c179e\"],[0.4444444444444444,\"#bd3786\"],[0.5555555555555556,\"#d8576b\"],[0.6666666666666666,\"#ed7953\"],[0.7777777777777778,\"#fb9f3a\"],[0.8888888888888888,\"#fdca26\"],[1.0,\"#f0f921\"]]},\"colorway\":[\"#636efa\",\"#EF553B\",\"#00cc96\",\"#ab63fa\",\"#FFA15A\",\"#19d3f3\",\"#FF6692\",\"#B6E880\",\"#FF97FF\",\"#FECB52\"],\"font\":{\"color\":\"#2a3f5f\"},\"geo\":{\"bgcolor\":\"white\",\"lakecolor\":\"white\",\"landcolor\":\"#E5ECF6\",\"showlakes\":true,\"showland\":true,\"subunitcolor\":\"white\"},\"hoverlabel\":{\"align\":\"left\"},\"hovermode\":\"closest\",\"mapbox\":{\"style\":\"light\"},\"paper_bgcolor\":\"white\",\"plot_bgcolor\":\"#E5ECF6\",\"polar\":{\"angularaxis\":{\"gridcolor\":\"white\",\"linecolor\":\"white\",\"ticks\":\"\"},\"bgcolor\":\"#E5ECF6\",\"radialaxis\":{\"gridcolor\":\"white\",\"linecolor\":\"white\",\"ticks\":\"\"}},\"scene\":{\"xaxis\":{\"backgroundcolor\":\"#E5ECF6\",\"gridcolor\":\"white\",\"gridwidth\":2,\"linecolor\":\"white\",\"showbackground\":true,\"ticks\":\"\",\"zerolinecolor\":\"white\"},\"yaxis\":{\"backgroundcolor\":\"#E5ECF6\",\"gridcolor\":\"white\",\"gridwidth\":2,\"linecolor\":\"white\",\"showbackground\":true,\"ticks\":\"\",\"zerolinecolor\":\"white\"},\"zaxis\":{\"backgroundcolor\":\"#E5ECF6\",\"gridcolor\":\"white\",\"gridwidth\":2,\"linecolor\":\"white\",\"showbackground\":true,\"ticks\":\"\",\"zerolinecolor\":\"white\"}},\"shapedefaults\":{\"line\":{\"color\":\"#2a3f5f\"}},\"ternary\":{\"aaxis\":{\"gridcolor\":\"white\",\"linecolor\":\"white\",\"ticks\":\"\"},\"baxis\":{\"gridcolor\":\"white\",\"linecolor\":\"white\",\"ticks\":\"\"},\"bgcolor\":\"#E5ECF6\",\"caxis\":{\"gridcolor\":\"white\",\"linecolor\":\"white\",\"ticks\":\"\"}},\"title\":{\"x\":0.05},\"xaxis\":{\"automargin\":true,\"gridcolor\":\"white\",\"linecolor\":\"white\",\"ticks\":\"\",\"title\":{\"standoff\":15},\"zerolinecolor\":\"white\",\"zerolinewidth\":2},\"yaxis\":{\"automargin\":true,\"gridcolor\":\"white\",\"linecolor\":\"white\",\"ticks\":\"\",\"title\":{\"standoff\":15},\"zerolinecolor\":\"white\",\"zerolinewidth\":2}}},\"title\":{\"font\":{\"color\":\"#4D5663\"}},\"xaxis\":{\"gridcolor\":\"#E1E5ED\",\"showgrid\":true,\"tickfont\":{\"color\":\"#4D5663\"},\"title\":{\"font\":{\"color\":\"#4D5663\"},\"text\":\"\"},\"zerolinecolor\":\"#E1E5ED\"},\"yaxis\":{\"gridcolor\":\"#E1E5ED\",\"showgrid\":true,\"tickfont\":{\"color\":\"#4D5663\"},\"title\":{\"font\":{\"color\":\"#4D5663\"},\"text\":\"\"},\"zerolinecolor\":\"#E1E5ED\"}},                        {\"showLink\": true, \"linkText\": \"Export to plot.ly\", \"plotlyServerURL\": \"https://plot.ly\", \"responsive\": true}                    ).then(function(){\n",
       "                            \n",
       "var gd = document.getElementById('e031c88a-a92c-49fe-8154-41ccfd30bbce');\n",
       "var x = new MutationObserver(function (mutations, observer) {{\n",
       "        var display = window.getComputedStyle(gd).display;\n",
       "        if (!display || display === 'none') {{\n",
       "            console.log([gd, 'removed!']);\n",
       "            Plotly.purge(gd);\n",
       "            observer.disconnect();\n",
       "        }}\n",
       "}});\n",
       "\n",
       "// Listen for the removal of the full notebook cells\n",
       "var notebookContainer = gd.closest('#notebook-container');\n",
       "if (notebookContainer) {{\n",
       "    x.observe(notebookContainer, {childList: true});\n",
       "}}\n",
       "\n",
       "// Listen for the clearing of the current output cell\n",
       "var outputEl = gd.closest('.output');\n",
       "if (outputEl) {{\n",
       "    x.observe(outputEl, {childList: true});\n",
       "}}\n",
       "\n",
       "                        })                };                });            </script>        </div>"
      ]
     },
     "metadata": {},
     "output_type": "display_data"
    }
   ],
   "source": [
    "# SCATTER PLOT WITH IPLOT\n",
    "df.iplot(kind='scatter',x='A',y='B',mode='markers',size=20)"
   ]
  },
  {
   "cell_type": "code",
   "execution_count": 16,
   "id": "8d8abb84",
   "metadata": {},
   "outputs": [
    {
     "data": {
      "application/vnd.plotly.v1+json": {
       "config": {
        "linkText": "Export to plot.ly",
        "plotlyServerURL": "https://plot.ly",
        "showLink": true
       },
       "data": [
        {
         "marker": {
          "color": "rgba(255, 153, 51, 0.6)",
          "line": {
           "color": "rgba(255, 153, 51, 1.0)",
           "width": 1
          }
         },
         "name": "Values",
         "orientation": "v",
         "text": "",
         "type": "bar",
         "x": [
          "A",
          "B",
          "C"
         ],
         "y": [
          32,
          43,
          50
         ]
        }
       ],
       "layout": {
        "legend": {
         "bgcolor": "#F5F6F9",
         "font": {
          "color": "#4D5663"
         }
        },
        "paper_bgcolor": "#F5F6F9",
        "plot_bgcolor": "#F5F6F9",
        "template": {
         "data": {
          "bar": [
           {
            "error_x": {
             "color": "#2a3f5f"
            },
            "error_y": {
             "color": "#2a3f5f"
            },
            "marker": {
             "line": {
              "color": "#E5ECF6",
              "width": 0.5
             },
             "pattern": {
              "fillmode": "overlay",
              "size": 10,
              "solidity": 0.2
             }
            },
            "type": "bar"
           }
          ],
          "barpolar": [
           {
            "marker": {
             "line": {
              "color": "#E5ECF6",
              "width": 0.5
             },
             "pattern": {
              "fillmode": "overlay",
              "size": 10,
              "solidity": 0.2
             }
            },
            "type": "barpolar"
           }
          ],
          "carpet": [
           {
            "aaxis": {
             "endlinecolor": "#2a3f5f",
             "gridcolor": "white",
             "linecolor": "white",
             "minorgridcolor": "white",
             "startlinecolor": "#2a3f5f"
            },
            "baxis": {
             "endlinecolor": "#2a3f5f",
             "gridcolor": "white",
             "linecolor": "white",
             "minorgridcolor": "white",
             "startlinecolor": "#2a3f5f"
            },
            "type": "carpet"
           }
          ],
          "choropleth": [
           {
            "colorbar": {
             "outlinewidth": 0,
             "ticks": ""
            },
            "type": "choropleth"
           }
          ],
          "contour": [
           {
            "colorbar": {
             "outlinewidth": 0,
             "ticks": ""
            },
            "colorscale": [
             [
              0,
              "#0d0887"
             ],
             [
              0.1111111111111111,
              "#46039f"
             ],
             [
              0.2222222222222222,
              "#7201a8"
             ],
             [
              0.3333333333333333,
              "#9c179e"
             ],
             [
              0.4444444444444444,
              "#bd3786"
             ],
             [
              0.5555555555555556,
              "#d8576b"
             ],
             [
              0.6666666666666666,
              "#ed7953"
             ],
             [
              0.7777777777777778,
              "#fb9f3a"
             ],
             [
              0.8888888888888888,
              "#fdca26"
             ],
             [
              1,
              "#f0f921"
             ]
            ],
            "type": "contour"
           }
          ],
          "contourcarpet": [
           {
            "colorbar": {
             "outlinewidth": 0,
             "ticks": ""
            },
            "type": "contourcarpet"
           }
          ],
          "heatmap": [
           {
            "colorbar": {
             "outlinewidth": 0,
             "ticks": ""
            },
            "colorscale": [
             [
              0,
              "#0d0887"
             ],
             [
              0.1111111111111111,
              "#46039f"
             ],
             [
              0.2222222222222222,
              "#7201a8"
             ],
             [
              0.3333333333333333,
              "#9c179e"
             ],
             [
              0.4444444444444444,
              "#bd3786"
             ],
             [
              0.5555555555555556,
              "#d8576b"
             ],
             [
              0.6666666666666666,
              "#ed7953"
             ],
             [
              0.7777777777777778,
              "#fb9f3a"
             ],
             [
              0.8888888888888888,
              "#fdca26"
             ],
             [
              1,
              "#f0f921"
             ]
            ],
            "type": "heatmap"
           }
          ],
          "heatmapgl": [
           {
            "colorbar": {
             "outlinewidth": 0,
             "ticks": ""
            },
            "colorscale": [
             [
              0,
              "#0d0887"
             ],
             [
              0.1111111111111111,
              "#46039f"
             ],
             [
              0.2222222222222222,
              "#7201a8"
             ],
             [
              0.3333333333333333,
              "#9c179e"
             ],
             [
              0.4444444444444444,
              "#bd3786"
             ],
             [
              0.5555555555555556,
              "#d8576b"
             ],
             [
              0.6666666666666666,
              "#ed7953"
             ],
             [
              0.7777777777777778,
              "#fb9f3a"
             ],
             [
              0.8888888888888888,
              "#fdca26"
             ],
             [
              1,
              "#f0f921"
             ]
            ],
            "type": "heatmapgl"
           }
          ],
          "histogram": [
           {
            "marker": {
             "pattern": {
              "fillmode": "overlay",
              "size": 10,
              "solidity": 0.2
             }
            },
            "type": "histogram"
           }
          ],
          "histogram2d": [
           {
            "colorbar": {
             "outlinewidth": 0,
             "ticks": ""
            },
            "colorscale": [
             [
              0,
              "#0d0887"
             ],
             [
              0.1111111111111111,
              "#46039f"
             ],
             [
              0.2222222222222222,
              "#7201a8"
             ],
             [
              0.3333333333333333,
              "#9c179e"
             ],
             [
              0.4444444444444444,
              "#bd3786"
             ],
             [
              0.5555555555555556,
              "#d8576b"
             ],
             [
              0.6666666666666666,
              "#ed7953"
             ],
             [
              0.7777777777777778,
              "#fb9f3a"
             ],
             [
              0.8888888888888888,
              "#fdca26"
             ],
             [
              1,
              "#f0f921"
             ]
            ],
            "type": "histogram2d"
           }
          ],
          "histogram2dcontour": [
           {
            "colorbar": {
             "outlinewidth": 0,
             "ticks": ""
            },
            "colorscale": [
             [
              0,
              "#0d0887"
             ],
             [
              0.1111111111111111,
              "#46039f"
             ],
             [
              0.2222222222222222,
              "#7201a8"
             ],
             [
              0.3333333333333333,
              "#9c179e"
             ],
             [
              0.4444444444444444,
              "#bd3786"
             ],
             [
              0.5555555555555556,
              "#d8576b"
             ],
             [
              0.6666666666666666,
              "#ed7953"
             ],
             [
              0.7777777777777778,
              "#fb9f3a"
             ],
             [
              0.8888888888888888,
              "#fdca26"
             ],
             [
              1,
              "#f0f921"
             ]
            ],
            "type": "histogram2dcontour"
           }
          ],
          "mesh3d": [
           {
            "colorbar": {
             "outlinewidth": 0,
             "ticks": ""
            },
            "type": "mesh3d"
           }
          ],
          "parcoords": [
           {
            "line": {
             "colorbar": {
              "outlinewidth": 0,
              "ticks": ""
             }
            },
            "type": "parcoords"
           }
          ],
          "pie": [
           {
            "automargin": true,
            "type": "pie"
           }
          ],
          "scatter": [
           {
            "fillpattern": {
             "fillmode": "overlay",
             "size": 10,
             "solidity": 0.2
            },
            "type": "scatter"
           }
          ],
          "scatter3d": [
           {
            "line": {
             "colorbar": {
              "outlinewidth": 0,
              "ticks": ""
             }
            },
            "marker": {
             "colorbar": {
              "outlinewidth": 0,
              "ticks": ""
             }
            },
            "type": "scatter3d"
           }
          ],
          "scattercarpet": [
           {
            "marker": {
             "colorbar": {
              "outlinewidth": 0,
              "ticks": ""
             }
            },
            "type": "scattercarpet"
           }
          ],
          "scattergeo": [
           {
            "marker": {
             "colorbar": {
              "outlinewidth": 0,
              "ticks": ""
             }
            },
            "type": "scattergeo"
           }
          ],
          "scattergl": [
           {
            "marker": {
             "colorbar": {
              "outlinewidth": 0,
              "ticks": ""
             }
            },
            "type": "scattergl"
           }
          ],
          "scattermapbox": [
           {
            "marker": {
             "colorbar": {
              "outlinewidth": 0,
              "ticks": ""
             }
            },
            "type": "scattermapbox"
           }
          ],
          "scatterpolar": [
           {
            "marker": {
             "colorbar": {
              "outlinewidth": 0,
              "ticks": ""
             }
            },
            "type": "scatterpolar"
           }
          ],
          "scatterpolargl": [
           {
            "marker": {
             "colorbar": {
              "outlinewidth": 0,
              "ticks": ""
             }
            },
            "type": "scatterpolargl"
           }
          ],
          "scatterternary": [
           {
            "marker": {
             "colorbar": {
              "outlinewidth": 0,
              "ticks": ""
             }
            },
            "type": "scatterternary"
           }
          ],
          "surface": [
           {
            "colorbar": {
             "outlinewidth": 0,
             "ticks": ""
            },
            "colorscale": [
             [
              0,
              "#0d0887"
             ],
             [
              0.1111111111111111,
              "#46039f"
             ],
             [
              0.2222222222222222,
              "#7201a8"
             ],
             [
              0.3333333333333333,
              "#9c179e"
             ],
             [
              0.4444444444444444,
              "#bd3786"
             ],
             [
              0.5555555555555556,
              "#d8576b"
             ],
             [
              0.6666666666666666,
              "#ed7953"
             ],
             [
              0.7777777777777778,
              "#fb9f3a"
             ],
             [
              0.8888888888888888,
              "#fdca26"
             ],
             [
              1,
              "#f0f921"
             ]
            ],
            "type": "surface"
           }
          ],
          "table": [
           {
            "cells": {
             "fill": {
              "color": "#EBF0F8"
             },
             "line": {
              "color": "white"
             }
            },
            "header": {
             "fill": {
              "color": "#C8D4E3"
             },
             "line": {
              "color": "white"
             }
            },
            "type": "table"
           }
          ]
         },
         "layout": {
          "annotationdefaults": {
           "arrowcolor": "#2a3f5f",
           "arrowhead": 0,
           "arrowwidth": 1
          },
          "autotypenumbers": "strict",
          "coloraxis": {
           "colorbar": {
            "outlinewidth": 0,
            "ticks": ""
           }
          },
          "colorscale": {
           "diverging": [
            [
             0,
             "#8e0152"
            ],
            [
             0.1,
             "#c51b7d"
            ],
            [
             0.2,
             "#de77ae"
            ],
            [
             0.3,
             "#f1b6da"
            ],
            [
             0.4,
             "#fde0ef"
            ],
            [
             0.5,
             "#f7f7f7"
            ],
            [
             0.6,
             "#e6f5d0"
            ],
            [
             0.7,
             "#b8e186"
            ],
            [
             0.8,
             "#7fbc41"
            ],
            [
             0.9,
             "#4d9221"
            ],
            [
             1,
             "#276419"
            ]
           ],
           "sequential": [
            [
             0,
             "#0d0887"
            ],
            [
             0.1111111111111111,
             "#46039f"
            ],
            [
             0.2222222222222222,
             "#7201a8"
            ],
            [
             0.3333333333333333,
             "#9c179e"
            ],
            [
             0.4444444444444444,
             "#bd3786"
            ],
            [
             0.5555555555555556,
             "#d8576b"
            ],
            [
             0.6666666666666666,
             "#ed7953"
            ],
            [
             0.7777777777777778,
             "#fb9f3a"
            ],
            [
             0.8888888888888888,
             "#fdca26"
            ],
            [
             1,
             "#f0f921"
            ]
           ],
           "sequentialminus": [
            [
             0,
             "#0d0887"
            ],
            [
             0.1111111111111111,
             "#46039f"
            ],
            [
             0.2222222222222222,
             "#7201a8"
            ],
            [
             0.3333333333333333,
             "#9c179e"
            ],
            [
             0.4444444444444444,
             "#bd3786"
            ],
            [
             0.5555555555555556,
             "#d8576b"
            ],
            [
             0.6666666666666666,
             "#ed7953"
            ],
            [
             0.7777777777777778,
             "#fb9f3a"
            ],
            [
             0.8888888888888888,
             "#fdca26"
            ],
            [
             1,
             "#f0f921"
            ]
           ]
          },
          "colorway": [
           "#636efa",
           "#EF553B",
           "#00cc96",
           "#ab63fa",
           "#FFA15A",
           "#19d3f3",
           "#FF6692",
           "#B6E880",
           "#FF97FF",
           "#FECB52"
          ],
          "font": {
           "color": "#2a3f5f"
          },
          "geo": {
           "bgcolor": "white",
           "lakecolor": "white",
           "landcolor": "#E5ECF6",
           "showlakes": true,
           "showland": true,
           "subunitcolor": "white"
          },
          "hoverlabel": {
           "align": "left"
          },
          "hovermode": "closest",
          "mapbox": {
           "style": "light"
          },
          "paper_bgcolor": "white",
          "plot_bgcolor": "#E5ECF6",
          "polar": {
           "angularaxis": {
            "gridcolor": "white",
            "linecolor": "white",
            "ticks": ""
           },
           "bgcolor": "#E5ECF6",
           "radialaxis": {
            "gridcolor": "white",
            "linecolor": "white",
            "ticks": ""
           }
          },
          "scene": {
           "xaxis": {
            "backgroundcolor": "#E5ECF6",
            "gridcolor": "white",
            "gridwidth": 2,
            "linecolor": "white",
            "showbackground": true,
            "ticks": "",
            "zerolinecolor": "white"
           },
           "yaxis": {
            "backgroundcolor": "#E5ECF6",
            "gridcolor": "white",
            "gridwidth": 2,
            "linecolor": "white",
            "showbackground": true,
            "ticks": "",
            "zerolinecolor": "white"
           },
           "zaxis": {
            "backgroundcolor": "#E5ECF6",
            "gridcolor": "white",
            "gridwidth": 2,
            "linecolor": "white",
            "showbackground": true,
            "ticks": "",
            "zerolinecolor": "white"
           }
          },
          "shapedefaults": {
           "line": {
            "color": "#2a3f5f"
           }
          },
          "ternary": {
           "aaxis": {
            "gridcolor": "white",
            "linecolor": "white",
            "ticks": ""
           },
           "baxis": {
            "gridcolor": "white",
            "linecolor": "white",
            "ticks": ""
           },
           "bgcolor": "#E5ECF6",
           "caxis": {
            "gridcolor": "white",
            "linecolor": "white",
            "ticks": ""
           }
          },
          "title": {
           "x": 0.05
          },
          "xaxis": {
           "automargin": true,
           "gridcolor": "white",
           "linecolor": "white",
           "ticks": "",
           "title": {
            "standoff": 15
           },
           "zerolinecolor": "white",
           "zerolinewidth": 2
          },
          "yaxis": {
           "automargin": true,
           "gridcolor": "white",
           "linecolor": "white",
           "ticks": "",
           "title": {
            "standoff": 15
           },
           "zerolinecolor": "white",
           "zerolinewidth": 2
          }
         }
        },
        "title": {
         "font": {
          "color": "#4D5663"
         }
        },
        "xaxis": {
         "gridcolor": "#E1E5ED",
         "showgrid": true,
         "tickfont": {
          "color": "#4D5663"
         },
         "title": {
          "font": {
           "color": "#4D5663"
          },
          "text": ""
         },
         "zerolinecolor": "#E1E5ED"
        },
        "yaxis": {
         "gridcolor": "#E1E5ED",
         "showgrid": true,
         "tickfont": {
          "color": "#4D5663"
         },
         "title": {
          "font": {
           "color": "#4D5663"
          },
          "text": ""
         },
         "zerolinecolor": "#E1E5ED"
        }
       }
      },
      "text/html": [
       "<div>                            <div id=\"8b7870be-f7cd-4f0e-9f3b-2c34a8a54ec0\" class=\"plotly-graph-div\" style=\"height:525px; width:100%;\"></div>            <script type=\"text/javascript\">                require([\"plotly\"], function(Plotly) {                    window.PLOTLYENV=window.PLOTLYENV || {};\n",
       "                    window.PLOTLYENV.BASE_URL='https://plot.ly';                                    if (document.getElementById(\"8b7870be-f7cd-4f0e-9f3b-2c34a8a54ec0\")) {                    Plotly.newPlot(                        \"8b7870be-f7cd-4f0e-9f3b-2c34a8a54ec0\",                        [{\"marker\":{\"color\":\"rgba(255, 153, 51, 0.6)\",\"line\":{\"color\":\"rgba(255, 153, 51, 1.0)\",\"width\":1}},\"name\":\"Values\",\"orientation\":\"v\",\"text\":\"\",\"x\":[\"A\",\"B\",\"C\"],\"y\":[32,43,50],\"type\":\"bar\"}],                        {\"legend\":{\"bgcolor\":\"#F5F6F9\",\"font\":{\"color\":\"#4D5663\"}},\"paper_bgcolor\":\"#F5F6F9\",\"plot_bgcolor\":\"#F5F6F9\",\"template\":{\"data\":{\"barpolar\":[{\"marker\":{\"line\":{\"color\":\"#E5ECF6\",\"width\":0.5},\"pattern\":{\"fillmode\":\"overlay\",\"size\":10,\"solidity\":0.2}},\"type\":\"barpolar\"}],\"bar\":[{\"error_x\":{\"color\":\"#2a3f5f\"},\"error_y\":{\"color\":\"#2a3f5f\"},\"marker\":{\"line\":{\"color\":\"#E5ECF6\",\"width\":0.5},\"pattern\":{\"fillmode\":\"overlay\",\"size\":10,\"solidity\":0.2}},\"type\":\"bar\"}],\"carpet\":[{\"aaxis\":{\"endlinecolor\":\"#2a3f5f\",\"gridcolor\":\"white\",\"linecolor\":\"white\",\"minorgridcolor\":\"white\",\"startlinecolor\":\"#2a3f5f\"},\"baxis\":{\"endlinecolor\":\"#2a3f5f\",\"gridcolor\":\"white\",\"linecolor\":\"white\",\"minorgridcolor\":\"white\",\"startlinecolor\":\"#2a3f5f\"},\"type\":\"carpet\"}],\"choropleth\":[{\"colorbar\":{\"outlinewidth\":0,\"ticks\":\"\"},\"type\":\"choropleth\"}],\"contourcarpet\":[{\"colorbar\":{\"outlinewidth\":0,\"ticks\":\"\"},\"type\":\"contourcarpet\"}],\"contour\":[{\"colorbar\":{\"outlinewidth\":0,\"ticks\":\"\"},\"colorscale\":[[0.0,\"#0d0887\"],[0.1111111111111111,\"#46039f\"],[0.2222222222222222,\"#7201a8\"],[0.3333333333333333,\"#9c179e\"],[0.4444444444444444,\"#bd3786\"],[0.5555555555555556,\"#d8576b\"],[0.6666666666666666,\"#ed7953\"],[0.7777777777777778,\"#fb9f3a\"],[0.8888888888888888,\"#fdca26\"],[1.0,\"#f0f921\"]],\"type\":\"contour\"}],\"heatmapgl\":[{\"colorbar\":{\"outlinewidth\":0,\"ticks\":\"\"},\"colorscale\":[[0.0,\"#0d0887\"],[0.1111111111111111,\"#46039f\"],[0.2222222222222222,\"#7201a8\"],[0.3333333333333333,\"#9c179e\"],[0.4444444444444444,\"#bd3786\"],[0.5555555555555556,\"#d8576b\"],[0.6666666666666666,\"#ed7953\"],[0.7777777777777778,\"#fb9f3a\"],[0.8888888888888888,\"#fdca26\"],[1.0,\"#f0f921\"]],\"type\":\"heatmapgl\"}],\"heatmap\":[{\"colorbar\":{\"outlinewidth\":0,\"ticks\":\"\"},\"colorscale\":[[0.0,\"#0d0887\"],[0.1111111111111111,\"#46039f\"],[0.2222222222222222,\"#7201a8\"],[0.3333333333333333,\"#9c179e\"],[0.4444444444444444,\"#bd3786\"],[0.5555555555555556,\"#d8576b\"],[0.6666666666666666,\"#ed7953\"],[0.7777777777777778,\"#fb9f3a\"],[0.8888888888888888,\"#fdca26\"],[1.0,\"#f0f921\"]],\"type\":\"heatmap\"}],\"histogram2dcontour\":[{\"colorbar\":{\"outlinewidth\":0,\"ticks\":\"\"},\"colorscale\":[[0.0,\"#0d0887\"],[0.1111111111111111,\"#46039f\"],[0.2222222222222222,\"#7201a8\"],[0.3333333333333333,\"#9c179e\"],[0.4444444444444444,\"#bd3786\"],[0.5555555555555556,\"#d8576b\"],[0.6666666666666666,\"#ed7953\"],[0.7777777777777778,\"#fb9f3a\"],[0.8888888888888888,\"#fdca26\"],[1.0,\"#f0f921\"]],\"type\":\"histogram2dcontour\"}],\"histogram2d\":[{\"colorbar\":{\"outlinewidth\":0,\"ticks\":\"\"},\"colorscale\":[[0.0,\"#0d0887\"],[0.1111111111111111,\"#46039f\"],[0.2222222222222222,\"#7201a8\"],[0.3333333333333333,\"#9c179e\"],[0.4444444444444444,\"#bd3786\"],[0.5555555555555556,\"#d8576b\"],[0.6666666666666666,\"#ed7953\"],[0.7777777777777778,\"#fb9f3a\"],[0.8888888888888888,\"#fdca26\"],[1.0,\"#f0f921\"]],\"type\":\"histogram2d\"}],\"histogram\":[{\"marker\":{\"pattern\":{\"fillmode\":\"overlay\",\"size\":10,\"solidity\":0.2}},\"type\":\"histogram\"}],\"mesh3d\":[{\"colorbar\":{\"outlinewidth\":0,\"ticks\":\"\"},\"type\":\"mesh3d\"}],\"parcoords\":[{\"line\":{\"colorbar\":{\"outlinewidth\":0,\"ticks\":\"\"}},\"type\":\"parcoords\"}],\"pie\":[{\"automargin\":true,\"type\":\"pie\"}],\"scatter3d\":[{\"line\":{\"colorbar\":{\"outlinewidth\":0,\"ticks\":\"\"}},\"marker\":{\"colorbar\":{\"outlinewidth\":0,\"ticks\":\"\"}},\"type\":\"scatter3d\"}],\"scattercarpet\":[{\"marker\":{\"colorbar\":{\"outlinewidth\":0,\"ticks\":\"\"}},\"type\":\"scattercarpet\"}],\"scattergeo\":[{\"marker\":{\"colorbar\":{\"outlinewidth\":0,\"ticks\":\"\"}},\"type\":\"scattergeo\"}],\"scattergl\":[{\"marker\":{\"colorbar\":{\"outlinewidth\":0,\"ticks\":\"\"}},\"type\":\"scattergl\"}],\"scattermapbox\":[{\"marker\":{\"colorbar\":{\"outlinewidth\":0,\"ticks\":\"\"}},\"type\":\"scattermapbox\"}],\"scatterpolargl\":[{\"marker\":{\"colorbar\":{\"outlinewidth\":0,\"ticks\":\"\"}},\"type\":\"scatterpolargl\"}],\"scatterpolar\":[{\"marker\":{\"colorbar\":{\"outlinewidth\":0,\"ticks\":\"\"}},\"type\":\"scatterpolar\"}],\"scatter\":[{\"fillpattern\":{\"fillmode\":\"overlay\",\"size\":10,\"solidity\":0.2},\"type\":\"scatter\"}],\"scatterternary\":[{\"marker\":{\"colorbar\":{\"outlinewidth\":0,\"ticks\":\"\"}},\"type\":\"scatterternary\"}],\"surface\":[{\"colorbar\":{\"outlinewidth\":0,\"ticks\":\"\"},\"colorscale\":[[0.0,\"#0d0887\"],[0.1111111111111111,\"#46039f\"],[0.2222222222222222,\"#7201a8\"],[0.3333333333333333,\"#9c179e\"],[0.4444444444444444,\"#bd3786\"],[0.5555555555555556,\"#d8576b\"],[0.6666666666666666,\"#ed7953\"],[0.7777777777777778,\"#fb9f3a\"],[0.8888888888888888,\"#fdca26\"],[1.0,\"#f0f921\"]],\"type\":\"surface\"}],\"table\":[{\"cells\":{\"fill\":{\"color\":\"#EBF0F8\"},\"line\":{\"color\":\"white\"}},\"header\":{\"fill\":{\"color\":\"#C8D4E3\"},\"line\":{\"color\":\"white\"}},\"type\":\"table\"}]},\"layout\":{\"annotationdefaults\":{\"arrowcolor\":\"#2a3f5f\",\"arrowhead\":0,\"arrowwidth\":1},\"autotypenumbers\":\"strict\",\"coloraxis\":{\"colorbar\":{\"outlinewidth\":0,\"ticks\":\"\"}},\"colorscale\":{\"diverging\":[[0,\"#8e0152\"],[0.1,\"#c51b7d\"],[0.2,\"#de77ae\"],[0.3,\"#f1b6da\"],[0.4,\"#fde0ef\"],[0.5,\"#f7f7f7\"],[0.6,\"#e6f5d0\"],[0.7,\"#b8e186\"],[0.8,\"#7fbc41\"],[0.9,\"#4d9221\"],[1,\"#276419\"]],\"sequential\":[[0.0,\"#0d0887\"],[0.1111111111111111,\"#46039f\"],[0.2222222222222222,\"#7201a8\"],[0.3333333333333333,\"#9c179e\"],[0.4444444444444444,\"#bd3786\"],[0.5555555555555556,\"#d8576b\"],[0.6666666666666666,\"#ed7953\"],[0.7777777777777778,\"#fb9f3a\"],[0.8888888888888888,\"#fdca26\"],[1.0,\"#f0f921\"]],\"sequentialminus\":[[0.0,\"#0d0887\"],[0.1111111111111111,\"#46039f\"],[0.2222222222222222,\"#7201a8\"],[0.3333333333333333,\"#9c179e\"],[0.4444444444444444,\"#bd3786\"],[0.5555555555555556,\"#d8576b\"],[0.6666666666666666,\"#ed7953\"],[0.7777777777777778,\"#fb9f3a\"],[0.8888888888888888,\"#fdca26\"],[1.0,\"#f0f921\"]]},\"colorway\":[\"#636efa\",\"#EF553B\",\"#00cc96\",\"#ab63fa\",\"#FFA15A\",\"#19d3f3\",\"#FF6692\",\"#B6E880\",\"#FF97FF\",\"#FECB52\"],\"font\":{\"color\":\"#2a3f5f\"},\"geo\":{\"bgcolor\":\"white\",\"lakecolor\":\"white\",\"landcolor\":\"#E5ECF6\",\"showlakes\":true,\"showland\":true,\"subunitcolor\":\"white\"},\"hoverlabel\":{\"align\":\"left\"},\"hovermode\":\"closest\",\"mapbox\":{\"style\":\"light\"},\"paper_bgcolor\":\"white\",\"plot_bgcolor\":\"#E5ECF6\",\"polar\":{\"angularaxis\":{\"gridcolor\":\"white\",\"linecolor\":\"white\",\"ticks\":\"\"},\"bgcolor\":\"#E5ECF6\",\"radialaxis\":{\"gridcolor\":\"white\",\"linecolor\":\"white\",\"ticks\":\"\"}},\"scene\":{\"xaxis\":{\"backgroundcolor\":\"#E5ECF6\",\"gridcolor\":\"white\",\"gridwidth\":2,\"linecolor\":\"white\",\"showbackground\":true,\"ticks\":\"\",\"zerolinecolor\":\"white\"},\"yaxis\":{\"backgroundcolor\":\"#E5ECF6\",\"gridcolor\":\"white\",\"gridwidth\":2,\"linecolor\":\"white\",\"showbackground\":true,\"ticks\":\"\",\"zerolinecolor\":\"white\"},\"zaxis\":{\"backgroundcolor\":\"#E5ECF6\",\"gridcolor\":\"white\",\"gridwidth\":2,\"linecolor\":\"white\",\"showbackground\":true,\"ticks\":\"\",\"zerolinecolor\":\"white\"}},\"shapedefaults\":{\"line\":{\"color\":\"#2a3f5f\"}},\"ternary\":{\"aaxis\":{\"gridcolor\":\"white\",\"linecolor\":\"white\",\"ticks\":\"\"},\"baxis\":{\"gridcolor\":\"white\",\"linecolor\":\"white\",\"ticks\":\"\"},\"bgcolor\":\"#E5ECF6\",\"caxis\":{\"gridcolor\":\"white\",\"linecolor\":\"white\",\"ticks\":\"\"}},\"title\":{\"x\":0.05},\"xaxis\":{\"automargin\":true,\"gridcolor\":\"white\",\"linecolor\":\"white\",\"ticks\":\"\",\"title\":{\"standoff\":15},\"zerolinecolor\":\"white\",\"zerolinewidth\":2},\"yaxis\":{\"automargin\":true,\"gridcolor\":\"white\",\"linecolor\":\"white\",\"ticks\":\"\",\"title\":{\"standoff\":15},\"zerolinecolor\":\"white\",\"zerolinewidth\":2}}},\"title\":{\"font\":{\"color\":\"#4D5663\"}},\"xaxis\":{\"gridcolor\":\"#E1E5ED\",\"showgrid\":true,\"tickfont\":{\"color\":\"#4D5663\"},\"title\":{\"font\":{\"color\":\"#4D5663\"},\"text\":\"\"},\"zerolinecolor\":\"#E1E5ED\"},\"yaxis\":{\"gridcolor\":\"#E1E5ED\",\"showgrid\":true,\"tickfont\":{\"color\":\"#4D5663\"},\"title\":{\"font\":{\"color\":\"#4D5663\"},\"text\":\"\"},\"zerolinecolor\":\"#E1E5ED\"}},                        {\"showLink\": true, \"linkText\": \"Export to plot.ly\", \"plotlyServerURL\": \"https://plot.ly\", \"responsive\": true}                    ).then(function(){\n",
       "                            \n",
       "var gd = document.getElementById('8b7870be-f7cd-4f0e-9f3b-2c34a8a54ec0');\n",
       "var x = new MutationObserver(function (mutations, observer) {{\n",
       "        var display = window.getComputedStyle(gd).display;\n",
       "        if (!display || display === 'none') {{\n",
       "            console.log([gd, 'removed!']);\n",
       "            Plotly.purge(gd);\n",
       "            observer.disconnect();\n",
       "        }}\n",
       "}});\n",
       "\n",
       "// Listen for the removal of the full notebook cells\n",
       "var notebookContainer = gd.closest('#notebook-container');\n",
       "if (notebookContainer) {{\n",
       "    x.observe(notebookContainer, {childList: true});\n",
       "}}\n",
       "\n",
       "// Listen for the clearing of the current output cell\n",
       "var outputEl = gd.closest('.output');\n",
       "if (outputEl) {{\n",
       "    x.observe(outputEl, {childList: true});\n",
       "}}\n",
       "\n",
       "                        })                };                });            </script>        </div>"
      ]
     },
     "metadata": {},
     "output_type": "display_data"
    }
   ],
   "source": [
    "# BAR PLOT\n",
    "df2.iplot(kind='bar',x='Category',y='Values')"
   ]
  },
  {
   "cell_type": "code",
   "execution_count": 17,
   "id": "37d1ad27",
   "metadata": {},
   "outputs": [
    {
     "data": {
      "application/vnd.plotly.v1+json": {
       "config": {
        "linkText": "Export to plot.ly",
        "plotlyServerURL": "https://plot.ly",
        "showLink": true
       },
       "data": [
        {
         "marker": {
          "color": "rgba(255, 153, 51, 0.6)",
          "line": {
           "color": "rgba(255, 153, 51, 1.0)",
           "width": 1
          }
         },
         "name": "None",
         "orientation": "v",
         "text": "",
         "type": "bar",
         "x": [
          "A",
          "B",
          "C",
          "D"
         ],
         "y": [
          25.488726341068663,
          -0.9204778622646974,
          4.7628769260534085,
          6.653242774566751
         ]
        }
       ],
       "layout": {
        "legend": {
         "bgcolor": "#F5F6F9",
         "font": {
          "color": "#4D5663"
         }
        },
        "paper_bgcolor": "#F5F6F9",
        "plot_bgcolor": "#F5F6F9",
        "template": {
         "data": {
          "bar": [
           {
            "error_x": {
             "color": "#2a3f5f"
            },
            "error_y": {
             "color": "#2a3f5f"
            },
            "marker": {
             "line": {
              "color": "#E5ECF6",
              "width": 0.5
             },
             "pattern": {
              "fillmode": "overlay",
              "size": 10,
              "solidity": 0.2
             }
            },
            "type": "bar"
           }
          ],
          "barpolar": [
           {
            "marker": {
             "line": {
              "color": "#E5ECF6",
              "width": 0.5
             },
             "pattern": {
              "fillmode": "overlay",
              "size": 10,
              "solidity": 0.2
             }
            },
            "type": "barpolar"
           }
          ],
          "carpet": [
           {
            "aaxis": {
             "endlinecolor": "#2a3f5f",
             "gridcolor": "white",
             "linecolor": "white",
             "minorgridcolor": "white",
             "startlinecolor": "#2a3f5f"
            },
            "baxis": {
             "endlinecolor": "#2a3f5f",
             "gridcolor": "white",
             "linecolor": "white",
             "minorgridcolor": "white",
             "startlinecolor": "#2a3f5f"
            },
            "type": "carpet"
           }
          ],
          "choropleth": [
           {
            "colorbar": {
             "outlinewidth": 0,
             "ticks": ""
            },
            "type": "choropleth"
           }
          ],
          "contour": [
           {
            "colorbar": {
             "outlinewidth": 0,
             "ticks": ""
            },
            "colorscale": [
             [
              0,
              "#0d0887"
             ],
             [
              0.1111111111111111,
              "#46039f"
             ],
             [
              0.2222222222222222,
              "#7201a8"
             ],
             [
              0.3333333333333333,
              "#9c179e"
             ],
             [
              0.4444444444444444,
              "#bd3786"
             ],
             [
              0.5555555555555556,
              "#d8576b"
             ],
             [
              0.6666666666666666,
              "#ed7953"
             ],
             [
              0.7777777777777778,
              "#fb9f3a"
             ],
             [
              0.8888888888888888,
              "#fdca26"
             ],
             [
              1,
              "#f0f921"
             ]
            ],
            "type": "contour"
           }
          ],
          "contourcarpet": [
           {
            "colorbar": {
             "outlinewidth": 0,
             "ticks": ""
            },
            "type": "contourcarpet"
           }
          ],
          "heatmap": [
           {
            "colorbar": {
             "outlinewidth": 0,
             "ticks": ""
            },
            "colorscale": [
             [
              0,
              "#0d0887"
             ],
             [
              0.1111111111111111,
              "#46039f"
             ],
             [
              0.2222222222222222,
              "#7201a8"
             ],
             [
              0.3333333333333333,
              "#9c179e"
             ],
             [
              0.4444444444444444,
              "#bd3786"
             ],
             [
              0.5555555555555556,
              "#d8576b"
             ],
             [
              0.6666666666666666,
              "#ed7953"
             ],
             [
              0.7777777777777778,
              "#fb9f3a"
             ],
             [
              0.8888888888888888,
              "#fdca26"
             ],
             [
              1,
              "#f0f921"
             ]
            ],
            "type": "heatmap"
           }
          ],
          "heatmapgl": [
           {
            "colorbar": {
             "outlinewidth": 0,
             "ticks": ""
            },
            "colorscale": [
             [
              0,
              "#0d0887"
             ],
             [
              0.1111111111111111,
              "#46039f"
             ],
             [
              0.2222222222222222,
              "#7201a8"
             ],
             [
              0.3333333333333333,
              "#9c179e"
             ],
             [
              0.4444444444444444,
              "#bd3786"
             ],
             [
              0.5555555555555556,
              "#d8576b"
             ],
             [
              0.6666666666666666,
              "#ed7953"
             ],
             [
              0.7777777777777778,
              "#fb9f3a"
             ],
             [
              0.8888888888888888,
              "#fdca26"
             ],
             [
              1,
              "#f0f921"
             ]
            ],
            "type": "heatmapgl"
           }
          ],
          "histogram": [
           {
            "marker": {
             "pattern": {
              "fillmode": "overlay",
              "size": 10,
              "solidity": 0.2
             }
            },
            "type": "histogram"
           }
          ],
          "histogram2d": [
           {
            "colorbar": {
             "outlinewidth": 0,
             "ticks": ""
            },
            "colorscale": [
             [
              0,
              "#0d0887"
             ],
             [
              0.1111111111111111,
              "#46039f"
             ],
             [
              0.2222222222222222,
              "#7201a8"
             ],
             [
              0.3333333333333333,
              "#9c179e"
             ],
             [
              0.4444444444444444,
              "#bd3786"
             ],
             [
              0.5555555555555556,
              "#d8576b"
             ],
             [
              0.6666666666666666,
              "#ed7953"
             ],
             [
              0.7777777777777778,
              "#fb9f3a"
             ],
             [
              0.8888888888888888,
              "#fdca26"
             ],
             [
              1,
              "#f0f921"
             ]
            ],
            "type": "histogram2d"
           }
          ],
          "histogram2dcontour": [
           {
            "colorbar": {
             "outlinewidth": 0,
             "ticks": ""
            },
            "colorscale": [
             [
              0,
              "#0d0887"
             ],
             [
              0.1111111111111111,
              "#46039f"
             ],
             [
              0.2222222222222222,
              "#7201a8"
             ],
             [
              0.3333333333333333,
              "#9c179e"
             ],
             [
              0.4444444444444444,
              "#bd3786"
             ],
             [
              0.5555555555555556,
              "#d8576b"
             ],
             [
              0.6666666666666666,
              "#ed7953"
             ],
             [
              0.7777777777777778,
              "#fb9f3a"
             ],
             [
              0.8888888888888888,
              "#fdca26"
             ],
             [
              1,
              "#f0f921"
             ]
            ],
            "type": "histogram2dcontour"
           }
          ],
          "mesh3d": [
           {
            "colorbar": {
             "outlinewidth": 0,
             "ticks": ""
            },
            "type": "mesh3d"
           }
          ],
          "parcoords": [
           {
            "line": {
             "colorbar": {
              "outlinewidth": 0,
              "ticks": ""
             }
            },
            "type": "parcoords"
           }
          ],
          "pie": [
           {
            "automargin": true,
            "type": "pie"
           }
          ],
          "scatter": [
           {
            "fillpattern": {
             "fillmode": "overlay",
             "size": 10,
             "solidity": 0.2
            },
            "type": "scatter"
           }
          ],
          "scatter3d": [
           {
            "line": {
             "colorbar": {
              "outlinewidth": 0,
              "ticks": ""
             }
            },
            "marker": {
             "colorbar": {
              "outlinewidth": 0,
              "ticks": ""
             }
            },
            "type": "scatter3d"
           }
          ],
          "scattercarpet": [
           {
            "marker": {
             "colorbar": {
              "outlinewidth": 0,
              "ticks": ""
             }
            },
            "type": "scattercarpet"
           }
          ],
          "scattergeo": [
           {
            "marker": {
             "colorbar": {
              "outlinewidth": 0,
              "ticks": ""
             }
            },
            "type": "scattergeo"
           }
          ],
          "scattergl": [
           {
            "marker": {
             "colorbar": {
              "outlinewidth": 0,
              "ticks": ""
             }
            },
            "type": "scattergl"
           }
          ],
          "scattermapbox": [
           {
            "marker": {
             "colorbar": {
              "outlinewidth": 0,
              "ticks": ""
             }
            },
            "type": "scattermapbox"
           }
          ],
          "scatterpolar": [
           {
            "marker": {
             "colorbar": {
              "outlinewidth": 0,
              "ticks": ""
             }
            },
            "type": "scatterpolar"
           }
          ],
          "scatterpolargl": [
           {
            "marker": {
             "colorbar": {
              "outlinewidth": 0,
              "ticks": ""
             }
            },
            "type": "scatterpolargl"
           }
          ],
          "scatterternary": [
           {
            "marker": {
             "colorbar": {
              "outlinewidth": 0,
              "ticks": ""
             }
            },
            "type": "scatterternary"
           }
          ],
          "surface": [
           {
            "colorbar": {
             "outlinewidth": 0,
             "ticks": ""
            },
            "colorscale": [
             [
              0,
              "#0d0887"
             ],
             [
              0.1111111111111111,
              "#46039f"
             ],
             [
              0.2222222222222222,
              "#7201a8"
             ],
             [
              0.3333333333333333,
              "#9c179e"
             ],
             [
              0.4444444444444444,
              "#bd3786"
             ],
             [
              0.5555555555555556,
              "#d8576b"
             ],
             [
              0.6666666666666666,
              "#ed7953"
             ],
             [
              0.7777777777777778,
              "#fb9f3a"
             ],
             [
              0.8888888888888888,
              "#fdca26"
             ],
             [
              1,
              "#f0f921"
             ]
            ],
            "type": "surface"
           }
          ],
          "table": [
           {
            "cells": {
             "fill": {
              "color": "#EBF0F8"
             },
             "line": {
              "color": "white"
             }
            },
            "header": {
             "fill": {
              "color": "#C8D4E3"
             },
             "line": {
              "color": "white"
             }
            },
            "type": "table"
           }
          ]
         },
         "layout": {
          "annotationdefaults": {
           "arrowcolor": "#2a3f5f",
           "arrowhead": 0,
           "arrowwidth": 1
          },
          "autotypenumbers": "strict",
          "coloraxis": {
           "colorbar": {
            "outlinewidth": 0,
            "ticks": ""
           }
          },
          "colorscale": {
           "diverging": [
            [
             0,
             "#8e0152"
            ],
            [
             0.1,
             "#c51b7d"
            ],
            [
             0.2,
             "#de77ae"
            ],
            [
             0.3,
             "#f1b6da"
            ],
            [
             0.4,
             "#fde0ef"
            ],
            [
             0.5,
             "#f7f7f7"
            ],
            [
             0.6,
             "#e6f5d0"
            ],
            [
             0.7,
             "#b8e186"
            ],
            [
             0.8,
             "#7fbc41"
            ],
            [
             0.9,
             "#4d9221"
            ],
            [
             1,
             "#276419"
            ]
           ],
           "sequential": [
            [
             0,
             "#0d0887"
            ],
            [
             0.1111111111111111,
             "#46039f"
            ],
            [
             0.2222222222222222,
             "#7201a8"
            ],
            [
             0.3333333333333333,
             "#9c179e"
            ],
            [
             0.4444444444444444,
             "#bd3786"
            ],
            [
             0.5555555555555556,
             "#d8576b"
            ],
            [
             0.6666666666666666,
             "#ed7953"
            ],
            [
             0.7777777777777778,
             "#fb9f3a"
            ],
            [
             0.8888888888888888,
             "#fdca26"
            ],
            [
             1,
             "#f0f921"
            ]
           ],
           "sequentialminus": [
            [
             0,
             "#0d0887"
            ],
            [
             0.1111111111111111,
             "#46039f"
            ],
            [
             0.2222222222222222,
             "#7201a8"
            ],
            [
             0.3333333333333333,
             "#9c179e"
            ],
            [
             0.4444444444444444,
             "#bd3786"
            ],
            [
             0.5555555555555556,
             "#d8576b"
            ],
            [
             0.6666666666666666,
             "#ed7953"
            ],
            [
             0.7777777777777778,
             "#fb9f3a"
            ],
            [
             0.8888888888888888,
             "#fdca26"
            ],
            [
             1,
             "#f0f921"
            ]
           ]
          },
          "colorway": [
           "#636efa",
           "#EF553B",
           "#00cc96",
           "#ab63fa",
           "#FFA15A",
           "#19d3f3",
           "#FF6692",
           "#B6E880",
           "#FF97FF",
           "#FECB52"
          ],
          "font": {
           "color": "#2a3f5f"
          },
          "geo": {
           "bgcolor": "white",
           "lakecolor": "white",
           "landcolor": "#E5ECF6",
           "showlakes": true,
           "showland": true,
           "subunitcolor": "white"
          },
          "hoverlabel": {
           "align": "left"
          },
          "hovermode": "closest",
          "mapbox": {
           "style": "light"
          },
          "paper_bgcolor": "white",
          "plot_bgcolor": "#E5ECF6",
          "polar": {
           "angularaxis": {
            "gridcolor": "white",
            "linecolor": "white",
            "ticks": ""
           },
           "bgcolor": "#E5ECF6",
           "radialaxis": {
            "gridcolor": "white",
            "linecolor": "white",
            "ticks": ""
           }
          },
          "scene": {
           "xaxis": {
            "backgroundcolor": "#E5ECF6",
            "gridcolor": "white",
            "gridwidth": 2,
            "linecolor": "white",
            "showbackground": true,
            "ticks": "",
            "zerolinecolor": "white"
           },
           "yaxis": {
            "backgroundcolor": "#E5ECF6",
            "gridcolor": "white",
            "gridwidth": 2,
            "linecolor": "white",
            "showbackground": true,
            "ticks": "",
            "zerolinecolor": "white"
           },
           "zaxis": {
            "backgroundcolor": "#E5ECF6",
            "gridcolor": "white",
            "gridwidth": 2,
            "linecolor": "white",
            "showbackground": true,
            "ticks": "",
            "zerolinecolor": "white"
           }
          },
          "shapedefaults": {
           "line": {
            "color": "#2a3f5f"
           }
          },
          "ternary": {
           "aaxis": {
            "gridcolor": "white",
            "linecolor": "white",
            "ticks": ""
           },
           "baxis": {
            "gridcolor": "white",
            "linecolor": "white",
            "ticks": ""
           },
           "bgcolor": "#E5ECF6",
           "caxis": {
            "gridcolor": "white",
            "linecolor": "white",
            "ticks": ""
           }
          },
          "title": {
           "x": 0.05
          },
          "xaxis": {
           "automargin": true,
           "gridcolor": "white",
           "linecolor": "white",
           "ticks": "",
           "title": {
            "standoff": 15
           },
           "zerolinecolor": "white",
           "zerolinewidth": 2
          },
          "yaxis": {
           "automargin": true,
           "gridcolor": "white",
           "linecolor": "white",
           "ticks": "",
           "title": {
            "standoff": 15
           },
           "zerolinecolor": "white",
           "zerolinewidth": 2
          }
         }
        },
        "title": {
         "font": {
          "color": "#4D5663"
         }
        },
        "xaxis": {
         "gridcolor": "#E1E5ED",
         "showgrid": true,
         "tickfont": {
          "color": "#4D5663"
         },
         "title": {
          "font": {
           "color": "#4D5663"
          },
          "text": ""
         },
         "zerolinecolor": "#E1E5ED"
        },
        "yaxis": {
         "gridcolor": "#E1E5ED",
         "showgrid": true,
         "tickfont": {
          "color": "#4D5663"
         },
         "title": {
          "font": {
           "color": "#4D5663"
          },
          "text": ""
         },
         "zerolinecolor": "#E1E5ED"
        }
       }
      },
      "text/html": [
       "<div>                            <div id=\"1f7b84a5-d01e-495b-8a82-3da33ee04c9b\" class=\"plotly-graph-div\" style=\"height:525px; width:100%;\"></div>            <script type=\"text/javascript\">                require([\"plotly\"], function(Plotly) {                    window.PLOTLYENV=window.PLOTLYENV || {};\n",
       "                    window.PLOTLYENV.BASE_URL='https://plot.ly';                                    if (document.getElementById(\"1f7b84a5-d01e-495b-8a82-3da33ee04c9b\")) {                    Plotly.newPlot(                        \"1f7b84a5-d01e-495b-8a82-3da33ee04c9b\",                        [{\"marker\":{\"color\":\"rgba(255, 153, 51, 0.6)\",\"line\":{\"color\":\"rgba(255, 153, 51, 1.0)\",\"width\":1}},\"name\":\"None\",\"orientation\":\"v\",\"text\":\"\",\"x\":[\"A\",\"B\",\"C\",\"D\"],\"y\":[25.488726341068663,-0.9204778622646974,4.7628769260534085,6.653242774566751],\"type\":\"bar\"}],                        {\"legend\":{\"bgcolor\":\"#F5F6F9\",\"font\":{\"color\":\"#4D5663\"}},\"paper_bgcolor\":\"#F5F6F9\",\"plot_bgcolor\":\"#F5F6F9\",\"template\":{\"data\":{\"barpolar\":[{\"marker\":{\"line\":{\"color\":\"#E5ECF6\",\"width\":0.5},\"pattern\":{\"fillmode\":\"overlay\",\"size\":10,\"solidity\":0.2}},\"type\":\"barpolar\"}],\"bar\":[{\"error_x\":{\"color\":\"#2a3f5f\"},\"error_y\":{\"color\":\"#2a3f5f\"},\"marker\":{\"line\":{\"color\":\"#E5ECF6\",\"width\":0.5},\"pattern\":{\"fillmode\":\"overlay\",\"size\":10,\"solidity\":0.2}},\"type\":\"bar\"}],\"carpet\":[{\"aaxis\":{\"endlinecolor\":\"#2a3f5f\",\"gridcolor\":\"white\",\"linecolor\":\"white\",\"minorgridcolor\":\"white\",\"startlinecolor\":\"#2a3f5f\"},\"baxis\":{\"endlinecolor\":\"#2a3f5f\",\"gridcolor\":\"white\",\"linecolor\":\"white\",\"minorgridcolor\":\"white\",\"startlinecolor\":\"#2a3f5f\"},\"type\":\"carpet\"}],\"choropleth\":[{\"colorbar\":{\"outlinewidth\":0,\"ticks\":\"\"},\"type\":\"choropleth\"}],\"contourcarpet\":[{\"colorbar\":{\"outlinewidth\":0,\"ticks\":\"\"},\"type\":\"contourcarpet\"}],\"contour\":[{\"colorbar\":{\"outlinewidth\":0,\"ticks\":\"\"},\"colorscale\":[[0.0,\"#0d0887\"],[0.1111111111111111,\"#46039f\"],[0.2222222222222222,\"#7201a8\"],[0.3333333333333333,\"#9c179e\"],[0.4444444444444444,\"#bd3786\"],[0.5555555555555556,\"#d8576b\"],[0.6666666666666666,\"#ed7953\"],[0.7777777777777778,\"#fb9f3a\"],[0.8888888888888888,\"#fdca26\"],[1.0,\"#f0f921\"]],\"type\":\"contour\"}],\"heatmapgl\":[{\"colorbar\":{\"outlinewidth\":0,\"ticks\":\"\"},\"colorscale\":[[0.0,\"#0d0887\"],[0.1111111111111111,\"#46039f\"],[0.2222222222222222,\"#7201a8\"],[0.3333333333333333,\"#9c179e\"],[0.4444444444444444,\"#bd3786\"],[0.5555555555555556,\"#d8576b\"],[0.6666666666666666,\"#ed7953\"],[0.7777777777777778,\"#fb9f3a\"],[0.8888888888888888,\"#fdca26\"],[1.0,\"#f0f921\"]],\"type\":\"heatmapgl\"}],\"heatmap\":[{\"colorbar\":{\"outlinewidth\":0,\"ticks\":\"\"},\"colorscale\":[[0.0,\"#0d0887\"],[0.1111111111111111,\"#46039f\"],[0.2222222222222222,\"#7201a8\"],[0.3333333333333333,\"#9c179e\"],[0.4444444444444444,\"#bd3786\"],[0.5555555555555556,\"#d8576b\"],[0.6666666666666666,\"#ed7953\"],[0.7777777777777778,\"#fb9f3a\"],[0.8888888888888888,\"#fdca26\"],[1.0,\"#f0f921\"]],\"type\":\"heatmap\"}],\"histogram2dcontour\":[{\"colorbar\":{\"outlinewidth\":0,\"ticks\":\"\"},\"colorscale\":[[0.0,\"#0d0887\"],[0.1111111111111111,\"#46039f\"],[0.2222222222222222,\"#7201a8\"],[0.3333333333333333,\"#9c179e\"],[0.4444444444444444,\"#bd3786\"],[0.5555555555555556,\"#d8576b\"],[0.6666666666666666,\"#ed7953\"],[0.7777777777777778,\"#fb9f3a\"],[0.8888888888888888,\"#fdca26\"],[1.0,\"#f0f921\"]],\"type\":\"histogram2dcontour\"}],\"histogram2d\":[{\"colorbar\":{\"outlinewidth\":0,\"ticks\":\"\"},\"colorscale\":[[0.0,\"#0d0887\"],[0.1111111111111111,\"#46039f\"],[0.2222222222222222,\"#7201a8\"],[0.3333333333333333,\"#9c179e\"],[0.4444444444444444,\"#bd3786\"],[0.5555555555555556,\"#d8576b\"],[0.6666666666666666,\"#ed7953\"],[0.7777777777777778,\"#fb9f3a\"],[0.8888888888888888,\"#fdca26\"],[1.0,\"#f0f921\"]],\"type\":\"histogram2d\"}],\"histogram\":[{\"marker\":{\"pattern\":{\"fillmode\":\"overlay\",\"size\":10,\"solidity\":0.2}},\"type\":\"histogram\"}],\"mesh3d\":[{\"colorbar\":{\"outlinewidth\":0,\"ticks\":\"\"},\"type\":\"mesh3d\"}],\"parcoords\":[{\"line\":{\"colorbar\":{\"outlinewidth\":0,\"ticks\":\"\"}},\"type\":\"parcoords\"}],\"pie\":[{\"automargin\":true,\"type\":\"pie\"}],\"scatter3d\":[{\"line\":{\"colorbar\":{\"outlinewidth\":0,\"ticks\":\"\"}},\"marker\":{\"colorbar\":{\"outlinewidth\":0,\"ticks\":\"\"}},\"type\":\"scatter3d\"}],\"scattercarpet\":[{\"marker\":{\"colorbar\":{\"outlinewidth\":0,\"ticks\":\"\"}},\"type\":\"scattercarpet\"}],\"scattergeo\":[{\"marker\":{\"colorbar\":{\"outlinewidth\":0,\"ticks\":\"\"}},\"type\":\"scattergeo\"}],\"scattergl\":[{\"marker\":{\"colorbar\":{\"outlinewidth\":0,\"ticks\":\"\"}},\"type\":\"scattergl\"}],\"scattermapbox\":[{\"marker\":{\"colorbar\":{\"outlinewidth\":0,\"ticks\":\"\"}},\"type\":\"scattermapbox\"}],\"scatterpolargl\":[{\"marker\":{\"colorbar\":{\"outlinewidth\":0,\"ticks\":\"\"}},\"type\":\"scatterpolargl\"}],\"scatterpolar\":[{\"marker\":{\"colorbar\":{\"outlinewidth\":0,\"ticks\":\"\"}},\"type\":\"scatterpolar\"}],\"scatter\":[{\"fillpattern\":{\"fillmode\":\"overlay\",\"size\":10,\"solidity\":0.2},\"type\":\"scatter\"}],\"scatterternary\":[{\"marker\":{\"colorbar\":{\"outlinewidth\":0,\"ticks\":\"\"}},\"type\":\"scatterternary\"}],\"surface\":[{\"colorbar\":{\"outlinewidth\":0,\"ticks\":\"\"},\"colorscale\":[[0.0,\"#0d0887\"],[0.1111111111111111,\"#46039f\"],[0.2222222222222222,\"#7201a8\"],[0.3333333333333333,\"#9c179e\"],[0.4444444444444444,\"#bd3786\"],[0.5555555555555556,\"#d8576b\"],[0.6666666666666666,\"#ed7953\"],[0.7777777777777778,\"#fb9f3a\"],[0.8888888888888888,\"#fdca26\"],[1.0,\"#f0f921\"]],\"type\":\"surface\"}],\"table\":[{\"cells\":{\"fill\":{\"color\":\"#EBF0F8\"},\"line\":{\"color\":\"white\"}},\"header\":{\"fill\":{\"color\":\"#C8D4E3\"},\"line\":{\"color\":\"white\"}},\"type\":\"table\"}]},\"layout\":{\"annotationdefaults\":{\"arrowcolor\":\"#2a3f5f\",\"arrowhead\":0,\"arrowwidth\":1},\"autotypenumbers\":\"strict\",\"coloraxis\":{\"colorbar\":{\"outlinewidth\":0,\"ticks\":\"\"}},\"colorscale\":{\"diverging\":[[0,\"#8e0152\"],[0.1,\"#c51b7d\"],[0.2,\"#de77ae\"],[0.3,\"#f1b6da\"],[0.4,\"#fde0ef\"],[0.5,\"#f7f7f7\"],[0.6,\"#e6f5d0\"],[0.7,\"#b8e186\"],[0.8,\"#7fbc41\"],[0.9,\"#4d9221\"],[1,\"#276419\"]],\"sequential\":[[0.0,\"#0d0887\"],[0.1111111111111111,\"#46039f\"],[0.2222222222222222,\"#7201a8\"],[0.3333333333333333,\"#9c179e\"],[0.4444444444444444,\"#bd3786\"],[0.5555555555555556,\"#d8576b\"],[0.6666666666666666,\"#ed7953\"],[0.7777777777777778,\"#fb9f3a\"],[0.8888888888888888,\"#fdca26\"],[1.0,\"#f0f921\"]],\"sequentialminus\":[[0.0,\"#0d0887\"],[0.1111111111111111,\"#46039f\"],[0.2222222222222222,\"#7201a8\"],[0.3333333333333333,\"#9c179e\"],[0.4444444444444444,\"#bd3786\"],[0.5555555555555556,\"#d8576b\"],[0.6666666666666666,\"#ed7953\"],[0.7777777777777778,\"#fb9f3a\"],[0.8888888888888888,\"#fdca26\"],[1.0,\"#f0f921\"]]},\"colorway\":[\"#636efa\",\"#EF553B\",\"#00cc96\",\"#ab63fa\",\"#FFA15A\",\"#19d3f3\",\"#FF6692\",\"#B6E880\",\"#FF97FF\",\"#FECB52\"],\"font\":{\"color\":\"#2a3f5f\"},\"geo\":{\"bgcolor\":\"white\",\"lakecolor\":\"white\",\"landcolor\":\"#E5ECF6\",\"showlakes\":true,\"showland\":true,\"subunitcolor\":\"white\"},\"hoverlabel\":{\"align\":\"left\"},\"hovermode\":\"closest\",\"mapbox\":{\"style\":\"light\"},\"paper_bgcolor\":\"white\",\"plot_bgcolor\":\"#E5ECF6\",\"polar\":{\"angularaxis\":{\"gridcolor\":\"white\",\"linecolor\":\"white\",\"ticks\":\"\"},\"bgcolor\":\"#E5ECF6\",\"radialaxis\":{\"gridcolor\":\"white\",\"linecolor\":\"white\",\"ticks\":\"\"}},\"scene\":{\"xaxis\":{\"backgroundcolor\":\"#E5ECF6\",\"gridcolor\":\"white\",\"gridwidth\":2,\"linecolor\":\"white\",\"showbackground\":true,\"ticks\":\"\",\"zerolinecolor\":\"white\"},\"yaxis\":{\"backgroundcolor\":\"#E5ECF6\",\"gridcolor\":\"white\",\"gridwidth\":2,\"linecolor\":\"white\",\"showbackground\":true,\"ticks\":\"\",\"zerolinecolor\":\"white\"},\"zaxis\":{\"backgroundcolor\":\"#E5ECF6\",\"gridcolor\":\"white\",\"gridwidth\":2,\"linecolor\":\"white\",\"showbackground\":true,\"ticks\":\"\",\"zerolinecolor\":\"white\"}},\"shapedefaults\":{\"line\":{\"color\":\"#2a3f5f\"}},\"ternary\":{\"aaxis\":{\"gridcolor\":\"white\",\"linecolor\":\"white\",\"ticks\":\"\"},\"baxis\":{\"gridcolor\":\"white\",\"linecolor\":\"white\",\"ticks\":\"\"},\"bgcolor\":\"#E5ECF6\",\"caxis\":{\"gridcolor\":\"white\",\"linecolor\":\"white\",\"ticks\":\"\"}},\"title\":{\"x\":0.05},\"xaxis\":{\"automargin\":true,\"gridcolor\":\"white\",\"linecolor\":\"white\",\"ticks\":\"\",\"title\":{\"standoff\":15},\"zerolinecolor\":\"white\",\"zerolinewidth\":2},\"yaxis\":{\"automargin\":true,\"gridcolor\":\"white\",\"linecolor\":\"white\",\"ticks\":\"\",\"title\":{\"standoff\":15},\"zerolinecolor\":\"white\",\"zerolinewidth\":2}}},\"title\":{\"font\":{\"color\":\"#4D5663\"}},\"xaxis\":{\"gridcolor\":\"#E1E5ED\",\"showgrid\":true,\"tickfont\":{\"color\":\"#4D5663\"},\"title\":{\"font\":{\"color\":\"#4D5663\"},\"text\":\"\"},\"zerolinecolor\":\"#E1E5ED\"},\"yaxis\":{\"gridcolor\":\"#E1E5ED\",\"showgrid\":true,\"tickfont\":{\"color\":\"#4D5663\"},\"title\":{\"font\":{\"color\":\"#4D5663\"},\"text\":\"\"},\"zerolinecolor\":\"#E1E5ED\"}},                        {\"showLink\": true, \"linkText\": \"Export to plot.ly\", \"plotlyServerURL\": \"https://plot.ly\", \"responsive\": true}                    ).then(function(){\n",
       "                            \n",
       "var gd = document.getElementById('1f7b84a5-d01e-495b-8a82-3da33ee04c9b');\n",
       "var x = new MutationObserver(function (mutations, observer) {{\n",
       "        var display = window.getComputedStyle(gd).display;\n",
       "        if (!display || display === 'none') {{\n",
       "            console.log([gd, 'removed!']);\n",
       "            Plotly.purge(gd);\n",
       "            observer.disconnect();\n",
       "        }}\n",
       "}});\n",
       "\n",
       "// Listen for the removal of the full notebook cells\n",
       "var notebookContainer = gd.closest('#notebook-container');\n",
       "if (notebookContainer) {{\n",
       "    x.observe(notebookContainer, {childList: true});\n",
       "}}\n",
       "\n",
       "// Listen for the clearing of the current output cell\n",
       "var outputEl = gd.closest('.output');\n",
       "if (outputEl) {{\n",
       "    x.observe(outputEl, {childList: true});\n",
       "}}\n",
       "\n",
       "                        })                };                });            </script>        </div>"
      ]
     },
     "metadata": {},
     "output_type": "display_data"
    }
   ],
   "source": [
    "# for aggregate or groupby data\n",
    "df.sum().iplot(kind='bar')\n"
   ]
  },
  {
   "cell_type": "code",
   "execution_count": 18,
   "id": "e0707393",
   "metadata": {},
   "outputs": [
    {
     "data": {
      "application/vnd.plotly.v1+json": {
       "config": {
        "linkText": "Export to plot.ly",
        "plotlyServerURL": "https://plot.ly",
        "showLink": true
       },
       "data": [
        {
         "boxpoints": false,
         "line": {
          "width": 1.3
         },
         "marker": {
          "color": "rgba(255, 153, 51, 1.0)"
         },
         "name": "A",
         "orientation": "v",
         "type": "box",
         "y": [
          -0.5926298961513271,
          0.25673020586304807,
          -0.43782540602292713,
          1.0534689198889642,
          -0.9919513407195126,
          1.611767926213217,
          0.06330100258337129,
          -0.7794590258443483,
          1.3213895611178617,
          2.0428480315223823,
          1.3942054388325047,
          -1.0038641189563902,
          0.38499375800912655,
          0.43771904183757787,
          -0.03450546160271116,
          1.053234080805073,
          2.0397975570567692,
          0.385375865370009,
          1.7676509480340017,
          -0.6649155567520971,
          1.436288459640299,
          -0.4036051333866007,
          0.09260910325620314,
          -0.6542216569397591,
          1.4741915479685124,
          0.9051017853546715,
          -2.196271747394207,
          -0.11339517644243712,
          -0.4449131865951581,
          -0.22841259825041527,
          0.8679037688166911,
          -0.8281381473996741,
          -0.3197383644114914,
          -0.22840516815474368,
          2.853834584156512,
          0.6216999835149216,
          1.5240921155040292,
          -0.31203354460191196,
          0.08094205015951837,
          0.015646307251275072,
          1.7932205291927203,
          0.4653034182676237,
          1.1593511785630377,
          1.5737474570494507,
          1.1662651409043536,
          -0.13617317080506597,
          -1.6664432754952285,
          0.6658652654155452,
          -0.5158901261812123,
          -0.9417598894899648,
          0.5250610445322508,
          1.1998623089464961,
          -0.3229256151506854,
          -1.2920143018845127,
          -0.05205440705465112,
          0.26600301743930166,
          -0.9644056385681528,
          2.4529695305287142,
          2.713126831567635,
          0.23352598710271472,
          0.24763388006906298,
          -1.2243351213532416,
          0.41903421957586184,
          0.48867062808082373,
          -0.7861677504690421,
          -1.2514626078351387,
          0.21186021746577036,
          -0.06017875815427523,
          2.3055917858896997,
          -0.72211444002813,
          -0.12793695931512533,
          -0.007755887247505297,
          -1.0097227248055003,
          0.6030326691920733,
          -0.1739761026833534,
          0.7520083111574457,
          -0.5412741041067098,
          0.12309165184098429,
          0.7562849692392389,
          1.0348364759469733,
          -1.3908296564977056,
          -0.4406362876635684,
          0.574944055766053,
          -0.5819853653510465,
          0.881152636747594,
          0.07868416646062422,
          1.8226632065021642,
          -0.13719437995366995,
          1.1162581459854621,
          -0.7985545018909256,
          0.17241094898690948,
          0.2552260864441374,
          1.0605714157563813,
          0.5179693571027562,
          0.4155143057576676,
          1.4316485846465625,
          -0.7775443753105155,
          -1.063630020330371,
          -0.16289165324194577,
          -0.29531247931902405
         ]
        },
        {
         "boxpoints": false,
         "line": {
          "width": 1.3
         },
         "marker": {
          "color": "rgba(55, 128, 191, 1.0)"
         },
         "name": "B",
         "orientation": "v",
         "type": "box",
         "y": [
          -0.1157907510446745,
          0.4798485260848488,
          0.2942811047577971,
          0.7131066424167334,
          -0.614145259332274,
          1.3367013379768597,
          -0.3611519306104252,
          -0.22674171311266222,
          -0.7922763953214255,
          -1.912388440068962,
          2.94461710583469,
          0.7466399419377467,
          -0.5062250561740432,
          -0.6267758673924915,
          -0.5301364252727697,
          -1.1356102411393012,
          1.7097173351457045,
          -0.5982673480241042,
          0.632599712583573,
          -0.7191789918807273,
          -1.011913867593541,
          1.0862462490282248,
          1.1499817116204132,
          0.7121776705596654,
          -0.7249853951963967,
          -0.24484654770034245,
          -0.10946886787942355,
          0.9444906377964262,
          -0.03956551316859267,
          -1.1913735024463135,
          -0.963486275341088,
          -1.3533511104197,
          -0.10146602362529568,
          0.40726711160299367,
          -1.3279311786454684,
          0.08999558075822016,
          1.4193027223212058,
          0.8481711573298252,
          1.237710700172955,
          -0.9075402340794535,
          0.24104376712171527,
          -0.26683695105423477,
          0.5297046101182764,
          -0.5898451706324817,
          -0.46118554508543186,
          0.4438889661881818,
          -0.022849201447032792,
          0.6538508162804493,
          -0.8969955791054491,
          0.5151826075293686,
          -1.716075531842265,
          -1.2459443299216126,
          -0.39468032622605176,
          -0.594068760568758,
          1.1781478136671775,
          -1.0799218215036783,
          1.0329478909914607,
          0.2282708120345758,
          0.5740812637562833,
          0.998004452114102,
          -0.4240139456347152,
          1.5697362346573667,
          -2.301553062519039,
          -0.05564169983599276,
          -0.5750252875191277,
          0.36899773315170714,
          1.2352274250634883,
          -0.2760983305352888,
          -1.1315843014714326,
          0.47160626469032957,
          0.6224993997445093,
          0.3056078012612184,
          0.3565127710229608,
          0.16192329536141162,
          -0.4482276412402648,
          -0.255341393719222,
          2.731094066424876,
          -0.3509008449363998,
          0.7562307284894754,
          0.307461984745654,
          -0.028086364160419496,
          0.3078805805283829,
          0.2717827333298244,
          -0.21005022861881803,
          0.15616678270870996,
          -0.5508037116094993,
          -0.8595019402724217,
          -1.1811403903781978,
          -1.1051152466130356,
          0.18553196417980916,
          0.625579015927619,
          -0.6408948128706429,
          -0.12432769691673103,
          -1.0699306999590428,
          0.26771926977846544,
          0.8026332176389065,
          1.80141470610895,
          -1.873013331107765,
          0.9099007759609501,
          -1.4396917779942568
         ]
        },
        {
         "boxpoints": false,
         "line": {
          "width": 1.3
         },
         "marker": {
          "color": "rgba(50, 171, 96, 1.0)"
         },
         "name": "C",
         "orientation": "v",
         "type": "box",
         "y": [
          -0.5329383118117111,
          0.557158984686362,
          -0.7773784640077513,
          0.4502948550666474,
          1.0138880505622996,
          0.8643796572088078,
          1.403327846853929,
          0.17662681793324203,
          -0.9256916191776521,
          0.11113838946336113,
          -0.5003135852854012,
          -1.4373836749538296,
          0.004390886289931718,
          0.5052863861856433,
          1.0398284942816312,
          0.4700021219352897,
          1.2942516711557286,
          0.4562530916282091,
          0.4867757023349144,
          0.5251023387128786,
          1.366687500871755,
          0.7341868934647509,
          -0.7406234269138862,
          1.7902580011984228,
          -0.052280405347552884,
          -1.2994890823643053,
          -0.03998407812874461,
          0.2409334336633333,
          -1.1431901553946213,
          -1.3375003089870747,
          0.21267439088163337,
          -0.3727133338594834,
          -1.7432581570902688,
          1.1140649602434551,
          0.11880631666273851,
          -2.009441502210672,
          -0.5510243805032415,
          -0.3965855723196719,
          -0.9207409303162719,
          -1.0943443758622298,
          0.2763122759552882,
          -1.5883444069275798,
          -1.0330063980789108,
          0.5362525437628567,
          0.1411710405785407,
          -0.38437445757092265,
          1.3919900976151998,
          0.9517151174256139,
          -1.1901950141859108,
          -0.14189555170734033,
          0.5968986628418939,
          -0.5005443285631248,
          1.416423978087898,
          0.1431483587824421,
          3.4124450680223752,
          -0.06761336436845361,
          0.8701406858782743,
          -1.5729354220756329,
          -1.5239639144707235,
          -0.35001468782544215,
          -0.3141329650511141,
          1.289147141353759,
          0.6571940529834378,
          0.12691583464319822,
          -0.35819019671388636,
          0.3512140322402031,
          -1.570650531955033,
          1.6844680221586628,
          -1.138982064296053,
          -0.0669494830020375,
          0.10910710717061158,
          0.4366525495605837,
          0.031831925732240654,
          0.7073775791321979,
          0.26398938042263326,
          1.65842532898978,
          1.1225040754670954,
          2.1251585555550387,
          -0.2210800855085304,
          -0.580723734930385,
          0.6749862640274892,
          -0.3248229431990396,
          0.8908237137126089,
          0.38853005247553696,
          -0.008631663873746373,
          1.1576062810456162,
          -2.5163976663842575,
          -0.3794418799086721,
          -1.3282923544858762,
          -2.0459800517490567,
          -0.3781167481915554,
          -0.026801909417827462,
          -0.3209689443383593,
          -1.255685088054047,
          2.753703318492102,
          1.5388188394422968,
          -1.479870267117127,
          0.39163662921207093,
          -0.48390531047703966,
          0.7573644209629506
         ]
        },
        {
         "boxpoints": false,
         "line": {
          "width": 1.3
         },
         "marker": {
          "color": "rgba(128, 0, 128, 1.0)"
         },
         "name": "D",
         "orientation": "v",
         "type": "box",
         "y": [
          -0.2193839724920814,
          0.03673834097851173,
          0.987799585989557,
          -0.45680697868842046,
          0.7271098863401266,
          0.30329210727865613,
          -0.26712978821937444,
          1.0095723743385,
          -0.4228909507045194,
          0.3075892397528451,
          0.9489828485601433,
          -0.22451513255242508,
          -1.1107116681174418,
          0.7680108676987024,
          -0.11630608147155315,
          0.29093326534482966,
          1.9542889849467535,
          1.1110135911541346,
          -2.3296160711306944,
          0.02187744257320405,
          -0.6629555946608392,
          -0.4928989052670513,
          -0.8759945384540662,
          0.6922627648086038,
          1.1262086084701817,
          1.9691467010080486,
          1.3741557642209405,
          -1.3713246219745756,
          -0.1836866932419942,
          1.043777373642293,
          1.1171414932728372,
          -0.8483544586416497,
          0.5475171172834119,
          0.22746681771477958,
          -0.6308476174813245,
          -0.09854811827025602,
          0.022769378814638853,
          -0.4487986629320674,
          -0.9034597245484658,
          -0.6378949254903331,
          -0.4492768708891525,
          1.0555579449603434,
          -0.11470394720695867,
          -0.14609532264882724,
          -0.3802579048952034,
          2.1033300796058008,
          -0.07835629365401076,
          0.255763285824464,
          -1.0829429872566125,
          -0.5984508218594459,
          0.2988305135551518,
          0.7610733152132845,
          -0.15331145876966712,
          -1.0899092691503058,
          0.6887506413586928,
          0.09057229714387154,
          -0.1831544794728409,
          -0.23219247443813748,
          1.0850595737659272,
          0.7079347962395922,
          0.9239648370430716,
          0.5752666639473206,
          -0.0782466539059608,
          -0.5751549927849406,
          0.30293306177254614,
          -1.6128733507367412,
          0.954161956224829,
          0.35331662927665525,
          0.4867032255124756,
          -1.4425153880296329,
          -2.439129093983263,
          1.300863150160351,
          -1.2320162675360742,
          -0.17352268024345233,
          -0.3202322874932672,
          -0.35092980882229036,
          0.5275550115628105,
          1.7884140357936633,
          3.1450296067129244,
          -0.5314874202448286,
          -2.064718091313124,
          0.9534673941924888,
          -0.040331506354160544,
          -0.6352729350658008,
          -0.06096951786361323,
          0.5609324550321262,
          0.3574741859411366,
          -1.7928844510806905,
          -0.033542057166446475,
          -1.412194137336305,
          -0.12324110708590304,
          -0.553675978465696,
          0.7324784603482485,
          -0.250450527950122,
          0.3814857723717101,
          0.0693795153937473,
          1.2127267520325036,
          0.31639856434337044,
          -0.16116887362125037,
          0.7714979567097996
         ]
        }
       ],
       "layout": {
        "legend": {
         "bgcolor": "#F5F6F9",
         "font": {
          "color": "#4D5663"
         }
        },
        "paper_bgcolor": "#F5F6F9",
        "plot_bgcolor": "#F5F6F9",
        "template": {
         "data": {
          "bar": [
           {
            "error_x": {
             "color": "#2a3f5f"
            },
            "error_y": {
             "color": "#2a3f5f"
            },
            "marker": {
             "line": {
              "color": "#E5ECF6",
              "width": 0.5
             },
             "pattern": {
              "fillmode": "overlay",
              "size": 10,
              "solidity": 0.2
             }
            },
            "type": "bar"
           }
          ],
          "barpolar": [
           {
            "marker": {
             "line": {
              "color": "#E5ECF6",
              "width": 0.5
             },
             "pattern": {
              "fillmode": "overlay",
              "size": 10,
              "solidity": 0.2
             }
            },
            "type": "barpolar"
           }
          ],
          "carpet": [
           {
            "aaxis": {
             "endlinecolor": "#2a3f5f",
             "gridcolor": "white",
             "linecolor": "white",
             "minorgridcolor": "white",
             "startlinecolor": "#2a3f5f"
            },
            "baxis": {
             "endlinecolor": "#2a3f5f",
             "gridcolor": "white",
             "linecolor": "white",
             "minorgridcolor": "white",
             "startlinecolor": "#2a3f5f"
            },
            "type": "carpet"
           }
          ],
          "choropleth": [
           {
            "colorbar": {
             "outlinewidth": 0,
             "ticks": ""
            },
            "type": "choropleth"
           }
          ],
          "contour": [
           {
            "colorbar": {
             "outlinewidth": 0,
             "ticks": ""
            },
            "colorscale": [
             [
              0,
              "#0d0887"
             ],
             [
              0.1111111111111111,
              "#46039f"
             ],
             [
              0.2222222222222222,
              "#7201a8"
             ],
             [
              0.3333333333333333,
              "#9c179e"
             ],
             [
              0.4444444444444444,
              "#bd3786"
             ],
             [
              0.5555555555555556,
              "#d8576b"
             ],
             [
              0.6666666666666666,
              "#ed7953"
             ],
             [
              0.7777777777777778,
              "#fb9f3a"
             ],
             [
              0.8888888888888888,
              "#fdca26"
             ],
             [
              1,
              "#f0f921"
             ]
            ],
            "type": "contour"
           }
          ],
          "contourcarpet": [
           {
            "colorbar": {
             "outlinewidth": 0,
             "ticks": ""
            },
            "type": "contourcarpet"
           }
          ],
          "heatmap": [
           {
            "colorbar": {
             "outlinewidth": 0,
             "ticks": ""
            },
            "colorscale": [
             [
              0,
              "#0d0887"
             ],
             [
              0.1111111111111111,
              "#46039f"
             ],
             [
              0.2222222222222222,
              "#7201a8"
             ],
             [
              0.3333333333333333,
              "#9c179e"
             ],
             [
              0.4444444444444444,
              "#bd3786"
             ],
             [
              0.5555555555555556,
              "#d8576b"
             ],
             [
              0.6666666666666666,
              "#ed7953"
             ],
             [
              0.7777777777777778,
              "#fb9f3a"
             ],
             [
              0.8888888888888888,
              "#fdca26"
             ],
             [
              1,
              "#f0f921"
             ]
            ],
            "type": "heatmap"
           }
          ],
          "heatmapgl": [
           {
            "colorbar": {
             "outlinewidth": 0,
             "ticks": ""
            },
            "colorscale": [
             [
              0,
              "#0d0887"
             ],
             [
              0.1111111111111111,
              "#46039f"
             ],
             [
              0.2222222222222222,
              "#7201a8"
             ],
             [
              0.3333333333333333,
              "#9c179e"
             ],
             [
              0.4444444444444444,
              "#bd3786"
             ],
             [
              0.5555555555555556,
              "#d8576b"
             ],
             [
              0.6666666666666666,
              "#ed7953"
             ],
             [
              0.7777777777777778,
              "#fb9f3a"
             ],
             [
              0.8888888888888888,
              "#fdca26"
             ],
             [
              1,
              "#f0f921"
             ]
            ],
            "type": "heatmapgl"
           }
          ],
          "histogram": [
           {
            "marker": {
             "pattern": {
              "fillmode": "overlay",
              "size": 10,
              "solidity": 0.2
             }
            },
            "type": "histogram"
           }
          ],
          "histogram2d": [
           {
            "colorbar": {
             "outlinewidth": 0,
             "ticks": ""
            },
            "colorscale": [
             [
              0,
              "#0d0887"
             ],
             [
              0.1111111111111111,
              "#46039f"
             ],
             [
              0.2222222222222222,
              "#7201a8"
             ],
             [
              0.3333333333333333,
              "#9c179e"
             ],
             [
              0.4444444444444444,
              "#bd3786"
             ],
             [
              0.5555555555555556,
              "#d8576b"
             ],
             [
              0.6666666666666666,
              "#ed7953"
             ],
             [
              0.7777777777777778,
              "#fb9f3a"
             ],
             [
              0.8888888888888888,
              "#fdca26"
             ],
             [
              1,
              "#f0f921"
             ]
            ],
            "type": "histogram2d"
           }
          ],
          "histogram2dcontour": [
           {
            "colorbar": {
             "outlinewidth": 0,
             "ticks": ""
            },
            "colorscale": [
             [
              0,
              "#0d0887"
             ],
             [
              0.1111111111111111,
              "#46039f"
             ],
             [
              0.2222222222222222,
              "#7201a8"
             ],
             [
              0.3333333333333333,
              "#9c179e"
             ],
             [
              0.4444444444444444,
              "#bd3786"
             ],
             [
              0.5555555555555556,
              "#d8576b"
             ],
             [
              0.6666666666666666,
              "#ed7953"
             ],
             [
              0.7777777777777778,
              "#fb9f3a"
             ],
             [
              0.8888888888888888,
              "#fdca26"
             ],
             [
              1,
              "#f0f921"
             ]
            ],
            "type": "histogram2dcontour"
           }
          ],
          "mesh3d": [
           {
            "colorbar": {
             "outlinewidth": 0,
             "ticks": ""
            },
            "type": "mesh3d"
           }
          ],
          "parcoords": [
           {
            "line": {
             "colorbar": {
              "outlinewidth": 0,
              "ticks": ""
             }
            },
            "type": "parcoords"
           }
          ],
          "pie": [
           {
            "automargin": true,
            "type": "pie"
           }
          ],
          "scatter": [
           {
            "fillpattern": {
             "fillmode": "overlay",
             "size": 10,
             "solidity": 0.2
            },
            "type": "scatter"
           }
          ],
          "scatter3d": [
           {
            "line": {
             "colorbar": {
              "outlinewidth": 0,
              "ticks": ""
             }
            },
            "marker": {
             "colorbar": {
              "outlinewidth": 0,
              "ticks": ""
             }
            },
            "type": "scatter3d"
           }
          ],
          "scattercarpet": [
           {
            "marker": {
             "colorbar": {
              "outlinewidth": 0,
              "ticks": ""
             }
            },
            "type": "scattercarpet"
           }
          ],
          "scattergeo": [
           {
            "marker": {
             "colorbar": {
              "outlinewidth": 0,
              "ticks": ""
             }
            },
            "type": "scattergeo"
           }
          ],
          "scattergl": [
           {
            "marker": {
             "colorbar": {
              "outlinewidth": 0,
              "ticks": ""
             }
            },
            "type": "scattergl"
           }
          ],
          "scattermapbox": [
           {
            "marker": {
             "colorbar": {
              "outlinewidth": 0,
              "ticks": ""
             }
            },
            "type": "scattermapbox"
           }
          ],
          "scatterpolar": [
           {
            "marker": {
             "colorbar": {
              "outlinewidth": 0,
              "ticks": ""
             }
            },
            "type": "scatterpolar"
           }
          ],
          "scatterpolargl": [
           {
            "marker": {
             "colorbar": {
              "outlinewidth": 0,
              "ticks": ""
             }
            },
            "type": "scatterpolargl"
           }
          ],
          "scatterternary": [
           {
            "marker": {
             "colorbar": {
              "outlinewidth": 0,
              "ticks": ""
             }
            },
            "type": "scatterternary"
           }
          ],
          "surface": [
           {
            "colorbar": {
             "outlinewidth": 0,
             "ticks": ""
            },
            "colorscale": [
             [
              0,
              "#0d0887"
             ],
             [
              0.1111111111111111,
              "#46039f"
             ],
             [
              0.2222222222222222,
              "#7201a8"
             ],
             [
              0.3333333333333333,
              "#9c179e"
             ],
             [
              0.4444444444444444,
              "#bd3786"
             ],
             [
              0.5555555555555556,
              "#d8576b"
             ],
             [
              0.6666666666666666,
              "#ed7953"
             ],
             [
              0.7777777777777778,
              "#fb9f3a"
             ],
             [
              0.8888888888888888,
              "#fdca26"
             ],
             [
              1,
              "#f0f921"
             ]
            ],
            "type": "surface"
           }
          ],
          "table": [
           {
            "cells": {
             "fill": {
              "color": "#EBF0F8"
             },
             "line": {
              "color": "white"
             }
            },
            "header": {
             "fill": {
              "color": "#C8D4E3"
             },
             "line": {
              "color": "white"
             }
            },
            "type": "table"
           }
          ]
         },
         "layout": {
          "annotationdefaults": {
           "arrowcolor": "#2a3f5f",
           "arrowhead": 0,
           "arrowwidth": 1
          },
          "autotypenumbers": "strict",
          "coloraxis": {
           "colorbar": {
            "outlinewidth": 0,
            "ticks": ""
           }
          },
          "colorscale": {
           "diverging": [
            [
             0,
             "#8e0152"
            ],
            [
             0.1,
             "#c51b7d"
            ],
            [
             0.2,
             "#de77ae"
            ],
            [
             0.3,
             "#f1b6da"
            ],
            [
             0.4,
             "#fde0ef"
            ],
            [
             0.5,
             "#f7f7f7"
            ],
            [
             0.6,
             "#e6f5d0"
            ],
            [
             0.7,
             "#b8e186"
            ],
            [
             0.8,
             "#7fbc41"
            ],
            [
             0.9,
             "#4d9221"
            ],
            [
             1,
             "#276419"
            ]
           ],
           "sequential": [
            [
             0,
             "#0d0887"
            ],
            [
             0.1111111111111111,
             "#46039f"
            ],
            [
             0.2222222222222222,
             "#7201a8"
            ],
            [
             0.3333333333333333,
             "#9c179e"
            ],
            [
             0.4444444444444444,
             "#bd3786"
            ],
            [
             0.5555555555555556,
             "#d8576b"
            ],
            [
             0.6666666666666666,
             "#ed7953"
            ],
            [
             0.7777777777777778,
             "#fb9f3a"
            ],
            [
             0.8888888888888888,
             "#fdca26"
            ],
            [
             1,
             "#f0f921"
            ]
           ],
           "sequentialminus": [
            [
             0,
             "#0d0887"
            ],
            [
             0.1111111111111111,
             "#46039f"
            ],
            [
             0.2222222222222222,
             "#7201a8"
            ],
            [
             0.3333333333333333,
             "#9c179e"
            ],
            [
             0.4444444444444444,
             "#bd3786"
            ],
            [
             0.5555555555555556,
             "#d8576b"
            ],
            [
             0.6666666666666666,
             "#ed7953"
            ],
            [
             0.7777777777777778,
             "#fb9f3a"
            ],
            [
             0.8888888888888888,
             "#fdca26"
            ],
            [
             1,
             "#f0f921"
            ]
           ]
          },
          "colorway": [
           "#636efa",
           "#EF553B",
           "#00cc96",
           "#ab63fa",
           "#FFA15A",
           "#19d3f3",
           "#FF6692",
           "#B6E880",
           "#FF97FF",
           "#FECB52"
          ],
          "font": {
           "color": "#2a3f5f"
          },
          "geo": {
           "bgcolor": "white",
           "lakecolor": "white",
           "landcolor": "#E5ECF6",
           "showlakes": true,
           "showland": true,
           "subunitcolor": "white"
          },
          "hoverlabel": {
           "align": "left"
          },
          "hovermode": "closest",
          "mapbox": {
           "style": "light"
          },
          "paper_bgcolor": "white",
          "plot_bgcolor": "#E5ECF6",
          "polar": {
           "angularaxis": {
            "gridcolor": "white",
            "linecolor": "white",
            "ticks": ""
           },
           "bgcolor": "#E5ECF6",
           "radialaxis": {
            "gridcolor": "white",
            "linecolor": "white",
            "ticks": ""
           }
          },
          "scene": {
           "xaxis": {
            "backgroundcolor": "#E5ECF6",
            "gridcolor": "white",
            "gridwidth": 2,
            "linecolor": "white",
            "showbackground": true,
            "ticks": "",
            "zerolinecolor": "white"
           },
           "yaxis": {
            "backgroundcolor": "#E5ECF6",
            "gridcolor": "white",
            "gridwidth": 2,
            "linecolor": "white",
            "showbackground": true,
            "ticks": "",
            "zerolinecolor": "white"
           },
           "zaxis": {
            "backgroundcolor": "#E5ECF6",
            "gridcolor": "white",
            "gridwidth": 2,
            "linecolor": "white",
            "showbackground": true,
            "ticks": "",
            "zerolinecolor": "white"
           }
          },
          "shapedefaults": {
           "line": {
            "color": "#2a3f5f"
           }
          },
          "ternary": {
           "aaxis": {
            "gridcolor": "white",
            "linecolor": "white",
            "ticks": ""
           },
           "baxis": {
            "gridcolor": "white",
            "linecolor": "white",
            "ticks": ""
           },
           "bgcolor": "#E5ECF6",
           "caxis": {
            "gridcolor": "white",
            "linecolor": "white",
            "ticks": ""
           }
          },
          "title": {
           "x": 0.05
          },
          "xaxis": {
           "automargin": true,
           "gridcolor": "white",
           "linecolor": "white",
           "ticks": "",
           "title": {
            "standoff": 15
           },
           "zerolinecolor": "white",
           "zerolinewidth": 2
          },
          "yaxis": {
           "automargin": true,
           "gridcolor": "white",
           "linecolor": "white",
           "ticks": "",
           "title": {
            "standoff": 15
           },
           "zerolinecolor": "white",
           "zerolinewidth": 2
          }
         }
        },
        "title": {
         "font": {
          "color": "#4D5663"
         }
        },
        "xaxis": {
         "gridcolor": "#E1E5ED",
         "showgrid": true,
         "tickfont": {
          "color": "#4D5663"
         },
         "title": {
          "font": {
           "color": "#4D5663"
          },
          "text": ""
         },
         "zerolinecolor": "#E1E5ED"
        },
        "yaxis": {
         "gridcolor": "#E1E5ED",
         "showgrid": true,
         "tickfont": {
          "color": "#4D5663"
         },
         "title": {
          "font": {
           "color": "#4D5663"
          },
          "text": ""
         },
         "zerolinecolor": "#E1E5ED"
        }
       }
      },
      "text/html": [
       "<div>                            <div id=\"1029cf3a-8816-4df4-9284-76671853af8c\" class=\"plotly-graph-div\" style=\"height:525px; width:100%;\"></div>            <script type=\"text/javascript\">                require([\"plotly\"], function(Plotly) {                    window.PLOTLYENV=window.PLOTLYENV || {};\n",
       "                    window.PLOTLYENV.BASE_URL='https://plot.ly';                                    if (document.getElementById(\"1029cf3a-8816-4df4-9284-76671853af8c\")) {                    Plotly.newPlot(                        \"1029cf3a-8816-4df4-9284-76671853af8c\",                        [{\"boxpoints\":false,\"line\":{\"width\":1.3},\"marker\":{\"color\":\"rgba(255, 153, 51, 1.0)\"},\"name\":\"A\",\"orientation\":\"v\",\"y\":[-0.5926298961513271,0.25673020586304807,-0.43782540602292713,1.0534689198889642,-0.9919513407195126,1.611767926213217,0.06330100258337129,-0.7794590258443483,1.3213895611178617,2.0428480315223823,1.3942054388325047,-1.0038641189563902,0.38499375800912655,0.43771904183757787,-0.03450546160271116,1.053234080805073,2.0397975570567692,0.385375865370009,1.7676509480340017,-0.6649155567520971,1.436288459640299,-0.4036051333866007,0.09260910325620314,-0.6542216569397591,1.4741915479685124,0.9051017853546715,-2.196271747394207,-0.11339517644243712,-0.4449131865951581,-0.22841259825041527,0.8679037688166911,-0.8281381473996741,-0.3197383644114914,-0.22840516815474368,2.853834584156512,0.6216999835149216,1.5240921155040292,-0.31203354460191196,0.08094205015951837,0.015646307251275072,1.7932205291927203,0.4653034182676237,1.1593511785630377,1.5737474570494507,1.1662651409043536,-0.13617317080506597,-1.6664432754952285,0.6658652654155452,-0.5158901261812123,-0.9417598894899648,0.5250610445322508,1.1998623089464961,-0.3229256151506854,-1.2920143018845127,-0.05205440705465112,0.26600301743930166,-0.9644056385681528,2.4529695305287142,2.713126831567635,0.23352598710271472,0.24763388006906298,-1.2243351213532416,0.41903421957586184,0.48867062808082373,-0.7861677504690421,-1.2514626078351387,0.21186021746577036,-0.06017875815427523,2.3055917858896997,-0.72211444002813,-0.12793695931512533,-0.007755887247505297,-1.0097227248055003,0.6030326691920733,-0.1739761026833534,0.7520083111574457,-0.5412741041067098,0.12309165184098429,0.7562849692392389,1.0348364759469733,-1.3908296564977056,-0.4406362876635684,0.574944055766053,-0.5819853653510465,0.881152636747594,0.07868416646062422,1.8226632065021642,-0.13719437995366995,1.1162581459854621,-0.7985545018909256,0.17241094898690948,0.2552260864441374,1.0605714157563813,0.5179693571027562,0.4155143057576676,1.4316485846465625,-0.7775443753105155,-1.063630020330371,-0.16289165324194577,-0.29531247931902405],\"type\":\"box\"},{\"boxpoints\":false,\"line\":{\"width\":1.3},\"marker\":{\"color\":\"rgba(55, 128, 191, 1.0)\"},\"name\":\"B\",\"orientation\":\"v\",\"y\":[-0.1157907510446745,0.4798485260848488,0.2942811047577971,0.7131066424167334,-0.614145259332274,1.3367013379768597,-0.3611519306104252,-0.22674171311266222,-0.7922763953214255,-1.912388440068962,2.94461710583469,0.7466399419377467,-0.5062250561740432,-0.6267758673924915,-0.5301364252727697,-1.1356102411393012,1.7097173351457045,-0.5982673480241042,0.632599712583573,-0.7191789918807273,-1.011913867593541,1.0862462490282248,1.1499817116204132,0.7121776705596654,-0.7249853951963967,-0.24484654770034245,-0.10946886787942355,0.9444906377964262,-0.03956551316859267,-1.1913735024463135,-0.963486275341088,-1.3533511104197,-0.10146602362529568,0.40726711160299367,-1.3279311786454684,0.08999558075822016,1.4193027223212058,0.8481711573298252,1.237710700172955,-0.9075402340794535,0.24104376712171527,-0.26683695105423477,0.5297046101182764,-0.5898451706324817,-0.46118554508543186,0.4438889661881818,-0.022849201447032792,0.6538508162804493,-0.8969955791054491,0.5151826075293686,-1.716075531842265,-1.2459443299216126,-0.39468032622605176,-0.594068760568758,1.1781478136671775,-1.0799218215036783,1.0329478909914607,0.2282708120345758,0.5740812637562833,0.998004452114102,-0.4240139456347152,1.5697362346573667,-2.301553062519039,-0.05564169983599276,-0.5750252875191277,0.36899773315170714,1.2352274250634883,-0.2760983305352888,-1.1315843014714326,0.47160626469032957,0.6224993997445093,0.3056078012612184,0.3565127710229608,0.16192329536141162,-0.4482276412402648,-0.255341393719222,2.731094066424876,-0.3509008449363998,0.7562307284894754,0.307461984745654,-0.028086364160419496,0.3078805805283829,0.2717827333298244,-0.21005022861881803,0.15616678270870996,-0.5508037116094993,-0.8595019402724217,-1.1811403903781978,-1.1051152466130356,0.18553196417980916,0.625579015927619,-0.6408948128706429,-0.12432769691673103,-1.0699306999590428,0.26771926977846544,0.8026332176389065,1.80141470610895,-1.873013331107765,0.9099007759609501,-1.4396917779942568],\"type\":\"box\"},{\"boxpoints\":false,\"line\":{\"width\":1.3},\"marker\":{\"color\":\"rgba(50, 171, 96, 1.0)\"},\"name\":\"C\",\"orientation\":\"v\",\"y\":[-0.5329383118117111,0.557158984686362,-0.7773784640077513,0.4502948550666474,1.0138880505622996,0.8643796572088078,1.403327846853929,0.17662681793324203,-0.9256916191776521,0.11113838946336113,-0.5003135852854012,-1.4373836749538296,0.004390886289931718,0.5052863861856433,1.0398284942816312,0.4700021219352897,1.2942516711557286,0.4562530916282091,0.4867757023349144,0.5251023387128786,1.366687500871755,0.7341868934647509,-0.7406234269138862,1.7902580011984228,-0.052280405347552884,-1.2994890823643053,-0.03998407812874461,0.2409334336633333,-1.1431901553946213,-1.3375003089870747,0.21267439088163337,-0.3727133338594834,-1.7432581570902688,1.1140649602434551,0.11880631666273851,-2.009441502210672,-0.5510243805032415,-0.3965855723196719,-0.9207409303162719,-1.0943443758622298,0.2763122759552882,-1.5883444069275798,-1.0330063980789108,0.5362525437628567,0.1411710405785407,-0.38437445757092265,1.3919900976151998,0.9517151174256139,-1.1901950141859108,-0.14189555170734033,0.5968986628418939,-0.5005443285631248,1.416423978087898,0.1431483587824421,3.4124450680223752,-0.06761336436845361,0.8701406858782743,-1.5729354220756329,-1.5239639144707235,-0.35001468782544215,-0.3141329650511141,1.289147141353759,0.6571940529834378,0.12691583464319822,-0.35819019671388636,0.3512140322402031,-1.570650531955033,1.6844680221586628,-1.138982064296053,-0.0669494830020375,0.10910710717061158,0.4366525495605837,0.031831925732240654,0.7073775791321979,0.26398938042263326,1.65842532898978,1.1225040754670954,2.1251585555550387,-0.2210800855085304,-0.580723734930385,0.6749862640274892,-0.3248229431990396,0.8908237137126089,0.38853005247553696,-0.008631663873746373,1.1576062810456162,-2.5163976663842575,-0.3794418799086721,-1.3282923544858762,-2.0459800517490567,-0.3781167481915554,-0.026801909417827462,-0.3209689443383593,-1.255685088054047,2.753703318492102,1.5388188394422968,-1.479870267117127,0.39163662921207093,-0.48390531047703966,0.7573644209629506],\"type\":\"box\"},{\"boxpoints\":false,\"line\":{\"width\":1.3},\"marker\":{\"color\":\"rgba(128, 0, 128, 1.0)\"},\"name\":\"D\",\"orientation\":\"v\",\"y\":[-0.2193839724920814,0.03673834097851173,0.987799585989557,-0.45680697868842046,0.7271098863401266,0.30329210727865613,-0.26712978821937444,1.0095723743385,-0.4228909507045194,0.3075892397528451,0.9489828485601433,-0.22451513255242508,-1.1107116681174418,0.7680108676987024,-0.11630608147155315,0.29093326534482966,1.9542889849467535,1.1110135911541346,-2.3296160711306944,0.02187744257320405,-0.6629555946608392,-0.4928989052670513,-0.8759945384540662,0.6922627648086038,1.1262086084701817,1.9691467010080486,1.3741557642209405,-1.3713246219745756,-0.1836866932419942,1.043777373642293,1.1171414932728372,-0.8483544586416497,0.5475171172834119,0.22746681771477958,-0.6308476174813245,-0.09854811827025602,0.022769378814638853,-0.4487986629320674,-0.9034597245484658,-0.6378949254903331,-0.4492768708891525,1.0555579449603434,-0.11470394720695867,-0.14609532264882724,-0.3802579048952034,2.1033300796058008,-0.07835629365401076,0.255763285824464,-1.0829429872566125,-0.5984508218594459,0.2988305135551518,0.7610733152132845,-0.15331145876966712,-1.0899092691503058,0.6887506413586928,0.09057229714387154,-0.1831544794728409,-0.23219247443813748,1.0850595737659272,0.7079347962395922,0.9239648370430716,0.5752666639473206,-0.0782466539059608,-0.5751549927849406,0.30293306177254614,-1.6128733507367412,0.954161956224829,0.35331662927665525,0.4867032255124756,-1.4425153880296329,-2.439129093983263,1.300863150160351,-1.2320162675360742,-0.17352268024345233,-0.3202322874932672,-0.35092980882229036,0.5275550115628105,1.7884140357936633,3.1450296067129244,-0.5314874202448286,-2.064718091313124,0.9534673941924888,-0.040331506354160544,-0.6352729350658008,-0.06096951786361323,0.5609324550321262,0.3574741859411366,-1.7928844510806905,-0.033542057166446475,-1.412194137336305,-0.12324110708590304,-0.553675978465696,0.7324784603482485,-0.250450527950122,0.3814857723717101,0.0693795153937473,1.2127267520325036,0.31639856434337044,-0.16116887362125037,0.7714979567097996],\"type\":\"box\"}],                        {\"legend\":{\"bgcolor\":\"#F5F6F9\",\"font\":{\"color\":\"#4D5663\"}},\"paper_bgcolor\":\"#F5F6F9\",\"plot_bgcolor\":\"#F5F6F9\",\"template\":{\"data\":{\"barpolar\":[{\"marker\":{\"line\":{\"color\":\"#E5ECF6\",\"width\":0.5},\"pattern\":{\"fillmode\":\"overlay\",\"size\":10,\"solidity\":0.2}},\"type\":\"barpolar\"}],\"bar\":[{\"error_x\":{\"color\":\"#2a3f5f\"},\"error_y\":{\"color\":\"#2a3f5f\"},\"marker\":{\"line\":{\"color\":\"#E5ECF6\",\"width\":0.5},\"pattern\":{\"fillmode\":\"overlay\",\"size\":10,\"solidity\":0.2}},\"type\":\"bar\"}],\"carpet\":[{\"aaxis\":{\"endlinecolor\":\"#2a3f5f\",\"gridcolor\":\"white\",\"linecolor\":\"white\",\"minorgridcolor\":\"white\",\"startlinecolor\":\"#2a3f5f\"},\"baxis\":{\"endlinecolor\":\"#2a3f5f\",\"gridcolor\":\"white\",\"linecolor\":\"white\",\"minorgridcolor\":\"white\",\"startlinecolor\":\"#2a3f5f\"},\"type\":\"carpet\"}],\"choropleth\":[{\"colorbar\":{\"outlinewidth\":0,\"ticks\":\"\"},\"type\":\"choropleth\"}],\"contourcarpet\":[{\"colorbar\":{\"outlinewidth\":0,\"ticks\":\"\"},\"type\":\"contourcarpet\"}],\"contour\":[{\"colorbar\":{\"outlinewidth\":0,\"ticks\":\"\"},\"colorscale\":[[0.0,\"#0d0887\"],[0.1111111111111111,\"#46039f\"],[0.2222222222222222,\"#7201a8\"],[0.3333333333333333,\"#9c179e\"],[0.4444444444444444,\"#bd3786\"],[0.5555555555555556,\"#d8576b\"],[0.6666666666666666,\"#ed7953\"],[0.7777777777777778,\"#fb9f3a\"],[0.8888888888888888,\"#fdca26\"],[1.0,\"#f0f921\"]],\"type\":\"contour\"}],\"heatmapgl\":[{\"colorbar\":{\"outlinewidth\":0,\"ticks\":\"\"},\"colorscale\":[[0.0,\"#0d0887\"],[0.1111111111111111,\"#46039f\"],[0.2222222222222222,\"#7201a8\"],[0.3333333333333333,\"#9c179e\"],[0.4444444444444444,\"#bd3786\"],[0.5555555555555556,\"#d8576b\"],[0.6666666666666666,\"#ed7953\"],[0.7777777777777778,\"#fb9f3a\"],[0.8888888888888888,\"#fdca26\"],[1.0,\"#f0f921\"]],\"type\":\"heatmapgl\"}],\"heatmap\":[{\"colorbar\":{\"outlinewidth\":0,\"ticks\":\"\"},\"colorscale\":[[0.0,\"#0d0887\"],[0.1111111111111111,\"#46039f\"],[0.2222222222222222,\"#7201a8\"],[0.3333333333333333,\"#9c179e\"],[0.4444444444444444,\"#bd3786\"],[0.5555555555555556,\"#d8576b\"],[0.6666666666666666,\"#ed7953\"],[0.7777777777777778,\"#fb9f3a\"],[0.8888888888888888,\"#fdca26\"],[1.0,\"#f0f921\"]],\"type\":\"heatmap\"}],\"histogram2dcontour\":[{\"colorbar\":{\"outlinewidth\":0,\"ticks\":\"\"},\"colorscale\":[[0.0,\"#0d0887\"],[0.1111111111111111,\"#46039f\"],[0.2222222222222222,\"#7201a8\"],[0.3333333333333333,\"#9c179e\"],[0.4444444444444444,\"#bd3786\"],[0.5555555555555556,\"#d8576b\"],[0.6666666666666666,\"#ed7953\"],[0.7777777777777778,\"#fb9f3a\"],[0.8888888888888888,\"#fdca26\"],[1.0,\"#f0f921\"]],\"type\":\"histogram2dcontour\"}],\"histogram2d\":[{\"colorbar\":{\"outlinewidth\":0,\"ticks\":\"\"},\"colorscale\":[[0.0,\"#0d0887\"],[0.1111111111111111,\"#46039f\"],[0.2222222222222222,\"#7201a8\"],[0.3333333333333333,\"#9c179e\"],[0.4444444444444444,\"#bd3786\"],[0.5555555555555556,\"#d8576b\"],[0.6666666666666666,\"#ed7953\"],[0.7777777777777778,\"#fb9f3a\"],[0.8888888888888888,\"#fdca26\"],[1.0,\"#f0f921\"]],\"type\":\"histogram2d\"}],\"histogram\":[{\"marker\":{\"pattern\":{\"fillmode\":\"overlay\",\"size\":10,\"solidity\":0.2}},\"type\":\"histogram\"}],\"mesh3d\":[{\"colorbar\":{\"outlinewidth\":0,\"ticks\":\"\"},\"type\":\"mesh3d\"}],\"parcoords\":[{\"line\":{\"colorbar\":{\"outlinewidth\":0,\"ticks\":\"\"}},\"type\":\"parcoords\"}],\"pie\":[{\"automargin\":true,\"type\":\"pie\"}],\"scatter3d\":[{\"line\":{\"colorbar\":{\"outlinewidth\":0,\"ticks\":\"\"}},\"marker\":{\"colorbar\":{\"outlinewidth\":0,\"ticks\":\"\"}},\"type\":\"scatter3d\"}],\"scattercarpet\":[{\"marker\":{\"colorbar\":{\"outlinewidth\":0,\"ticks\":\"\"}},\"type\":\"scattercarpet\"}],\"scattergeo\":[{\"marker\":{\"colorbar\":{\"outlinewidth\":0,\"ticks\":\"\"}},\"type\":\"scattergeo\"}],\"scattergl\":[{\"marker\":{\"colorbar\":{\"outlinewidth\":0,\"ticks\":\"\"}},\"type\":\"scattergl\"}],\"scattermapbox\":[{\"marker\":{\"colorbar\":{\"outlinewidth\":0,\"ticks\":\"\"}},\"type\":\"scattermapbox\"}],\"scatterpolargl\":[{\"marker\":{\"colorbar\":{\"outlinewidth\":0,\"ticks\":\"\"}},\"type\":\"scatterpolargl\"}],\"scatterpolar\":[{\"marker\":{\"colorbar\":{\"outlinewidth\":0,\"ticks\":\"\"}},\"type\":\"scatterpolar\"}],\"scatter\":[{\"fillpattern\":{\"fillmode\":\"overlay\",\"size\":10,\"solidity\":0.2},\"type\":\"scatter\"}],\"scatterternary\":[{\"marker\":{\"colorbar\":{\"outlinewidth\":0,\"ticks\":\"\"}},\"type\":\"scatterternary\"}],\"surface\":[{\"colorbar\":{\"outlinewidth\":0,\"ticks\":\"\"},\"colorscale\":[[0.0,\"#0d0887\"],[0.1111111111111111,\"#46039f\"],[0.2222222222222222,\"#7201a8\"],[0.3333333333333333,\"#9c179e\"],[0.4444444444444444,\"#bd3786\"],[0.5555555555555556,\"#d8576b\"],[0.6666666666666666,\"#ed7953\"],[0.7777777777777778,\"#fb9f3a\"],[0.8888888888888888,\"#fdca26\"],[1.0,\"#f0f921\"]],\"type\":\"surface\"}],\"table\":[{\"cells\":{\"fill\":{\"color\":\"#EBF0F8\"},\"line\":{\"color\":\"white\"}},\"header\":{\"fill\":{\"color\":\"#C8D4E3\"},\"line\":{\"color\":\"white\"}},\"type\":\"table\"}]},\"layout\":{\"annotationdefaults\":{\"arrowcolor\":\"#2a3f5f\",\"arrowhead\":0,\"arrowwidth\":1},\"autotypenumbers\":\"strict\",\"coloraxis\":{\"colorbar\":{\"outlinewidth\":0,\"ticks\":\"\"}},\"colorscale\":{\"diverging\":[[0,\"#8e0152\"],[0.1,\"#c51b7d\"],[0.2,\"#de77ae\"],[0.3,\"#f1b6da\"],[0.4,\"#fde0ef\"],[0.5,\"#f7f7f7\"],[0.6,\"#e6f5d0\"],[0.7,\"#b8e186\"],[0.8,\"#7fbc41\"],[0.9,\"#4d9221\"],[1,\"#276419\"]],\"sequential\":[[0.0,\"#0d0887\"],[0.1111111111111111,\"#46039f\"],[0.2222222222222222,\"#7201a8\"],[0.3333333333333333,\"#9c179e\"],[0.4444444444444444,\"#bd3786\"],[0.5555555555555556,\"#d8576b\"],[0.6666666666666666,\"#ed7953\"],[0.7777777777777778,\"#fb9f3a\"],[0.8888888888888888,\"#fdca26\"],[1.0,\"#f0f921\"]],\"sequentialminus\":[[0.0,\"#0d0887\"],[0.1111111111111111,\"#46039f\"],[0.2222222222222222,\"#7201a8\"],[0.3333333333333333,\"#9c179e\"],[0.4444444444444444,\"#bd3786\"],[0.5555555555555556,\"#d8576b\"],[0.6666666666666666,\"#ed7953\"],[0.7777777777777778,\"#fb9f3a\"],[0.8888888888888888,\"#fdca26\"],[1.0,\"#f0f921\"]]},\"colorway\":[\"#636efa\",\"#EF553B\",\"#00cc96\",\"#ab63fa\",\"#FFA15A\",\"#19d3f3\",\"#FF6692\",\"#B6E880\",\"#FF97FF\",\"#FECB52\"],\"font\":{\"color\":\"#2a3f5f\"},\"geo\":{\"bgcolor\":\"white\",\"lakecolor\":\"white\",\"landcolor\":\"#E5ECF6\",\"showlakes\":true,\"showland\":true,\"subunitcolor\":\"white\"},\"hoverlabel\":{\"align\":\"left\"},\"hovermode\":\"closest\",\"mapbox\":{\"style\":\"light\"},\"paper_bgcolor\":\"white\",\"plot_bgcolor\":\"#E5ECF6\",\"polar\":{\"angularaxis\":{\"gridcolor\":\"white\",\"linecolor\":\"white\",\"ticks\":\"\"},\"bgcolor\":\"#E5ECF6\",\"radialaxis\":{\"gridcolor\":\"white\",\"linecolor\":\"white\",\"ticks\":\"\"}},\"scene\":{\"xaxis\":{\"backgroundcolor\":\"#E5ECF6\",\"gridcolor\":\"white\",\"gridwidth\":2,\"linecolor\":\"white\",\"showbackground\":true,\"ticks\":\"\",\"zerolinecolor\":\"white\"},\"yaxis\":{\"backgroundcolor\":\"#E5ECF6\",\"gridcolor\":\"white\",\"gridwidth\":2,\"linecolor\":\"white\",\"showbackground\":true,\"ticks\":\"\",\"zerolinecolor\":\"white\"},\"zaxis\":{\"backgroundcolor\":\"#E5ECF6\",\"gridcolor\":\"white\",\"gridwidth\":2,\"linecolor\":\"white\",\"showbackground\":true,\"ticks\":\"\",\"zerolinecolor\":\"white\"}},\"shapedefaults\":{\"line\":{\"color\":\"#2a3f5f\"}},\"ternary\":{\"aaxis\":{\"gridcolor\":\"white\",\"linecolor\":\"white\",\"ticks\":\"\"},\"baxis\":{\"gridcolor\":\"white\",\"linecolor\":\"white\",\"ticks\":\"\"},\"bgcolor\":\"#E5ECF6\",\"caxis\":{\"gridcolor\":\"white\",\"linecolor\":\"white\",\"ticks\":\"\"}},\"title\":{\"x\":0.05},\"xaxis\":{\"automargin\":true,\"gridcolor\":\"white\",\"linecolor\":\"white\",\"ticks\":\"\",\"title\":{\"standoff\":15},\"zerolinecolor\":\"white\",\"zerolinewidth\":2},\"yaxis\":{\"automargin\":true,\"gridcolor\":\"white\",\"linecolor\":\"white\",\"ticks\":\"\",\"title\":{\"standoff\":15},\"zerolinecolor\":\"white\",\"zerolinewidth\":2}}},\"title\":{\"font\":{\"color\":\"#4D5663\"}},\"xaxis\":{\"gridcolor\":\"#E1E5ED\",\"showgrid\":true,\"tickfont\":{\"color\":\"#4D5663\"},\"title\":{\"font\":{\"color\":\"#4D5663\"},\"text\":\"\"},\"zerolinecolor\":\"#E1E5ED\"},\"yaxis\":{\"gridcolor\":\"#E1E5ED\",\"showgrid\":true,\"tickfont\":{\"color\":\"#4D5663\"},\"title\":{\"font\":{\"color\":\"#4D5663\"},\"text\":\"\"},\"zerolinecolor\":\"#E1E5ED\"}},                        {\"showLink\": true, \"linkText\": \"Export to plot.ly\", \"plotlyServerURL\": \"https://plot.ly\", \"responsive\": true}                    ).then(function(){\n",
       "                            \n",
       "var gd = document.getElementById('1029cf3a-8816-4df4-9284-76671853af8c');\n",
       "var x = new MutationObserver(function (mutations, observer) {{\n",
       "        var display = window.getComputedStyle(gd).display;\n",
       "        if (!display || display === 'none') {{\n",
       "            console.log([gd, 'removed!']);\n",
       "            Plotly.purge(gd);\n",
       "            observer.disconnect();\n",
       "        }}\n",
       "}});\n",
       "\n",
       "// Listen for the removal of the full notebook cells\n",
       "var notebookContainer = gd.closest('#notebook-container');\n",
       "if (notebookContainer) {{\n",
       "    x.observe(notebookContainer, {childList: true});\n",
       "}}\n",
       "\n",
       "// Listen for the clearing of the current output cell\n",
       "var outputEl = gd.closest('.output');\n",
       "if (outputEl) {{\n",
       "    x.observe(outputEl, {childList: true});\n",
       "}}\n",
       "\n",
       "                        })                };                });            </script>        </div>"
      ]
     },
     "metadata": {},
     "output_type": "display_data"
    }
   ],
   "source": [
    "# BOXPLOT\n",
    "df.iplot(kind='box')"
   ]
  },
  {
   "cell_type": "code",
   "execution_count": 19,
   "id": "6f286b46",
   "metadata": {},
   "outputs": [],
   "source": [
    "# 3d surface plot\n",
    "df3 = pd.DataFrame({'x':[1,2,3,4,5],'y':[10,20,30,40,50],'z':[5,4,3,2,1]})"
   ]
  },
  {
   "cell_type": "code",
   "execution_count": 20,
   "id": "d68c87d6",
   "metadata": {
    "scrolled": true
   },
   "outputs": [
    {
     "data": {
      "application/vnd.plotly.v1+json": {
       "config": {
        "linkText": "Export to plot.ly",
        "plotlyServerURL": "https://plot.ly",
        "showLink": true
       },
       "data": [
        {
         "colorscale": [
          [
           0,
           "rgb(165,0,38)"
          ],
          [
           0.1,
           "rgb(215,48,39)"
          ],
          [
           0.2,
           "rgb(244,109,67)"
          ],
          [
           0.3,
           "rgb(253,174,97)"
          ],
          [
           0.4,
           "rgb(254,224,144)"
          ],
          [
           0.5,
           "rgb(255,255,191)"
          ],
          [
           0.6,
           "rgb(224,243,248)"
          ],
          [
           0.7,
           "rgb(171,217,233)"
          ],
          [
           0.8,
           "rgb(116,173,209)"
          ],
          [
           0.9,
           "rgb(69,117,180)"
          ],
          [
           1,
           "rgb(49,54,149)"
          ]
         ],
         "type": "surface",
         "x": [
          0,
          1,
          2,
          3,
          4
         ],
         "y": [
          "x",
          "y",
          "z"
         ],
         "z": [
          [
           1,
           2,
           3,
           4,
           5
          ],
          [
           10,
           20,
           30,
           40,
           50
          ],
          [
           5,
           4,
           3,
           2,
           1
          ]
         ]
        }
       ],
       "layout": {
        "legend": {
         "bgcolor": "#F5F6F9",
         "font": {
          "color": "#4D5663"
         }
        },
        "paper_bgcolor": "#F5F6F9",
        "plot_bgcolor": "#F5F6F9",
        "template": {
         "data": {
          "bar": [
           {
            "error_x": {
             "color": "#2a3f5f"
            },
            "error_y": {
             "color": "#2a3f5f"
            },
            "marker": {
             "line": {
              "color": "#E5ECF6",
              "width": 0.5
             },
             "pattern": {
              "fillmode": "overlay",
              "size": 10,
              "solidity": 0.2
             }
            },
            "type": "bar"
           }
          ],
          "barpolar": [
           {
            "marker": {
             "line": {
              "color": "#E5ECF6",
              "width": 0.5
             },
             "pattern": {
              "fillmode": "overlay",
              "size": 10,
              "solidity": 0.2
             }
            },
            "type": "barpolar"
           }
          ],
          "carpet": [
           {
            "aaxis": {
             "endlinecolor": "#2a3f5f",
             "gridcolor": "white",
             "linecolor": "white",
             "minorgridcolor": "white",
             "startlinecolor": "#2a3f5f"
            },
            "baxis": {
             "endlinecolor": "#2a3f5f",
             "gridcolor": "white",
             "linecolor": "white",
             "minorgridcolor": "white",
             "startlinecolor": "#2a3f5f"
            },
            "type": "carpet"
           }
          ],
          "choropleth": [
           {
            "colorbar": {
             "outlinewidth": 0,
             "ticks": ""
            },
            "type": "choropleth"
           }
          ],
          "contour": [
           {
            "colorbar": {
             "outlinewidth": 0,
             "ticks": ""
            },
            "colorscale": [
             [
              0,
              "#0d0887"
             ],
             [
              0.1111111111111111,
              "#46039f"
             ],
             [
              0.2222222222222222,
              "#7201a8"
             ],
             [
              0.3333333333333333,
              "#9c179e"
             ],
             [
              0.4444444444444444,
              "#bd3786"
             ],
             [
              0.5555555555555556,
              "#d8576b"
             ],
             [
              0.6666666666666666,
              "#ed7953"
             ],
             [
              0.7777777777777778,
              "#fb9f3a"
             ],
             [
              0.8888888888888888,
              "#fdca26"
             ],
             [
              1,
              "#f0f921"
             ]
            ],
            "type": "contour"
           }
          ],
          "contourcarpet": [
           {
            "colorbar": {
             "outlinewidth": 0,
             "ticks": ""
            },
            "type": "contourcarpet"
           }
          ],
          "heatmap": [
           {
            "colorbar": {
             "outlinewidth": 0,
             "ticks": ""
            },
            "colorscale": [
             [
              0,
              "#0d0887"
             ],
             [
              0.1111111111111111,
              "#46039f"
             ],
             [
              0.2222222222222222,
              "#7201a8"
             ],
             [
              0.3333333333333333,
              "#9c179e"
             ],
             [
              0.4444444444444444,
              "#bd3786"
             ],
             [
              0.5555555555555556,
              "#d8576b"
             ],
             [
              0.6666666666666666,
              "#ed7953"
             ],
             [
              0.7777777777777778,
              "#fb9f3a"
             ],
             [
              0.8888888888888888,
              "#fdca26"
             ],
             [
              1,
              "#f0f921"
             ]
            ],
            "type": "heatmap"
           }
          ],
          "heatmapgl": [
           {
            "colorbar": {
             "outlinewidth": 0,
             "ticks": ""
            },
            "colorscale": [
             [
              0,
              "#0d0887"
             ],
             [
              0.1111111111111111,
              "#46039f"
             ],
             [
              0.2222222222222222,
              "#7201a8"
             ],
             [
              0.3333333333333333,
              "#9c179e"
             ],
             [
              0.4444444444444444,
              "#bd3786"
             ],
             [
              0.5555555555555556,
              "#d8576b"
             ],
             [
              0.6666666666666666,
              "#ed7953"
             ],
             [
              0.7777777777777778,
              "#fb9f3a"
             ],
             [
              0.8888888888888888,
              "#fdca26"
             ],
             [
              1,
              "#f0f921"
             ]
            ],
            "type": "heatmapgl"
           }
          ],
          "histogram": [
           {
            "marker": {
             "pattern": {
              "fillmode": "overlay",
              "size": 10,
              "solidity": 0.2
             }
            },
            "type": "histogram"
           }
          ],
          "histogram2d": [
           {
            "colorbar": {
             "outlinewidth": 0,
             "ticks": ""
            },
            "colorscale": [
             [
              0,
              "#0d0887"
             ],
             [
              0.1111111111111111,
              "#46039f"
             ],
             [
              0.2222222222222222,
              "#7201a8"
             ],
             [
              0.3333333333333333,
              "#9c179e"
             ],
             [
              0.4444444444444444,
              "#bd3786"
             ],
             [
              0.5555555555555556,
              "#d8576b"
             ],
             [
              0.6666666666666666,
              "#ed7953"
             ],
             [
              0.7777777777777778,
              "#fb9f3a"
             ],
             [
              0.8888888888888888,
              "#fdca26"
             ],
             [
              1,
              "#f0f921"
             ]
            ],
            "type": "histogram2d"
           }
          ],
          "histogram2dcontour": [
           {
            "colorbar": {
             "outlinewidth": 0,
             "ticks": ""
            },
            "colorscale": [
             [
              0,
              "#0d0887"
             ],
             [
              0.1111111111111111,
              "#46039f"
             ],
             [
              0.2222222222222222,
              "#7201a8"
             ],
             [
              0.3333333333333333,
              "#9c179e"
             ],
             [
              0.4444444444444444,
              "#bd3786"
             ],
             [
              0.5555555555555556,
              "#d8576b"
             ],
             [
              0.6666666666666666,
              "#ed7953"
             ],
             [
              0.7777777777777778,
              "#fb9f3a"
             ],
             [
              0.8888888888888888,
              "#fdca26"
             ],
             [
              1,
              "#f0f921"
             ]
            ],
            "type": "histogram2dcontour"
           }
          ],
          "mesh3d": [
           {
            "colorbar": {
             "outlinewidth": 0,
             "ticks": ""
            },
            "type": "mesh3d"
           }
          ],
          "parcoords": [
           {
            "line": {
             "colorbar": {
              "outlinewidth": 0,
              "ticks": ""
             }
            },
            "type": "parcoords"
           }
          ],
          "pie": [
           {
            "automargin": true,
            "type": "pie"
           }
          ],
          "scatter": [
           {
            "fillpattern": {
             "fillmode": "overlay",
             "size": 10,
             "solidity": 0.2
            },
            "type": "scatter"
           }
          ],
          "scatter3d": [
           {
            "line": {
             "colorbar": {
              "outlinewidth": 0,
              "ticks": ""
             }
            },
            "marker": {
             "colorbar": {
              "outlinewidth": 0,
              "ticks": ""
             }
            },
            "type": "scatter3d"
           }
          ],
          "scattercarpet": [
           {
            "marker": {
             "colorbar": {
              "outlinewidth": 0,
              "ticks": ""
             }
            },
            "type": "scattercarpet"
           }
          ],
          "scattergeo": [
           {
            "marker": {
             "colorbar": {
              "outlinewidth": 0,
              "ticks": ""
             }
            },
            "type": "scattergeo"
           }
          ],
          "scattergl": [
           {
            "marker": {
             "colorbar": {
              "outlinewidth": 0,
              "ticks": ""
             }
            },
            "type": "scattergl"
           }
          ],
          "scattermapbox": [
           {
            "marker": {
             "colorbar": {
              "outlinewidth": 0,
              "ticks": ""
             }
            },
            "type": "scattermapbox"
           }
          ],
          "scatterpolar": [
           {
            "marker": {
             "colorbar": {
              "outlinewidth": 0,
              "ticks": ""
             }
            },
            "type": "scatterpolar"
           }
          ],
          "scatterpolargl": [
           {
            "marker": {
             "colorbar": {
              "outlinewidth": 0,
              "ticks": ""
             }
            },
            "type": "scatterpolargl"
           }
          ],
          "scatterternary": [
           {
            "marker": {
             "colorbar": {
              "outlinewidth": 0,
              "ticks": ""
             }
            },
            "type": "scatterternary"
           }
          ],
          "surface": [
           {
            "colorbar": {
             "outlinewidth": 0,
             "ticks": ""
            },
            "colorscale": [
             [
              0,
              "#0d0887"
             ],
             [
              0.1111111111111111,
              "#46039f"
             ],
             [
              0.2222222222222222,
              "#7201a8"
             ],
             [
              0.3333333333333333,
              "#9c179e"
             ],
             [
              0.4444444444444444,
              "#bd3786"
             ],
             [
              0.5555555555555556,
              "#d8576b"
             ],
             [
              0.6666666666666666,
              "#ed7953"
             ],
             [
              0.7777777777777778,
              "#fb9f3a"
             ],
             [
              0.8888888888888888,
              "#fdca26"
             ],
             [
              1,
              "#f0f921"
             ]
            ],
            "type": "surface"
           }
          ],
          "table": [
           {
            "cells": {
             "fill": {
              "color": "#EBF0F8"
             },
             "line": {
              "color": "white"
             }
            },
            "header": {
             "fill": {
              "color": "#C8D4E3"
             },
             "line": {
              "color": "white"
             }
            },
            "type": "table"
           }
          ]
         },
         "layout": {
          "annotationdefaults": {
           "arrowcolor": "#2a3f5f",
           "arrowhead": 0,
           "arrowwidth": 1
          },
          "autotypenumbers": "strict",
          "coloraxis": {
           "colorbar": {
            "outlinewidth": 0,
            "ticks": ""
           }
          },
          "colorscale": {
           "diverging": [
            [
             0,
             "#8e0152"
            ],
            [
             0.1,
             "#c51b7d"
            ],
            [
             0.2,
             "#de77ae"
            ],
            [
             0.3,
             "#f1b6da"
            ],
            [
             0.4,
             "#fde0ef"
            ],
            [
             0.5,
             "#f7f7f7"
            ],
            [
             0.6,
             "#e6f5d0"
            ],
            [
             0.7,
             "#b8e186"
            ],
            [
             0.8,
             "#7fbc41"
            ],
            [
             0.9,
             "#4d9221"
            ],
            [
             1,
             "#276419"
            ]
           ],
           "sequential": [
            [
             0,
             "#0d0887"
            ],
            [
             0.1111111111111111,
             "#46039f"
            ],
            [
             0.2222222222222222,
             "#7201a8"
            ],
            [
             0.3333333333333333,
             "#9c179e"
            ],
            [
             0.4444444444444444,
             "#bd3786"
            ],
            [
             0.5555555555555556,
             "#d8576b"
            ],
            [
             0.6666666666666666,
             "#ed7953"
            ],
            [
             0.7777777777777778,
             "#fb9f3a"
            ],
            [
             0.8888888888888888,
             "#fdca26"
            ],
            [
             1,
             "#f0f921"
            ]
           ],
           "sequentialminus": [
            [
             0,
             "#0d0887"
            ],
            [
             0.1111111111111111,
             "#46039f"
            ],
            [
             0.2222222222222222,
             "#7201a8"
            ],
            [
             0.3333333333333333,
             "#9c179e"
            ],
            [
             0.4444444444444444,
             "#bd3786"
            ],
            [
             0.5555555555555556,
             "#d8576b"
            ],
            [
             0.6666666666666666,
             "#ed7953"
            ],
            [
             0.7777777777777778,
             "#fb9f3a"
            ],
            [
             0.8888888888888888,
             "#fdca26"
            ],
            [
             1,
             "#f0f921"
            ]
           ]
          },
          "colorway": [
           "#636efa",
           "#EF553B",
           "#00cc96",
           "#ab63fa",
           "#FFA15A",
           "#19d3f3",
           "#FF6692",
           "#B6E880",
           "#FF97FF",
           "#FECB52"
          ],
          "font": {
           "color": "#2a3f5f"
          },
          "geo": {
           "bgcolor": "white",
           "lakecolor": "white",
           "landcolor": "#E5ECF6",
           "showlakes": true,
           "showland": true,
           "subunitcolor": "white"
          },
          "hoverlabel": {
           "align": "left"
          },
          "hovermode": "closest",
          "mapbox": {
           "style": "light"
          },
          "paper_bgcolor": "white",
          "plot_bgcolor": "#E5ECF6",
          "polar": {
           "angularaxis": {
            "gridcolor": "white",
            "linecolor": "white",
            "ticks": ""
           },
           "bgcolor": "#E5ECF6",
           "radialaxis": {
            "gridcolor": "white",
            "linecolor": "white",
            "ticks": ""
           }
          },
          "scene": {
           "xaxis": {
            "backgroundcolor": "#E5ECF6",
            "gridcolor": "white",
            "gridwidth": 2,
            "linecolor": "white",
            "showbackground": true,
            "ticks": "",
            "zerolinecolor": "white"
           },
           "yaxis": {
            "backgroundcolor": "#E5ECF6",
            "gridcolor": "white",
            "gridwidth": 2,
            "linecolor": "white",
            "showbackground": true,
            "ticks": "",
            "zerolinecolor": "white"
           },
           "zaxis": {
            "backgroundcolor": "#E5ECF6",
            "gridcolor": "white",
            "gridwidth": 2,
            "linecolor": "white",
            "showbackground": true,
            "ticks": "",
            "zerolinecolor": "white"
           }
          },
          "shapedefaults": {
           "line": {
            "color": "#2a3f5f"
           }
          },
          "ternary": {
           "aaxis": {
            "gridcolor": "white",
            "linecolor": "white",
            "ticks": ""
           },
           "baxis": {
            "gridcolor": "white",
            "linecolor": "white",
            "ticks": ""
           },
           "bgcolor": "#E5ECF6",
           "caxis": {
            "gridcolor": "white",
            "linecolor": "white",
            "ticks": ""
           }
          },
          "title": {
           "x": 0.05
          },
          "xaxis": {
           "automargin": true,
           "gridcolor": "white",
           "linecolor": "white",
           "ticks": "",
           "title": {
            "standoff": 15
           },
           "zerolinecolor": "white",
           "zerolinewidth": 2
          },
          "yaxis": {
           "automargin": true,
           "gridcolor": "white",
           "linecolor": "white",
           "ticks": "",
           "title": {
            "standoff": 15
           },
           "zerolinecolor": "white",
           "zerolinewidth": 2
          }
         }
        },
        "title": {
         "font": {
          "color": "#4D5663"
         }
        },
        "xaxis": {
         "gridcolor": "#E1E5ED",
         "showgrid": true,
         "tickfont": {
          "color": "#4D5663"
         },
         "title": {
          "font": {
           "color": "#4D5663"
          },
          "text": ""
         },
         "zerolinecolor": "#E1E5ED"
        },
        "yaxis": {
         "gridcolor": "#E1E5ED",
         "showgrid": true,
         "tickfont": {
          "color": "#4D5663"
         },
         "title": {
          "font": {
           "color": "#4D5663"
          },
          "text": ""
         },
         "zerolinecolor": "#E1E5ED"
        }
       }
      },
      "text/html": [
       "<div>                            <div id=\"31142665-f85e-4640-9c35-29427489b4df\" class=\"plotly-graph-div\" style=\"height:525px; width:100%;\"></div>            <script type=\"text/javascript\">                require([\"plotly\"], function(Plotly) {                    window.PLOTLYENV=window.PLOTLYENV || {};\n",
       "                    window.PLOTLYENV.BASE_URL='https://plot.ly';                                    if (document.getElementById(\"31142665-f85e-4640-9c35-29427489b4df\")) {                    Plotly.newPlot(                        \"31142665-f85e-4640-9c35-29427489b4df\",                        [{\"colorscale\":[[0.0,\"rgb(165,0,38)\"],[0.1,\"rgb(215,48,39)\"],[0.2,\"rgb(244,109,67)\"],[0.3,\"rgb(253,174,97)\"],[0.4,\"rgb(254,224,144)\"],[0.5,\"rgb(255,255,191)\"],[0.6,\"rgb(224,243,248)\"],[0.7,\"rgb(171,217,233)\"],[0.8,\"rgb(116,173,209)\"],[0.9,\"rgb(69,117,180)\"],[1.0,\"rgb(49,54,149)\"]],\"x\":[0,1,2,3,4],\"y\":[\"x\",\"y\",\"z\"],\"z\":[[1,2,3,4,5],[10,20,30,40,50],[5,4,3,2,1]],\"type\":\"surface\"}],                        {\"legend\":{\"bgcolor\":\"#F5F6F9\",\"font\":{\"color\":\"#4D5663\"}},\"paper_bgcolor\":\"#F5F6F9\",\"plot_bgcolor\":\"#F5F6F9\",\"template\":{\"data\":{\"barpolar\":[{\"marker\":{\"line\":{\"color\":\"#E5ECF6\",\"width\":0.5},\"pattern\":{\"fillmode\":\"overlay\",\"size\":10,\"solidity\":0.2}},\"type\":\"barpolar\"}],\"bar\":[{\"error_x\":{\"color\":\"#2a3f5f\"},\"error_y\":{\"color\":\"#2a3f5f\"},\"marker\":{\"line\":{\"color\":\"#E5ECF6\",\"width\":0.5},\"pattern\":{\"fillmode\":\"overlay\",\"size\":10,\"solidity\":0.2}},\"type\":\"bar\"}],\"carpet\":[{\"aaxis\":{\"endlinecolor\":\"#2a3f5f\",\"gridcolor\":\"white\",\"linecolor\":\"white\",\"minorgridcolor\":\"white\",\"startlinecolor\":\"#2a3f5f\"},\"baxis\":{\"endlinecolor\":\"#2a3f5f\",\"gridcolor\":\"white\",\"linecolor\":\"white\",\"minorgridcolor\":\"white\",\"startlinecolor\":\"#2a3f5f\"},\"type\":\"carpet\"}],\"choropleth\":[{\"colorbar\":{\"outlinewidth\":0,\"ticks\":\"\"},\"type\":\"choropleth\"}],\"contourcarpet\":[{\"colorbar\":{\"outlinewidth\":0,\"ticks\":\"\"},\"type\":\"contourcarpet\"}],\"contour\":[{\"colorbar\":{\"outlinewidth\":0,\"ticks\":\"\"},\"colorscale\":[[0.0,\"#0d0887\"],[0.1111111111111111,\"#46039f\"],[0.2222222222222222,\"#7201a8\"],[0.3333333333333333,\"#9c179e\"],[0.4444444444444444,\"#bd3786\"],[0.5555555555555556,\"#d8576b\"],[0.6666666666666666,\"#ed7953\"],[0.7777777777777778,\"#fb9f3a\"],[0.8888888888888888,\"#fdca26\"],[1.0,\"#f0f921\"]],\"type\":\"contour\"}],\"heatmapgl\":[{\"colorbar\":{\"outlinewidth\":0,\"ticks\":\"\"},\"colorscale\":[[0.0,\"#0d0887\"],[0.1111111111111111,\"#46039f\"],[0.2222222222222222,\"#7201a8\"],[0.3333333333333333,\"#9c179e\"],[0.4444444444444444,\"#bd3786\"],[0.5555555555555556,\"#d8576b\"],[0.6666666666666666,\"#ed7953\"],[0.7777777777777778,\"#fb9f3a\"],[0.8888888888888888,\"#fdca26\"],[1.0,\"#f0f921\"]],\"type\":\"heatmapgl\"}],\"heatmap\":[{\"colorbar\":{\"outlinewidth\":0,\"ticks\":\"\"},\"colorscale\":[[0.0,\"#0d0887\"],[0.1111111111111111,\"#46039f\"],[0.2222222222222222,\"#7201a8\"],[0.3333333333333333,\"#9c179e\"],[0.4444444444444444,\"#bd3786\"],[0.5555555555555556,\"#d8576b\"],[0.6666666666666666,\"#ed7953\"],[0.7777777777777778,\"#fb9f3a\"],[0.8888888888888888,\"#fdca26\"],[1.0,\"#f0f921\"]],\"type\":\"heatmap\"}],\"histogram2dcontour\":[{\"colorbar\":{\"outlinewidth\":0,\"ticks\":\"\"},\"colorscale\":[[0.0,\"#0d0887\"],[0.1111111111111111,\"#46039f\"],[0.2222222222222222,\"#7201a8\"],[0.3333333333333333,\"#9c179e\"],[0.4444444444444444,\"#bd3786\"],[0.5555555555555556,\"#d8576b\"],[0.6666666666666666,\"#ed7953\"],[0.7777777777777778,\"#fb9f3a\"],[0.8888888888888888,\"#fdca26\"],[1.0,\"#f0f921\"]],\"type\":\"histogram2dcontour\"}],\"histogram2d\":[{\"colorbar\":{\"outlinewidth\":0,\"ticks\":\"\"},\"colorscale\":[[0.0,\"#0d0887\"],[0.1111111111111111,\"#46039f\"],[0.2222222222222222,\"#7201a8\"],[0.3333333333333333,\"#9c179e\"],[0.4444444444444444,\"#bd3786\"],[0.5555555555555556,\"#d8576b\"],[0.6666666666666666,\"#ed7953\"],[0.7777777777777778,\"#fb9f3a\"],[0.8888888888888888,\"#fdca26\"],[1.0,\"#f0f921\"]],\"type\":\"histogram2d\"}],\"histogram\":[{\"marker\":{\"pattern\":{\"fillmode\":\"overlay\",\"size\":10,\"solidity\":0.2}},\"type\":\"histogram\"}],\"mesh3d\":[{\"colorbar\":{\"outlinewidth\":0,\"ticks\":\"\"},\"type\":\"mesh3d\"}],\"parcoords\":[{\"line\":{\"colorbar\":{\"outlinewidth\":0,\"ticks\":\"\"}},\"type\":\"parcoords\"}],\"pie\":[{\"automargin\":true,\"type\":\"pie\"}],\"scatter3d\":[{\"line\":{\"colorbar\":{\"outlinewidth\":0,\"ticks\":\"\"}},\"marker\":{\"colorbar\":{\"outlinewidth\":0,\"ticks\":\"\"}},\"type\":\"scatter3d\"}],\"scattercarpet\":[{\"marker\":{\"colorbar\":{\"outlinewidth\":0,\"ticks\":\"\"}},\"type\":\"scattercarpet\"}],\"scattergeo\":[{\"marker\":{\"colorbar\":{\"outlinewidth\":0,\"ticks\":\"\"}},\"type\":\"scattergeo\"}],\"scattergl\":[{\"marker\":{\"colorbar\":{\"outlinewidth\":0,\"ticks\":\"\"}},\"type\":\"scattergl\"}],\"scattermapbox\":[{\"marker\":{\"colorbar\":{\"outlinewidth\":0,\"ticks\":\"\"}},\"type\":\"scattermapbox\"}],\"scatterpolargl\":[{\"marker\":{\"colorbar\":{\"outlinewidth\":0,\"ticks\":\"\"}},\"type\":\"scatterpolargl\"}],\"scatterpolar\":[{\"marker\":{\"colorbar\":{\"outlinewidth\":0,\"ticks\":\"\"}},\"type\":\"scatterpolar\"}],\"scatter\":[{\"fillpattern\":{\"fillmode\":\"overlay\",\"size\":10,\"solidity\":0.2},\"type\":\"scatter\"}],\"scatterternary\":[{\"marker\":{\"colorbar\":{\"outlinewidth\":0,\"ticks\":\"\"}},\"type\":\"scatterternary\"}],\"surface\":[{\"colorbar\":{\"outlinewidth\":0,\"ticks\":\"\"},\"colorscale\":[[0.0,\"#0d0887\"],[0.1111111111111111,\"#46039f\"],[0.2222222222222222,\"#7201a8\"],[0.3333333333333333,\"#9c179e\"],[0.4444444444444444,\"#bd3786\"],[0.5555555555555556,\"#d8576b\"],[0.6666666666666666,\"#ed7953\"],[0.7777777777777778,\"#fb9f3a\"],[0.8888888888888888,\"#fdca26\"],[1.0,\"#f0f921\"]],\"type\":\"surface\"}],\"table\":[{\"cells\":{\"fill\":{\"color\":\"#EBF0F8\"},\"line\":{\"color\":\"white\"}},\"header\":{\"fill\":{\"color\":\"#C8D4E3\"},\"line\":{\"color\":\"white\"}},\"type\":\"table\"}]},\"layout\":{\"annotationdefaults\":{\"arrowcolor\":\"#2a3f5f\",\"arrowhead\":0,\"arrowwidth\":1},\"autotypenumbers\":\"strict\",\"coloraxis\":{\"colorbar\":{\"outlinewidth\":0,\"ticks\":\"\"}},\"colorscale\":{\"diverging\":[[0,\"#8e0152\"],[0.1,\"#c51b7d\"],[0.2,\"#de77ae\"],[0.3,\"#f1b6da\"],[0.4,\"#fde0ef\"],[0.5,\"#f7f7f7\"],[0.6,\"#e6f5d0\"],[0.7,\"#b8e186\"],[0.8,\"#7fbc41\"],[0.9,\"#4d9221\"],[1,\"#276419\"]],\"sequential\":[[0.0,\"#0d0887\"],[0.1111111111111111,\"#46039f\"],[0.2222222222222222,\"#7201a8\"],[0.3333333333333333,\"#9c179e\"],[0.4444444444444444,\"#bd3786\"],[0.5555555555555556,\"#d8576b\"],[0.6666666666666666,\"#ed7953\"],[0.7777777777777778,\"#fb9f3a\"],[0.8888888888888888,\"#fdca26\"],[1.0,\"#f0f921\"]],\"sequentialminus\":[[0.0,\"#0d0887\"],[0.1111111111111111,\"#46039f\"],[0.2222222222222222,\"#7201a8\"],[0.3333333333333333,\"#9c179e\"],[0.4444444444444444,\"#bd3786\"],[0.5555555555555556,\"#d8576b\"],[0.6666666666666666,\"#ed7953\"],[0.7777777777777778,\"#fb9f3a\"],[0.8888888888888888,\"#fdca26\"],[1.0,\"#f0f921\"]]},\"colorway\":[\"#636efa\",\"#EF553B\",\"#00cc96\",\"#ab63fa\",\"#FFA15A\",\"#19d3f3\",\"#FF6692\",\"#B6E880\",\"#FF97FF\",\"#FECB52\"],\"font\":{\"color\":\"#2a3f5f\"},\"geo\":{\"bgcolor\":\"white\",\"lakecolor\":\"white\",\"landcolor\":\"#E5ECF6\",\"showlakes\":true,\"showland\":true,\"subunitcolor\":\"white\"},\"hoverlabel\":{\"align\":\"left\"},\"hovermode\":\"closest\",\"mapbox\":{\"style\":\"light\"},\"paper_bgcolor\":\"white\",\"plot_bgcolor\":\"#E5ECF6\",\"polar\":{\"angularaxis\":{\"gridcolor\":\"white\",\"linecolor\":\"white\",\"ticks\":\"\"},\"bgcolor\":\"#E5ECF6\",\"radialaxis\":{\"gridcolor\":\"white\",\"linecolor\":\"white\",\"ticks\":\"\"}},\"scene\":{\"xaxis\":{\"backgroundcolor\":\"#E5ECF6\",\"gridcolor\":\"white\",\"gridwidth\":2,\"linecolor\":\"white\",\"showbackground\":true,\"ticks\":\"\",\"zerolinecolor\":\"white\"},\"yaxis\":{\"backgroundcolor\":\"#E5ECF6\",\"gridcolor\":\"white\",\"gridwidth\":2,\"linecolor\":\"white\",\"showbackground\":true,\"ticks\":\"\",\"zerolinecolor\":\"white\"},\"zaxis\":{\"backgroundcolor\":\"#E5ECF6\",\"gridcolor\":\"white\",\"gridwidth\":2,\"linecolor\":\"white\",\"showbackground\":true,\"ticks\":\"\",\"zerolinecolor\":\"white\"}},\"shapedefaults\":{\"line\":{\"color\":\"#2a3f5f\"}},\"ternary\":{\"aaxis\":{\"gridcolor\":\"white\",\"linecolor\":\"white\",\"ticks\":\"\"},\"baxis\":{\"gridcolor\":\"white\",\"linecolor\":\"white\",\"ticks\":\"\"},\"bgcolor\":\"#E5ECF6\",\"caxis\":{\"gridcolor\":\"white\",\"linecolor\":\"white\",\"ticks\":\"\"}},\"title\":{\"x\":0.05},\"xaxis\":{\"automargin\":true,\"gridcolor\":\"white\",\"linecolor\":\"white\",\"ticks\":\"\",\"title\":{\"standoff\":15},\"zerolinecolor\":\"white\",\"zerolinewidth\":2},\"yaxis\":{\"automargin\":true,\"gridcolor\":\"white\",\"linecolor\":\"white\",\"ticks\":\"\",\"title\":{\"standoff\":15},\"zerolinecolor\":\"white\",\"zerolinewidth\":2}}},\"title\":{\"font\":{\"color\":\"#4D5663\"}},\"xaxis\":{\"gridcolor\":\"#E1E5ED\",\"showgrid\":true,\"tickfont\":{\"color\":\"#4D5663\"},\"title\":{\"font\":{\"color\":\"#4D5663\"},\"text\":\"\"},\"zerolinecolor\":\"#E1E5ED\"},\"yaxis\":{\"gridcolor\":\"#E1E5ED\",\"showgrid\":true,\"tickfont\":{\"color\":\"#4D5663\"},\"title\":{\"font\":{\"color\":\"#4D5663\"},\"text\":\"\"},\"zerolinecolor\":\"#E1E5ED\"}},                        {\"showLink\": true, \"linkText\": \"Export to plot.ly\", \"plotlyServerURL\": \"https://plot.ly\", \"responsive\": true}                    ).then(function(){\n",
       "                            \n",
       "var gd = document.getElementById('31142665-f85e-4640-9c35-29427489b4df');\n",
       "var x = new MutationObserver(function (mutations, observer) {{\n",
       "        var display = window.getComputedStyle(gd).display;\n",
       "        if (!display || display === 'none') {{\n",
       "            console.log([gd, 'removed!']);\n",
       "            Plotly.purge(gd);\n",
       "            observer.disconnect();\n",
       "        }}\n",
       "}});\n",
       "\n",
       "// Listen for the removal of the full notebook cells\n",
       "var notebookContainer = gd.closest('#notebook-container');\n",
       "if (notebookContainer) {{\n",
       "    x.observe(notebookContainer, {childList: true});\n",
       "}}\n",
       "\n",
       "// Listen for the clearing of the current output cell\n",
       "var outputEl = gd.closest('.output');\n",
       "if (outputEl) {{\n",
       "    x.observe(outputEl, {childList: true});\n",
       "}}\n",
       "\n",
       "                        })                };                });            </script>        </div>"
      ]
     },
     "metadata": {},
     "output_type": "display_data"
    }
   ],
   "source": [
    "df3.iplot(kind='surface',colorscale='rdylbu')"
   ]
  },
  {
   "cell_type": "code",
   "execution_count": 23,
   "id": "0106bee6",
   "metadata": {},
   "outputs": [
    {
     "data": {
      "application/vnd.plotly.v1+json": {
       "config": {
        "linkText": "Export to plot.ly",
        "plotlyServerURL": "https://plot.ly",
        "showLink": true
       },
       "data": [
        {
         "histfunc": "count",
         "histnorm": "",
         "marker": {
          "color": "rgba(255, 153, 51, 1.0)",
          "line": {
           "color": "#4D5663",
           "width": 1.3
          }
         },
         "name": "A",
         "nbinsx": 25,
         "opacity": 0.8,
         "orientation": "v",
         "type": "histogram",
         "x": [
          -0.5926298961513271,
          0.25673020586304807,
          -0.43782540602292713,
          1.0534689198889642,
          -0.9919513407195126,
          1.611767926213217,
          0.06330100258337129,
          -0.7794590258443483,
          1.3213895611178617,
          2.0428480315223823,
          1.3942054388325047,
          -1.0038641189563902,
          0.38499375800912655,
          0.43771904183757787,
          -0.03450546160271116,
          1.053234080805073,
          2.0397975570567692,
          0.385375865370009,
          1.7676509480340017,
          -0.6649155567520971,
          1.436288459640299,
          -0.4036051333866007,
          0.09260910325620314,
          -0.6542216569397591,
          1.4741915479685124,
          0.9051017853546715,
          -2.196271747394207,
          -0.11339517644243712,
          -0.4449131865951581,
          -0.22841259825041527,
          0.8679037688166911,
          -0.8281381473996741,
          -0.3197383644114914,
          -0.22840516815474368,
          2.853834584156512,
          0.6216999835149216,
          1.5240921155040292,
          -0.31203354460191196,
          0.08094205015951837,
          0.015646307251275072,
          1.7932205291927203,
          0.4653034182676237,
          1.1593511785630377,
          1.5737474570494507,
          1.1662651409043536,
          -0.13617317080506597,
          -1.6664432754952285,
          0.6658652654155452,
          -0.5158901261812123,
          -0.9417598894899648,
          0.5250610445322508,
          1.1998623089464961,
          -0.3229256151506854,
          -1.2920143018845127,
          -0.05205440705465112,
          0.26600301743930166,
          -0.9644056385681528,
          2.4529695305287142,
          2.713126831567635,
          0.23352598710271472,
          0.24763388006906298,
          -1.2243351213532416,
          0.41903421957586184,
          0.48867062808082373,
          -0.7861677504690421,
          -1.2514626078351387,
          0.21186021746577036,
          -0.06017875815427523,
          2.3055917858896997,
          -0.72211444002813,
          -0.12793695931512533,
          -0.007755887247505297,
          -1.0097227248055003,
          0.6030326691920733,
          -0.1739761026833534,
          0.7520083111574457,
          -0.5412741041067098,
          0.12309165184098429,
          0.7562849692392389,
          1.0348364759469733,
          -1.3908296564977056,
          -0.4406362876635684,
          0.574944055766053,
          -0.5819853653510465,
          0.881152636747594,
          0.07868416646062422,
          1.8226632065021642,
          -0.13719437995366995,
          1.1162581459854621,
          -0.7985545018909256,
          0.17241094898690948,
          0.2552260864441374,
          1.0605714157563813,
          0.5179693571027562,
          0.4155143057576676,
          1.4316485846465625,
          -0.7775443753105155,
          -1.063630020330371,
          -0.16289165324194577,
          -0.29531247931902405
         ]
        }
       ],
       "layout": {
        "barmode": "overlay",
        "legend": {
         "bgcolor": "#F5F6F9",
         "font": {
          "color": "#4D5663"
         }
        },
        "paper_bgcolor": "#F5F6F9",
        "plot_bgcolor": "#F5F6F9",
        "template": {
         "data": {
          "bar": [
           {
            "error_x": {
             "color": "#2a3f5f"
            },
            "error_y": {
             "color": "#2a3f5f"
            },
            "marker": {
             "line": {
              "color": "#E5ECF6",
              "width": 0.5
             },
             "pattern": {
              "fillmode": "overlay",
              "size": 10,
              "solidity": 0.2
             }
            },
            "type": "bar"
           }
          ],
          "barpolar": [
           {
            "marker": {
             "line": {
              "color": "#E5ECF6",
              "width": 0.5
             },
             "pattern": {
              "fillmode": "overlay",
              "size": 10,
              "solidity": 0.2
             }
            },
            "type": "barpolar"
           }
          ],
          "carpet": [
           {
            "aaxis": {
             "endlinecolor": "#2a3f5f",
             "gridcolor": "white",
             "linecolor": "white",
             "minorgridcolor": "white",
             "startlinecolor": "#2a3f5f"
            },
            "baxis": {
             "endlinecolor": "#2a3f5f",
             "gridcolor": "white",
             "linecolor": "white",
             "minorgridcolor": "white",
             "startlinecolor": "#2a3f5f"
            },
            "type": "carpet"
           }
          ],
          "choropleth": [
           {
            "colorbar": {
             "outlinewidth": 0,
             "ticks": ""
            },
            "type": "choropleth"
           }
          ],
          "contour": [
           {
            "colorbar": {
             "outlinewidth": 0,
             "ticks": ""
            },
            "colorscale": [
             [
              0,
              "#0d0887"
             ],
             [
              0.1111111111111111,
              "#46039f"
             ],
             [
              0.2222222222222222,
              "#7201a8"
             ],
             [
              0.3333333333333333,
              "#9c179e"
             ],
             [
              0.4444444444444444,
              "#bd3786"
             ],
             [
              0.5555555555555556,
              "#d8576b"
             ],
             [
              0.6666666666666666,
              "#ed7953"
             ],
             [
              0.7777777777777778,
              "#fb9f3a"
             ],
             [
              0.8888888888888888,
              "#fdca26"
             ],
             [
              1,
              "#f0f921"
             ]
            ],
            "type": "contour"
           }
          ],
          "contourcarpet": [
           {
            "colorbar": {
             "outlinewidth": 0,
             "ticks": ""
            },
            "type": "contourcarpet"
           }
          ],
          "heatmap": [
           {
            "colorbar": {
             "outlinewidth": 0,
             "ticks": ""
            },
            "colorscale": [
             [
              0,
              "#0d0887"
             ],
             [
              0.1111111111111111,
              "#46039f"
             ],
             [
              0.2222222222222222,
              "#7201a8"
             ],
             [
              0.3333333333333333,
              "#9c179e"
             ],
             [
              0.4444444444444444,
              "#bd3786"
             ],
             [
              0.5555555555555556,
              "#d8576b"
             ],
             [
              0.6666666666666666,
              "#ed7953"
             ],
             [
              0.7777777777777778,
              "#fb9f3a"
             ],
             [
              0.8888888888888888,
              "#fdca26"
             ],
             [
              1,
              "#f0f921"
             ]
            ],
            "type": "heatmap"
           }
          ],
          "heatmapgl": [
           {
            "colorbar": {
             "outlinewidth": 0,
             "ticks": ""
            },
            "colorscale": [
             [
              0,
              "#0d0887"
             ],
             [
              0.1111111111111111,
              "#46039f"
             ],
             [
              0.2222222222222222,
              "#7201a8"
             ],
             [
              0.3333333333333333,
              "#9c179e"
             ],
             [
              0.4444444444444444,
              "#bd3786"
             ],
             [
              0.5555555555555556,
              "#d8576b"
             ],
             [
              0.6666666666666666,
              "#ed7953"
             ],
             [
              0.7777777777777778,
              "#fb9f3a"
             ],
             [
              0.8888888888888888,
              "#fdca26"
             ],
             [
              1,
              "#f0f921"
             ]
            ],
            "type": "heatmapgl"
           }
          ],
          "histogram": [
           {
            "marker": {
             "pattern": {
              "fillmode": "overlay",
              "size": 10,
              "solidity": 0.2
             }
            },
            "type": "histogram"
           }
          ],
          "histogram2d": [
           {
            "colorbar": {
             "outlinewidth": 0,
             "ticks": ""
            },
            "colorscale": [
             [
              0,
              "#0d0887"
             ],
             [
              0.1111111111111111,
              "#46039f"
             ],
             [
              0.2222222222222222,
              "#7201a8"
             ],
             [
              0.3333333333333333,
              "#9c179e"
             ],
             [
              0.4444444444444444,
              "#bd3786"
             ],
             [
              0.5555555555555556,
              "#d8576b"
             ],
             [
              0.6666666666666666,
              "#ed7953"
             ],
             [
              0.7777777777777778,
              "#fb9f3a"
             ],
             [
              0.8888888888888888,
              "#fdca26"
             ],
             [
              1,
              "#f0f921"
             ]
            ],
            "type": "histogram2d"
           }
          ],
          "histogram2dcontour": [
           {
            "colorbar": {
             "outlinewidth": 0,
             "ticks": ""
            },
            "colorscale": [
             [
              0,
              "#0d0887"
             ],
             [
              0.1111111111111111,
              "#46039f"
             ],
             [
              0.2222222222222222,
              "#7201a8"
             ],
             [
              0.3333333333333333,
              "#9c179e"
             ],
             [
              0.4444444444444444,
              "#bd3786"
             ],
             [
              0.5555555555555556,
              "#d8576b"
             ],
             [
              0.6666666666666666,
              "#ed7953"
             ],
             [
              0.7777777777777778,
              "#fb9f3a"
             ],
             [
              0.8888888888888888,
              "#fdca26"
             ],
             [
              1,
              "#f0f921"
             ]
            ],
            "type": "histogram2dcontour"
           }
          ],
          "mesh3d": [
           {
            "colorbar": {
             "outlinewidth": 0,
             "ticks": ""
            },
            "type": "mesh3d"
           }
          ],
          "parcoords": [
           {
            "line": {
             "colorbar": {
              "outlinewidth": 0,
              "ticks": ""
             }
            },
            "type": "parcoords"
           }
          ],
          "pie": [
           {
            "automargin": true,
            "type": "pie"
           }
          ],
          "scatter": [
           {
            "fillpattern": {
             "fillmode": "overlay",
             "size": 10,
             "solidity": 0.2
            },
            "type": "scatter"
           }
          ],
          "scatter3d": [
           {
            "line": {
             "colorbar": {
              "outlinewidth": 0,
              "ticks": ""
             }
            },
            "marker": {
             "colorbar": {
              "outlinewidth": 0,
              "ticks": ""
             }
            },
            "type": "scatter3d"
           }
          ],
          "scattercarpet": [
           {
            "marker": {
             "colorbar": {
              "outlinewidth": 0,
              "ticks": ""
             }
            },
            "type": "scattercarpet"
           }
          ],
          "scattergeo": [
           {
            "marker": {
             "colorbar": {
              "outlinewidth": 0,
              "ticks": ""
             }
            },
            "type": "scattergeo"
           }
          ],
          "scattergl": [
           {
            "marker": {
             "colorbar": {
              "outlinewidth": 0,
              "ticks": ""
             }
            },
            "type": "scattergl"
           }
          ],
          "scattermapbox": [
           {
            "marker": {
             "colorbar": {
              "outlinewidth": 0,
              "ticks": ""
             }
            },
            "type": "scattermapbox"
           }
          ],
          "scatterpolar": [
           {
            "marker": {
             "colorbar": {
              "outlinewidth": 0,
              "ticks": ""
             }
            },
            "type": "scatterpolar"
           }
          ],
          "scatterpolargl": [
           {
            "marker": {
             "colorbar": {
              "outlinewidth": 0,
              "ticks": ""
             }
            },
            "type": "scatterpolargl"
           }
          ],
          "scatterternary": [
           {
            "marker": {
             "colorbar": {
              "outlinewidth": 0,
              "ticks": ""
             }
            },
            "type": "scatterternary"
           }
          ],
          "surface": [
           {
            "colorbar": {
             "outlinewidth": 0,
             "ticks": ""
            },
            "colorscale": [
             [
              0,
              "#0d0887"
             ],
             [
              0.1111111111111111,
              "#46039f"
             ],
             [
              0.2222222222222222,
              "#7201a8"
             ],
             [
              0.3333333333333333,
              "#9c179e"
             ],
             [
              0.4444444444444444,
              "#bd3786"
             ],
             [
              0.5555555555555556,
              "#d8576b"
             ],
             [
              0.6666666666666666,
              "#ed7953"
             ],
             [
              0.7777777777777778,
              "#fb9f3a"
             ],
             [
              0.8888888888888888,
              "#fdca26"
             ],
             [
              1,
              "#f0f921"
             ]
            ],
            "type": "surface"
           }
          ],
          "table": [
           {
            "cells": {
             "fill": {
              "color": "#EBF0F8"
             },
             "line": {
              "color": "white"
             }
            },
            "header": {
             "fill": {
              "color": "#C8D4E3"
             },
             "line": {
              "color": "white"
             }
            },
            "type": "table"
           }
          ]
         },
         "layout": {
          "annotationdefaults": {
           "arrowcolor": "#2a3f5f",
           "arrowhead": 0,
           "arrowwidth": 1
          },
          "autotypenumbers": "strict",
          "coloraxis": {
           "colorbar": {
            "outlinewidth": 0,
            "ticks": ""
           }
          },
          "colorscale": {
           "diverging": [
            [
             0,
             "#8e0152"
            ],
            [
             0.1,
             "#c51b7d"
            ],
            [
             0.2,
             "#de77ae"
            ],
            [
             0.3,
             "#f1b6da"
            ],
            [
             0.4,
             "#fde0ef"
            ],
            [
             0.5,
             "#f7f7f7"
            ],
            [
             0.6,
             "#e6f5d0"
            ],
            [
             0.7,
             "#b8e186"
            ],
            [
             0.8,
             "#7fbc41"
            ],
            [
             0.9,
             "#4d9221"
            ],
            [
             1,
             "#276419"
            ]
           ],
           "sequential": [
            [
             0,
             "#0d0887"
            ],
            [
             0.1111111111111111,
             "#46039f"
            ],
            [
             0.2222222222222222,
             "#7201a8"
            ],
            [
             0.3333333333333333,
             "#9c179e"
            ],
            [
             0.4444444444444444,
             "#bd3786"
            ],
            [
             0.5555555555555556,
             "#d8576b"
            ],
            [
             0.6666666666666666,
             "#ed7953"
            ],
            [
             0.7777777777777778,
             "#fb9f3a"
            ],
            [
             0.8888888888888888,
             "#fdca26"
            ],
            [
             1,
             "#f0f921"
            ]
           ],
           "sequentialminus": [
            [
             0,
             "#0d0887"
            ],
            [
             0.1111111111111111,
             "#46039f"
            ],
            [
             0.2222222222222222,
             "#7201a8"
            ],
            [
             0.3333333333333333,
             "#9c179e"
            ],
            [
             0.4444444444444444,
             "#bd3786"
            ],
            [
             0.5555555555555556,
             "#d8576b"
            ],
            [
             0.6666666666666666,
             "#ed7953"
            ],
            [
             0.7777777777777778,
             "#fb9f3a"
            ],
            [
             0.8888888888888888,
             "#fdca26"
            ],
            [
             1,
             "#f0f921"
            ]
           ]
          },
          "colorway": [
           "#636efa",
           "#EF553B",
           "#00cc96",
           "#ab63fa",
           "#FFA15A",
           "#19d3f3",
           "#FF6692",
           "#B6E880",
           "#FF97FF",
           "#FECB52"
          ],
          "font": {
           "color": "#2a3f5f"
          },
          "geo": {
           "bgcolor": "white",
           "lakecolor": "white",
           "landcolor": "#E5ECF6",
           "showlakes": true,
           "showland": true,
           "subunitcolor": "white"
          },
          "hoverlabel": {
           "align": "left"
          },
          "hovermode": "closest",
          "mapbox": {
           "style": "light"
          },
          "paper_bgcolor": "white",
          "plot_bgcolor": "#E5ECF6",
          "polar": {
           "angularaxis": {
            "gridcolor": "white",
            "linecolor": "white",
            "ticks": ""
           },
           "bgcolor": "#E5ECF6",
           "radialaxis": {
            "gridcolor": "white",
            "linecolor": "white",
            "ticks": ""
           }
          },
          "scene": {
           "xaxis": {
            "backgroundcolor": "#E5ECF6",
            "gridcolor": "white",
            "gridwidth": 2,
            "linecolor": "white",
            "showbackground": true,
            "ticks": "",
            "zerolinecolor": "white"
           },
           "yaxis": {
            "backgroundcolor": "#E5ECF6",
            "gridcolor": "white",
            "gridwidth": 2,
            "linecolor": "white",
            "showbackground": true,
            "ticks": "",
            "zerolinecolor": "white"
           },
           "zaxis": {
            "backgroundcolor": "#E5ECF6",
            "gridcolor": "white",
            "gridwidth": 2,
            "linecolor": "white",
            "showbackground": true,
            "ticks": "",
            "zerolinecolor": "white"
           }
          },
          "shapedefaults": {
           "line": {
            "color": "#2a3f5f"
           }
          },
          "ternary": {
           "aaxis": {
            "gridcolor": "white",
            "linecolor": "white",
            "ticks": ""
           },
           "baxis": {
            "gridcolor": "white",
            "linecolor": "white",
            "ticks": ""
           },
           "bgcolor": "#E5ECF6",
           "caxis": {
            "gridcolor": "white",
            "linecolor": "white",
            "ticks": ""
           }
          },
          "title": {
           "x": 0.05
          },
          "xaxis": {
           "automargin": true,
           "gridcolor": "white",
           "linecolor": "white",
           "ticks": "",
           "title": {
            "standoff": 15
           },
           "zerolinecolor": "white",
           "zerolinewidth": 2
          },
          "yaxis": {
           "automargin": true,
           "gridcolor": "white",
           "linecolor": "white",
           "ticks": "",
           "title": {
            "standoff": 15
           },
           "zerolinecolor": "white",
           "zerolinewidth": 2
          }
         }
        },
        "title": {
         "font": {
          "color": "#4D5663"
         }
        },
        "xaxis": {
         "gridcolor": "#E1E5ED",
         "showgrid": true,
         "tickfont": {
          "color": "#4D5663"
         },
         "title": {
          "font": {
           "color": "#4D5663"
          },
          "text": ""
         },
         "zerolinecolor": "#E1E5ED"
        },
        "yaxis": {
         "gridcolor": "#E1E5ED",
         "showgrid": true,
         "tickfont": {
          "color": "#4D5663"
         },
         "title": {
          "font": {
           "color": "#4D5663"
          },
          "text": ""
         },
         "zerolinecolor": "#E1E5ED"
        }
       }
      },
      "text/html": [
       "<div>                            <div id=\"d352790a-6dd8-4c90-83dd-b35f981b935a\" class=\"plotly-graph-div\" style=\"height:525px; width:100%;\"></div>            <script type=\"text/javascript\">                require([\"plotly\"], function(Plotly) {                    window.PLOTLYENV=window.PLOTLYENV || {};\n",
       "                    window.PLOTLYENV.BASE_URL='https://plot.ly';                                    if (document.getElementById(\"d352790a-6dd8-4c90-83dd-b35f981b935a\")) {                    Plotly.newPlot(                        \"d352790a-6dd8-4c90-83dd-b35f981b935a\",                        [{\"histfunc\":\"count\",\"histnorm\":\"\",\"marker\":{\"color\":\"rgba(255, 153, 51, 1.0)\",\"line\":{\"color\":\"#4D5663\",\"width\":1.3}},\"name\":\"A\",\"nbinsx\":25,\"opacity\":0.8,\"orientation\":\"v\",\"x\":[-0.5926298961513271,0.25673020586304807,-0.43782540602292713,1.0534689198889642,-0.9919513407195126,1.611767926213217,0.06330100258337129,-0.7794590258443483,1.3213895611178617,2.0428480315223823,1.3942054388325047,-1.0038641189563902,0.38499375800912655,0.43771904183757787,-0.03450546160271116,1.053234080805073,2.0397975570567692,0.385375865370009,1.7676509480340017,-0.6649155567520971,1.436288459640299,-0.4036051333866007,0.09260910325620314,-0.6542216569397591,1.4741915479685124,0.9051017853546715,-2.196271747394207,-0.11339517644243712,-0.4449131865951581,-0.22841259825041527,0.8679037688166911,-0.8281381473996741,-0.3197383644114914,-0.22840516815474368,2.853834584156512,0.6216999835149216,1.5240921155040292,-0.31203354460191196,0.08094205015951837,0.015646307251275072,1.7932205291927203,0.4653034182676237,1.1593511785630377,1.5737474570494507,1.1662651409043536,-0.13617317080506597,-1.6664432754952285,0.6658652654155452,-0.5158901261812123,-0.9417598894899648,0.5250610445322508,1.1998623089464961,-0.3229256151506854,-1.2920143018845127,-0.05205440705465112,0.26600301743930166,-0.9644056385681528,2.4529695305287142,2.713126831567635,0.23352598710271472,0.24763388006906298,-1.2243351213532416,0.41903421957586184,0.48867062808082373,-0.7861677504690421,-1.2514626078351387,0.21186021746577036,-0.06017875815427523,2.3055917858896997,-0.72211444002813,-0.12793695931512533,-0.007755887247505297,-1.0097227248055003,0.6030326691920733,-0.1739761026833534,0.7520083111574457,-0.5412741041067098,0.12309165184098429,0.7562849692392389,1.0348364759469733,-1.3908296564977056,-0.4406362876635684,0.574944055766053,-0.5819853653510465,0.881152636747594,0.07868416646062422,1.8226632065021642,-0.13719437995366995,1.1162581459854621,-0.7985545018909256,0.17241094898690948,0.2552260864441374,1.0605714157563813,0.5179693571027562,0.4155143057576676,1.4316485846465625,-0.7775443753105155,-1.063630020330371,-0.16289165324194577,-0.29531247931902405],\"type\":\"histogram\"}],                        {\"barmode\":\"overlay\",\"legend\":{\"bgcolor\":\"#F5F6F9\",\"font\":{\"color\":\"#4D5663\"}},\"paper_bgcolor\":\"#F5F6F9\",\"plot_bgcolor\":\"#F5F6F9\",\"template\":{\"data\":{\"barpolar\":[{\"marker\":{\"line\":{\"color\":\"#E5ECF6\",\"width\":0.5},\"pattern\":{\"fillmode\":\"overlay\",\"size\":10,\"solidity\":0.2}},\"type\":\"barpolar\"}],\"bar\":[{\"error_x\":{\"color\":\"#2a3f5f\"},\"error_y\":{\"color\":\"#2a3f5f\"},\"marker\":{\"line\":{\"color\":\"#E5ECF6\",\"width\":0.5},\"pattern\":{\"fillmode\":\"overlay\",\"size\":10,\"solidity\":0.2}},\"type\":\"bar\"}],\"carpet\":[{\"aaxis\":{\"endlinecolor\":\"#2a3f5f\",\"gridcolor\":\"white\",\"linecolor\":\"white\",\"minorgridcolor\":\"white\",\"startlinecolor\":\"#2a3f5f\"},\"baxis\":{\"endlinecolor\":\"#2a3f5f\",\"gridcolor\":\"white\",\"linecolor\":\"white\",\"minorgridcolor\":\"white\",\"startlinecolor\":\"#2a3f5f\"},\"type\":\"carpet\"}],\"choropleth\":[{\"colorbar\":{\"outlinewidth\":0,\"ticks\":\"\"},\"type\":\"choropleth\"}],\"contourcarpet\":[{\"colorbar\":{\"outlinewidth\":0,\"ticks\":\"\"},\"type\":\"contourcarpet\"}],\"contour\":[{\"colorbar\":{\"outlinewidth\":0,\"ticks\":\"\"},\"colorscale\":[[0.0,\"#0d0887\"],[0.1111111111111111,\"#46039f\"],[0.2222222222222222,\"#7201a8\"],[0.3333333333333333,\"#9c179e\"],[0.4444444444444444,\"#bd3786\"],[0.5555555555555556,\"#d8576b\"],[0.6666666666666666,\"#ed7953\"],[0.7777777777777778,\"#fb9f3a\"],[0.8888888888888888,\"#fdca26\"],[1.0,\"#f0f921\"]],\"type\":\"contour\"}],\"heatmapgl\":[{\"colorbar\":{\"outlinewidth\":0,\"ticks\":\"\"},\"colorscale\":[[0.0,\"#0d0887\"],[0.1111111111111111,\"#46039f\"],[0.2222222222222222,\"#7201a8\"],[0.3333333333333333,\"#9c179e\"],[0.4444444444444444,\"#bd3786\"],[0.5555555555555556,\"#d8576b\"],[0.6666666666666666,\"#ed7953\"],[0.7777777777777778,\"#fb9f3a\"],[0.8888888888888888,\"#fdca26\"],[1.0,\"#f0f921\"]],\"type\":\"heatmapgl\"}],\"heatmap\":[{\"colorbar\":{\"outlinewidth\":0,\"ticks\":\"\"},\"colorscale\":[[0.0,\"#0d0887\"],[0.1111111111111111,\"#46039f\"],[0.2222222222222222,\"#7201a8\"],[0.3333333333333333,\"#9c179e\"],[0.4444444444444444,\"#bd3786\"],[0.5555555555555556,\"#d8576b\"],[0.6666666666666666,\"#ed7953\"],[0.7777777777777778,\"#fb9f3a\"],[0.8888888888888888,\"#fdca26\"],[1.0,\"#f0f921\"]],\"type\":\"heatmap\"}],\"histogram2dcontour\":[{\"colorbar\":{\"outlinewidth\":0,\"ticks\":\"\"},\"colorscale\":[[0.0,\"#0d0887\"],[0.1111111111111111,\"#46039f\"],[0.2222222222222222,\"#7201a8\"],[0.3333333333333333,\"#9c179e\"],[0.4444444444444444,\"#bd3786\"],[0.5555555555555556,\"#d8576b\"],[0.6666666666666666,\"#ed7953\"],[0.7777777777777778,\"#fb9f3a\"],[0.8888888888888888,\"#fdca26\"],[1.0,\"#f0f921\"]],\"type\":\"histogram2dcontour\"}],\"histogram2d\":[{\"colorbar\":{\"outlinewidth\":0,\"ticks\":\"\"},\"colorscale\":[[0.0,\"#0d0887\"],[0.1111111111111111,\"#46039f\"],[0.2222222222222222,\"#7201a8\"],[0.3333333333333333,\"#9c179e\"],[0.4444444444444444,\"#bd3786\"],[0.5555555555555556,\"#d8576b\"],[0.6666666666666666,\"#ed7953\"],[0.7777777777777778,\"#fb9f3a\"],[0.8888888888888888,\"#fdca26\"],[1.0,\"#f0f921\"]],\"type\":\"histogram2d\"}],\"histogram\":[{\"marker\":{\"pattern\":{\"fillmode\":\"overlay\",\"size\":10,\"solidity\":0.2}},\"type\":\"histogram\"}],\"mesh3d\":[{\"colorbar\":{\"outlinewidth\":0,\"ticks\":\"\"},\"type\":\"mesh3d\"}],\"parcoords\":[{\"line\":{\"colorbar\":{\"outlinewidth\":0,\"ticks\":\"\"}},\"type\":\"parcoords\"}],\"pie\":[{\"automargin\":true,\"type\":\"pie\"}],\"scatter3d\":[{\"line\":{\"colorbar\":{\"outlinewidth\":0,\"ticks\":\"\"}},\"marker\":{\"colorbar\":{\"outlinewidth\":0,\"ticks\":\"\"}},\"type\":\"scatter3d\"}],\"scattercarpet\":[{\"marker\":{\"colorbar\":{\"outlinewidth\":0,\"ticks\":\"\"}},\"type\":\"scattercarpet\"}],\"scattergeo\":[{\"marker\":{\"colorbar\":{\"outlinewidth\":0,\"ticks\":\"\"}},\"type\":\"scattergeo\"}],\"scattergl\":[{\"marker\":{\"colorbar\":{\"outlinewidth\":0,\"ticks\":\"\"}},\"type\":\"scattergl\"}],\"scattermapbox\":[{\"marker\":{\"colorbar\":{\"outlinewidth\":0,\"ticks\":\"\"}},\"type\":\"scattermapbox\"}],\"scatterpolargl\":[{\"marker\":{\"colorbar\":{\"outlinewidth\":0,\"ticks\":\"\"}},\"type\":\"scatterpolargl\"}],\"scatterpolar\":[{\"marker\":{\"colorbar\":{\"outlinewidth\":0,\"ticks\":\"\"}},\"type\":\"scatterpolar\"}],\"scatter\":[{\"fillpattern\":{\"fillmode\":\"overlay\",\"size\":10,\"solidity\":0.2},\"type\":\"scatter\"}],\"scatterternary\":[{\"marker\":{\"colorbar\":{\"outlinewidth\":0,\"ticks\":\"\"}},\"type\":\"scatterternary\"}],\"surface\":[{\"colorbar\":{\"outlinewidth\":0,\"ticks\":\"\"},\"colorscale\":[[0.0,\"#0d0887\"],[0.1111111111111111,\"#46039f\"],[0.2222222222222222,\"#7201a8\"],[0.3333333333333333,\"#9c179e\"],[0.4444444444444444,\"#bd3786\"],[0.5555555555555556,\"#d8576b\"],[0.6666666666666666,\"#ed7953\"],[0.7777777777777778,\"#fb9f3a\"],[0.8888888888888888,\"#fdca26\"],[1.0,\"#f0f921\"]],\"type\":\"surface\"}],\"table\":[{\"cells\":{\"fill\":{\"color\":\"#EBF0F8\"},\"line\":{\"color\":\"white\"}},\"header\":{\"fill\":{\"color\":\"#C8D4E3\"},\"line\":{\"color\":\"white\"}},\"type\":\"table\"}]},\"layout\":{\"annotationdefaults\":{\"arrowcolor\":\"#2a3f5f\",\"arrowhead\":0,\"arrowwidth\":1},\"autotypenumbers\":\"strict\",\"coloraxis\":{\"colorbar\":{\"outlinewidth\":0,\"ticks\":\"\"}},\"colorscale\":{\"diverging\":[[0,\"#8e0152\"],[0.1,\"#c51b7d\"],[0.2,\"#de77ae\"],[0.3,\"#f1b6da\"],[0.4,\"#fde0ef\"],[0.5,\"#f7f7f7\"],[0.6,\"#e6f5d0\"],[0.7,\"#b8e186\"],[0.8,\"#7fbc41\"],[0.9,\"#4d9221\"],[1,\"#276419\"]],\"sequential\":[[0.0,\"#0d0887\"],[0.1111111111111111,\"#46039f\"],[0.2222222222222222,\"#7201a8\"],[0.3333333333333333,\"#9c179e\"],[0.4444444444444444,\"#bd3786\"],[0.5555555555555556,\"#d8576b\"],[0.6666666666666666,\"#ed7953\"],[0.7777777777777778,\"#fb9f3a\"],[0.8888888888888888,\"#fdca26\"],[1.0,\"#f0f921\"]],\"sequentialminus\":[[0.0,\"#0d0887\"],[0.1111111111111111,\"#46039f\"],[0.2222222222222222,\"#7201a8\"],[0.3333333333333333,\"#9c179e\"],[0.4444444444444444,\"#bd3786\"],[0.5555555555555556,\"#d8576b\"],[0.6666666666666666,\"#ed7953\"],[0.7777777777777778,\"#fb9f3a\"],[0.8888888888888888,\"#fdca26\"],[1.0,\"#f0f921\"]]},\"colorway\":[\"#636efa\",\"#EF553B\",\"#00cc96\",\"#ab63fa\",\"#FFA15A\",\"#19d3f3\",\"#FF6692\",\"#B6E880\",\"#FF97FF\",\"#FECB52\"],\"font\":{\"color\":\"#2a3f5f\"},\"geo\":{\"bgcolor\":\"white\",\"lakecolor\":\"white\",\"landcolor\":\"#E5ECF6\",\"showlakes\":true,\"showland\":true,\"subunitcolor\":\"white\"},\"hoverlabel\":{\"align\":\"left\"},\"hovermode\":\"closest\",\"mapbox\":{\"style\":\"light\"},\"paper_bgcolor\":\"white\",\"plot_bgcolor\":\"#E5ECF6\",\"polar\":{\"angularaxis\":{\"gridcolor\":\"white\",\"linecolor\":\"white\",\"ticks\":\"\"},\"bgcolor\":\"#E5ECF6\",\"radialaxis\":{\"gridcolor\":\"white\",\"linecolor\":\"white\",\"ticks\":\"\"}},\"scene\":{\"xaxis\":{\"backgroundcolor\":\"#E5ECF6\",\"gridcolor\":\"white\",\"gridwidth\":2,\"linecolor\":\"white\",\"showbackground\":true,\"ticks\":\"\",\"zerolinecolor\":\"white\"},\"yaxis\":{\"backgroundcolor\":\"#E5ECF6\",\"gridcolor\":\"white\",\"gridwidth\":2,\"linecolor\":\"white\",\"showbackground\":true,\"ticks\":\"\",\"zerolinecolor\":\"white\"},\"zaxis\":{\"backgroundcolor\":\"#E5ECF6\",\"gridcolor\":\"white\",\"gridwidth\":2,\"linecolor\":\"white\",\"showbackground\":true,\"ticks\":\"\",\"zerolinecolor\":\"white\"}},\"shapedefaults\":{\"line\":{\"color\":\"#2a3f5f\"}},\"ternary\":{\"aaxis\":{\"gridcolor\":\"white\",\"linecolor\":\"white\",\"ticks\":\"\"},\"baxis\":{\"gridcolor\":\"white\",\"linecolor\":\"white\",\"ticks\":\"\"},\"bgcolor\":\"#E5ECF6\",\"caxis\":{\"gridcolor\":\"white\",\"linecolor\":\"white\",\"ticks\":\"\"}},\"title\":{\"x\":0.05},\"xaxis\":{\"automargin\":true,\"gridcolor\":\"white\",\"linecolor\":\"white\",\"ticks\":\"\",\"title\":{\"standoff\":15},\"zerolinecolor\":\"white\",\"zerolinewidth\":2},\"yaxis\":{\"automargin\":true,\"gridcolor\":\"white\",\"linecolor\":\"white\",\"ticks\":\"\",\"title\":{\"standoff\":15},\"zerolinecolor\":\"white\",\"zerolinewidth\":2}}},\"title\":{\"font\":{\"color\":\"#4D5663\"}},\"xaxis\":{\"gridcolor\":\"#E1E5ED\",\"showgrid\":true,\"tickfont\":{\"color\":\"#4D5663\"},\"title\":{\"font\":{\"color\":\"#4D5663\"},\"text\":\"\"},\"zerolinecolor\":\"#E1E5ED\"},\"yaxis\":{\"gridcolor\":\"#E1E5ED\",\"showgrid\":true,\"tickfont\":{\"color\":\"#4D5663\"},\"title\":{\"font\":{\"color\":\"#4D5663\"},\"text\":\"\"},\"zerolinecolor\":\"#E1E5ED\"}},                        {\"showLink\": true, \"linkText\": \"Export to plot.ly\", \"plotlyServerURL\": \"https://plot.ly\", \"responsive\": true}                    ).then(function(){\n",
       "                            \n",
       "var gd = document.getElementById('d352790a-6dd8-4c90-83dd-b35f981b935a');\n",
       "var x = new MutationObserver(function (mutations, observer) {{\n",
       "        var display = window.getComputedStyle(gd).display;\n",
       "        if (!display || display === 'none') {{\n",
       "            console.log([gd, 'removed!']);\n",
       "            Plotly.purge(gd);\n",
       "            observer.disconnect();\n",
       "        }}\n",
       "}});\n",
       "\n",
       "// Listen for the removal of the full notebook cells\n",
       "var notebookContainer = gd.closest('#notebook-container');\n",
       "if (notebookContainer) {{\n",
       "    x.observe(notebookContainer, {childList: true});\n",
       "}}\n",
       "\n",
       "// Listen for the clearing of the current output cell\n",
       "var outputEl = gd.closest('.output');\n",
       "if (outputEl) {{\n",
       "    x.observe(outputEl, {childList: true});\n",
       "}}\n",
       "\n",
       "                        })                };                });            </script>        </div>"
      ]
     },
     "metadata": {},
     "output_type": "display_data"
    }
   ],
   "source": [
    "df['A'].iplot(kind='hist',bins=25)"
   ]
  },
  {
   "cell_type": "code",
   "execution_count": 24,
   "id": "903c3695",
   "metadata": {},
   "outputs": [
    {
     "data": {
      "application/vnd.plotly.v1+json": {
       "config": {
        "linkText": "Export to plot.ly",
        "plotlyServerURL": "https://plot.ly",
        "showLink": true
       },
       "data": [
        {
         "histfunc": "count",
         "histnorm": "",
         "marker": {
          "color": "rgba(255, 153, 51, 1.0)",
          "line": {
           "color": "#4D5663",
           "width": 1.3
          }
         },
         "name": "A",
         "opacity": 0.8,
         "orientation": "v",
         "type": "histogram",
         "x": [
          -0.5926298961513271,
          0.25673020586304807,
          -0.43782540602292713,
          1.0534689198889642,
          -0.9919513407195126,
          1.611767926213217,
          0.06330100258337129,
          -0.7794590258443483,
          1.3213895611178617,
          2.0428480315223823,
          1.3942054388325047,
          -1.0038641189563902,
          0.38499375800912655,
          0.43771904183757787,
          -0.03450546160271116,
          1.053234080805073,
          2.0397975570567692,
          0.385375865370009,
          1.7676509480340017,
          -0.6649155567520971,
          1.436288459640299,
          -0.4036051333866007,
          0.09260910325620314,
          -0.6542216569397591,
          1.4741915479685124,
          0.9051017853546715,
          -2.196271747394207,
          -0.11339517644243712,
          -0.4449131865951581,
          -0.22841259825041527,
          0.8679037688166911,
          -0.8281381473996741,
          -0.3197383644114914,
          -0.22840516815474368,
          2.853834584156512,
          0.6216999835149216,
          1.5240921155040292,
          -0.31203354460191196,
          0.08094205015951837,
          0.015646307251275072,
          1.7932205291927203,
          0.4653034182676237,
          1.1593511785630377,
          1.5737474570494507,
          1.1662651409043536,
          -0.13617317080506597,
          -1.6664432754952285,
          0.6658652654155452,
          -0.5158901261812123,
          -0.9417598894899648,
          0.5250610445322508,
          1.1998623089464961,
          -0.3229256151506854,
          -1.2920143018845127,
          -0.05205440705465112,
          0.26600301743930166,
          -0.9644056385681528,
          2.4529695305287142,
          2.713126831567635,
          0.23352598710271472,
          0.24763388006906298,
          -1.2243351213532416,
          0.41903421957586184,
          0.48867062808082373,
          -0.7861677504690421,
          -1.2514626078351387,
          0.21186021746577036,
          -0.06017875815427523,
          2.3055917858896997,
          -0.72211444002813,
          -0.12793695931512533,
          -0.007755887247505297,
          -1.0097227248055003,
          0.6030326691920733,
          -0.1739761026833534,
          0.7520083111574457,
          -0.5412741041067098,
          0.12309165184098429,
          0.7562849692392389,
          1.0348364759469733,
          -1.3908296564977056,
          -0.4406362876635684,
          0.574944055766053,
          -0.5819853653510465,
          0.881152636747594,
          0.07868416646062422,
          1.8226632065021642,
          -0.13719437995366995,
          1.1162581459854621,
          -0.7985545018909256,
          0.17241094898690948,
          0.2552260864441374,
          1.0605714157563813,
          0.5179693571027562,
          0.4155143057576676,
          1.4316485846465625,
          -0.7775443753105155,
          -1.063630020330371,
          -0.16289165324194577,
          -0.29531247931902405
         ]
        },
        {
         "histfunc": "count",
         "histnorm": "",
         "marker": {
          "color": "rgba(55, 128, 191, 1.0)",
          "line": {
           "color": "#4D5663",
           "width": 1.3
          }
         },
         "name": "B",
         "opacity": 0.8,
         "orientation": "v",
         "type": "histogram",
         "x": [
          -0.1157907510446745,
          0.4798485260848488,
          0.2942811047577971,
          0.7131066424167334,
          -0.614145259332274,
          1.3367013379768597,
          -0.3611519306104252,
          -0.22674171311266222,
          -0.7922763953214255,
          -1.912388440068962,
          2.94461710583469,
          0.7466399419377467,
          -0.5062250561740432,
          -0.6267758673924915,
          -0.5301364252727697,
          -1.1356102411393012,
          1.7097173351457045,
          -0.5982673480241042,
          0.632599712583573,
          -0.7191789918807273,
          -1.011913867593541,
          1.0862462490282248,
          1.1499817116204132,
          0.7121776705596654,
          -0.7249853951963967,
          -0.24484654770034245,
          -0.10946886787942355,
          0.9444906377964262,
          -0.03956551316859267,
          -1.1913735024463135,
          -0.963486275341088,
          -1.3533511104197,
          -0.10146602362529568,
          0.40726711160299367,
          -1.3279311786454684,
          0.08999558075822016,
          1.4193027223212058,
          0.8481711573298252,
          1.237710700172955,
          -0.9075402340794535,
          0.24104376712171527,
          -0.26683695105423477,
          0.5297046101182764,
          -0.5898451706324817,
          -0.46118554508543186,
          0.4438889661881818,
          -0.022849201447032792,
          0.6538508162804493,
          -0.8969955791054491,
          0.5151826075293686,
          -1.716075531842265,
          -1.2459443299216126,
          -0.39468032622605176,
          -0.594068760568758,
          1.1781478136671775,
          -1.0799218215036783,
          1.0329478909914607,
          0.2282708120345758,
          0.5740812637562833,
          0.998004452114102,
          -0.4240139456347152,
          1.5697362346573667,
          -2.301553062519039,
          -0.05564169983599276,
          -0.5750252875191277,
          0.36899773315170714,
          1.2352274250634883,
          -0.2760983305352888,
          -1.1315843014714326,
          0.47160626469032957,
          0.6224993997445093,
          0.3056078012612184,
          0.3565127710229608,
          0.16192329536141162,
          -0.4482276412402648,
          -0.255341393719222,
          2.731094066424876,
          -0.3509008449363998,
          0.7562307284894754,
          0.307461984745654,
          -0.028086364160419496,
          0.3078805805283829,
          0.2717827333298244,
          -0.21005022861881803,
          0.15616678270870996,
          -0.5508037116094993,
          -0.8595019402724217,
          -1.1811403903781978,
          -1.1051152466130356,
          0.18553196417980916,
          0.625579015927619,
          -0.6408948128706429,
          -0.12432769691673103,
          -1.0699306999590428,
          0.26771926977846544,
          0.8026332176389065,
          1.80141470610895,
          -1.873013331107765,
          0.9099007759609501,
          -1.4396917779942568
         ]
        },
        {
         "histfunc": "count",
         "histnorm": "",
         "marker": {
          "color": "rgba(50, 171, 96, 1.0)",
          "line": {
           "color": "#4D5663",
           "width": 1.3
          }
         },
         "name": "C",
         "opacity": 0.8,
         "orientation": "v",
         "type": "histogram",
         "x": [
          -0.5329383118117111,
          0.557158984686362,
          -0.7773784640077513,
          0.4502948550666474,
          1.0138880505622996,
          0.8643796572088078,
          1.403327846853929,
          0.17662681793324203,
          -0.9256916191776521,
          0.11113838946336113,
          -0.5003135852854012,
          -1.4373836749538296,
          0.004390886289931718,
          0.5052863861856433,
          1.0398284942816312,
          0.4700021219352897,
          1.2942516711557286,
          0.4562530916282091,
          0.4867757023349144,
          0.5251023387128786,
          1.366687500871755,
          0.7341868934647509,
          -0.7406234269138862,
          1.7902580011984228,
          -0.052280405347552884,
          -1.2994890823643053,
          -0.03998407812874461,
          0.2409334336633333,
          -1.1431901553946213,
          -1.3375003089870747,
          0.21267439088163337,
          -0.3727133338594834,
          -1.7432581570902688,
          1.1140649602434551,
          0.11880631666273851,
          -2.009441502210672,
          -0.5510243805032415,
          -0.3965855723196719,
          -0.9207409303162719,
          -1.0943443758622298,
          0.2763122759552882,
          -1.5883444069275798,
          -1.0330063980789108,
          0.5362525437628567,
          0.1411710405785407,
          -0.38437445757092265,
          1.3919900976151998,
          0.9517151174256139,
          -1.1901950141859108,
          -0.14189555170734033,
          0.5968986628418939,
          -0.5005443285631248,
          1.416423978087898,
          0.1431483587824421,
          3.4124450680223752,
          -0.06761336436845361,
          0.8701406858782743,
          -1.5729354220756329,
          -1.5239639144707235,
          -0.35001468782544215,
          -0.3141329650511141,
          1.289147141353759,
          0.6571940529834378,
          0.12691583464319822,
          -0.35819019671388636,
          0.3512140322402031,
          -1.570650531955033,
          1.6844680221586628,
          -1.138982064296053,
          -0.0669494830020375,
          0.10910710717061158,
          0.4366525495605837,
          0.031831925732240654,
          0.7073775791321979,
          0.26398938042263326,
          1.65842532898978,
          1.1225040754670954,
          2.1251585555550387,
          -0.2210800855085304,
          -0.580723734930385,
          0.6749862640274892,
          -0.3248229431990396,
          0.8908237137126089,
          0.38853005247553696,
          -0.008631663873746373,
          1.1576062810456162,
          -2.5163976663842575,
          -0.3794418799086721,
          -1.3282923544858762,
          -2.0459800517490567,
          -0.3781167481915554,
          -0.026801909417827462,
          -0.3209689443383593,
          -1.255685088054047,
          2.753703318492102,
          1.5388188394422968,
          -1.479870267117127,
          0.39163662921207093,
          -0.48390531047703966,
          0.7573644209629506
         ]
        },
        {
         "histfunc": "count",
         "histnorm": "",
         "marker": {
          "color": "rgba(128, 0, 128, 1.0)",
          "line": {
           "color": "#4D5663",
           "width": 1.3
          }
         },
         "name": "D",
         "opacity": 0.8,
         "orientation": "v",
         "type": "histogram",
         "x": [
          -0.2193839724920814,
          0.03673834097851173,
          0.987799585989557,
          -0.45680697868842046,
          0.7271098863401266,
          0.30329210727865613,
          -0.26712978821937444,
          1.0095723743385,
          -0.4228909507045194,
          0.3075892397528451,
          0.9489828485601433,
          -0.22451513255242508,
          -1.1107116681174418,
          0.7680108676987024,
          -0.11630608147155315,
          0.29093326534482966,
          1.9542889849467535,
          1.1110135911541346,
          -2.3296160711306944,
          0.02187744257320405,
          -0.6629555946608392,
          -0.4928989052670513,
          -0.8759945384540662,
          0.6922627648086038,
          1.1262086084701817,
          1.9691467010080486,
          1.3741557642209405,
          -1.3713246219745756,
          -0.1836866932419942,
          1.043777373642293,
          1.1171414932728372,
          -0.8483544586416497,
          0.5475171172834119,
          0.22746681771477958,
          -0.6308476174813245,
          -0.09854811827025602,
          0.022769378814638853,
          -0.4487986629320674,
          -0.9034597245484658,
          -0.6378949254903331,
          -0.4492768708891525,
          1.0555579449603434,
          -0.11470394720695867,
          -0.14609532264882724,
          -0.3802579048952034,
          2.1033300796058008,
          -0.07835629365401076,
          0.255763285824464,
          -1.0829429872566125,
          -0.5984508218594459,
          0.2988305135551518,
          0.7610733152132845,
          -0.15331145876966712,
          -1.0899092691503058,
          0.6887506413586928,
          0.09057229714387154,
          -0.1831544794728409,
          -0.23219247443813748,
          1.0850595737659272,
          0.7079347962395922,
          0.9239648370430716,
          0.5752666639473206,
          -0.0782466539059608,
          -0.5751549927849406,
          0.30293306177254614,
          -1.6128733507367412,
          0.954161956224829,
          0.35331662927665525,
          0.4867032255124756,
          -1.4425153880296329,
          -2.439129093983263,
          1.300863150160351,
          -1.2320162675360742,
          -0.17352268024345233,
          -0.3202322874932672,
          -0.35092980882229036,
          0.5275550115628105,
          1.7884140357936633,
          3.1450296067129244,
          -0.5314874202448286,
          -2.064718091313124,
          0.9534673941924888,
          -0.040331506354160544,
          -0.6352729350658008,
          -0.06096951786361323,
          0.5609324550321262,
          0.3574741859411366,
          -1.7928844510806905,
          -0.033542057166446475,
          -1.412194137336305,
          -0.12324110708590304,
          -0.553675978465696,
          0.7324784603482485,
          -0.250450527950122,
          0.3814857723717101,
          0.0693795153937473,
          1.2127267520325036,
          0.31639856434337044,
          -0.16116887362125037,
          0.7714979567097996
         ]
        }
       ],
       "layout": {
        "barmode": "overlay",
        "legend": {
         "bgcolor": "#F5F6F9",
         "font": {
          "color": "#4D5663"
         }
        },
        "paper_bgcolor": "#F5F6F9",
        "plot_bgcolor": "#F5F6F9",
        "template": {
         "data": {
          "bar": [
           {
            "error_x": {
             "color": "#2a3f5f"
            },
            "error_y": {
             "color": "#2a3f5f"
            },
            "marker": {
             "line": {
              "color": "#E5ECF6",
              "width": 0.5
             },
             "pattern": {
              "fillmode": "overlay",
              "size": 10,
              "solidity": 0.2
             }
            },
            "type": "bar"
           }
          ],
          "barpolar": [
           {
            "marker": {
             "line": {
              "color": "#E5ECF6",
              "width": 0.5
             },
             "pattern": {
              "fillmode": "overlay",
              "size": 10,
              "solidity": 0.2
             }
            },
            "type": "barpolar"
           }
          ],
          "carpet": [
           {
            "aaxis": {
             "endlinecolor": "#2a3f5f",
             "gridcolor": "white",
             "linecolor": "white",
             "minorgridcolor": "white",
             "startlinecolor": "#2a3f5f"
            },
            "baxis": {
             "endlinecolor": "#2a3f5f",
             "gridcolor": "white",
             "linecolor": "white",
             "minorgridcolor": "white",
             "startlinecolor": "#2a3f5f"
            },
            "type": "carpet"
           }
          ],
          "choropleth": [
           {
            "colorbar": {
             "outlinewidth": 0,
             "ticks": ""
            },
            "type": "choropleth"
           }
          ],
          "contour": [
           {
            "colorbar": {
             "outlinewidth": 0,
             "ticks": ""
            },
            "colorscale": [
             [
              0,
              "#0d0887"
             ],
             [
              0.1111111111111111,
              "#46039f"
             ],
             [
              0.2222222222222222,
              "#7201a8"
             ],
             [
              0.3333333333333333,
              "#9c179e"
             ],
             [
              0.4444444444444444,
              "#bd3786"
             ],
             [
              0.5555555555555556,
              "#d8576b"
             ],
             [
              0.6666666666666666,
              "#ed7953"
             ],
             [
              0.7777777777777778,
              "#fb9f3a"
             ],
             [
              0.8888888888888888,
              "#fdca26"
             ],
             [
              1,
              "#f0f921"
             ]
            ],
            "type": "contour"
           }
          ],
          "contourcarpet": [
           {
            "colorbar": {
             "outlinewidth": 0,
             "ticks": ""
            },
            "type": "contourcarpet"
           }
          ],
          "heatmap": [
           {
            "colorbar": {
             "outlinewidth": 0,
             "ticks": ""
            },
            "colorscale": [
             [
              0,
              "#0d0887"
             ],
             [
              0.1111111111111111,
              "#46039f"
             ],
             [
              0.2222222222222222,
              "#7201a8"
             ],
             [
              0.3333333333333333,
              "#9c179e"
             ],
             [
              0.4444444444444444,
              "#bd3786"
             ],
             [
              0.5555555555555556,
              "#d8576b"
             ],
             [
              0.6666666666666666,
              "#ed7953"
             ],
             [
              0.7777777777777778,
              "#fb9f3a"
             ],
             [
              0.8888888888888888,
              "#fdca26"
             ],
             [
              1,
              "#f0f921"
             ]
            ],
            "type": "heatmap"
           }
          ],
          "heatmapgl": [
           {
            "colorbar": {
             "outlinewidth": 0,
             "ticks": ""
            },
            "colorscale": [
             [
              0,
              "#0d0887"
             ],
             [
              0.1111111111111111,
              "#46039f"
             ],
             [
              0.2222222222222222,
              "#7201a8"
             ],
             [
              0.3333333333333333,
              "#9c179e"
             ],
             [
              0.4444444444444444,
              "#bd3786"
             ],
             [
              0.5555555555555556,
              "#d8576b"
             ],
             [
              0.6666666666666666,
              "#ed7953"
             ],
             [
              0.7777777777777778,
              "#fb9f3a"
             ],
             [
              0.8888888888888888,
              "#fdca26"
             ],
             [
              1,
              "#f0f921"
             ]
            ],
            "type": "heatmapgl"
           }
          ],
          "histogram": [
           {
            "marker": {
             "pattern": {
              "fillmode": "overlay",
              "size": 10,
              "solidity": 0.2
             }
            },
            "type": "histogram"
           }
          ],
          "histogram2d": [
           {
            "colorbar": {
             "outlinewidth": 0,
             "ticks": ""
            },
            "colorscale": [
             [
              0,
              "#0d0887"
             ],
             [
              0.1111111111111111,
              "#46039f"
             ],
             [
              0.2222222222222222,
              "#7201a8"
             ],
             [
              0.3333333333333333,
              "#9c179e"
             ],
             [
              0.4444444444444444,
              "#bd3786"
             ],
             [
              0.5555555555555556,
              "#d8576b"
             ],
             [
              0.6666666666666666,
              "#ed7953"
             ],
             [
              0.7777777777777778,
              "#fb9f3a"
             ],
             [
              0.8888888888888888,
              "#fdca26"
             ],
             [
              1,
              "#f0f921"
             ]
            ],
            "type": "histogram2d"
           }
          ],
          "histogram2dcontour": [
           {
            "colorbar": {
             "outlinewidth": 0,
             "ticks": ""
            },
            "colorscale": [
             [
              0,
              "#0d0887"
             ],
             [
              0.1111111111111111,
              "#46039f"
             ],
             [
              0.2222222222222222,
              "#7201a8"
             ],
             [
              0.3333333333333333,
              "#9c179e"
             ],
             [
              0.4444444444444444,
              "#bd3786"
             ],
             [
              0.5555555555555556,
              "#d8576b"
             ],
             [
              0.6666666666666666,
              "#ed7953"
             ],
             [
              0.7777777777777778,
              "#fb9f3a"
             ],
             [
              0.8888888888888888,
              "#fdca26"
             ],
             [
              1,
              "#f0f921"
             ]
            ],
            "type": "histogram2dcontour"
           }
          ],
          "mesh3d": [
           {
            "colorbar": {
             "outlinewidth": 0,
             "ticks": ""
            },
            "type": "mesh3d"
           }
          ],
          "parcoords": [
           {
            "line": {
             "colorbar": {
              "outlinewidth": 0,
              "ticks": ""
             }
            },
            "type": "parcoords"
           }
          ],
          "pie": [
           {
            "automargin": true,
            "type": "pie"
           }
          ],
          "scatter": [
           {
            "fillpattern": {
             "fillmode": "overlay",
             "size": 10,
             "solidity": 0.2
            },
            "type": "scatter"
           }
          ],
          "scatter3d": [
           {
            "line": {
             "colorbar": {
              "outlinewidth": 0,
              "ticks": ""
             }
            },
            "marker": {
             "colorbar": {
              "outlinewidth": 0,
              "ticks": ""
             }
            },
            "type": "scatter3d"
           }
          ],
          "scattercarpet": [
           {
            "marker": {
             "colorbar": {
              "outlinewidth": 0,
              "ticks": ""
             }
            },
            "type": "scattercarpet"
           }
          ],
          "scattergeo": [
           {
            "marker": {
             "colorbar": {
              "outlinewidth": 0,
              "ticks": ""
             }
            },
            "type": "scattergeo"
           }
          ],
          "scattergl": [
           {
            "marker": {
             "colorbar": {
              "outlinewidth": 0,
              "ticks": ""
             }
            },
            "type": "scattergl"
           }
          ],
          "scattermapbox": [
           {
            "marker": {
             "colorbar": {
              "outlinewidth": 0,
              "ticks": ""
             }
            },
            "type": "scattermapbox"
           }
          ],
          "scatterpolar": [
           {
            "marker": {
             "colorbar": {
              "outlinewidth": 0,
              "ticks": ""
             }
            },
            "type": "scatterpolar"
           }
          ],
          "scatterpolargl": [
           {
            "marker": {
             "colorbar": {
              "outlinewidth": 0,
              "ticks": ""
             }
            },
            "type": "scatterpolargl"
           }
          ],
          "scatterternary": [
           {
            "marker": {
             "colorbar": {
              "outlinewidth": 0,
              "ticks": ""
             }
            },
            "type": "scatterternary"
           }
          ],
          "surface": [
           {
            "colorbar": {
             "outlinewidth": 0,
             "ticks": ""
            },
            "colorscale": [
             [
              0,
              "#0d0887"
             ],
             [
              0.1111111111111111,
              "#46039f"
             ],
             [
              0.2222222222222222,
              "#7201a8"
             ],
             [
              0.3333333333333333,
              "#9c179e"
             ],
             [
              0.4444444444444444,
              "#bd3786"
             ],
             [
              0.5555555555555556,
              "#d8576b"
             ],
             [
              0.6666666666666666,
              "#ed7953"
             ],
             [
              0.7777777777777778,
              "#fb9f3a"
             ],
             [
              0.8888888888888888,
              "#fdca26"
             ],
             [
              1,
              "#f0f921"
             ]
            ],
            "type": "surface"
           }
          ],
          "table": [
           {
            "cells": {
             "fill": {
              "color": "#EBF0F8"
             },
             "line": {
              "color": "white"
             }
            },
            "header": {
             "fill": {
              "color": "#C8D4E3"
             },
             "line": {
              "color": "white"
             }
            },
            "type": "table"
           }
          ]
         },
         "layout": {
          "annotationdefaults": {
           "arrowcolor": "#2a3f5f",
           "arrowhead": 0,
           "arrowwidth": 1
          },
          "autotypenumbers": "strict",
          "coloraxis": {
           "colorbar": {
            "outlinewidth": 0,
            "ticks": ""
           }
          },
          "colorscale": {
           "diverging": [
            [
             0,
             "#8e0152"
            ],
            [
             0.1,
             "#c51b7d"
            ],
            [
             0.2,
             "#de77ae"
            ],
            [
             0.3,
             "#f1b6da"
            ],
            [
             0.4,
             "#fde0ef"
            ],
            [
             0.5,
             "#f7f7f7"
            ],
            [
             0.6,
             "#e6f5d0"
            ],
            [
             0.7,
             "#b8e186"
            ],
            [
             0.8,
             "#7fbc41"
            ],
            [
             0.9,
             "#4d9221"
            ],
            [
             1,
             "#276419"
            ]
           ],
           "sequential": [
            [
             0,
             "#0d0887"
            ],
            [
             0.1111111111111111,
             "#46039f"
            ],
            [
             0.2222222222222222,
             "#7201a8"
            ],
            [
             0.3333333333333333,
             "#9c179e"
            ],
            [
             0.4444444444444444,
             "#bd3786"
            ],
            [
             0.5555555555555556,
             "#d8576b"
            ],
            [
             0.6666666666666666,
             "#ed7953"
            ],
            [
             0.7777777777777778,
             "#fb9f3a"
            ],
            [
             0.8888888888888888,
             "#fdca26"
            ],
            [
             1,
             "#f0f921"
            ]
           ],
           "sequentialminus": [
            [
             0,
             "#0d0887"
            ],
            [
             0.1111111111111111,
             "#46039f"
            ],
            [
             0.2222222222222222,
             "#7201a8"
            ],
            [
             0.3333333333333333,
             "#9c179e"
            ],
            [
             0.4444444444444444,
             "#bd3786"
            ],
            [
             0.5555555555555556,
             "#d8576b"
            ],
            [
             0.6666666666666666,
             "#ed7953"
            ],
            [
             0.7777777777777778,
             "#fb9f3a"
            ],
            [
             0.8888888888888888,
             "#fdca26"
            ],
            [
             1,
             "#f0f921"
            ]
           ]
          },
          "colorway": [
           "#636efa",
           "#EF553B",
           "#00cc96",
           "#ab63fa",
           "#FFA15A",
           "#19d3f3",
           "#FF6692",
           "#B6E880",
           "#FF97FF",
           "#FECB52"
          ],
          "font": {
           "color": "#2a3f5f"
          },
          "geo": {
           "bgcolor": "white",
           "lakecolor": "white",
           "landcolor": "#E5ECF6",
           "showlakes": true,
           "showland": true,
           "subunitcolor": "white"
          },
          "hoverlabel": {
           "align": "left"
          },
          "hovermode": "closest",
          "mapbox": {
           "style": "light"
          },
          "paper_bgcolor": "white",
          "plot_bgcolor": "#E5ECF6",
          "polar": {
           "angularaxis": {
            "gridcolor": "white",
            "linecolor": "white",
            "ticks": ""
           },
           "bgcolor": "#E5ECF6",
           "radialaxis": {
            "gridcolor": "white",
            "linecolor": "white",
            "ticks": ""
           }
          },
          "scene": {
           "xaxis": {
            "backgroundcolor": "#E5ECF6",
            "gridcolor": "white",
            "gridwidth": 2,
            "linecolor": "white",
            "showbackground": true,
            "ticks": "",
            "zerolinecolor": "white"
           },
           "yaxis": {
            "backgroundcolor": "#E5ECF6",
            "gridcolor": "white",
            "gridwidth": 2,
            "linecolor": "white",
            "showbackground": true,
            "ticks": "",
            "zerolinecolor": "white"
           },
           "zaxis": {
            "backgroundcolor": "#E5ECF6",
            "gridcolor": "white",
            "gridwidth": 2,
            "linecolor": "white",
            "showbackground": true,
            "ticks": "",
            "zerolinecolor": "white"
           }
          },
          "shapedefaults": {
           "line": {
            "color": "#2a3f5f"
           }
          },
          "ternary": {
           "aaxis": {
            "gridcolor": "white",
            "linecolor": "white",
            "ticks": ""
           },
           "baxis": {
            "gridcolor": "white",
            "linecolor": "white",
            "ticks": ""
           },
           "bgcolor": "#E5ECF6",
           "caxis": {
            "gridcolor": "white",
            "linecolor": "white",
            "ticks": ""
           }
          },
          "title": {
           "x": 0.05
          },
          "xaxis": {
           "automargin": true,
           "gridcolor": "white",
           "linecolor": "white",
           "ticks": "",
           "title": {
            "standoff": 15
           },
           "zerolinecolor": "white",
           "zerolinewidth": 2
          },
          "yaxis": {
           "automargin": true,
           "gridcolor": "white",
           "linecolor": "white",
           "ticks": "",
           "title": {
            "standoff": 15
           },
           "zerolinecolor": "white",
           "zerolinewidth": 2
          }
         }
        },
        "title": {
         "font": {
          "color": "#4D5663"
         }
        },
        "xaxis": {
         "gridcolor": "#E1E5ED",
         "showgrid": true,
         "tickfont": {
          "color": "#4D5663"
         },
         "title": {
          "font": {
           "color": "#4D5663"
          },
          "text": ""
         },
         "zerolinecolor": "#E1E5ED"
        },
        "yaxis": {
         "gridcolor": "#E1E5ED",
         "showgrid": true,
         "tickfont": {
          "color": "#4D5663"
         },
         "title": {
          "font": {
           "color": "#4D5663"
          },
          "text": ""
         },
         "zerolinecolor": "#E1E5ED"
        }
       }
      },
      "text/html": [
       "<div>                            <div id=\"5cd17db7-6bd6-46ac-b67b-e6bb3a26f1cb\" class=\"plotly-graph-div\" style=\"height:525px; width:100%;\"></div>            <script type=\"text/javascript\">                require([\"plotly\"], function(Plotly) {                    window.PLOTLYENV=window.PLOTLYENV || {};\n",
       "                    window.PLOTLYENV.BASE_URL='https://plot.ly';                                    if (document.getElementById(\"5cd17db7-6bd6-46ac-b67b-e6bb3a26f1cb\")) {                    Plotly.newPlot(                        \"5cd17db7-6bd6-46ac-b67b-e6bb3a26f1cb\",                        [{\"histfunc\":\"count\",\"histnorm\":\"\",\"marker\":{\"color\":\"rgba(255, 153, 51, 1.0)\",\"line\":{\"color\":\"#4D5663\",\"width\":1.3}},\"name\":\"A\",\"opacity\":0.8,\"orientation\":\"v\",\"x\":[-0.5926298961513271,0.25673020586304807,-0.43782540602292713,1.0534689198889642,-0.9919513407195126,1.611767926213217,0.06330100258337129,-0.7794590258443483,1.3213895611178617,2.0428480315223823,1.3942054388325047,-1.0038641189563902,0.38499375800912655,0.43771904183757787,-0.03450546160271116,1.053234080805073,2.0397975570567692,0.385375865370009,1.7676509480340017,-0.6649155567520971,1.436288459640299,-0.4036051333866007,0.09260910325620314,-0.6542216569397591,1.4741915479685124,0.9051017853546715,-2.196271747394207,-0.11339517644243712,-0.4449131865951581,-0.22841259825041527,0.8679037688166911,-0.8281381473996741,-0.3197383644114914,-0.22840516815474368,2.853834584156512,0.6216999835149216,1.5240921155040292,-0.31203354460191196,0.08094205015951837,0.015646307251275072,1.7932205291927203,0.4653034182676237,1.1593511785630377,1.5737474570494507,1.1662651409043536,-0.13617317080506597,-1.6664432754952285,0.6658652654155452,-0.5158901261812123,-0.9417598894899648,0.5250610445322508,1.1998623089464961,-0.3229256151506854,-1.2920143018845127,-0.05205440705465112,0.26600301743930166,-0.9644056385681528,2.4529695305287142,2.713126831567635,0.23352598710271472,0.24763388006906298,-1.2243351213532416,0.41903421957586184,0.48867062808082373,-0.7861677504690421,-1.2514626078351387,0.21186021746577036,-0.06017875815427523,2.3055917858896997,-0.72211444002813,-0.12793695931512533,-0.007755887247505297,-1.0097227248055003,0.6030326691920733,-0.1739761026833534,0.7520083111574457,-0.5412741041067098,0.12309165184098429,0.7562849692392389,1.0348364759469733,-1.3908296564977056,-0.4406362876635684,0.574944055766053,-0.5819853653510465,0.881152636747594,0.07868416646062422,1.8226632065021642,-0.13719437995366995,1.1162581459854621,-0.7985545018909256,0.17241094898690948,0.2552260864441374,1.0605714157563813,0.5179693571027562,0.4155143057576676,1.4316485846465625,-0.7775443753105155,-1.063630020330371,-0.16289165324194577,-0.29531247931902405],\"type\":\"histogram\"},{\"histfunc\":\"count\",\"histnorm\":\"\",\"marker\":{\"color\":\"rgba(55, 128, 191, 1.0)\",\"line\":{\"color\":\"#4D5663\",\"width\":1.3}},\"name\":\"B\",\"opacity\":0.8,\"orientation\":\"v\",\"x\":[-0.1157907510446745,0.4798485260848488,0.2942811047577971,0.7131066424167334,-0.614145259332274,1.3367013379768597,-0.3611519306104252,-0.22674171311266222,-0.7922763953214255,-1.912388440068962,2.94461710583469,0.7466399419377467,-0.5062250561740432,-0.6267758673924915,-0.5301364252727697,-1.1356102411393012,1.7097173351457045,-0.5982673480241042,0.632599712583573,-0.7191789918807273,-1.011913867593541,1.0862462490282248,1.1499817116204132,0.7121776705596654,-0.7249853951963967,-0.24484654770034245,-0.10946886787942355,0.9444906377964262,-0.03956551316859267,-1.1913735024463135,-0.963486275341088,-1.3533511104197,-0.10146602362529568,0.40726711160299367,-1.3279311786454684,0.08999558075822016,1.4193027223212058,0.8481711573298252,1.237710700172955,-0.9075402340794535,0.24104376712171527,-0.26683695105423477,0.5297046101182764,-0.5898451706324817,-0.46118554508543186,0.4438889661881818,-0.022849201447032792,0.6538508162804493,-0.8969955791054491,0.5151826075293686,-1.716075531842265,-1.2459443299216126,-0.39468032622605176,-0.594068760568758,1.1781478136671775,-1.0799218215036783,1.0329478909914607,0.2282708120345758,0.5740812637562833,0.998004452114102,-0.4240139456347152,1.5697362346573667,-2.301553062519039,-0.05564169983599276,-0.5750252875191277,0.36899773315170714,1.2352274250634883,-0.2760983305352888,-1.1315843014714326,0.47160626469032957,0.6224993997445093,0.3056078012612184,0.3565127710229608,0.16192329536141162,-0.4482276412402648,-0.255341393719222,2.731094066424876,-0.3509008449363998,0.7562307284894754,0.307461984745654,-0.028086364160419496,0.3078805805283829,0.2717827333298244,-0.21005022861881803,0.15616678270870996,-0.5508037116094993,-0.8595019402724217,-1.1811403903781978,-1.1051152466130356,0.18553196417980916,0.625579015927619,-0.6408948128706429,-0.12432769691673103,-1.0699306999590428,0.26771926977846544,0.8026332176389065,1.80141470610895,-1.873013331107765,0.9099007759609501,-1.4396917779942568],\"type\":\"histogram\"},{\"histfunc\":\"count\",\"histnorm\":\"\",\"marker\":{\"color\":\"rgba(50, 171, 96, 1.0)\",\"line\":{\"color\":\"#4D5663\",\"width\":1.3}},\"name\":\"C\",\"opacity\":0.8,\"orientation\":\"v\",\"x\":[-0.5329383118117111,0.557158984686362,-0.7773784640077513,0.4502948550666474,1.0138880505622996,0.8643796572088078,1.403327846853929,0.17662681793324203,-0.9256916191776521,0.11113838946336113,-0.5003135852854012,-1.4373836749538296,0.004390886289931718,0.5052863861856433,1.0398284942816312,0.4700021219352897,1.2942516711557286,0.4562530916282091,0.4867757023349144,0.5251023387128786,1.366687500871755,0.7341868934647509,-0.7406234269138862,1.7902580011984228,-0.052280405347552884,-1.2994890823643053,-0.03998407812874461,0.2409334336633333,-1.1431901553946213,-1.3375003089870747,0.21267439088163337,-0.3727133338594834,-1.7432581570902688,1.1140649602434551,0.11880631666273851,-2.009441502210672,-0.5510243805032415,-0.3965855723196719,-0.9207409303162719,-1.0943443758622298,0.2763122759552882,-1.5883444069275798,-1.0330063980789108,0.5362525437628567,0.1411710405785407,-0.38437445757092265,1.3919900976151998,0.9517151174256139,-1.1901950141859108,-0.14189555170734033,0.5968986628418939,-0.5005443285631248,1.416423978087898,0.1431483587824421,3.4124450680223752,-0.06761336436845361,0.8701406858782743,-1.5729354220756329,-1.5239639144707235,-0.35001468782544215,-0.3141329650511141,1.289147141353759,0.6571940529834378,0.12691583464319822,-0.35819019671388636,0.3512140322402031,-1.570650531955033,1.6844680221586628,-1.138982064296053,-0.0669494830020375,0.10910710717061158,0.4366525495605837,0.031831925732240654,0.7073775791321979,0.26398938042263326,1.65842532898978,1.1225040754670954,2.1251585555550387,-0.2210800855085304,-0.580723734930385,0.6749862640274892,-0.3248229431990396,0.8908237137126089,0.38853005247553696,-0.008631663873746373,1.1576062810456162,-2.5163976663842575,-0.3794418799086721,-1.3282923544858762,-2.0459800517490567,-0.3781167481915554,-0.026801909417827462,-0.3209689443383593,-1.255685088054047,2.753703318492102,1.5388188394422968,-1.479870267117127,0.39163662921207093,-0.48390531047703966,0.7573644209629506],\"type\":\"histogram\"},{\"histfunc\":\"count\",\"histnorm\":\"\",\"marker\":{\"color\":\"rgba(128, 0, 128, 1.0)\",\"line\":{\"color\":\"#4D5663\",\"width\":1.3}},\"name\":\"D\",\"opacity\":0.8,\"orientation\":\"v\",\"x\":[-0.2193839724920814,0.03673834097851173,0.987799585989557,-0.45680697868842046,0.7271098863401266,0.30329210727865613,-0.26712978821937444,1.0095723743385,-0.4228909507045194,0.3075892397528451,0.9489828485601433,-0.22451513255242508,-1.1107116681174418,0.7680108676987024,-0.11630608147155315,0.29093326534482966,1.9542889849467535,1.1110135911541346,-2.3296160711306944,0.02187744257320405,-0.6629555946608392,-0.4928989052670513,-0.8759945384540662,0.6922627648086038,1.1262086084701817,1.9691467010080486,1.3741557642209405,-1.3713246219745756,-0.1836866932419942,1.043777373642293,1.1171414932728372,-0.8483544586416497,0.5475171172834119,0.22746681771477958,-0.6308476174813245,-0.09854811827025602,0.022769378814638853,-0.4487986629320674,-0.9034597245484658,-0.6378949254903331,-0.4492768708891525,1.0555579449603434,-0.11470394720695867,-0.14609532264882724,-0.3802579048952034,2.1033300796058008,-0.07835629365401076,0.255763285824464,-1.0829429872566125,-0.5984508218594459,0.2988305135551518,0.7610733152132845,-0.15331145876966712,-1.0899092691503058,0.6887506413586928,0.09057229714387154,-0.1831544794728409,-0.23219247443813748,1.0850595737659272,0.7079347962395922,0.9239648370430716,0.5752666639473206,-0.0782466539059608,-0.5751549927849406,0.30293306177254614,-1.6128733507367412,0.954161956224829,0.35331662927665525,0.4867032255124756,-1.4425153880296329,-2.439129093983263,1.300863150160351,-1.2320162675360742,-0.17352268024345233,-0.3202322874932672,-0.35092980882229036,0.5275550115628105,1.7884140357936633,3.1450296067129244,-0.5314874202448286,-2.064718091313124,0.9534673941924888,-0.040331506354160544,-0.6352729350658008,-0.06096951786361323,0.5609324550321262,0.3574741859411366,-1.7928844510806905,-0.033542057166446475,-1.412194137336305,-0.12324110708590304,-0.553675978465696,0.7324784603482485,-0.250450527950122,0.3814857723717101,0.0693795153937473,1.2127267520325036,0.31639856434337044,-0.16116887362125037,0.7714979567097996],\"type\":\"histogram\"}],                        {\"barmode\":\"overlay\",\"legend\":{\"bgcolor\":\"#F5F6F9\",\"font\":{\"color\":\"#4D5663\"}},\"paper_bgcolor\":\"#F5F6F9\",\"plot_bgcolor\":\"#F5F6F9\",\"template\":{\"data\":{\"barpolar\":[{\"marker\":{\"line\":{\"color\":\"#E5ECF6\",\"width\":0.5},\"pattern\":{\"fillmode\":\"overlay\",\"size\":10,\"solidity\":0.2}},\"type\":\"barpolar\"}],\"bar\":[{\"error_x\":{\"color\":\"#2a3f5f\"},\"error_y\":{\"color\":\"#2a3f5f\"},\"marker\":{\"line\":{\"color\":\"#E5ECF6\",\"width\":0.5},\"pattern\":{\"fillmode\":\"overlay\",\"size\":10,\"solidity\":0.2}},\"type\":\"bar\"}],\"carpet\":[{\"aaxis\":{\"endlinecolor\":\"#2a3f5f\",\"gridcolor\":\"white\",\"linecolor\":\"white\",\"minorgridcolor\":\"white\",\"startlinecolor\":\"#2a3f5f\"},\"baxis\":{\"endlinecolor\":\"#2a3f5f\",\"gridcolor\":\"white\",\"linecolor\":\"white\",\"minorgridcolor\":\"white\",\"startlinecolor\":\"#2a3f5f\"},\"type\":\"carpet\"}],\"choropleth\":[{\"colorbar\":{\"outlinewidth\":0,\"ticks\":\"\"},\"type\":\"choropleth\"}],\"contourcarpet\":[{\"colorbar\":{\"outlinewidth\":0,\"ticks\":\"\"},\"type\":\"contourcarpet\"}],\"contour\":[{\"colorbar\":{\"outlinewidth\":0,\"ticks\":\"\"},\"colorscale\":[[0.0,\"#0d0887\"],[0.1111111111111111,\"#46039f\"],[0.2222222222222222,\"#7201a8\"],[0.3333333333333333,\"#9c179e\"],[0.4444444444444444,\"#bd3786\"],[0.5555555555555556,\"#d8576b\"],[0.6666666666666666,\"#ed7953\"],[0.7777777777777778,\"#fb9f3a\"],[0.8888888888888888,\"#fdca26\"],[1.0,\"#f0f921\"]],\"type\":\"contour\"}],\"heatmapgl\":[{\"colorbar\":{\"outlinewidth\":0,\"ticks\":\"\"},\"colorscale\":[[0.0,\"#0d0887\"],[0.1111111111111111,\"#46039f\"],[0.2222222222222222,\"#7201a8\"],[0.3333333333333333,\"#9c179e\"],[0.4444444444444444,\"#bd3786\"],[0.5555555555555556,\"#d8576b\"],[0.6666666666666666,\"#ed7953\"],[0.7777777777777778,\"#fb9f3a\"],[0.8888888888888888,\"#fdca26\"],[1.0,\"#f0f921\"]],\"type\":\"heatmapgl\"}],\"heatmap\":[{\"colorbar\":{\"outlinewidth\":0,\"ticks\":\"\"},\"colorscale\":[[0.0,\"#0d0887\"],[0.1111111111111111,\"#46039f\"],[0.2222222222222222,\"#7201a8\"],[0.3333333333333333,\"#9c179e\"],[0.4444444444444444,\"#bd3786\"],[0.5555555555555556,\"#d8576b\"],[0.6666666666666666,\"#ed7953\"],[0.7777777777777778,\"#fb9f3a\"],[0.8888888888888888,\"#fdca26\"],[1.0,\"#f0f921\"]],\"type\":\"heatmap\"}],\"histogram2dcontour\":[{\"colorbar\":{\"outlinewidth\":0,\"ticks\":\"\"},\"colorscale\":[[0.0,\"#0d0887\"],[0.1111111111111111,\"#46039f\"],[0.2222222222222222,\"#7201a8\"],[0.3333333333333333,\"#9c179e\"],[0.4444444444444444,\"#bd3786\"],[0.5555555555555556,\"#d8576b\"],[0.6666666666666666,\"#ed7953\"],[0.7777777777777778,\"#fb9f3a\"],[0.8888888888888888,\"#fdca26\"],[1.0,\"#f0f921\"]],\"type\":\"histogram2dcontour\"}],\"histogram2d\":[{\"colorbar\":{\"outlinewidth\":0,\"ticks\":\"\"},\"colorscale\":[[0.0,\"#0d0887\"],[0.1111111111111111,\"#46039f\"],[0.2222222222222222,\"#7201a8\"],[0.3333333333333333,\"#9c179e\"],[0.4444444444444444,\"#bd3786\"],[0.5555555555555556,\"#d8576b\"],[0.6666666666666666,\"#ed7953\"],[0.7777777777777778,\"#fb9f3a\"],[0.8888888888888888,\"#fdca26\"],[1.0,\"#f0f921\"]],\"type\":\"histogram2d\"}],\"histogram\":[{\"marker\":{\"pattern\":{\"fillmode\":\"overlay\",\"size\":10,\"solidity\":0.2}},\"type\":\"histogram\"}],\"mesh3d\":[{\"colorbar\":{\"outlinewidth\":0,\"ticks\":\"\"},\"type\":\"mesh3d\"}],\"parcoords\":[{\"line\":{\"colorbar\":{\"outlinewidth\":0,\"ticks\":\"\"}},\"type\":\"parcoords\"}],\"pie\":[{\"automargin\":true,\"type\":\"pie\"}],\"scatter3d\":[{\"line\":{\"colorbar\":{\"outlinewidth\":0,\"ticks\":\"\"}},\"marker\":{\"colorbar\":{\"outlinewidth\":0,\"ticks\":\"\"}},\"type\":\"scatter3d\"}],\"scattercarpet\":[{\"marker\":{\"colorbar\":{\"outlinewidth\":0,\"ticks\":\"\"}},\"type\":\"scattercarpet\"}],\"scattergeo\":[{\"marker\":{\"colorbar\":{\"outlinewidth\":0,\"ticks\":\"\"}},\"type\":\"scattergeo\"}],\"scattergl\":[{\"marker\":{\"colorbar\":{\"outlinewidth\":0,\"ticks\":\"\"}},\"type\":\"scattergl\"}],\"scattermapbox\":[{\"marker\":{\"colorbar\":{\"outlinewidth\":0,\"ticks\":\"\"}},\"type\":\"scattermapbox\"}],\"scatterpolargl\":[{\"marker\":{\"colorbar\":{\"outlinewidth\":0,\"ticks\":\"\"}},\"type\":\"scatterpolargl\"}],\"scatterpolar\":[{\"marker\":{\"colorbar\":{\"outlinewidth\":0,\"ticks\":\"\"}},\"type\":\"scatterpolar\"}],\"scatter\":[{\"fillpattern\":{\"fillmode\":\"overlay\",\"size\":10,\"solidity\":0.2},\"type\":\"scatter\"}],\"scatterternary\":[{\"marker\":{\"colorbar\":{\"outlinewidth\":0,\"ticks\":\"\"}},\"type\":\"scatterternary\"}],\"surface\":[{\"colorbar\":{\"outlinewidth\":0,\"ticks\":\"\"},\"colorscale\":[[0.0,\"#0d0887\"],[0.1111111111111111,\"#46039f\"],[0.2222222222222222,\"#7201a8\"],[0.3333333333333333,\"#9c179e\"],[0.4444444444444444,\"#bd3786\"],[0.5555555555555556,\"#d8576b\"],[0.6666666666666666,\"#ed7953\"],[0.7777777777777778,\"#fb9f3a\"],[0.8888888888888888,\"#fdca26\"],[1.0,\"#f0f921\"]],\"type\":\"surface\"}],\"table\":[{\"cells\":{\"fill\":{\"color\":\"#EBF0F8\"},\"line\":{\"color\":\"white\"}},\"header\":{\"fill\":{\"color\":\"#C8D4E3\"},\"line\":{\"color\":\"white\"}},\"type\":\"table\"}]},\"layout\":{\"annotationdefaults\":{\"arrowcolor\":\"#2a3f5f\",\"arrowhead\":0,\"arrowwidth\":1},\"autotypenumbers\":\"strict\",\"coloraxis\":{\"colorbar\":{\"outlinewidth\":0,\"ticks\":\"\"}},\"colorscale\":{\"diverging\":[[0,\"#8e0152\"],[0.1,\"#c51b7d\"],[0.2,\"#de77ae\"],[0.3,\"#f1b6da\"],[0.4,\"#fde0ef\"],[0.5,\"#f7f7f7\"],[0.6,\"#e6f5d0\"],[0.7,\"#b8e186\"],[0.8,\"#7fbc41\"],[0.9,\"#4d9221\"],[1,\"#276419\"]],\"sequential\":[[0.0,\"#0d0887\"],[0.1111111111111111,\"#46039f\"],[0.2222222222222222,\"#7201a8\"],[0.3333333333333333,\"#9c179e\"],[0.4444444444444444,\"#bd3786\"],[0.5555555555555556,\"#d8576b\"],[0.6666666666666666,\"#ed7953\"],[0.7777777777777778,\"#fb9f3a\"],[0.8888888888888888,\"#fdca26\"],[1.0,\"#f0f921\"]],\"sequentialminus\":[[0.0,\"#0d0887\"],[0.1111111111111111,\"#46039f\"],[0.2222222222222222,\"#7201a8\"],[0.3333333333333333,\"#9c179e\"],[0.4444444444444444,\"#bd3786\"],[0.5555555555555556,\"#d8576b\"],[0.6666666666666666,\"#ed7953\"],[0.7777777777777778,\"#fb9f3a\"],[0.8888888888888888,\"#fdca26\"],[1.0,\"#f0f921\"]]},\"colorway\":[\"#636efa\",\"#EF553B\",\"#00cc96\",\"#ab63fa\",\"#FFA15A\",\"#19d3f3\",\"#FF6692\",\"#B6E880\",\"#FF97FF\",\"#FECB52\"],\"font\":{\"color\":\"#2a3f5f\"},\"geo\":{\"bgcolor\":\"white\",\"lakecolor\":\"white\",\"landcolor\":\"#E5ECF6\",\"showlakes\":true,\"showland\":true,\"subunitcolor\":\"white\"},\"hoverlabel\":{\"align\":\"left\"},\"hovermode\":\"closest\",\"mapbox\":{\"style\":\"light\"},\"paper_bgcolor\":\"white\",\"plot_bgcolor\":\"#E5ECF6\",\"polar\":{\"angularaxis\":{\"gridcolor\":\"white\",\"linecolor\":\"white\",\"ticks\":\"\"},\"bgcolor\":\"#E5ECF6\",\"radialaxis\":{\"gridcolor\":\"white\",\"linecolor\":\"white\",\"ticks\":\"\"}},\"scene\":{\"xaxis\":{\"backgroundcolor\":\"#E5ECF6\",\"gridcolor\":\"white\",\"gridwidth\":2,\"linecolor\":\"white\",\"showbackground\":true,\"ticks\":\"\",\"zerolinecolor\":\"white\"},\"yaxis\":{\"backgroundcolor\":\"#E5ECF6\",\"gridcolor\":\"white\",\"gridwidth\":2,\"linecolor\":\"white\",\"showbackground\":true,\"ticks\":\"\",\"zerolinecolor\":\"white\"},\"zaxis\":{\"backgroundcolor\":\"#E5ECF6\",\"gridcolor\":\"white\",\"gridwidth\":2,\"linecolor\":\"white\",\"showbackground\":true,\"ticks\":\"\",\"zerolinecolor\":\"white\"}},\"shapedefaults\":{\"line\":{\"color\":\"#2a3f5f\"}},\"ternary\":{\"aaxis\":{\"gridcolor\":\"white\",\"linecolor\":\"white\",\"ticks\":\"\"},\"baxis\":{\"gridcolor\":\"white\",\"linecolor\":\"white\",\"ticks\":\"\"},\"bgcolor\":\"#E5ECF6\",\"caxis\":{\"gridcolor\":\"white\",\"linecolor\":\"white\",\"ticks\":\"\"}},\"title\":{\"x\":0.05},\"xaxis\":{\"automargin\":true,\"gridcolor\":\"white\",\"linecolor\":\"white\",\"ticks\":\"\",\"title\":{\"standoff\":15},\"zerolinecolor\":\"white\",\"zerolinewidth\":2},\"yaxis\":{\"automargin\":true,\"gridcolor\":\"white\",\"linecolor\":\"white\",\"ticks\":\"\",\"title\":{\"standoff\":15},\"zerolinecolor\":\"white\",\"zerolinewidth\":2}}},\"title\":{\"font\":{\"color\":\"#4D5663\"}},\"xaxis\":{\"gridcolor\":\"#E1E5ED\",\"showgrid\":true,\"tickfont\":{\"color\":\"#4D5663\"},\"title\":{\"font\":{\"color\":\"#4D5663\"},\"text\":\"\"},\"zerolinecolor\":\"#E1E5ED\"},\"yaxis\":{\"gridcolor\":\"#E1E5ED\",\"showgrid\":true,\"tickfont\":{\"color\":\"#4D5663\"},\"title\":{\"font\":{\"color\":\"#4D5663\"},\"text\":\"\"},\"zerolinecolor\":\"#E1E5ED\"}},                        {\"showLink\": true, \"linkText\": \"Export to plot.ly\", \"plotlyServerURL\": \"https://plot.ly\", \"responsive\": true}                    ).then(function(){\n",
       "                            \n",
       "var gd = document.getElementById('5cd17db7-6bd6-46ac-b67b-e6bb3a26f1cb');\n",
       "var x = new MutationObserver(function (mutations, observer) {{\n",
       "        var display = window.getComputedStyle(gd).display;\n",
       "        if (!display || display === 'none') {{\n",
       "            console.log([gd, 'removed!']);\n",
       "            Plotly.purge(gd);\n",
       "            observer.disconnect();\n",
       "        }}\n",
       "}});\n",
       "\n",
       "// Listen for the removal of the full notebook cells\n",
       "var notebookContainer = gd.closest('#notebook-container');\n",
       "if (notebookContainer) {{\n",
       "    x.observe(notebookContainer, {childList: true});\n",
       "}}\n",
       "\n",
       "// Listen for the clearing of the current output cell\n",
       "var outputEl = gd.closest('.output');\n",
       "if (outputEl) {{\n",
       "    x.observe(outputEl, {childList: true});\n",
       "}}\n",
       "\n",
       "                        })                };                });            </script>        </div>"
      ]
     },
     "metadata": {},
     "output_type": "display_data"
    }
   ],
   "source": [
    "df.iplot(kind='hist')"
   ]
  },
  {
   "cell_type": "code",
   "execution_count": 25,
   "id": "9ac91e60",
   "metadata": {},
   "outputs": [
    {
     "data": {
      "application/vnd.plotly.v1+json": {
       "config": {
        "linkText": "Export to plot.ly",
        "plotlyServerURL": "https://plot.ly",
        "showLink": true
       },
       "data": [
        {
         "line": {
          "color": "rgba(255, 153, 51, 1.0)",
          "dash": "solid",
          "shape": "linear",
          "width": 1.3
         },
         "mode": "lines",
         "name": "A",
         "text": "",
         "type": "scatter",
         "x": [
          0,
          1,
          2,
          3,
          4,
          5,
          6,
          7,
          8,
          9,
          10,
          11,
          12,
          13,
          14,
          15,
          16,
          17,
          18,
          19,
          20,
          21,
          22,
          23,
          24,
          25,
          26,
          27,
          28,
          29,
          30,
          31,
          32,
          33,
          34,
          35,
          36,
          37,
          38,
          39,
          40,
          41,
          42,
          43,
          44,
          45,
          46,
          47,
          48,
          49,
          50,
          51,
          52,
          53,
          54,
          55,
          56,
          57,
          58,
          59,
          60,
          61,
          62,
          63,
          64,
          65,
          66,
          67,
          68,
          69,
          70,
          71,
          72,
          73,
          74,
          75,
          76,
          77,
          78,
          79,
          80,
          81,
          82,
          83,
          84,
          85,
          86,
          87,
          88,
          89,
          90,
          91,
          92,
          93,
          94,
          95,
          96,
          97,
          98,
          99
         ],
         "y": [
          -0.5926298961513271,
          0.25673020586304807,
          -0.43782540602292713,
          1.0534689198889642,
          -0.9919513407195126,
          1.611767926213217,
          0.06330100258337129,
          -0.7794590258443483,
          1.3213895611178617,
          2.0428480315223823,
          1.3942054388325047,
          -1.0038641189563902,
          0.38499375800912655,
          0.43771904183757787,
          -0.03450546160271116,
          1.053234080805073,
          2.0397975570567692,
          0.385375865370009,
          1.7676509480340017,
          -0.6649155567520971,
          1.436288459640299,
          -0.4036051333866007,
          0.09260910325620314,
          -0.6542216569397591,
          1.4741915479685124,
          0.9051017853546715,
          -2.196271747394207,
          -0.11339517644243712,
          -0.4449131865951581,
          -0.22841259825041527,
          0.8679037688166911,
          -0.8281381473996741,
          -0.3197383644114914,
          -0.22840516815474368,
          2.853834584156512,
          0.6216999835149216,
          1.5240921155040292,
          -0.31203354460191196,
          0.08094205015951837,
          0.015646307251275072,
          1.7932205291927203,
          0.4653034182676237,
          1.1593511785630377,
          1.5737474570494507,
          1.1662651409043536,
          -0.13617317080506597,
          -1.6664432754952285,
          0.6658652654155452,
          -0.5158901261812123,
          -0.9417598894899648,
          0.5250610445322508,
          1.1998623089464961,
          -0.3229256151506854,
          -1.2920143018845127,
          -0.05205440705465112,
          0.26600301743930166,
          -0.9644056385681528,
          2.4529695305287142,
          2.713126831567635,
          0.23352598710271472,
          0.24763388006906298,
          -1.2243351213532416,
          0.41903421957586184,
          0.48867062808082373,
          -0.7861677504690421,
          -1.2514626078351387,
          0.21186021746577036,
          -0.06017875815427523,
          2.3055917858896997,
          -0.72211444002813,
          -0.12793695931512533,
          -0.007755887247505297,
          -1.0097227248055003,
          0.6030326691920733,
          -0.1739761026833534,
          0.7520083111574457,
          -0.5412741041067098,
          0.12309165184098429,
          0.7562849692392389,
          1.0348364759469733,
          -1.3908296564977056,
          -0.4406362876635684,
          0.574944055766053,
          -0.5819853653510465,
          0.881152636747594,
          0.07868416646062422,
          1.8226632065021642,
          -0.13719437995366995,
          1.1162581459854621,
          -0.7985545018909256,
          0.17241094898690948,
          0.2552260864441374,
          1.0605714157563813,
          0.5179693571027562,
          0.4155143057576676,
          1.4316485846465625,
          -0.7775443753105155,
          -1.063630020330371,
          -0.16289165324194577,
          -0.29531247931902405
         ]
        },
        {
         "line": {
          "color": "rgba(55, 128, 191, 1.0)",
          "dash": "solid",
          "shape": "linear",
          "width": 1.3
         },
         "mode": "lines",
         "name": "B",
         "text": "",
         "type": "scatter",
         "x": [
          0,
          1,
          2,
          3,
          4,
          5,
          6,
          7,
          8,
          9,
          10,
          11,
          12,
          13,
          14,
          15,
          16,
          17,
          18,
          19,
          20,
          21,
          22,
          23,
          24,
          25,
          26,
          27,
          28,
          29,
          30,
          31,
          32,
          33,
          34,
          35,
          36,
          37,
          38,
          39,
          40,
          41,
          42,
          43,
          44,
          45,
          46,
          47,
          48,
          49,
          50,
          51,
          52,
          53,
          54,
          55,
          56,
          57,
          58,
          59,
          60,
          61,
          62,
          63,
          64,
          65,
          66,
          67,
          68,
          69,
          70,
          71,
          72,
          73,
          74,
          75,
          76,
          77,
          78,
          79,
          80,
          81,
          82,
          83,
          84,
          85,
          86,
          87,
          88,
          89,
          90,
          91,
          92,
          93,
          94,
          95,
          96,
          97,
          98,
          99
         ],
         "y": [
          -0.1157907510446745,
          0.4798485260848488,
          0.2942811047577971,
          0.7131066424167334,
          -0.614145259332274,
          1.3367013379768597,
          -0.3611519306104252,
          -0.22674171311266222,
          -0.7922763953214255,
          -1.912388440068962,
          2.94461710583469,
          0.7466399419377467,
          -0.5062250561740432,
          -0.6267758673924915,
          -0.5301364252727697,
          -1.1356102411393012,
          1.7097173351457045,
          -0.5982673480241042,
          0.632599712583573,
          -0.7191789918807273,
          -1.011913867593541,
          1.0862462490282248,
          1.1499817116204132,
          0.7121776705596654,
          -0.7249853951963967,
          -0.24484654770034245,
          -0.10946886787942355,
          0.9444906377964262,
          -0.03956551316859267,
          -1.1913735024463135,
          -0.963486275341088,
          -1.3533511104197,
          -0.10146602362529568,
          0.40726711160299367,
          -1.3279311786454684,
          0.08999558075822016,
          1.4193027223212058,
          0.8481711573298252,
          1.237710700172955,
          -0.9075402340794535,
          0.24104376712171527,
          -0.26683695105423477,
          0.5297046101182764,
          -0.5898451706324817,
          -0.46118554508543186,
          0.4438889661881818,
          -0.022849201447032792,
          0.6538508162804493,
          -0.8969955791054491,
          0.5151826075293686,
          -1.716075531842265,
          -1.2459443299216126,
          -0.39468032622605176,
          -0.594068760568758,
          1.1781478136671775,
          -1.0799218215036783,
          1.0329478909914607,
          0.2282708120345758,
          0.5740812637562833,
          0.998004452114102,
          -0.4240139456347152,
          1.5697362346573667,
          -2.301553062519039,
          -0.05564169983599276,
          -0.5750252875191277,
          0.36899773315170714,
          1.2352274250634883,
          -0.2760983305352888,
          -1.1315843014714326,
          0.47160626469032957,
          0.6224993997445093,
          0.3056078012612184,
          0.3565127710229608,
          0.16192329536141162,
          -0.4482276412402648,
          -0.255341393719222,
          2.731094066424876,
          -0.3509008449363998,
          0.7562307284894754,
          0.307461984745654,
          -0.028086364160419496,
          0.3078805805283829,
          0.2717827333298244,
          -0.21005022861881803,
          0.15616678270870996,
          -0.5508037116094993,
          -0.8595019402724217,
          -1.1811403903781978,
          -1.1051152466130356,
          0.18553196417980916,
          0.625579015927619,
          -0.6408948128706429,
          -0.12432769691673103,
          -1.0699306999590428,
          0.26771926977846544,
          0.8026332176389065,
          1.80141470610895,
          -1.873013331107765,
          0.9099007759609501,
          -1.4396917779942568
         ]
        },
        {
         "connectgaps": false,
         "fill": "tozeroy",
         "line": {
          "color": "green",
          "dash": "solid",
          "shape": "linear",
          "width": 0.5
         },
         "mode": "lines",
         "name": "Spread",
         "showlegend": false,
         "type": "scatter",
         "x": [
          0,
          1,
          2,
          3,
          4,
          5,
          6,
          7,
          8,
          9,
          10,
          11,
          12,
          13,
          14,
          15,
          16,
          17,
          18,
          19,
          20,
          21,
          22,
          23,
          24,
          25,
          26,
          27,
          28,
          29,
          30,
          31,
          32,
          33,
          34,
          35,
          36,
          37,
          38,
          39,
          40,
          41,
          42,
          43,
          44,
          45,
          46,
          47,
          48,
          49,
          50,
          51,
          52,
          53,
          54,
          55,
          56,
          57,
          58,
          59,
          60,
          61,
          62,
          63,
          64,
          65,
          66,
          67,
          68,
          69,
          70,
          71,
          72,
          73,
          74,
          75,
          76,
          77,
          78,
          79,
          80,
          81,
          82,
          83,
          84,
          85,
          86,
          87,
          88,
          89,
          90,
          91,
          92,
          93,
          94,
          95,
          96,
          97,
          98,
          99
         ],
         "xaxis": "x2",
         "y": [
          "",
          "",
          "",
          0.3403622774722308,
          "",
          0.2750665882363572,
          0.4244529331937965,
          "",
          2.113665956439287,
          3.955236471591344,
          "",
          "",
          0.8912188141831698,
          1.0644949092300693,
          0.49563096367005854,
          2.1888443219443743,
          0.3300802219110648,
          0.9836432133941132,
          1.1350512354504287,
          0.05426343512863019,
          2.4482023272338402,
          "",
          "",
          "",
          2.1991769431649093,
          1.149948333055014,
          "",
          "",
          "",
          0.9629609041958982,
          1.831390044157779,
          0.525212963020026,
          "",
          "",
          4.18176576280198,
          0.5317044027567015,
          0.10478939318282343,
          "",
          "",
          0.9231865413307285,
          1.5521767620710052,
          0.7321403693218584,
          0.6296465684447613,
          2.1635926276819326,
          1.6274506859897855,
          "",
          "",
          0.012014449135095973,
          0.3811054529242368,
          "",
          2.2411365763745157,
          2.445806638868109,
          0.07175471107536635,
          "",
          "",
          1.34592483894298,
          "",
          2.2246987184941385,
          2.139045567811352,
          "",
          0.6716478257037781,
          "",
          2.720587282094901,
          0.5443123279168165,
          "",
          "",
          "",
          0.21591957238101359,
          3.4371760873611326,
          "",
          "",
          "",
          "",
          0.44110937383066173,
          0.2742515385569114,
          1.0073497048766678,
          "",
          0.4739924967773841,
          5.424074976356774e-05,
          0.7273744912013193,
          "",
          "",
          0.3031613224362286,
          "",
          0.724985854038884,
          0.6294878780701235,
          2.6821651467745857,
          1.043946010424528,
          2.2213733925984975,
          "",
          "",
          0.8961208993147802,
          1.1848991126731123,
          1.587900057061799,
          0.14779503597920218,
          0.629015367007656,
          "",
          0.809383310777394,
          "",
          1.1443792986752328
         ],
         "yaxis": "y2"
        },
        {
         "connectgaps": false,
         "fill": "tozeroy",
         "line": {
          "color": "red",
          "dash": "solid",
          "shape": "linear",
          "width": 0.5
         },
         "mode": "lines",
         "name": "Spread",
         "showlegend": false,
         "type": "scatter",
         "x": [
          0,
          1,
          2,
          3,
          4,
          5,
          6,
          7,
          8,
          9,
          10,
          11,
          12,
          13,
          14,
          15,
          16,
          17,
          18,
          19,
          20,
          21,
          22,
          23,
          24,
          25,
          26,
          27,
          28,
          29,
          30,
          31,
          32,
          33,
          34,
          35,
          36,
          37,
          38,
          39,
          40,
          41,
          42,
          43,
          44,
          45,
          46,
          47,
          48,
          49,
          50,
          51,
          52,
          53,
          54,
          55,
          56,
          57,
          58,
          59,
          60,
          61,
          62,
          63,
          64,
          65,
          66,
          67,
          68,
          69,
          70,
          71,
          72,
          73,
          74,
          75,
          76,
          77,
          78,
          79,
          80,
          81,
          82,
          83,
          84,
          85,
          86,
          87,
          88,
          89,
          90,
          91,
          92,
          93,
          94,
          95,
          96,
          97,
          98,
          99
         ],
         "xaxis": "x2",
         "y": [
          -0.4768391451066526,
          -0.22311832022180073,
          -0.7321065107807243,
          "",
          -0.3778060813872386,
          "",
          "",
          -0.5527173127316861,
          "",
          "",
          -1.5504116670021852,
          -1.750504060894137,
          "",
          "",
          "",
          "",
          "",
          "",
          "",
          "",
          "",
          -1.4898513824148254,
          -1.05737260836421,
          -1.3663993274994244,
          "",
          "",
          -2.0868028795147833,
          -1.0578858142388632,
          -0.4053476734265654,
          "",
          "",
          "",
          -0.21827234078619573,
          -0.6356722797577373,
          "",
          "",
          "",
          -1.1602047019317372,
          -1.1567686500134367,
          "",
          "",
          "",
          "",
          "",
          "",
          -0.5800621369932477,
          -1.6435940740481958,
          "",
          "",
          -1.4569424970193334,
          "",
          "",
          "",
          -0.6979455413157547,
          -1.2302022207218286,
          "",
          -1.9973535295596134,
          "",
          "",
          -0.7644784650113874,
          "",
          -2.7940713560106083,
          "",
          "",
          -0.21114246294991434,
          -1.6204603409868459,
          -1.0233672075977178,
          "",
          "",
          -1.1937207047184595,
          -0.7504363590596346,
          -0.3133636885087237,
          -1.366235495828461,
          "",
          "",
          "",
          -3.272368170531586,
          "",
          "",
          "",
          -1.3627432923372862,
          -0.7485168681919513,
          "",
          -0.37193513673222844,
          "",
          "",
          "",
          "",
          "",
          -0.9840864660707347,
          -0.45316806694070955,
          "",
          "",
          "",
          "",
          "",
          -2.5789590814194656,
          "",
          -1.0727924292028959,
          ""
         ],
         "yaxis": "y2"
        }
       ],
       "layout": {
        "hovermode": "x",
        "legend": {
         "bgcolor": "#F5F6F9",
         "font": {
          "color": "#4D5663"
         }
        },
        "paper_bgcolor": "#F5F6F9",
        "plot_bgcolor": "#F5F6F9",
        "template": {
         "data": {
          "bar": [
           {
            "error_x": {
             "color": "#2a3f5f"
            },
            "error_y": {
             "color": "#2a3f5f"
            },
            "marker": {
             "line": {
              "color": "#E5ECF6",
              "width": 0.5
             },
             "pattern": {
              "fillmode": "overlay",
              "size": 10,
              "solidity": 0.2
             }
            },
            "type": "bar"
           }
          ],
          "barpolar": [
           {
            "marker": {
             "line": {
              "color": "#E5ECF6",
              "width": 0.5
             },
             "pattern": {
              "fillmode": "overlay",
              "size": 10,
              "solidity": 0.2
             }
            },
            "type": "barpolar"
           }
          ],
          "carpet": [
           {
            "aaxis": {
             "endlinecolor": "#2a3f5f",
             "gridcolor": "white",
             "linecolor": "white",
             "minorgridcolor": "white",
             "startlinecolor": "#2a3f5f"
            },
            "baxis": {
             "endlinecolor": "#2a3f5f",
             "gridcolor": "white",
             "linecolor": "white",
             "minorgridcolor": "white",
             "startlinecolor": "#2a3f5f"
            },
            "type": "carpet"
           }
          ],
          "choropleth": [
           {
            "colorbar": {
             "outlinewidth": 0,
             "ticks": ""
            },
            "type": "choropleth"
           }
          ],
          "contour": [
           {
            "colorbar": {
             "outlinewidth": 0,
             "ticks": ""
            },
            "colorscale": [
             [
              0,
              "#0d0887"
             ],
             [
              0.1111111111111111,
              "#46039f"
             ],
             [
              0.2222222222222222,
              "#7201a8"
             ],
             [
              0.3333333333333333,
              "#9c179e"
             ],
             [
              0.4444444444444444,
              "#bd3786"
             ],
             [
              0.5555555555555556,
              "#d8576b"
             ],
             [
              0.6666666666666666,
              "#ed7953"
             ],
             [
              0.7777777777777778,
              "#fb9f3a"
             ],
             [
              0.8888888888888888,
              "#fdca26"
             ],
             [
              1,
              "#f0f921"
             ]
            ],
            "type": "contour"
           }
          ],
          "contourcarpet": [
           {
            "colorbar": {
             "outlinewidth": 0,
             "ticks": ""
            },
            "type": "contourcarpet"
           }
          ],
          "heatmap": [
           {
            "colorbar": {
             "outlinewidth": 0,
             "ticks": ""
            },
            "colorscale": [
             [
              0,
              "#0d0887"
             ],
             [
              0.1111111111111111,
              "#46039f"
             ],
             [
              0.2222222222222222,
              "#7201a8"
             ],
             [
              0.3333333333333333,
              "#9c179e"
             ],
             [
              0.4444444444444444,
              "#bd3786"
             ],
             [
              0.5555555555555556,
              "#d8576b"
             ],
             [
              0.6666666666666666,
              "#ed7953"
             ],
             [
              0.7777777777777778,
              "#fb9f3a"
             ],
             [
              0.8888888888888888,
              "#fdca26"
             ],
             [
              1,
              "#f0f921"
             ]
            ],
            "type": "heatmap"
           }
          ],
          "heatmapgl": [
           {
            "colorbar": {
             "outlinewidth": 0,
             "ticks": ""
            },
            "colorscale": [
             [
              0,
              "#0d0887"
             ],
             [
              0.1111111111111111,
              "#46039f"
             ],
             [
              0.2222222222222222,
              "#7201a8"
             ],
             [
              0.3333333333333333,
              "#9c179e"
             ],
             [
              0.4444444444444444,
              "#bd3786"
             ],
             [
              0.5555555555555556,
              "#d8576b"
             ],
             [
              0.6666666666666666,
              "#ed7953"
             ],
             [
              0.7777777777777778,
              "#fb9f3a"
             ],
             [
              0.8888888888888888,
              "#fdca26"
             ],
             [
              1,
              "#f0f921"
             ]
            ],
            "type": "heatmapgl"
           }
          ],
          "histogram": [
           {
            "marker": {
             "pattern": {
              "fillmode": "overlay",
              "size": 10,
              "solidity": 0.2
             }
            },
            "type": "histogram"
           }
          ],
          "histogram2d": [
           {
            "colorbar": {
             "outlinewidth": 0,
             "ticks": ""
            },
            "colorscale": [
             [
              0,
              "#0d0887"
             ],
             [
              0.1111111111111111,
              "#46039f"
             ],
             [
              0.2222222222222222,
              "#7201a8"
             ],
             [
              0.3333333333333333,
              "#9c179e"
             ],
             [
              0.4444444444444444,
              "#bd3786"
             ],
             [
              0.5555555555555556,
              "#d8576b"
             ],
             [
              0.6666666666666666,
              "#ed7953"
             ],
             [
              0.7777777777777778,
              "#fb9f3a"
             ],
             [
              0.8888888888888888,
              "#fdca26"
             ],
             [
              1,
              "#f0f921"
             ]
            ],
            "type": "histogram2d"
           }
          ],
          "histogram2dcontour": [
           {
            "colorbar": {
             "outlinewidth": 0,
             "ticks": ""
            },
            "colorscale": [
             [
              0,
              "#0d0887"
             ],
             [
              0.1111111111111111,
              "#46039f"
             ],
             [
              0.2222222222222222,
              "#7201a8"
             ],
             [
              0.3333333333333333,
              "#9c179e"
             ],
             [
              0.4444444444444444,
              "#bd3786"
             ],
             [
              0.5555555555555556,
              "#d8576b"
             ],
             [
              0.6666666666666666,
              "#ed7953"
             ],
             [
              0.7777777777777778,
              "#fb9f3a"
             ],
             [
              0.8888888888888888,
              "#fdca26"
             ],
             [
              1,
              "#f0f921"
             ]
            ],
            "type": "histogram2dcontour"
           }
          ],
          "mesh3d": [
           {
            "colorbar": {
             "outlinewidth": 0,
             "ticks": ""
            },
            "type": "mesh3d"
           }
          ],
          "parcoords": [
           {
            "line": {
             "colorbar": {
              "outlinewidth": 0,
              "ticks": ""
             }
            },
            "type": "parcoords"
           }
          ],
          "pie": [
           {
            "automargin": true,
            "type": "pie"
           }
          ],
          "scatter": [
           {
            "fillpattern": {
             "fillmode": "overlay",
             "size": 10,
             "solidity": 0.2
            },
            "type": "scatter"
           }
          ],
          "scatter3d": [
           {
            "line": {
             "colorbar": {
              "outlinewidth": 0,
              "ticks": ""
             }
            },
            "marker": {
             "colorbar": {
              "outlinewidth": 0,
              "ticks": ""
             }
            },
            "type": "scatter3d"
           }
          ],
          "scattercarpet": [
           {
            "marker": {
             "colorbar": {
              "outlinewidth": 0,
              "ticks": ""
             }
            },
            "type": "scattercarpet"
           }
          ],
          "scattergeo": [
           {
            "marker": {
             "colorbar": {
              "outlinewidth": 0,
              "ticks": ""
             }
            },
            "type": "scattergeo"
           }
          ],
          "scattergl": [
           {
            "marker": {
             "colorbar": {
              "outlinewidth": 0,
              "ticks": ""
             }
            },
            "type": "scattergl"
           }
          ],
          "scattermapbox": [
           {
            "marker": {
             "colorbar": {
              "outlinewidth": 0,
              "ticks": ""
             }
            },
            "type": "scattermapbox"
           }
          ],
          "scatterpolar": [
           {
            "marker": {
             "colorbar": {
              "outlinewidth": 0,
              "ticks": ""
             }
            },
            "type": "scatterpolar"
           }
          ],
          "scatterpolargl": [
           {
            "marker": {
             "colorbar": {
              "outlinewidth": 0,
              "ticks": ""
             }
            },
            "type": "scatterpolargl"
           }
          ],
          "scatterternary": [
           {
            "marker": {
             "colorbar": {
              "outlinewidth": 0,
              "ticks": ""
             }
            },
            "type": "scatterternary"
           }
          ],
          "surface": [
           {
            "colorbar": {
             "outlinewidth": 0,
             "ticks": ""
            },
            "colorscale": [
             [
              0,
              "#0d0887"
             ],
             [
              0.1111111111111111,
              "#46039f"
             ],
             [
              0.2222222222222222,
              "#7201a8"
             ],
             [
              0.3333333333333333,
              "#9c179e"
             ],
             [
              0.4444444444444444,
              "#bd3786"
             ],
             [
              0.5555555555555556,
              "#d8576b"
             ],
             [
              0.6666666666666666,
              "#ed7953"
             ],
             [
              0.7777777777777778,
              "#fb9f3a"
             ],
             [
              0.8888888888888888,
              "#fdca26"
             ],
             [
              1,
              "#f0f921"
             ]
            ],
            "type": "surface"
           }
          ],
          "table": [
           {
            "cells": {
             "fill": {
              "color": "#EBF0F8"
             },
             "line": {
              "color": "white"
             }
            },
            "header": {
             "fill": {
              "color": "#C8D4E3"
             },
             "line": {
              "color": "white"
             }
            },
            "type": "table"
           }
          ]
         },
         "layout": {
          "annotationdefaults": {
           "arrowcolor": "#2a3f5f",
           "arrowhead": 0,
           "arrowwidth": 1
          },
          "autotypenumbers": "strict",
          "coloraxis": {
           "colorbar": {
            "outlinewidth": 0,
            "ticks": ""
           }
          },
          "colorscale": {
           "diverging": [
            [
             0,
             "#8e0152"
            ],
            [
             0.1,
             "#c51b7d"
            ],
            [
             0.2,
             "#de77ae"
            ],
            [
             0.3,
             "#f1b6da"
            ],
            [
             0.4,
             "#fde0ef"
            ],
            [
             0.5,
             "#f7f7f7"
            ],
            [
             0.6,
             "#e6f5d0"
            ],
            [
             0.7,
             "#b8e186"
            ],
            [
             0.8,
             "#7fbc41"
            ],
            [
             0.9,
             "#4d9221"
            ],
            [
             1,
             "#276419"
            ]
           ],
           "sequential": [
            [
             0,
             "#0d0887"
            ],
            [
             0.1111111111111111,
             "#46039f"
            ],
            [
             0.2222222222222222,
             "#7201a8"
            ],
            [
             0.3333333333333333,
             "#9c179e"
            ],
            [
             0.4444444444444444,
             "#bd3786"
            ],
            [
             0.5555555555555556,
             "#d8576b"
            ],
            [
             0.6666666666666666,
             "#ed7953"
            ],
            [
             0.7777777777777778,
             "#fb9f3a"
            ],
            [
             0.8888888888888888,
             "#fdca26"
            ],
            [
             1,
             "#f0f921"
            ]
           ],
           "sequentialminus": [
            [
             0,
             "#0d0887"
            ],
            [
             0.1111111111111111,
             "#46039f"
            ],
            [
             0.2222222222222222,
             "#7201a8"
            ],
            [
             0.3333333333333333,
             "#9c179e"
            ],
            [
             0.4444444444444444,
             "#bd3786"
            ],
            [
             0.5555555555555556,
             "#d8576b"
            ],
            [
             0.6666666666666666,
             "#ed7953"
            ],
            [
             0.7777777777777778,
             "#fb9f3a"
            ],
            [
             0.8888888888888888,
             "#fdca26"
            ],
            [
             1,
             "#f0f921"
            ]
           ]
          },
          "colorway": [
           "#636efa",
           "#EF553B",
           "#00cc96",
           "#ab63fa",
           "#FFA15A",
           "#19d3f3",
           "#FF6692",
           "#B6E880",
           "#FF97FF",
           "#FECB52"
          ],
          "font": {
           "color": "#2a3f5f"
          },
          "geo": {
           "bgcolor": "white",
           "lakecolor": "white",
           "landcolor": "#E5ECF6",
           "showlakes": true,
           "showland": true,
           "subunitcolor": "white"
          },
          "hoverlabel": {
           "align": "left"
          },
          "hovermode": "closest",
          "mapbox": {
           "style": "light"
          },
          "paper_bgcolor": "white",
          "plot_bgcolor": "#E5ECF6",
          "polar": {
           "angularaxis": {
            "gridcolor": "white",
            "linecolor": "white",
            "ticks": ""
           },
           "bgcolor": "#E5ECF6",
           "radialaxis": {
            "gridcolor": "white",
            "linecolor": "white",
            "ticks": ""
           }
          },
          "scene": {
           "xaxis": {
            "backgroundcolor": "#E5ECF6",
            "gridcolor": "white",
            "gridwidth": 2,
            "linecolor": "white",
            "showbackground": true,
            "ticks": "",
            "zerolinecolor": "white"
           },
           "yaxis": {
            "backgroundcolor": "#E5ECF6",
            "gridcolor": "white",
            "gridwidth": 2,
            "linecolor": "white",
            "showbackground": true,
            "ticks": "",
            "zerolinecolor": "white"
           },
           "zaxis": {
            "backgroundcolor": "#E5ECF6",
            "gridcolor": "white",
            "gridwidth": 2,
            "linecolor": "white",
            "showbackground": true,
            "ticks": "",
            "zerolinecolor": "white"
           }
          },
          "shapedefaults": {
           "line": {
            "color": "#2a3f5f"
           }
          },
          "ternary": {
           "aaxis": {
            "gridcolor": "white",
            "linecolor": "white",
            "ticks": ""
           },
           "baxis": {
            "gridcolor": "white",
            "linecolor": "white",
            "ticks": ""
           },
           "bgcolor": "#E5ECF6",
           "caxis": {
            "gridcolor": "white",
            "linecolor": "white",
            "ticks": ""
           }
          },
          "title": {
           "x": 0.05
          },
          "xaxis": {
           "automargin": true,
           "gridcolor": "white",
           "linecolor": "white",
           "ticks": "",
           "title": {
            "standoff": 15
           },
           "zerolinecolor": "white",
           "zerolinewidth": 2
          },
          "yaxis": {
           "automargin": true,
           "gridcolor": "white",
           "linecolor": "white",
           "ticks": "",
           "title": {
            "standoff": 15
           },
           "zerolinecolor": "white",
           "zerolinewidth": 2
          }
         }
        },
        "title": {
         "font": {
          "color": "#4D5663"
         },
         "text": "Spread Plot between A and B"
        },
        "xaxis": {
         "gridcolor": "#E1E5ED",
         "showgrid": true,
         "tickfont": {
          "color": "#4D5663"
         },
         "title": {
          "font": {
           "color": "#4D5663"
          },
          "text": ""
         },
         "zerolinecolor": "#E1E5ED"
        },
        "xaxis2": {
         "anchor": "y2",
         "gridcolor": "#E1E5ED",
         "showgrid": true,
         "showticklabels": false,
         "tickfont": {
          "color": "#4D5663"
         },
         "title": {
          "font": {
           "color": "#4D5663"
          },
          "text": ""
         },
         "zerolinecolor": "#E1E5ED"
        },
        "yaxis": {
         "domain": [
          0.3,
          1
         ],
         "gridcolor": "#E1E5ED",
         "showgrid": true,
         "tickfont": {
          "color": "#4D5663"
         },
         "title": {
          "font": {
           "color": "#4D5663"
          },
          "text": ""
         },
         "zerolinecolor": "#E1E5ED"
        },
        "yaxis2": {
         "domain": [
          0,
          0.25
         ],
         "gridcolor": "#E1E5ED",
         "showgrid": true,
         "tickfont": {
          "color": "#4D5663"
         },
         "title": {
          "font": {
           "color": "#4D5663"
          },
          "text": "Spread"
         },
         "zerolinecolor": "#E1E5ED"
        }
       }
      },
      "text/html": [
       "<div>                            <div id=\"f59fc036-e569-4c90-8911-ebad9a9972ae\" class=\"plotly-graph-div\" style=\"height:525px; width:100%;\"></div>            <script type=\"text/javascript\">                require([\"plotly\"], function(Plotly) {                    window.PLOTLYENV=window.PLOTLYENV || {};\n",
       "                    window.PLOTLYENV.BASE_URL='https://plot.ly';                                    if (document.getElementById(\"f59fc036-e569-4c90-8911-ebad9a9972ae\")) {                    Plotly.newPlot(                        \"f59fc036-e569-4c90-8911-ebad9a9972ae\",                        [{\"line\":{\"color\":\"rgba(255, 153, 51, 1.0)\",\"dash\":\"solid\",\"shape\":\"linear\",\"width\":1.3},\"mode\":\"lines\",\"name\":\"A\",\"text\":\"\",\"x\":[0,1,2,3,4,5,6,7,8,9,10,11,12,13,14,15,16,17,18,19,20,21,22,23,24,25,26,27,28,29,30,31,32,33,34,35,36,37,38,39,40,41,42,43,44,45,46,47,48,49,50,51,52,53,54,55,56,57,58,59,60,61,62,63,64,65,66,67,68,69,70,71,72,73,74,75,76,77,78,79,80,81,82,83,84,85,86,87,88,89,90,91,92,93,94,95,96,97,98,99],\"y\":[-0.5926298961513271,0.25673020586304807,-0.43782540602292713,1.0534689198889642,-0.9919513407195126,1.611767926213217,0.06330100258337129,-0.7794590258443483,1.3213895611178617,2.0428480315223823,1.3942054388325047,-1.0038641189563902,0.38499375800912655,0.43771904183757787,-0.03450546160271116,1.053234080805073,2.0397975570567692,0.385375865370009,1.7676509480340017,-0.6649155567520971,1.436288459640299,-0.4036051333866007,0.09260910325620314,-0.6542216569397591,1.4741915479685124,0.9051017853546715,-2.196271747394207,-0.11339517644243712,-0.4449131865951581,-0.22841259825041527,0.8679037688166911,-0.8281381473996741,-0.3197383644114914,-0.22840516815474368,2.853834584156512,0.6216999835149216,1.5240921155040292,-0.31203354460191196,0.08094205015951837,0.015646307251275072,1.7932205291927203,0.4653034182676237,1.1593511785630377,1.5737474570494507,1.1662651409043536,-0.13617317080506597,-1.6664432754952285,0.6658652654155452,-0.5158901261812123,-0.9417598894899648,0.5250610445322508,1.1998623089464961,-0.3229256151506854,-1.2920143018845127,-0.05205440705465112,0.26600301743930166,-0.9644056385681528,2.4529695305287142,2.713126831567635,0.23352598710271472,0.24763388006906298,-1.2243351213532416,0.41903421957586184,0.48867062808082373,-0.7861677504690421,-1.2514626078351387,0.21186021746577036,-0.06017875815427523,2.3055917858896997,-0.72211444002813,-0.12793695931512533,-0.007755887247505297,-1.0097227248055003,0.6030326691920733,-0.1739761026833534,0.7520083111574457,-0.5412741041067098,0.12309165184098429,0.7562849692392389,1.0348364759469733,-1.3908296564977056,-0.4406362876635684,0.574944055766053,-0.5819853653510465,0.881152636747594,0.07868416646062422,1.8226632065021642,-0.13719437995366995,1.1162581459854621,-0.7985545018909256,0.17241094898690948,0.2552260864441374,1.0605714157563813,0.5179693571027562,0.4155143057576676,1.4316485846465625,-0.7775443753105155,-1.063630020330371,-0.16289165324194577,-0.29531247931902405],\"type\":\"scatter\"},{\"line\":{\"color\":\"rgba(55, 128, 191, 1.0)\",\"dash\":\"solid\",\"shape\":\"linear\",\"width\":1.3},\"mode\":\"lines\",\"name\":\"B\",\"text\":\"\",\"x\":[0,1,2,3,4,5,6,7,8,9,10,11,12,13,14,15,16,17,18,19,20,21,22,23,24,25,26,27,28,29,30,31,32,33,34,35,36,37,38,39,40,41,42,43,44,45,46,47,48,49,50,51,52,53,54,55,56,57,58,59,60,61,62,63,64,65,66,67,68,69,70,71,72,73,74,75,76,77,78,79,80,81,82,83,84,85,86,87,88,89,90,91,92,93,94,95,96,97,98,99],\"y\":[-0.1157907510446745,0.4798485260848488,0.2942811047577971,0.7131066424167334,-0.614145259332274,1.3367013379768597,-0.3611519306104252,-0.22674171311266222,-0.7922763953214255,-1.912388440068962,2.94461710583469,0.7466399419377467,-0.5062250561740432,-0.6267758673924915,-0.5301364252727697,-1.1356102411393012,1.7097173351457045,-0.5982673480241042,0.632599712583573,-0.7191789918807273,-1.011913867593541,1.0862462490282248,1.1499817116204132,0.7121776705596654,-0.7249853951963967,-0.24484654770034245,-0.10946886787942355,0.9444906377964262,-0.03956551316859267,-1.1913735024463135,-0.963486275341088,-1.3533511104197,-0.10146602362529568,0.40726711160299367,-1.3279311786454684,0.08999558075822016,1.4193027223212058,0.8481711573298252,1.237710700172955,-0.9075402340794535,0.24104376712171527,-0.26683695105423477,0.5297046101182764,-0.5898451706324817,-0.46118554508543186,0.4438889661881818,-0.022849201447032792,0.6538508162804493,-0.8969955791054491,0.5151826075293686,-1.716075531842265,-1.2459443299216126,-0.39468032622605176,-0.594068760568758,1.1781478136671775,-1.0799218215036783,1.0329478909914607,0.2282708120345758,0.5740812637562833,0.998004452114102,-0.4240139456347152,1.5697362346573667,-2.301553062519039,-0.05564169983599276,-0.5750252875191277,0.36899773315170714,1.2352274250634883,-0.2760983305352888,-1.1315843014714326,0.47160626469032957,0.6224993997445093,0.3056078012612184,0.3565127710229608,0.16192329536141162,-0.4482276412402648,-0.255341393719222,2.731094066424876,-0.3509008449363998,0.7562307284894754,0.307461984745654,-0.028086364160419496,0.3078805805283829,0.2717827333298244,-0.21005022861881803,0.15616678270870996,-0.5508037116094993,-0.8595019402724217,-1.1811403903781978,-1.1051152466130356,0.18553196417980916,0.625579015927619,-0.6408948128706429,-0.12432769691673103,-1.0699306999590428,0.26771926977846544,0.8026332176389065,1.80141470610895,-1.873013331107765,0.9099007759609501,-1.4396917779942568],\"type\":\"scatter\"},{\"connectgaps\":false,\"fill\":\"tozeroy\",\"line\":{\"color\":\"green\",\"dash\":\"solid\",\"shape\":\"linear\",\"width\":0.5},\"mode\":\"lines\",\"name\":\"Spread\",\"showlegend\":false,\"x\":[0,1,2,3,4,5,6,7,8,9,10,11,12,13,14,15,16,17,18,19,20,21,22,23,24,25,26,27,28,29,30,31,32,33,34,35,36,37,38,39,40,41,42,43,44,45,46,47,48,49,50,51,52,53,54,55,56,57,58,59,60,61,62,63,64,65,66,67,68,69,70,71,72,73,74,75,76,77,78,79,80,81,82,83,84,85,86,87,88,89,90,91,92,93,94,95,96,97,98,99],\"xaxis\":\"x2\",\"y\":[\"\",\"\",\"\",0.3403622774722308,\"\",0.2750665882363572,0.4244529331937965,\"\",2.113665956439287,3.955236471591344,\"\",\"\",0.8912188141831698,1.0644949092300693,0.49563096367005854,2.1888443219443743,0.3300802219110648,0.9836432133941132,1.1350512354504287,0.05426343512863019,2.4482023272338402,\"\",\"\",\"\",2.1991769431649093,1.149948333055014,\"\",\"\",\"\",0.9629609041958982,1.831390044157779,0.525212963020026,\"\",\"\",4.18176576280198,0.5317044027567015,0.10478939318282343,\"\",\"\",0.9231865413307285,1.5521767620710052,0.7321403693218584,0.6296465684447613,2.1635926276819326,1.6274506859897855,\"\",\"\",0.012014449135095973,0.3811054529242368,\"\",2.2411365763745157,2.445806638868109,0.07175471107536635,\"\",\"\",1.34592483894298,\"\",2.2246987184941385,2.139045567811352,\"\",0.6716478257037781,\"\",2.720587282094901,0.5443123279168165,\"\",\"\",\"\",0.21591957238101359,3.4371760873611326,\"\",\"\",\"\",\"\",0.44110937383066173,0.2742515385569114,1.0073497048766678,\"\",0.4739924967773841,5.424074976356774e-05,0.7273744912013193,\"\",\"\",0.3031613224362286,\"\",0.724985854038884,0.6294878780701235,2.6821651467745857,1.043946010424528,2.2213733925984975,\"\",\"\",0.8961208993147802,1.1848991126731123,1.587900057061799,0.14779503597920218,0.629015367007656,\"\",0.809383310777394,\"\",1.1443792986752328],\"yaxis\":\"y2\",\"type\":\"scatter\"},{\"connectgaps\":false,\"fill\":\"tozeroy\",\"line\":{\"color\":\"red\",\"dash\":\"solid\",\"shape\":\"linear\",\"width\":0.5},\"mode\":\"lines\",\"name\":\"Spread\",\"showlegend\":false,\"x\":[0,1,2,3,4,5,6,7,8,9,10,11,12,13,14,15,16,17,18,19,20,21,22,23,24,25,26,27,28,29,30,31,32,33,34,35,36,37,38,39,40,41,42,43,44,45,46,47,48,49,50,51,52,53,54,55,56,57,58,59,60,61,62,63,64,65,66,67,68,69,70,71,72,73,74,75,76,77,78,79,80,81,82,83,84,85,86,87,88,89,90,91,92,93,94,95,96,97,98,99],\"xaxis\":\"x2\",\"y\":[-0.4768391451066526,-0.22311832022180073,-0.7321065107807243,\"\",-0.3778060813872386,\"\",\"\",-0.5527173127316861,\"\",\"\",-1.5504116670021852,-1.750504060894137,\"\",\"\",\"\",\"\",\"\",\"\",\"\",\"\",\"\",-1.4898513824148254,-1.05737260836421,-1.3663993274994244,\"\",\"\",-2.0868028795147833,-1.0578858142388632,-0.4053476734265654,\"\",\"\",\"\",-0.21827234078619573,-0.6356722797577373,\"\",\"\",\"\",-1.1602047019317372,-1.1567686500134367,\"\",\"\",\"\",\"\",\"\",\"\",-0.5800621369932477,-1.6435940740481958,\"\",\"\",-1.4569424970193334,\"\",\"\",\"\",-0.6979455413157547,-1.2302022207218286,\"\",-1.9973535295596134,\"\",\"\",-0.7644784650113874,\"\",-2.7940713560106083,\"\",\"\",-0.21114246294991434,-1.6204603409868459,-1.0233672075977178,\"\",\"\",-1.1937207047184595,-0.7504363590596346,-0.3133636885087237,-1.366235495828461,\"\",\"\",\"\",-3.272368170531586,\"\",\"\",\"\",-1.3627432923372862,-0.7485168681919513,\"\",-0.37193513673222844,\"\",\"\",\"\",\"\",\"\",-0.9840864660707347,-0.45316806694070955,\"\",\"\",\"\",\"\",\"\",-2.5789590814194656,\"\",-1.0727924292028959,\"\"],\"yaxis\":\"y2\",\"type\":\"scatter\"}],                        {\"hovermode\":\"x\",\"legend\":{\"bgcolor\":\"#F5F6F9\",\"font\":{\"color\":\"#4D5663\"}},\"paper_bgcolor\":\"#F5F6F9\",\"plot_bgcolor\":\"#F5F6F9\",\"template\":{\"data\":{\"barpolar\":[{\"marker\":{\"line\":{\"color\":\"#E5ECF6\",\"width\":0.5},\"pattern\":{\"fillmode\":\"overlay\",\"size\":10,\"solidity\":0.2}},\"type\":\"barpolar\"}],\"bar\":[{\"error_x\":{\"color\":\"#2a3f5f\"},\"error_y\":{\"color\":\"#2a3f5f\"},\"marker\":{\"line\":{\"color\":\"#E5ECF6\",\"width\":0.5},\"pattern\":{\"fillmode\":\"overlay\",\"size\":10,\"solidity\":0.2}},\"type\":\"bar\"}],\"carpet\":[{\"aaxis\":{\"endlinecolor\":\"#2a3f5f\",\"gridcolor\":\"white\",\"linecolor\":\"white\",\"minorgridcolor\":\"white\",\"startlinecolor\":\"#2a3f5f\"},\"baxis\":{\"endlinecolor\":\"#2a3f5f\",\"gridcolor\":\"white\",\"linecolor\":\"white\",\"minorgridcolor\":\"white\",\"startlinecolor\":\"#2a3f5f\"},\"type\":\"carpet\"}],\"choropleth\":[{\"colorbar\":{\"outlinewidth\":0,\"ticks\":\"\"},\"type\":\"choropleth\"}],\"contourcarpet\":[{\"colorbar\":{\"outlinewidth\":0,\"ticks\":\"\"},\"type\":\"contourcarpet\"}],\"contour\":[{\"colorbar\":{\"outlinewidth\":0,\"ticks\":\"\"},\"colorscale\":[[0.0,\"#0d0887\"],[0.1111111111111111,\"#46039f\"],[0.2222222222222222,\"#7201a8\"],[0.3333333333333333,\"#9c179e\"],[0.4444444444444444,\"#bd3786\"],[0.5555555555555556,\"#d8576b\"],[0.6666666666666666,\"#ed7953\"],[0.7777777777777778,\"#fb9f3a\"],[0.8888888888888888,\"#fdca26\"],[1.0,\"#f0f921\"]],\"type\":\"contour\"}],\"heatmapgl\":[{\"colorbar\":{\"outlinewidth\":0,\"ticks\":\"\"},\"colorscale\":[[0.0,\"#0d0887\"],[0.1111111111111111,\"#46039f\"],[0.2222222222222222,\"#7201a8\"],[0.3333333333333333,\"#9c179e\"],[0.4444444444444444,\"#bd3786\"],[0.5555555555555556,\"#d8576b\"],[0.6666666666666666,\"#ed7953\"],[0.7777777777777778,\"#fb9f3a\"],[0.8888888888888888,\"#fdca26\"],[1.0,\"#f0f921\"]],\"type\":\"heatmapgl\"}],\"heatmap\":[{\"colorbar\":{\"outlinewidth\":0,\"ticks\":\"\"},\"colorscale\":[[0.0,\"#0d0887\"],[0.1111111111111111,\"#46039f\"],[0.2222222222222222,\"#7201a8\"],[0.3333333333333333,\"#9c179e\"],[0.4444444444444444,\"#bd3786\"],[0.5555555555555556,\"#d8576b\"],[0.6666666666666666,\"#ed7953\"],[0.7777777777777778,\"#fb9f3a\"],[0.8888888888888888,\"#fdca26\"],[1.0,\"#f0f921\"]],\"type\":\"heatmap\"}],\"histogram2dcontour\":[{\"colorbar\":{\"outlinewidth\":0,\"ticks\":\"\"},\"colorscale\":[[0.0,\"#0d0887\"],[0.1111111111111111,\"#46039f\"],[0.2222222222222222,\"#7201a8\"],[0.3333333333333333,\"#9c179e\"],[0.4444444444444444,\"#bd3786\"],[0.5555555555555556,\"#d8576b\"],[0.6666666666666666,\"#ed7953\"],[0.7777777777777778,\"#fb9f3a\"],[0.8888888888888888,\"#fdca26\"],[1.0,\"#f0f921\"]],\"type\":\"histogram2dcontour\"}],\"histogram2d\":[{\"colorbar\":{\"outlinewidth\":0,\"ticks\":\"\"},\"colorscale\":[[0.0,\"#0d0887\"],[0.1111111111111111,\"#46039f\"],[0.2222222222222222,\"#7201a8\"],[0.3333333333333333,\"#9c179e\"],[0.4444444444444444,\"#bd3786\"],[0.5555555555555556,\"#d8576b\"],[0.6666666666666666,\"#ed7953\"],[0.7777777777777778,\"#fb9f3a\"],[0.8888888888888888,\"#fdca26\"],[1.0,\"#f0f921\"]],\"type\":\"histogram2d\"}],\"histogram\":[{\"marker\":{\"pattern\":{\"fillmode\":\"overlay\",\"size\":10,\"solidity\":0.2}},\"type\":\"histogram\"}],\"mesh3d\":[{\"colorbar\":{\"outlinewidth\":0,\"ticks\":\"\"},\"type\":\"mesh3d\"}],\"parcoords\":[{\"line\":{\"colorbar\":{\"outlinewidth\":0,\"ticks\":\"\"}},\"type\":\"parcoords\"}],\"pie\":[{\"automargin\":true,\"type\":\"pie\"}],\"scatter3d\":[{\"line\":{\"colorbar\":{\"outlinewidth\":0,\"ticks\":\"\"}},\"marker\":{\"colorbar\":{\"outlinewidth\":0,\"ticks\":\"\"}},\"type\":\"scatter3d\"}],\"scattercarpet\":[{\"marker\":{\"colorbar\":{\"outlinewidth\":0,\"ticks\":\"\"}},\"type\":\"scattercarpet\"}],\"scattergeo\":[{\"marker\":{\"colorbar\":{\"outlinewidth\":0,\"ticks\":\"\"}},\"type\":\"scattergeo\"}],\"scattergl\":[{\"marker\":{\"colorbar\":{\"outlinewidth\":0,\"ticks\":\"\"}},\"type\":\"scattergl\"}],\"scattermapbox\":[{\"marker\":{\"colorbar\":{\"outlinewidth\":0,\"ticks\":\"\"}},\"type\":\"scattermapbox\"}],\"scatterpolargl\":[{\"marker\":{\"colorbar\":{\"outlinewidth\":0,\"ticks\":\"\"}},\"type\":\"scatterpolargl\"}],\"scatterpolar\":[{\"marker\":{\"colorbar\":{\"outlinewidth\":0,\"ticks\":\"\"}},\"type\":\"scatterpolar\"}],\"scatter\":[{\"fillpattern\":{\"fillmode\":\"overlay\",\"size\":10,\"solidity\":0.2},\"type\":\"scatter\"}],\"scatterternary\":[{\"marker\":{\"colorbar\":{\"outlinewidth\":0,\"ticks\":\"\"}},\"type\":\"scatterternary\"}],\"surface\":[{\"colorbar\":{\"outlinewidth\":0,\"ticks\":\"\"},\"colorscale\":[[0.0,\"#0d0887\"],[0.1111111111111111,\"#46039f\"],[0.2222222222222222,\"#7201a8\"],[0.3333333333333333,\"#9c179e\"],[0.4444444444444444,\"#bd3786\"],[0.5555555555555556,\"#d8576b\"],[0.6666666666666666,\"#ed7953\"],[0.7777777777777778,\"#fb9f3a\"],[0.8888888888888888,\"#fdca26\"],[1.0,\"#f0f921\"]],\"type\":\"surface\"}],\"table\":[{\"cells\":{\"fill\":{\"color\":\"#EBF0F8\"},\"line\":{\"color\":\"white\"}},\"header\":{\"fill\":{\"color\":\"#C8D4E3\"},\"line\":{\"color\":\"white\"}},\"type\":\"table\"}]},\"layout\":{\"annotationdefaults\":{\"arrowcolor\":\"#2a3f5f\",\"arrowhead\":0,\"arrowwidth\":1},\"autotypenumbers\":\"strict\",\"coloraxis\":{\"colorbar\":{\"outlinewidth\":0,\"ticks\":\"\"}},\"colorscale\":{\"diverging\":[[0,\"#8e0152\"],[0.1,\"#c51b7d\"],[0.2,\"#de77ae\"],[0.3,\"#f1b6da\"],[0.4,\"#fde0ef\"],[0.5,\"#f7f7f7\"],[0.6,\"#e6f5d0\"],[0.7,\"#b8e186\"],[0.8,\"#7fbc41\"],[0.9,\"#4d9221\"],[1,\"#276419\"]],\"sequential\":[[0.0,\"#0d0887\"],[0.1111111111111111,\"#46039f\"],[0.2222222222222222,\"#7201a8\"],[0.3333333333333333,\"#9c179e\"],[0.4444444444444444,\"#bd3786\"],[0.5555555555555556,\"#d8576b\"],[0.6666666666666666,\"#ed7953\"],[0.7777777777777778,\"#fb9f3a\"],[0.8888888888888888,\"#fdca26\"],[1.0,\"#f0f921\"]],\"sequentialminus\":[[0.0,\"#0d0887\"],[0.1111111111111111,\"#46039f\"],[0.2222222222222222,\"#7201a8\"],[0.3333333333333333,\"#9c179e\"],[0.4444444444444444,\"#bd3786\"],[0.5555555555555556,\"#d8576b\"],[0.6666666666666666,\"#ed7953\"],[0.7777777777777778,\"#fb9f3a\"],[0.8888888888888888,\"#fdca26\"],[1.0,\"#f0f921\"]]},\"colorway\":[\"#636efa\",\"#EF553B\",\"#00cc96\",\"#ab63fa\",\"#FFA15A\",\"#19d3f3\",\"#FF6692\",\"#B6E880\",\"#FF97FF\",\"#FECB52\"],\"font\":{\"color\":\"#2a3f5f\"},\"geo\":{\"bgcolor\":\"white\",\"lakecolor\":\"white\",\"landcolor\":\"#E5ECF6\",\"showlakes\":true,\"showland\":true,\"subunitcolor\":\"white\"},\"hoverlabel\":{\"align\":\"left\"},\"hovermode\":\"closest\",\"mapbox\":{\"style\":\"light\"},\"paper_bgcolor\":\"white\",\"plot_bgcolor\":\"#E5ECF6\",\"polar\":{\"angularaxis\":{\"gridcolor\":\"white\",\"linecolor\":\"white\",\"ticks\":\"\"},\"bgcolor\":\"#E5ECF6\",\"radialaxis\":{\"gridcolor\":\"white\",\"linecolor\":\"white\",\"ticks\":\"\"}},\"scene\":{\"xaxis\":{\"backgroundcolor\":\"#E5ECF6\",\"gridcolor\":\"white\",\"gridwidth\":2,\"linecolor\":\"white\",\"showbackground\":true,\"ticks\":\"\",\"zerolinecolor\":\"white\"},\"yaxis\":{\"backgroundcolor\":\"#E5ECF6\",\"gridcolor\":\"white\",\"gridwidth\":2,\"linecolor\":\"white\",\"showbackground\":true,\"ticks\":\"\",\"zerolinecolor\":\"white\"},\"zaxis\":{\"backgroundcolor\":\"#E5ECF6\",\"gridcolor\":\"white\",\"gridwidth\":2,\"linecolor\":\"white\",\"showbackground\":true,\"ticks\":\"\",\"zerolinecolor\":\"white\"}},\"shapedefaults\":{\"line\":{\"color\":\"#2a3f5f\"}},\"ternary\":{\"aaxis\":{\"gridcolor\":\"white\",\"linecolor\":\"white\",\"ticks\":\"\"},\"baxis\":{\"gridcolor\":\"white\",\"linecolor\":\"white\",\"ticks\":\"\"},\"bgcolor\":\"#E5ECF6\",\"caxis\":{\"gridcolor\":\"white\",\"linecolor\":\"white\",\"ticks\":\"\"}},\"title\":{\"x\":0.05},\"xaxis\":{\"automargin\":true,\"gridcolor\":\"white\",\"linecolor\":\"white\",\"ticks\":\"\",\"title\":{\"standoff\":15},\"zerolinecolor\":\"white\",\"zerolinewidth\":2},\"yaxis\":{\"automargin\":true,\"gridcolor\":\"white\",\"linecolor\":\"white\",\"ticks\":\"\",\"title\":{\"standoff\":15},\"zerolinecolor\":\"white\",\"zerolinewidth\":2}}},\"title\":{\"font\":{\"color\":\"#4D5663\"},\"text\":\"Spread Plot between A and B\"},\"xaxis\":{\"gridcolor\":\"#E1E5ED\",\"showgrid\":true,\"tickfont\":{\"color\":\"#4D5663\"},\"title\":{\"font\":{\"color\":\"#4D5663\"},\"text\":\"\"},\"zerolinecolor\":\"#E1E5ED\"},\"yaxis\":{\"domain\":[0.3,1],\"gridcolor\":\"#E1E5ED\",\"showgrid\":true,\"tickfont\":{\"color\":\"#4D5663\"},\"title\":{\"font\":{\"color\":\"#4D5663\"},\"text\":\"\"},\"zerolinecolor\":\"#E1E5ED\"},\"yaxis2\":{\"domain\":[0,0.25],\"gridcolor\":\"#E1E5ED\",\"showgrid\":true,\"tickfont\":{\"color\":\"#4D5663\"},\"title\":{\"font\":{\"color\":\"#4D5663\"},\"text\":\"Spread\"},\"zerolinecolor\":\"#E1E5ED\"},\"xaxis2\":{\"anchor\":\"y2\",\"gridcolor\":\"#E1E5ED\",\"showgrid\":true,\"showticklabels\":false,\"tickfont\":{\"color\":\"#4D5663\"},\"title\":{\"font\":{\"color\":\"#4D5663\"},\"text\":\"\"},\"zerolinecolor\":\"#E1E5ED\"}},                        {\"showLink\": true, \"linkText\": \"Export to plot.ly\", \"plotlyServerURL\": \"https://plot.ly\", \"responsive\": true}                    ).then(function(){\n",
       "                            \n",
       "var gd = document.getElementById('f59fc036-e569-4c90-8911-ebad9a9972ae');\n",
       "var x = new MutationObserver(function (mutations, observer) {{\n",
       "        var display = window.getComputedStyle(gd).display;\n",
       "        if (!display || display === 'none') {{\n",
       "            console.log([gd, 'removed!']);\n",
       "            Plotly.purge(gd);\n",
       "            observer.disconnect();\n",
       "        }}\n",
       "}});\n",
       "\n",
       "// Listen for the removal of the full notebook cells\n",
       "var notebookContainer = gd.closest('#notebook-container');\n",
       "if (notebookContainer) {{\n",
       "    x.observe(notebookContainer, {childList: true});\n",
       "}}\n",
       "\n",
       "// Listen for the clearing of the current output cell\n",
       "var outputEl = gd.closest('.output');\n",
       "if (outputEl) {{\n",
       "    x.observe(outputEl, {childList: true});\n",
       "}}\n",
       "\n",
       "                        })                };                });            </script>        </div>"
      ]
     },
     "metadata": {},
     "output_type": "display_data"
    }
   ],
   "source": [
    "# Assuming df is your DataFrame\n",
    "df[['A', 'B']].iplot(kind='spread', title='Spread Plot between A and B')\n"
   ]
  },
  {
   "cell_type": "code",
   "execution_count": 82,
   "id": "1eedadfc",
   "metadata": {},
   "outputs": [
    {
     "name": "stdout",
     "output_type": "stream",
     "text": [
      "C:\\Users\\Aryan\\anaconda\\Lib\\site-packages\\cufflinks\\__init__.py\n"
     ]
    }
   ],
   "source": [
    "print(cf.__file__)"
   ]
  },
  {
   "cell_type": "code",
   "execution_count": 27,
   "id": "8187930b",
   "metadata": {},
   "outputs": [
    {
     "data": {
      "application/vnd.plotly.v1+json": {
       "config": {
        "linkText": "Export to plot.ly",
        "plotlyServerURL": "https://plot.ly",
        "showLink": true
       },
       "data": [
        {
         "marker": {
          "color": [
           "rgb(255, 153, 51)",
           "rgb(55, 128, 191)",
           "rgb(50, 171, 96)",
           "rgb(128, 0, 128)",
           "rgb(219, 64, 82)",
           "rgb(0, 128, 128)",
           "rgb(255, 255, 51)",
           "rgb(128, 128, 0)",
           "rgb(251, 128, 114)",
           "rgb(128, 177, 211)"
          ],
          "line": {
           "width": 1.3
          },
          "size": [
           45,
           63,
           41,
           62,
           71,
           69,
           78,
           57,
           38,
           56,
           46,
           30,
           54,
           62,
           71,
           62,
           76,
           62,
           62,
           63,
           77,
           66,
           41,
           84,
           53,
           32,
           53,
           58,
           35,
           31,
           58,
           48,
           25,
           73,
           56,
           20,
           45,
           47,
           38,
           35,
           59,
           27,
           37,
           63,
           56,
           47,
           77,
           70,
           34,
           52,
           64,
           46,
           78,
           56,
           112,
           53,
           69,
           27,
           28,
           48,
           49,
           76,
           65,
           56,
           48,
           60,
           27,
           82,
           35,
           53,
           56,
           61,
           54,
           66,
           58,
           82,
           73,
           90,
           50,
           44,
           65,
           48,
           69,
           60,
           54,
           73,
           12,
           48,
           32,
           19,
           48,
           53,
           49,
           33,
           100,
           80,
           29,
           61,
           46,
           67
          ],
          "symbol": "circle"
         },
         "mode": "markers",
         "text": "",
         "type": "scatter",
         "x": [
          -0.5926298961513271,
          0.25673020586304807,
          -0.43782540602292713,
          1.0534689198889642,
          -0.9919513407195126,
          1.611767926213217,
          0.06330100258337129,
          -0.7794590258443483,
          1.3213895611178617,
          2.0428480315223823,
          1.3942054388325047,
          -1.0038641189563902,
          0.38499375800912655,
          0.43771904183757787,
          -0.03450546160271116,
          1.053234080805073,
          2.0397975570567692,
          0.385375865370009,
          1.7676509480340017,
          -0.6649155567520971,
          1.436288459640299,
          -0.4036051333866007,
          0.09260910325620314,
          -0.6542216569397591,
          1.4741915479685124,
          0.9051017853546715,
          -2.196271747394207,
          -0.11339517644243712,
          -0.4449131865951581,
          -0.22841259825041527,
          0.8679037688166911,
          -0.8281381473996741,
          -0.3197383644114914,
          -0.22840516815474368,
          2.853834584156512,
          0.6216999835149216,
          1.5240921155040292,
          -0.31203354460191196,
          0.08094205015951837,
          0.015646307251275072,
          1.7932205291927203,
          0.4653034182676237,
          1.1593511785630377,
          1.5737474570494507,
          1.1662651409043536,
          -0.13617317080506597,
          -1.6664432754952285,
          0.6658652654155452,
          -0.5158901261812123,
          -0.9417598894899648,
          0.5250610445322508,
          1.1998623089464961,
          -0.3229256151506854,
          -1.2920143018845127,
          -0.05205440705465112,
          0.26600301743930166,
          -0.9644056385681528,
          2.4529695305287142,
          2.713126831567635,
          0.23352598710271472,
          0.24763388006906298,
          -1.2243351213532416,
          0.41903421957586184,
          0.48867062808082373,
          -0.7861677504690421,
          -1.2514626078351387,
          0.21186021746577036,
          -0.06017875815427523,
          2.3055917858896997,
          -0.72211444002813,
          -0.12793695931512533,
          -0.007755887247505297,
          -1.0097227248055003,
          0.6030326691920733,
          -0.1739761026833534,
          0.7520083111574457,
          -0.5412741041067098,
          0.12309165184098429,
          0.7562849692392389,
          1.0348364759469733,
          -1.3908296564977056,
          -0.4406362876635684,
          0.574944055766053,
          -0.5819853653510465,
          0.881152636747594,
          0.07868416646062422,
          1.8226632065021642,
          -0.13719437995366995,
          1.1162581459854621,
          -0.7985545018909256,
          0.17241094898690948,
          0.2552260864441374,
          1.0605714157563813,
          0.5179693571027562,
          0.4155143057576676,
          1.4316485846465625,
          -0.7775443753105155,
          -1.063630020330371,
          -0.16289165324194577,
          -0.29531247931902405
         ],
         "y": [
          -0.1157907510446745,
          0.4798485260848488,
          0.2942811047577971,
          0.7131066424167334,
          -0.614145259332274,
          1.3367013379768597,
          -0.3611519306104252,
          -0.22674171311266222,
          -0.7922763953214255,
          -1.912388440068962,
          2.94461710583469,
          0.7466399419377467,
          -0.5062250561740432,
          -0.6267758673924915,
          -0.5301364252727697,
          -1.1356102411393012,
          1.7097173351457045,
          -0.5982673480241042,
          0.632599712583573,
          -0.7191789918807273,
          -1.011913867593541,
          1.0862462490282248,
          1.1499817116204132,
          0.7121776705596654,
          -0.7249853951963967,
          -0.24484654770034245,
          -0.10946886787942355,
          0.9444906377964262,
          -0.03956551316859267,
          -1.1913735024463135,
          -0.963486275341088,
          -1.3533511104197,
          -0.10146602362529568,
          0.40726711160299367,
          -1.3279311786454684,
          0.08999558075822016,
          1.4193027223212058,
          0.8481711573298252,
          1.237710700172955,
          -0.9075402340794535,
          0.24104376712171527,
          -0.26683695105423477,
          0.5297046101182764,
          -0.5898451706324817,
          -0.46118554508543186,
          0.4438889661881818,
          -0.022849201447032792,
          0.6538508162804493,
          -0.8969955791054491,
          0.5151826075293686,
          -1.716075531842265,
          -1.2459443299216126,
          -0.39468032622605176,
          -0.594068760568758,
          1.1781478136671775,
          -1.0799218215036783,
          1.0329478909914607,
          0.2282708120345758,
          0.5740812637562833,
          0.998004452114102,
          -0.4240139456347152,
          1.5697362346573667,
          -2.301553062519039,
          -0.05564169983599276,
          -0.5750252875191277,
          0.36899773315170714,
          1.2352274250634883,
          -0.2760983305352888,
          -1.1315843014714326,
          0.47160626469032957,
          0.6224993997445093,
          0.3056078012612184,
          0.3565127710229608,
          0.16192329536141162,
          -0.4482276412402648,
          -0.255341393719222,
          2.731094066424876,
          -0.3509008449363998,
          0.7562307284894754,
          0.307461984745654,
          -0.028086364160419496,
          0.3078805805283829,
          0.2717827333298244,
          -0.21005022861881803,
          0.15616678270870996,
          -0.5508037116094993,
          -0.8595019402724217,
          -1.1811403903781978,
          -1.1051152466130356,
          0.18553196417980916,
          0.625579015927619,
          -0.6408948128706429,
          -0.12432769691673103,
          -1.0699306999590428,
          0.26771926977846544,
          0.8026332176389065,
          1.80141470610895,
          -1.873013331107765,
          0.9099007759609501,
          -1.4396917779942568
         ]
        }
       ],
       "layout": {
        "legend": {
         "bgcolor": "#F5F6F9",
         "font": {
          "color": "#4D5663"
         }
        },
        "paper_bgcolor": "#F5F6F9",
        "plot_bgcolor": "#F5F6F9",
        "template": {
         "data": {
          "bar": [
           {
            "error_x": {
             "color": "#2a3f5f"
            },
            "error_y": {
             "color": "#2a3f5f"
            },
            "marker": {
             "line": {
              "color": "#E5ECF6",
              "width": 0.5
             },
             "pattern": {
              "fillmode": "overlay",
              "size": 10,
              "solidity": 0.2
             }
            },
            "type": "bar"
           }
          ],
          "barpolar": [
           {
            "marker": {
             "line": {
              "color": "#E5ECF6",
              "width": 0.5
             },
             "pattern": {
              "fillmode": "overlay",
              "size": 10,
              "solidity": 0.2
             }
            },
            "type": "barpolar"
           }
          ],
          "carpet": [
           {
            "aaxis": {
             "endlinecolor": "#2a3f5f",
             "gridcolor": "white",
             "linecolor": "white",
             "minorgridcolor": "white",
             "startlinecolor": "#2a3f5f"
            },
            "baxis": {
             "endlinecolor": "#2a3f5f",
             "gridcolor": "white",
             "linecolor": "white",
             "minorgridcolor": "white",
             "startlinecolor": "#2a3f5f"
            },
            "type": "carpet"
           }
          ],
          "choropleth": [
           {
            "colorbar": {
             "outlinewidth": 0,
             "ticks": ""
            },
            "type": "choropleth"
           }
          ],
          "contour": [
           {
            "colorbar": {
             "outlinewidth": 0,
             "ticks": ""
            },
            "colorscale": [
             [
              0,
              "#0d0887"
             ],
             [
              0.1111111111111111,
              "#46039f"
             ],
             [
              0.2222222222222222,
              "#7201a8"
             ],
             [
              0.3333333333333333,
              "#9c179e"
             ],
             [
              0.4444444444444444,
              "#bd3786"
             ],
             [
              0.5555555555555556,
              "#d8576b"
             ],
             [
              0.6666666666666666,
              "#ed7953"
             ],
             [
              0.7777777777777778,
              "#fb9f3a"
             ],
             [
              0.8888888888888888,
              "#fdca26"
             ],
             [
              1,
              "#f0f921"
             ]
            ],
            "type": "contour"
           }
          ],
          "contourcarpet": [
           {
            "colorbar": {
             "outlinewidth": 0,
             "ticks": ""
            },
            "type": "contourcarpet"
           }
          ],
          "heatmap": [
           {
            "colorbar": {
             "outlinewidth": 0,
             "ticks": ""
            },
            "colorscale": [
             [
              0,
              "#0d0887"
             ],
             [
              0.1111111111111111,
              "#46039f"
             ],
             [
              0.2222222222222222,
              "#7201a8"
             ],
             [
              0.3333333333333333,
              "#9c179e"
             ],
             [
              0.4444444444444444,
              "#bd3786"
             ],
             [
              0.5555555555555556,
              "#d8576b"
             ],
             [
              0.6666666666666666,
              "#ed7953"
             ],
             [
              0.7777777777777778,
              "#fb9f3a"
             ],
             [
              0.8888888888888888,
              "#fdca26"
             ],
             [
              1,
              "#f0f921"
             ]
            ],
            "type": "heatmap"
           }
          ],
          "heatmapgl": [
           {
            "colorbar": {
             "outlinewidth": 0,
             "ticks": ""
            },
            "colorscale": [
             [
              0,
              "#0d0887"
             ],
             [
              0.1111111111111111,
              "#46039f"
             ],
             [
              0.2222222222222222,
              "#7201a8"
             ],
             [
              0.3333333333333333,
              "#9c179e"
             ],
             [
              0.4444444444444444,
              "#bd3786"
             ],
             [
              0.5555555555555556,
              "#d8576b"
             ],
             [
              0.6666666666666666,
              "#ed7953"
             ],
             [
              0.7777777777777778,
              "#fb9f3a"
             ],
             [
              0.8888888888888888,
              "#fdca26"
             ],
             [
              1,
              "#f0f921"
             ]
            ],
            "type": "heatmapgl"
           }
          ],
          "histogram": [
           {
            "marker": {
             "pattern": {
              "fillmode": "overlay",
              "size": 10,
              "solidity": 0.2
             }
            },
            "type": "histogram"
           }
          ],
          "histogram2d": [
           {
            "colorbar": {
             "outlinewidth": 0,
             "ticks": ""
            },
            "colorscale": [
             [
              0,
              "#0d0887"
             ],
             [
              0.1111111111111111,
              "#46039f"
             ],
             [
              0.2222222222222222,
              "#7201a8"
             ],
             [
              0.3333333333333333,
              "#9c179e"
             ],
             [
              0.4444444444444444,
              "#bd3786"
             ],
             [
              0.5555555555555556,
              "#d8576b"
             ],
             [
              0.6666666666666666,
              "#ed7953"
             ],
             [
              0.7777777777777778,
              "#fb9f3a"
             ],
             [
              0.8888888888888888,
              "#fdca26"
             ],
             [
              1,
              "#f0f921"
             ]
            ],
            "type": "histogram2d"
           }
          ],
          "histogram2dcontour": [
           {
            "colorbar": {
             "outlinewidth": 0,
             "ticks": ""
            },
            "colorscale": [
             [
              0,
              "#0d0887"
             ],
             [
              0.1111111111111111,
              "#46039f"
             ],
             [
              0.2222222222222222,
              "#7201a8"
             ],
             [
              0.3333333333333333,
              "#9c179e"
             ],
             [
              0.4444444444444444,
              "#bd3786"
             ],
             [
              0.5555555555555556,
              "#d8576b"
             ],
             [
              0.6666666666666666,
              "#ed7953"
             ],
             [
              0.7777777777777778,
              "#fb9f3a"
             ],
             [
              0.8888888888888888,
              "#fdca26"
             ],
             [
              1,
              "#f0f921"
             ]
            ],
            "type": "histogram2dcontour"
           }
          ],
          "mesh3d": [
           {
            "colorbar": {
             "outlinewidth": 0,
             "ticks": ""
            },
            "type": "mesh3d"
           }
          ],
          "parcoords": [
           {
            "line": {
             "colorbar": {
              "outlinewidth": 0,
              "ticks": ""
             }
            },
            "type": "parcoords"
           }
          ],
          "pie": [
           {
            "automargin": true,
            "type": "pie"
           }
          ],
          "scatter": [
           {
            "fillpattern": {
             "fillmode": "overlay",
             "size": 10,
             "solidity": 0.2
            },
            "type": "scatter"
           }
          ],
          "scatter3d": [
           {
            "line": {
             "colorbar": {
              "outlinewidth": 0,
              "ticks": ""
             }
            },
            "marker": {
             "colorbar": {
              "outlinewidth": 0,
              "ticks": ""
             }
            },
            "type": "scatter3d"
           }
          ],
          "scattercarpet": [
           {
            "marker": {
             "colorbar": {
              "outlinewidth": 0,
              "ticks": ""
             }
            },
            "type": "scattercarpet"
           }
          ],
          "scattergeo": [
           {
            "marker": {
             "colorbar": {
              "outlinewidth": 0,
              "ticks": ""
             }
            },
            "type": "scattergeo"
           }
          ],
          "scattergl": [
           {
            "marker": {
             "colorbar": {
              "outlinewidth": 0,
              "ticks": ""
             }
            },
            "type": "scattergl"
           }
          ],
          "scattermapbox": [
           {
            "marker": {
             "colorbar": {
              "outlinewidth": 0,
              "ticks": ""
             }
            },
            "type": "scattermapbox"
           }
          ],
          "scatterpolar": [
           {
            "marker": {
             "colorbar": {
              "outlinewidth": 0,
              "ticks": ""
             }
            },
            "type": "scatterpolar"
           }
          ],
          "scatterpolargl": [
           {
            "marker": {
             "colorbar": {
              "outlinewidth": 0,
              "ticks": ""
             }
            },
            "type": "scatterpolargl"
           }
          ],
          "scatterternary": [
           {
            "marker": {
             "colorbar": {
              "outlinewidth": 0,
              "ticks": ""
             }
            },
            "type": "scatterternary"
           }
          ],
          "surface": [
           {
            "colorbar": {
             "outlinewidth": 0,
             "ticks": ""
            },
            "colorscale": [
             [
              0,
              "#0d0887"
             ],
             [
              0.1111111111111111,
              "#46039f"
             ],
             [
              0.2222222222222222,
              "#7201a8"
             ],
             [
              0.3333333333333333,
              "#9c179e"
             ],
             [
              0.4444444444444444,
              "#bd3786"
             ],
             [
              0.5555555555555556,
              "#d8576b"
             ],
             [
              0.6666666666666666,
              "#ed7953"
             ],
             [
              0.7777777777777778,
              "#fb9f3a"
             ],
             [
              0.8888888888888888,
              "#fdca26"
             ],
             [
              1,
              "#f0f921"
             ]
            ],
            "type": "surface"
           }
          ],
          "table": [
           {
            "cells": {
             "fill": {
              "color": "#EBF0F8"
             },
             "line": {
              "color": "white"
             }
            },
            "header": {
             "fill": {
              "color": "#C8D4E3"
             },
             "line": {
              "color": "white"
             }
            },
            "type": "table"
           }
          ]
         },
         "layout": {
          "annotationdefaults": {
           "arrowcolor": "#2a3f5f",
           "arrowhead": 0,
           "arrowwidth": 1
          },
          "autotypenumbers": "strict",
          "coloraxis": {
           "colorbar": {
            "outlinewidth": 0,
            "ticks": ""
           }
          },
          "colorscale": {
           "diverging": [
            [
             0,
             "#8e0152"
            ],
            [
             0.1,
             "#c51b7d"
            ],
            [
             0.2,
             "#de77ae"
            ],
            [
             0.3,
             "#f1b6da"
            ],
            [
             0.4,
             "#fde0ef"
            ],
            [
             0.5,
             "#f7f7f7"
            ],
            [
             0.6,
             "#e6f5d0"
            ],
            [
             0.7,
             "#b8e186"
            ],
            [
             0.8,
             "#7fbc41"
            ],
            [
             0.9,
             "#4d9221"
            ],
            [
             1,
             "#276419"
            ]
           ],
           "sequential": [
            [
             0,
             "#0d0887"
            ],
            [
             0.1111111111111111,
             "#46039f"
            ],
            [
             0.2222222222222222,
             "#7201a8"
            ],
            [
             0.3333333333333333,
             "#9c179e"
            ],
            [
             0.4444444444444444,
             "#bd3786"
            ],
            [
             0.5555555555555556,
             "#d8576b"
            ],
            [
             0.6666666666666666,
             "#ed7953"
            ],
            [
             0.7777777777777778,
             "#fb9f3a"
            ],
            [
             0.8888888888888888,
             "#fdca26"
            ],
            [
             1,
             "#f0f921"
            ]
           ],
           "sequentialminus": [
            [
             0,
             "#0d0887"
            ],
            [
             0.1111111111111111,
             "#46039f"
            ],
            [
             0.2222222222222222,
             "#7201a8"
            ],
            [
             0.3333333333333333,
             "#9c179e"
            ],
            [
             0.4444444444444444,
             "#bd3786"
            ],
            [
             0.5555555555555556,
             "#d8576b"
            ],
            [
             0.6666666666666666,
             "#ed7953"
            ],
            [
             0.7777777777777778,
             "#fb9f3a"
            ],
            [
             0.8888888888888888,
             "#fdca26"
            ],
            [
             1,
             "#f0f921"
            ]
           ]
          },
          "colorway": [
           "#636efa",
           "#EF553B",
           "#00cc96",
           "#ab63fa",
           "#FFA15A",
           "#19d3f3",
           "#FF6692",
           "#B6E880",
           "#FF97FF",
           "#FECB52"
          ],
          "font": {
           "color": "#2a3f5f"
          },
          "geo": {
           "bgcolor": "white",
           "lakecolor": "white",
           "landcolor": "#E5ECF6",
           "showlakes": true,
           "showland": true,
           "subunitcolor": "white"
          },
          "hoverlabel": {
           "align": "left"
          },
          "hovermode": "closest",
          "mapbox": {
           "style": "light"
          },
          "paper_bgcolor": "white",
          "plot_bgcolor": "#E5ECF6",
          "polar": {
           "angularaxis": {
            "gridcolor": "white",
            "linecolor": "white",
            "ticks": ""
           },
           "bgcolor": "#E5ECF6",
           "radialaxis": {
            "gridcolor": "white",
            "linecolor": "white",
            "ticks": ""
           }
          },
          "scene": {
           "xaxis": {
            "backgroundcolor": "#E5ECF6",
            "gridcolor": "white",
            "gridwidth": 2,
            "linecolor": "white",
            "showbackground": true,
            "ticks": "",
            "zerolinecolor": "white"
           },
           "yaxis": {
            "backgroundcolor": "#E5ECF6",
            "gridcolor": "white",
            "gridwidth": 2,
            "linecolor": "white",
            "showbackground": true,
            "ticks": "",
            "zerolinecolor": "white"
           },
           "zaxis": {
            "backgroundcolor": "#E5ECF6",
            "gridcolor": "white",
            "gridwidth": 2,
            "linecolor": "white",
            "showbackground": true,
            "ticks": "",
            "zerolinecolor": "white"
           }
          },
          "shapedefaults": {
           "line": {
            "color": "#2a3f5f"
           }
          },
          "ternary": {
           "aaxis": {
            "gridcolor": "white",
            "linecolor": "white",
            "ticks": ""
           },
           "baxis": {
            "gridcolor": "white",
            "linecolor": "white",
            "ticks": ""
           },
           "bgcolor": "#E5ECF6",
           "caxis": {
            "gridcolor": "white",
            "linecolor": "white",
            "ticks": ""
           }
          },
          "title": {
           "x": 0.05
          },
          "xaxis": {
           "automargin": true,
           "gridcolor": "white",
           "linecolor": "white",
           "ticks": "",
           "title": {
            "standoff": 15
           },
           "zerolinecolor": "white",
           "zerolinewidth": 2
          },
          "yaxis": {
           "automargin": true,
           "gridcolor": "white",
           "linecolor": "white",
           "ticks": "",
           "title": {
            "standoff": 15
           },
           "zerolinecolor": "white",
           "zerolinewidth": 2
          }
         }
        },
        "title": {
         "font": {
          "color": "#4D5663"
         }
        },
        "xaxis": {
         "gridcolor": "#E1E5ED",
         "showgrid": true,
         "tickfont": {
          "color": "#4D5663"
         },
         "title": {
          "font": {
           "color": "#4D5663"
          },
          "text": ""
         },
         "zerolinecolor": "#E1E5ED"
        },
        "yaxis": {
         "gridcolor": "#E1E5ED",
         "showgrid": true,
         "tickfont": {
          "color": "#4D5663"
         },
         "title": {
          "font": {
           "color": "#4D5663"
          },
          "text": ""
         },
         "zerolinecolor": "#E1E5ED"
        }
       }
      },
      "text/html": [
       "<div>                            <div id=\"9a72e3a4-3460-4c99-9ddc-54f106348b7d\" class=\"plotly-graph-div\" style=\"height:525px; width:100%;\"></div>            <script type=\"text/javascript\">                require([\"plotly\"], function(Plotly) {                    window.PLOTLYENV=window.PLOTLYENV || {};\n",
       "                    window.PLOTLYENV.BASE_URL='https://plot.ly';                                    if (document.getElementById(\"9a72e3a4-3460-4c99-9ddc-54f106348b7d\")) {                    Plotly.newPlot(                        \"9a72e3a4-3460-4c99-9ddc-54f106348b7d\",                        [{\"marker\":{\"color\":[\"rgb(255, 153, 51)\",\"rgb(55, 128, 191)\",\"rgb(50, 171, 96)\",\"rgb(128, 0, 128)\",\"rgb(219, 64, 82)\",\"rgb(0, 128, 128)\",\"rgb(255, 255, 51)\",\"rgb(128, 128, 0)\",\"rgb(251, 128, 114)\",\"rgb(128, 177, 211)\"],\"line\":{\"width\":1.3},\"size\":[45,63,41,62,71,69,78,57,38,56,46,30,54,62,71,62,76,62,62,63,77,66,41,84,53,32,53,58,35,31,58,48,25,73,56,20,45,47,38,35,59,27,37,63,56,47,77,70,34,52,64,46,78,56,112,53,69,27,28,48,49,76,65,56,48,60,27,82,35,53,56,61,54,66,58,82,73,90,50,44,65,48,69,60,54,73,12,48,32,19,48,53,49,33,100,80,29,61,46,67],\"symbol\":\"circle\"},\"mode\":\"markers\",\"text\":\"\",\"x\":[-0.5926298961513271,0.25673020586304807,-0.43782540602292713,1.0534689198889642,-0.9919513407195126,1.611767926213217,0.06330100258337129,-0.7794590258443483,1.3213895611178617,2.0428480315223823,1.3942054388325047,-1.0038641189563902,0.38499375800912655,0.43771904183757787,-0.03450546160271116,1.053234080805073,2.0397975570567692,0.385375865370009,1.7676509480340017,-0.6649155567520971,1.436288459640299,-0.4036051333866007,0.09260910325620314,-0.6542216569397591,1.4741915479685124,0.9051017853546715,-2.196271747394207,-0.11339517644243712,-0.4449131865951581,-0.22841259825041527,0.8679037688166911,-0.8281381473996741,-0.3197383644114914,-0.22840516815474368,2.853834584156512,0.6216999835149216,1.5240921155040292,-0.31203354460191196,0.08094205015951837,0.015646307251275072,1.7932205291927203,0.4653034182676237,1.1593511785630377,1.5737474570494507,1.1662651409043536,-0.13617317080506597,-1.6664432754952285,0.6658652654155452,-0.5158901261812123,-0.9417598894899648,0.5250610445322508,1.1998623089464961,-0.3229256151506854,-1.2920143018845127,-0.05205440705465112,0.26600301743930166,-0.9644056385681528,2.4529695305287142,2.713126831567635,0.23352598710271472,0.24763388006906298,-1.2243351213532416,0.41903421957586184,0.48867062808082373,-0.7861677504690421,-1.2514626078351387,0.21186021746577036,-0.06017875815427523,2.3055917858896997,-0.72211444002813,-0.12793695931512533,-0.007755887247505297,-1.0097227248055003,0.6030326691920733,-0.1739761026833534,0.7520083111574457,-0.5412741041067098,0.12309165184098429,0.7562849692392389,1.0348364759469733,-1.3908296564977056,-0.4406362876635684,0.574944055766053,-0.5819853653510465,0.881152636747594,0.07868416646062422,1.8226632065021642,-0.13719437995366995,1.1162581459854621,-0.7985545018909256,0.17241094898690948,0.2552260864441374,1.0605714157563813,0.5179693571027562,0.4155143057576676,1.4316485846465625,-0.7775443753105155,-1.063630020330371,-0.16289165324194577,-0.29531247931902405],\"y\":[-0.1157907510446745,0.4798485260848488,0.2942811047577971,0.7131066424167334,-0.614145259332274,1.3367013379768597,-0.3611519306104252,-0.22674171311266222,-0.7922763953214255,-1.912388440068962,2.94461710583469,0.7466399419377467,-0.5062250561740432,-0.6267758673924915,-0.5301364252727697,-1.1356102411393012,1.7097173351457045,-0.5982673480241042,0.632599712583573,-0.7191789918807273,-1.011913867593541,1.0862462490282248,1.1499817116204132,0.7121776705596654,-0.7249853951963967,-0.24484654770034245,-0.10946886787942355,0.9444906377964262,-0.03956551316859267,-1.1913735024463135,-0.963486275341088,-1.3533511104197,-0.10146602362529568,0.40726711160299367,-1.3279311786454684,0.08999558075822016,1.4193027223212058,0.8481711573298252,1.237710700172955,-0.9075402340794535,0.24104376712171527,-0.26683695105423477,0.5297046101182764,-0.5898451706324817,-0.46118554508543186,0.4438889661881818,-0.022849201447032792,0.6538508162804493,-0.8969955791054491,0.5151826075293686,-1.716075531842265,-1.2459443299216126,-0.39468032622605176,-0.594068760568758,1.1781478136671775,-1.0799218215036783,1.0329478909914607,0.2282708120345758,0.5740812637562833,0.998004452114102,-0.4240139456347152,1.5697362346573667,-2.301553062519039,-0.05564169983599276,-0.5750252875191277,0.36899773315170714,1.2352274250634883,-0.2760983305352888,-1.1315843014714326,0.47160626469032957,0.6224993997445093,0.3056078012612184,0.3565127710229608,0.16192329536141162,-0.4482276412402648,-0.255341393719222,2.731094066424876,-0.3509008449363998,0.7562307284894754,0.307461984745654,-0.028086364160419496,0.3078805805283829,0.2717827333298244,-0.21005022861881803,0.15616678270870996,-0.5508037116094993,-0.8595019402724217,-1.1811403903781978,-1.1051152466130356,0.18553196417980916,0.625579015927619,-0.6408948128706429,-0.12432769691673103,-1.0699306999590428,0.26771926977846544,0.8026332176389065,1.80141470610895,-1.873013331107765,0.9099007759609501,-1.4396917779942568],\"type\":\"scatter\"}],                        {\"legend\":{\"bgcolor\":\"#F5F6F9\",\"font\":{\"color\":\"#4D5663\"}},\"paper_bgcolor\":\"#F5F6F9\",\"plot_bgcolor\":\"#F5F6F9\",\"template\":{\"data\":{\"barpolar\":[{\"marker\":{\"line\":{\"color\":\"#E5ECF6\",\"width\":0.5},\"pattern\":{\"fillmode\":\"overlay\",\"size\":10,\"solidity\":0.2}},\"type\":\"barpolar\"}],\"bar\":[{\"error_x\":{\"color\":\"#2a3f5f\"},\"error_y\":{\"color\":\"#2a3f5f\"},\"marker\":{\"line\":{\"color\":\"#E5ECF6\",\"width\":0.5},\"pattern\":{\"fillmode\":\"overlay\",\"size\":10,\"solidity\":0.2}},\"type\":\"bar\"}],\"carpet\":[{\"aaxis\":{\"endlinecolor\":\"#2a3f5f\",\"gridcolor\":\"white\",\"linecolor\":\"white\",\"minorgridcolor\":\"white\",\"startlinecolor\":\"#2a3f5f\"},\"baxis\":{\"endlinecolor\":\"#2a3f5f\",\"gridcolor\":\"white\",\"linecolor\":\"white\",\"minorgridcolor\":\"white\",\"startlinecolor\":\"#2a3f5f\"},\"type\":\"carpet\"}],\"choropleth\":[{\"colorbar\":{\"outlinewidth\":0,\"ticks\":\"\"},\"type\":\"choropleth\"}],\"contourcarpet\":[{\"colorbar\":{\"outlinewidth\":0,\"ticks\":\"\"},\"type\":\"contourcarpet\"}],\"contour\":[{\"colorbar\":{\"outlinewidth\":0,\"ticks\":\"\"},\"colorscale\":[[0.0,\"#0d0887\"],[0.1111111111111111,\"#46039f\"],[0.2222222222222222,\"#7201a8\"],[0.3333333333333333,\"#9c179e\"],[0.4444444444444444,\"#bd3786\"],[0.5555555555555556,\"#d8576b\"],[0.6666666666666666,\"#ed7953\"],[0.7777777777777778,\"#fb9f3a\"],[0.8888888888888888,\"#fdca26\"],[1.0,\"#f0f921\"]],\"type\":\"contour\"}],\"heatmapgl\":[{\"colorbar\":{\"outlinewidth\":0,\"ticks\":\"\"},\"colorscale\":[[0.0,\"#0d0887\"],[0.1111111111111111,\"#46039f\"],[0.2222222222222222,\"#7201a8\"],[0.3333333333333333,\"#9c179e\"],[0.4444444444444444,\"#bd3786\"],[0.5555555555555556,\"#d8576b\"],[0.6666666666666666,\"#ed7953\"],[0.7777777777777778,\"#fb9f3a\"],[0.8888888888888888,\"#fdca26\"],[1.0,\"#f0f921\"]],\"type\":\"heatmapgl\"}],\"heatmap\":[{\"colorbar\":{\"outlinewidth\":0,\"ticks\":\"\"},\"colorscale\":[[0.0,\"#0d0887\"],[0.1111111111111111,\"#46039f\"],[0.2222222222222222,\"#7201a8\"],[0.3333333333333333,\"#9c179e\"],[0.4444444444444444,\"#bd3786\"],[0.5555555555555556,\"#d8576b\"],[0.6666666666666666,\"#ed7953\"],[0.7777777777777778,\"#fb9f3a\"],[0.8888888888888888,\"#fdca26\"],[1.0,\"#f0f921\"]],\"type\":\"heatmap\"}],\"histogram2dcontour\":[{\"colorbar\":{\"outlinewidth\":0,\"ticks\":\"\"},\"colorscale\":[[0.0,\"#0d0887\"],[0.1111111111111111,\"#46039f\"],[0.2222222222222222,\"#7201a8\"],[0.3333333333333333,\"#9c179e\"],[0.4444444444444444,\"#bd3786\"],[0.5555555555555556,\"#d8576b\"],[0.6666666666666666,\"#ed7953\"],[0.7777777777777778,\"#fb9f3a\"],[0.8888888888888888,\"#fdca26\"],[1.0,\"#f0f921\"]],\"type\":\"histogram2dcontour\"}],\"histogram2d\":[{\"colorbar\":{\"outlinewidth\":0,\"ticks\":\"\"},\"colorscale\":[[0.0,\"#0d0887\"],[0.1111111111111111,\"#46039f\"],[0.2222222222222222,\"#7201a8\"],[0.3333333333333333,\"#9c179e\"],[0.4444444444444444,\"#bd3786\"],[0.5555555555555556,\"#d8576b\"],[0.6666666666666666,\"#ed7953\"],[0.7777777777777778,\"#fb9f3a\"],[0.8888888888888888,\"#fdca26\"],[1.0,\"#f0f921\"]],\"type\":\"histogram2d\"}],\"histogram\":[{\"marker\":{\"pattern\":{\"fillmode\":\"overlay\",\"size\":10,\"solidity\":0.2}},\"type\":\"histogram\"}],\"mesh3d\":[{\"colorbar\":{\"outlinewidth\":0,\"ticks\":\"\"},\"type\":\"mesh3d\"}],\"parcoords\":[{\"line\":{\"colorbar\":{\"outlinewidth\":0,\"ticks\":\"\"}},\"type\":\"parcoords\"}],\"pie\":[{\"automargin\":true,\"type\":\"pie\"}],\"scatter3d\":[{\"line\":{\"colorbar\":{\"outlinewidth\":0,\"ticks\":\"\"}},\"marker\":{\"colorbar\":{\"outlinewidth\":0,\"ticks\":\"\"}},\"type\":\"scatter3d\"}],\"scattercarpet\":[{\"marker\":{\"colorbar\":{\"outlinewidth\":0,\"ticks\":\"\"}},\"type\":\"scattercarpet\"}],\"scattergeo\":[{\"marker\":{\"colorbar\":{\"outlinewidth\":0,\"ticks\":\"\"}},\"type\":\"scattergeo\"}],\"scattergl\":[{\"marker\":{\"colorbar\":{\"outlinewidth\":0,\"ticks\":\"\"}},\"type\":\"scattergl\"}],\"scattermapbox\":[{\"marker\":{\"colorbar\":{\"outlinewidth\":0,\"ticks\":\"\"}},\"type\":\"scattermapbox\"}],\"scatterpolargl\":[{\"marker\":{\"colorbar\":{\"outlinewidth\":0,\"ticks\":\"\"}},\"type\":\"scatterpolargl\"}],\"scatterpolar\":[{\"marker\":{\"colorbar\":{\"outlinewidth\":0,\"ticks\":\"\"}},\"type\":\"scatterpolar\"}],\"scatter\":[{\"fillpattern\":{\"fillmode\":\"overlay\",\"size\":10,\"solidity\":0.2},\"type\":\"scatter\"}],\"scatterternary\":[{\"marker\":{\"colorbar\":{\"outlinewidth\":0,\"ticks\":\"\"}},\"type\":\"scatterternary\"}],\"surface\":[{\"colorbar\":{\"outlinewidth\":0,\"ticks\":\"\"},\"colorscale\":[[0.0,\"#0d0887\"],[0.1111111111111111,\"#46039f\"],[0.2222222222222222,\"#7201a8\"],[0.3333333333333333,\"#9c179e\"],[0.4444444444444444,\"#bd3786\"],[0.5555555555555556,\"#d8576b\"],[0.6666666666666666,\"#ed7953\"],[0.7777777777777778,\"#fb9f3a\"],[0.8888888888888888,\"#fdca26\"],[1.0,\"#f0f921\"]],\"type\":\"surface\"}],\"table\":[{\"cells\":{\"fill\":{\"color\":\"#EBF0F8\"},\"line\":{\"color\":\"white\"}},\"header\":{\"fill\":{\"color\":\"#C8D4E3\"},\"line\":{\"color\":\"white\"}},\"type\":\"table\"}]},\"layout\":{\"annotationdefaults\":{\"arrowcolor\":\"#2a3f5f\",\"arrowhead\":0,\"arrowwidth\":1},\"autotypenumbers\":\"strict\",\"coloraxis\":{\"colorbar\":{\"outlinewidth\":0,\"ticks\":\"\"}},\"colorscale\":{\"diverging\":[[0,\"#8e0152\"],[0.1,\"#c51b7d\"],[0.2,\"#de77ae\"],[0.3,\"#f1b6da\"],[0.4,\"#fde0ef\"],[0.5,\"#f7f7f7\"],[0.6,\"#e6f5d0\"],[0.7,\"#b8e186\"],[0.8,\"#7fbc41\"],[0.9,\"#4d9221\"],[1,\"#276419\"]],\"sequential\":[[0.0,\"#0d0887\"],[0.1111111111111111,\"#46039f\"],[0.2222222222222222,\"#7201a8\"],[0.3333333333333333,\"#9c179e\"],[0.4444444444444444,\"#bd3786\"],[0.5555555555555556,\"#d8576b\"],[0.6666666666666666,\"#ed7953\"],[0.7777777777777778,\"#fb9f3a\"],[0.8888888888888888,\"#fdca26\"],[1.0,\"#f0f921\"]],\"sequentialminus\":[[0.0,\"#0d0887\"],[0.1111111111111111,\"#46039f\"],[0.2222222222222222,\"#7201a8\"],[0.3333333333333333,\"#9c179e\"],[0.4444444444444444,\"#bd3786\"],[0.5555555555555556,\"#d8576b\"],[0.6666666666666666,\"#ed7953\"],[0.7777777777777778,\"#fb9f3a\"],[0.8888888888888888,\"#fdca26\"],[1.0,\"#f0f921\"]]},\"colorway\":[\"#636efa\",\"#EF553B\",\"#00cc96\",\"#ab63fa\",\"#FFA15A\",\"#19d3f3\",\"#FF6692\",\"#B6E880\",\"#FF97FF\",\"#FECB52\"],\"font\":{\"color\":\"#2a3f5f\"},\"geo\":{\"bgcolor\":\"white\",\"lakecolor\":\"white\",\"landcolor\":\"#E5ECF6\",\"showlakes\":true,\"showland\":true,\"subunitcolor\":\"white\"},\"hoverlabel\":{\"align\":\"left\"},\"hovermode\":\"closest\",\"mapbox\":{\"style\":\"light\"},\"paper_bgcolor\":\"white\",\"plot_bgcolor\":\"#E5ECF6\",\"polar\":{\"angularaxis\":{\"gridcolor\":\"white\",\"linecolor\":\"white\",\"ticks\":\"\"},\"bgcolor\":\"#E5ECF6\",\"radialaxis\":{\"gridcolor\":\"white\",\"linecolor\":\"white\",\"ticks\":\"\"}},\"scene\":{\"xaxis\":{\"backgroundcolor\":\"#E5ECF6\",\"gridcolor\":\"white\",\"gridwidth\":2,\"linecolor\":\"white\",\"showbackground\":true,\"ticks\":\"\",\"zerolinecolor\":\"white\"},\"yaxis\":{\"backgroundcolor\":\"#E5ECF6\",\"gridcolor\":\"white\",\"gridwidth\":2,\"linecolor\":\"white\",\"showbackground\":true,\"ticks\":\"\",\"zerolinecolor\":\"white\"},\"zaxis\":{\"backgroundcolor\":\"#E5ECF6\",\"gridcolor\":\"white\",\"gridwidth\":2,\"linecolor\":\"white\",\"showbackground\":true,\"ticks\":\"\",\"zerolinecolor\":\"white\"}},\"shapedefaults\":{\"line\":{\"color\":\"#2a3f5f\"}},\"ternary\":{\"aaxis\":{\"gridcolor\":\"white\",\"linecolor\":\"white\",\"ticks\":\"\"},\"baxis\":{\"gridcolor\":\"white\",\"linecolor\":\"white\",\"ticks\":\"\"},\"bgcolor\":\"#E5ECF6\",\"caxis\":{\"gridcolor\":\"white\",\"linecolor\":\"white\",\"ticks\":\"\"}},\"title\":{\"x\":0.05},\"xaxis\":{\"automargin\":true,\"gridcolor\":\"white\",\"linecolor\":\"white\",\"ticks\":\"\",\"title\":{\"standoff\":15},\"zerolinecolor\":\"white\",\"zerolinewidth\":2},\"yaxis\":{\"automargin\":true,\"gridcolor\":\"white\",\"linecolor\":\"white\",\"ticks\":\"\",\"title\":{\"standoff\":15},\"zerolinecolor\":\"white\",\"zerolinewidth\":2}}},\"title\":{\"font\":{\"color\":\"#4D5663\"}},\"xaxis\":{\"gridcolor\":\"#E1E5ED\",\"showgrid\":true,\"tickfont\":{\"color\":\"#4D5663\"},\"title\":{\"font\":{\"color\":\"#4D5663\"},\"text\":\"\"},\"zerolinecolor\":\"#E1E5ED\"},\"yaxis\":{\"gridcolor\":\"#E1E5ED\",\"showgrid\":true,\"tickfont\":{\"color\":\"#4D5663\"},\"title\":{\"font\":{\"color\":\"#4D5663\"},\"text\":\"\"},\"zerolinecolor\":\"#E1E5ED\"}},                        {\"showLink\": true, \"linkText\": \"Export to plot.ly\", \"plotlyServerURL\": \"https://plot.ly\", \"responsive\": true}                    ).then(function(){\n",
       "                            \n",
       "var gd = document.getElementById('9a72e3a4-3460-4c99-9ddc-54f106348b7d');\n",
       "var x = new MutationObserver(function (mutations, observer) {{\n",
       "        var display = window.getComputedStyle(gd).display;\n",
       "        if (!display || display === 'none') {{\n",
       "            console.log([gd, 'removed!']);\n",
       "            Plotly.purge(gd);\n",
       "            observer.disconnect();\n",
       "        }}\n",
       "}});\n",
       "\n",
       "// Listen for the removal of the full notebook cells\n",
       "var notebookContainer = gd.closest('#notebook-container');\n",
       "if (notebookContainer) {{\n",
       "    x.observe(notebookContainer, {childList: true});\n",
       "}}\n",
       "\n",
       "// Listen for the clearing of the current output cell\n",
       "var outputEl = gd.closest('.output');\n",
       "if (outputEl) {{\n",
       "    x.observe(outputEl, {childList: true});\n",
       "}}\n",
       "\n",
       "                        })                };                });            </script>        </div>"
      ]
     },
     "metadata": {},
     "output_type": "display_data"
    }
   ],
   "source": [
    "df.iplot(kind='bubble',x='A',y='B',size='C')"
   ]
  },
  {
   "cell_type": "code",
   "execution_count": 28,
   "id": "776579c1",
   "metadata": {},
   "outputs": [
    {
     "data": {
      "application/vnd.plotly.v1+json": {
       "config": {
        "linkText": "Export to plot.ly",
        "plotlyServerURL": "https://plot.ly",
        "showLink": true
       },
       "data": [
        {
         "histfunc": "count",
         "histnorm": "",
         "marker": {
          "color": "rgba(255, 153, 51, 1.0)",
          "line": {
           "color": "#4D5663",
           "width": 1.3
          }
         },
         "name": "A",
         "nbinsx": 10,
         "opacity": 0.8,
         "orientation": "v",
         "type": "histogram",
         "x": [
          -0.5926298961513271,
          0.25673020586304807,
          -0.43782540602292713,
          1.0534689198889642,
          -0.9919513407195126,
          1.611767926213217,
          0.06330100258337129,
          -0.7794590258443483,
          1.3213895611178617,
          2.0428480315223823,
          1.3942054388325047,
          -1.0038641189563902,
          0.38499375800912655,
          0.43771904183757787,
          -0.03450546160271116,
          1.053234080805073,
          2.0397975570567692,
          0.385375865370009,
          1.7676509480340017,
          -0.6649155567520971,
          1.436288459640299,
          -0.4036051333866007,
          0.09260910325620314,
          -0.6542216569397591,
          1.4741915479685124,
          0.9051017853546715,
          -2.196271747394207,
          -0.11339517644243712,
          -0.4449131865951581,
          -0.22841259825041527,
          0.8679037688166911,
          -0.8281381473996741,
          -0.3197383644114914,
          -0.22840516815474368,
          2.853834584156512,
          0.6216999835149216,
          1.5240921155040292,
          -0.31203354460191196,
          0.08094205015951837,
          0.015646307251275072,
          1.7932205291927203,
          0.4653034182676237,
          1.1593511785630377,
          1.5737474570494507,
          1.1662651409043536,
          -0.13617317080506597,
          -1.6664432754952285,
          0.6658652654155452,
          -0.5158901261812123,
          -0.9417598894899648,
          0.5250610445322508,
          1.1998623089464961,
          -0.3229256151506854,
          -1.2920143018845127,
          -0.05205440705465112,
          0.26600301743930166,
          -0.9644056385681528,
          2.4529695305287142,
          2.713126831567635,
          0.23352598710271472,
          0.24763388006906298,
          -1.2243351213532416,
          0.41903421957586184,
          0.48867062808082373,
          -0.7861677504690421,
          -1.2514626078351387,
          0.21186021746577036,
          -0.06017875815427523,
          2.3055917858896997,
          -0.72211444002813,
          -0.12793695931512533,
          -0.007755887247505297,
          -1.0097227248055003,
          0.6030326691920733,
          -0.1739761026833534,
          0.7520083111574457,
          -0.5412741041067098,
          0.12309165184098429,
          0.7562849692392389,
          1.0348364759469733,
          -1.3908296564977056,
          -0.4406362876635684,
          0.574944055766053,
          -0.5819853653510465,
          0.881152636747594,
          0.07868416646062422,
          1.8226632065021642,
          -0.13719437995366995,
          1.1162581459854621,
          -0.7985545018909256,
          0.17241094898690948,
          0.2552260864441374,
          1.0605714157563813,
          0.5179693571027562,
          0.4155143057576676,
          1.4316485846465625,
          -0.7775443753105155,
          -1.063630020330371,
          -0.16289165324194577,
          -0.29531247931902405
         ],
         "xaxis": "x",
         "yaxis": "y"
        },
        {
         "line": {
          "color": "rgba(128, 128, 128, 1.0)",
          "dash": "solid",
          "shape": "linear",
          "width": 1.3
         },
         "marker": {
          "size": 2,
          "symbol": "circle"
         },
         "mode": "markers",
         "name": "A",
         "text": "",
         "type": "scatter",
         "x": [
          -0.1157907510446745,
          0.4798485260848488,
          0.2942811047577971,
          0.7131066424167334,
          -0.614145259332274,
          1.3367013379768597,
          -0.3611519306104252,
          -0.22674171311266222,
          -0.7922763953214255,
          -1.912388440068962,
          2.94461710583469,
          0.7466399419377467,
          -0.5062250561740432,
          -0.6267758673924915,
          -0.5301364252727697,
          -1.1356102411393012,
          1.7097173351457045,
          -0.5982673480241042,
          0.632599712583573,
          -0.7191789918807273,
          -1.011913867593541,
          1.0862462490282248,
          1.1499817116204132,
          0.7121776705596654,
          -0.7249853951963967,
          -0.24484654770034245,
          -0.10946886787942355,
          0.9444906377964262,
          -0.03956551316859267,
          -1.1913735024463135,
          -0.963486275341088,
          -1.3533511104197,
          -0.10146602362529568,
          0.40726711160299367,
          -1.3279311786454684,
          0.08999558075822016,
          1.4193027223212058,
          0.8481711573298252,
          1.237710700172955,
          -0.9075402340794535,
          0.24104376712171527,
          -0.26683695105423477,
          0.5297046101182764,
          -0.5898451706324817,
          -0.46118554508543186,
          0.4438889661881818,
          -0.022849201447032792,
          0.6538508162804493,
          -0.8969955791054491,
          0.5151826075293686,
          -1.716075531842265,
          -1.2459443299216126,
          -0.39468032622605176,
          -0.594068760568758,
          1.1781478136671775,
          -1.0799218215036783,
          1.0329478909914607,
          0.2282708120345758,
          0.5740812637562833,
          0.998004452114102,
          -0.4240139456347152,
          1.5697362346573667,
          -2.301553062519039,
          -0.05564169983599276,
          -0.5750252875191277,
          0.36899773315170714,
          1.2352274250634883,
          -0.2760983305352888,
          -1.1315843014714326,
          0.47160626469032957,
          0.6224993997445093,
          0.3056078012612184,
          0.3565127710229608,
          0.16192329536141162,
          -0.4482276412402648,
          -0.255341393719222,
          2.731094066424876,
          -0.3509008449363998,
          0.7562307284894754,
          0.307461984745654,
          -0.028086364160419496,
          0.3078805805283829,
          0.2717827333298244,
          -0.21005022861881803,
          0.15616678270870996,
          -0.5508037116094993,
          -0.8595019402724217,
          -1.1811403903781978,
          -1.1051152466130356,
          0.18553196417980916,
          0.625579015927619,
          -0.6408948128706429,
          -0.12432769691673103,
          -1.0699306999590428,
          0.26771926977846544,
          0.8026332176389065,
          1.80141470610895,
          -1.873013331107765,
          0.9099007759609501,
          -1.4396917779942568
         ],
         "xaxis": "x2",
         "y": [
          -0.5926298961513271,
          0.25673020586304807,
          -0.43782540602292713,
          1.0534689198889642,
          -0.9919513407195126,
          1.611767926213217,
          0.06330100258337129,
          -0.7794590258443483,
          1.3213895611178617,
          2.0428480315223823,
          1.3942054388325047,
          -1.0038641189563902,
          0.38499375800912655,
          0.43771904183757787,
          -0.03450546160271116,
          1.053234080805073,
          2.0397975570567692,
          0.385375865370009,
          1.7676509480340017,
          -0.6649155567520971,
          1.436288459640299,
          -0.4036051333866007,
          0.09260910325620314,
          -0.6542216569397591,
          1.4741915479685124,
          0.9051017853546715,
          -2.196271747394207,
          -0.11339517644243712,
          -0.4449131865951581,
          -0.22841259825041527,
          0.8679037688166911,
          -0.8281381473996741,
          -0.3197383644114914,
          -0.22840516815474368,
          2.853834584156512,
          0.6216999835149216,
          1.5240921155040292,
          -0.31203354460191196,
          0.08094205015951837,
          0.015646307251275072,
          1.7932205291927203,
          0.4653034182676237,
          1.1593511785630377,
          1.5737474570494507,
          1.1662651409043536,
          -0.13617317080506597,
          -1.6664432754952285,
          0.6658652654155452,
          -0.5158901261812123,
          -0.9417598894899648,
          0.5250610445322508,
          1.1998623089464961,
          -0.3229256151506854,
          -1.2920143018845127,
          -0.05205440705465112,
          0.26600301743930166,
          -0.9644056385681528,
          2.4529695305287142,
          2.713126831567635,
          0.23352598710271472,
          0.24763388006906298,
          -1.2243351213532416,
          0.41903421957586184,
          0.48867062808082373,
          -0.7861677504690421,
          -1.2514626078351387,
          0.21186021746577036,
          -0.06017875815427523,
          2.3055917858896997,
          -0.72211444002813,
          -0.12793695931512533,
          -0.007755887247505297,
          -1.0097227248055003,
          0.6030326691920733,
          -0.1739761026833534,
          0.7520083111574457,
          -0.5412741041067098,
          0.12309165184098429,
          0.7562849692392389,
          1.0348364759469733,
          -1.3908296564977056,
          -0.4406362876635684,
          0.574944055766053,
          -0.5819853653510465,
          0.881152636747594,
          0.07868416646062422,
          1.8226632065021642,
          -0.13719437995366995,
          1.1162581459854621,
          -0.7985545018909256,
          0.17241094898690948,
          0.2552260864441374,
          1.0605714157563813,
          0.5179693571027562,
          0.4155143057576676,
          1.4316485846465625,
          -0.7775443753105155,
          -1.063630020330371,
          -0.16289165324194577,
          -0.29531247931902405
         ],
         "yaxis": "y2"
        },
        {
         "line": {
          "color": "rgba(128, 128, 128, 1.0)",
          "dash": "solid",
          "shape": "linear",
          "width": 1.3
         },
         "marker": {
          "size": 2,
          "symbol": "circle"
         },
         "mode": "markers",
         "name": "A",
         "text": "",
         "type": "scatter",
         "x": [
          -0.5329383118117111,
          0.557158984686362,
          -0.7773784640077513,
          0.4502948550666474,
          1.0138880505622996,
          0.8643796572088078,
          1.403327846853929,
          0.17662681793324203,
          -0.9256916191776521,
          0.11113838946336113,
          -0.5003135852854012,
          -1.4373836749538296,
          0.004390886289931718,
          0.5052863861856433,
          1.0398284942816312,
          0.4700021219352897,
          1.2942516711557286,
          0.4562530916282091,
          0.4867757023349144,
          0.5251023387128786,
          1.366687500871755,
          0.7341868934647509,
          -0.7406234269138862,
          1.7902580011984228,
          -0.052280405347552884,
          -1.2994890823643053,
          -0.03998407812874461,
          0.2409334336633333,
          -1.1431901553946213,
          -1.3375003089870747,
          0.21267439088163337,
          -0.3727133338594834,
          -1.7432581570902688,
          1.1140649602434551,
          0.11880631666273851,
          -2.009441502210672,
          -0.5510243805032415,
          -0.3965855723196719,
          -0.9207409303162719,
          -1.0943443758622298,
          0.2763122759552882,
          -1.5883444069275798,
          -1.0330063980789108,
          0.5362525437628567,
          0.1411710405785407,
          -0.38437445757092265,
          1.3919900976151998,
          0.9517151174256139,
          -1.1901950141859108,
          -0.14189555170734033,
          0.5968986628418939,
          -0.5005443285631248,
          1.416423978087898,
          0.1431483587824421,
          3.4124450680223752,
          -0.06761336436845361,
          0.8701406858782743,
          -1.5729354220756329,
          -1.5239639144707235,
          -0.35001468782544215,
          -0.3141329650511141,
          1.289147141353759,
          0.6571940529834378,
          0.12691583464319822,
          -0.35819019671388636,
          0.3512140322402031,
          -1.570650531955033,
          1.6844680221586628,
          -1.138982064296053,
          -0.0669494830020375,
          0.10910710717061158,
          0.4366525495605837,
          0.031831925732240654,
          0.7073775791321979,
          0.26398938042263326,
          1.65842532898978,
          1.1225040754670954,
          2.1251585555550387,
          -0.2210800855085304,
          -0.580723734930385,
          0.6749862640274892,
          -0.3248229431990396,
          0.8908237137126089,
          0.38853005247553696,
          -0.008631663873746373,
          1.1576062810456162,
          -2.5163976663842575,
          -0.3794418799086721,
          -1.3282923544858762,
          -2.0459800517490567,
          -0.3781167481915554,
          -0.026801909417827462,
          -0.3209689443383593,
          -1.255685088054047,
          2.753703318492102,
          1.5388188394422968,
          -1.479870267117127,
          0.39163662921207093,
          -0.48390531047703966,
          0.7573644209629506
         ],
         "xaxis": "x3",
         "y": [
          -0.5926298961513271,
          0.25673020586304807,
          -0.43782540602292713,
          1.0534689198889642,
          -0.9919513407195126,
          1.611767926213217,
          0.06330100258337129,
          -0.7794590258443483,
          1.3213895611178617,
          2.0428480315223823,
          1.3942054388325047,
          -1.0038641189563902,
          0.38499375800912655,
          0.43771904183757787,
          -0.03450546160271116,
          1.053234080805073,
          2.0397975570567692,
          0.385375865370009,
          1.7676509480340017,
          -0.6649155567520971,
          1.436288459640299,
          -0.4036051333866007,
          0.09260910325620314,
          -0.6542216569397591,
          1.4741915479685124,
          0.9051017853546715,
          -2.196271747394207,
          -0.11339517644243712,
          -0.4449131865951581,
          -0.22841259825041527,
          0.8679037688166911,
          -0.8281381473996741,
          -0.3197383644114914,
          -0.22840516815474368,
          2.853834584156512,
          0.6216999835149216,
          1.5240921155040292,
          -0.31203354460191196,
          0.08094205015951837,
          0.015646307251275072,
          1.7932205291927203,
          0.4653034182676237,
          1.1593511785630377,
          1.5737474570494507,
          1.1662651409043536,
          -0.13617317080506597,
          -1.6664432754952285,
          0.6658652654155452,
          -0.5158901261812123,
          -0.9417598894899648,
          0.5250610445322508,
          1.1998623089464961,
          -0.3229256151506854,
          -1.2920143018845127,
          -0.05205440705465112,
          0.26600301743930166,
          -0.9644056385681528,
          2.4529695305287142,
          2.713126831567635,
          0.23352598710271472,
          0.24763388006906298,
          -1.2243351213532416,
          0.41903421957586184,
          0.48867062808082373,
          -0.7861677504690421,
          -1.2514626078351387,
          0.21186021746577036,
          -0.06017875815427523,
          2.3055917858896997,
          -0.72211444002813,
          -0.12793695931512533,
          -0.007755887247505297,
          -1.0097227248055003,
          0.6030326691920733,
          -0.1739761026833534,
          0.7520083111574457,
          -0.5412741041067098,
          0.12309165184098429,
          0.7562849692392389,
          1.0348364759469733,
          -1.3908296564977056,
          -0.4406362876635684,
          0.574944055766053,
          -0.5819853653510465,
          0.881152636747594,
          0.07868416646062422,
          1.8226632065021642,
          -0.13719437995366995,
          1.1162581459854621,
          -0.7985545018909256,
          0.17241094898690948,
          0.2552260864441374,
          1.0605714157563813,
          0.5179693571027562,
          0.4155143057576676,
          1.4316485846465625,
          -0.7775443753105155,
          -1.063630020330371,
          -0.16289165324194577,
          -0.29531247931902405
         ],
         "yaxis": "y3"
        },
        {
         "line": {
          "color": "rgba(128, 128, 128, 1.0)",
          "dash": "solid",
          "shape": "linear",
          "width": 1.3
         },
         "marker": {
          "size": 2,
          "symbol": "circle"
         },
         "mode": "markers",
         "name": "A",
         "text": "",
         "type": "scatter",
         "x": [
          -0.2193839724920814,
          0.03673834097851173,
          0.987799585989557,
          -0.45680697868842046,
          0.7271098863401266,
          0.30329210727865613,
          -0.26712978821937444,
          1.0095723743385,
          -0.4228909507045194,
          0.3075892397528451,
          0.9489828485601433,
          -0.22451513255242508,
          -1.1107116681174418,
          0.7680108676987024,
          -0.11630608147155315,
          0.29093326534482966,
          1.9542889849467535,
          1.1110135911541346,
          -2.3296160711306944,
          0.02187744257320405,
          -0.6629555946608392,
          -0.4928989052670513,
          -0.8759945384540662,
          0.6922627648086038,
          1.1262086084701817,
          1.9691467010080486,
          1.3741557642209405,
          -1.3713246219745756,
          -0.1836866932419942,
          1.043777373642293,
          1.1171414932728372,
          -0.8483544586416497,
          0.5475171172834119,
          0.22746681771477958,
          -0.6308476174813245,
          -0.09854811827025602,
          0.022769378814638853,
          -0.4487986629320674,
          -0.9034597245484658,
          -0.6378949254903331,
          -0.4492768708891525,
          1.0555579449603434,
          -0.11470394720695867,
          -0.14609532264882724,
          -0.3802579048952034,
          2.1033300796058008,
          -0.07835629365401076,
          0.255763285824464,
          -1.0829429872566125,
          -0.5984508218594459,
          0.2988305135551518,
          0.7610733152132845,
          -0.15331145876966712,
          -1.0899092691503058,
          0.6887506413586928,
          0.09057229714387154,
          -0.1831544794728409,
          -0.23219247443813748,
          1.0850595737659272,
          0.7079347962395922,
          0.9239648370430716,
          0.5752666639473206,
          -0.0782466539059608,
          -0.5751549927849406,
          0.30293306177254614,
          -1.6128733507367412,
          0.954161956224829,
          0.35331662927665525,
          0.4867032255124756,
          -1.4425153880296329,
          -2.439129093983263,
          1.300863150160351,
          -1.2320162675360742,
          -0.17352268024345233,
          -0.3202322874932672,
          -0.35092980882229036,
          0.5275550115628105,
          1.7884140357936633,
          3.1450296067129244,
          -0.5314874202448286,
          -2.064718091313124,
          0.9534673941924888,
          -0.040331506354160544,
          -0.6352729350658008,
          -0.06096951786361323,
          0.5609324550321262,
          0.3574741859411366,
          -1.7928844510806905,
          -0.033542057166446475,
          -1.412194137336305,
          -0.12324110708590304,
          -0.553675978465696,
          0.7324784603482485,
          -0.250450527950122,
          0.3814857723717101,
          0.0693795153937473,
          1.2127267520325036,
          0.31639856434337044,
          -0.16116887362125037,
          0.7714979567097996
         ],
         "xaxis": "x4",
         "y": [
          -0.5926298961513271,
          0.25673020586304807,
          -0.43782540602292713,
          1.0534689198889642,
          -0.9919513407195126,
          1.611767926213217,
          0.06330100258337129,
          -0.7794590258443483,
          1.3213895611178617,
          2.0428480315223823,
          1.3942054388325047,
          -1.0038641189563902,
          0.38499375800912655,
          0.43771904183757787,
          -0.03450546160271116,
          1.053234080805073,
          2.0397975570567692,
          0.385375865370009,
          1.7676509480340017,
          -0.6649155567520971,
          1.436288459640299,
          -0.4036051333866007,
          0.09260910325620314,
          -0.6542216569397591,
          1.4741915479685124,
          0.9051017853546715,
          -2.196271747394207,
          -0.11339517644243712,
          -0.4449131865951581,
          -0.22841259825041527,
          0.8679037688166911,
          -0.8281381473996741,
          -0.3197383644114914,
          -0.22840516815474368,
          2.853834584156512,
          0.6216999835149216,
          1.5240921155040292,
          -0.31203354460191196,
          0.08094205015951837,
          0.015646307251275072,
          1.7932205291927203,
          0.4653034182676237,
          1.1593511785630377,
          1.5737474570494507,
          1.1662651409043536,
          -0.13617317080506597,
          -1.6664432754952285,
          0.6658652654155452,
          -0.5158901261812123,
          -0.9417598894899648,
          0.5250610445322508,
          1.1998623089464961,
          -0.3229256151506854,
          -1.2920143018845127,
          -0.05205440705465112,
          0.26600301743930166,
          -0.9644056385681528,
          2.4529695305287142,
          2.713126831567635,
          0.23352598710271472,
          0.24763388006906298,
          -1.2243351213532416,
          0.41903421957586184,
          0.48867062808082373,
          -0.7861677504690421,
          -1.2514626078351387,
          0.21186021746577036,
          -0.06017875815427523,
          2.3055917858896997,
          -0.72211444002813,
          -0.12793695931512533,
          -0.007755887247505297,
          -1.0097227248055003,
          0.6030326691920733,
          -0.1739761026833534,
          0.7520083111574457,
          -0.5412741041067098,
          0.12309165184098429,
          0.7562849692392389,
          1.0348364759469733,
          -1.3908296564977056,
          -0.4406362876635684,
          0.574944055766053,
          -0.5819853653510465,
          0.881152636747594,
          0.07868416646062422,
          1.8226632065021642,
          -0.13719437995366995,
          1.1162581459854621,
          -0.7985545018909256,
          0.17241094898690948,
          0.2552260864441374,
          1.0605714157563813,
          0.5179693571027562,
          0.4155143057576676,
          1.4316485846465625,
          -0.7775443753105155,
          -1.063630020330371,
          -0.16289165324194577,
          -0.29531247931902405
         ],
         "yaxis": "y4"
        },
        {
         "line": {
          "color": "rgba(128, 128, 128, 1.0)",
          "dash": "solid",
          "shape": "linear",
          "width": 1.3
         },
         "marker": {
          "size": 2,
          "symbol": "circle"
         },
         "mode": "markers",
         "name": "B",
         "text": "",
         "type": "scatter",
         "x": [
          -0.5926298961513271,
          0.25673020586304807,
          -0.43782540602292713,
          1.0534689198889642,
          -0.9919513407195126,
          1.611767926213217,
          0.06330100258337129,
          -0.7794590258443483,
          1.3213895611178617,
          2.0428480315223823,
          1.3942054388325047,
          -1.0038641189563902,
          0.38499375800912655,
          0.43771904183757787,
          -0.03450546160271116,
          1.053234080805073,
          2.0397975570567692,
          0.385375865370009,
          1.7676509480340017,
          -0.6649155567520971,
          1.436288459640299,
          -0.4036051333866007,
          0.09260910325620314,
          -0.6542216569397591,
          1.4741915479685124,
          0.9051017853546715,
          -2.196271747394207,
          -0.11339517644243712,
          -0.4449131865951581,
          -0.22841259825041527,
          0.8679037688166911,
          -0.8281381473996741,
          -0.3197383644114914,
          -0.22840516815474368,
          2.853834584156512,
          0.6216999835149216,
          1.5240921155040292,
          -0.31203354460191196,
          0.08094205015951837,
          0.015646307251275072,
          1.7932205291927203,
          0.4653034182676237,
          1.1593511785630377,
          1.5737474570494507,
          1.1662651409043536,
          -0.13617317080506597,
          -1.6664432754952285,
          0.6658652654155452,
          -0.5158901261812123,
          -0.9417598894899648,
          0.5250610445322508,
          1.1998623089464961,
          -0.3229256151506854,
          -1.2920143018845127,
          -0.05205440705465112,
          0.26600301743930166,
          -0.9644056385681528,
          2.4529695305287142,
          2.713126831567635,
          0.23352598710271472,
          0.24763388006906298,
          -1.2243351213532416,
          0.41903421957586184,
          0.48867062808082373,
          -0.7861677504690421,
          -1.2514626078351387,
          0.21186021746577036,
          -0.06017875815427523,
          2.3055917858896997,
          -0.72211444002813,
          -0.12793695931512533,
          -0.007755887247505297,
          -1.0097227248055003,
          0.6030326691920733,
          -0.1739761026833534,
          0.7520083111574457,
          -0.5412741041067098,
          0.12309165184098429,
          0.7562849692392389,
          1.0348364759469733,
          -1.3908296564977056,
          -0.4406362876635684,
          0.574944055766053,
          -0.5819853653510465,
          0.881152636747594,
          0.07868416646062422,
          1.8226632065021642,
          -0.13719437995366995,
          1.1162581459854621,
          -0.7985545018909256,
          0.17241094898690948,
          0.2552260864441374,
          1.0605714157563813,
          0.5179693571027562,
          0.4155143057576676,
          1.4316485846465625,
          -0.7775443753105155,
          -1.063630020330371,
          -0.16289165324194577,
          -0.29531247931902405
         ],
         "xaxis": "x5",
         "y": [
          -0.1157907510446745,
          0.4798485260848488,
          0.2942811047577971,
          0.7131066424167334,
          -0.614145259332274,
          1.3367013379768597,
          -0.3611519306104252,
          -0.22674171311266222,
          -0.7922763953214255,
          -1.912388440068962,
          2.94461710583469,
          0.7466399419377467,
          -0.5062250561740432,
          -0.6267758673924915,
          -0.5301364252727697,
          -1.1356102411393012,
          1.7097173351457045,
          -0.5982673480241042,
          0.632599712583573,
          -0.7191789918807273,
          -1.011913867593541,
          1.0862462490282248,
          1.1499817116204132,
          0.7121776705596654,
          -0.7249853951963967,
          -0.24484654770034245,
          -0.10946886787942355,
          0.9444906377964262,
          -0.03956551316859267,
          -1.1913735024463135,
          -0.963486275341088,
          -1.3533511104197,
          -0.10146602362529568,
          0.40726711160299367,
          -1.3279311786454684,
          0.08999558075822016,
          1.4193027223212058,
          0.8481711573298252,
          1.237710700172955,
          -0.9075402340794535,
          0.24104376712171527,
          -0.26683695105423477,
          0.5297046101182764,
          -0.5898451706324817,
          -0.46118554508543186,
          0.4438889661881818,
          -0.022849201447032792,
          0.6538508162804493,
          -0.8969955791054491,
          0.5151826075293686,
          -1.716075531842265,
          -1.2459443299216126,
          -0.39468032622605176,
          -0.594068760568758,
          1.1781478136671775,
          -1.0799218215036783,
          1.0329478909914607,
          0.2282708120345758,
          0.5740812637562833,
          0.998004452114102,
          -0.4240139456347152,
          1.5697362346573667,
          -2.301553062519039,
          -0.05564169983599276,
          -0.5750252875191277,
          0.36899773315170714,
          1.2352274250634883,
          -0.2760983305352888,
          -1.1315843014714326,
          0.47160626469032957,
          0.6224993997445093,
          0.3056078012612184,
          0.3565127710229608,
          0.16192329536141162,
          -0.4482276412402648,
          -0.255341393719222,
          2.731094066424876,
          -0.3509008449363998,
          0.7562307284894754,
          0.307461984745654,
          -0.028086364160419496,
          0.3078805805283829,
          0.2717827333298244,
          -0.21005022861881803,
          0.15616678270870996,
          -0.5508037116094993,
          -0.8595019402724217,
          -1.1811403903781978,
          -1.1051152466130356,
          0.18553196417980916,
          0.625579015927619,
          -0.6408948128706429,
          -0.12432769691673103,
          -1.0699306999590428,
          0.26771926977846544,
          0.8026332176389065,
          1.80141470610895,
          -1.873013331107765,
          0.9099007759609501,
          -1.4396917779942568
         ],
         "yaxis": "y5"
        },
        {
         "histfunc": "count",
         "histnorm": "",
         "marker": {
          "color": "rgba(55, 128, 191, 1.0)",
          "line": {
           "color": "#4D5663",
           "width": 1.3
          }
         },
         "name": "B",
         "nbinsx": 10,
         "opacity": 0.8,
         "orientation": "v",
         "type": "histogram",
         "x": [
          -0.1157907510446745,
          0.4798485260848488,
          0.2942811047577971,
          0.7131066424167334,
          -0.614145259332274,
          1.3367013379768597,
          -0.3611519306104252,
          -0.22674171311266222,
          -0.7922763953214255,
          -1.912388440068962,
          2.94461710583469,
          0.7466399419377467,
          -0.5062250561740432,
          -0.6267758673924915,
          -0.5301364252727697,
          -1.1356102411393012,
          1.7097173351457045,
          -0.5982673480241042,
          0.632599712583573,
          -0.7191789918807273,
          -1.011913867593541,
          1.0862462490282248,
          1.1499817116204132,
          0.7121776705596654,
          -0.7249853951963967,
          -0.24484654770034245,
          -0.10946886787942355,
          0.9444906377964262,
          -0.03956551316859267,
          -1.1913735024463135,
          -0.963486275341088,
          -1.3533511104197,
          -0.10146602362529568,
          0.40726711160299367,
          -1.3279311786454684,
          0.08999558075822016,
          1.4193027223212058,
          0.8481711573298252,
          1.237710700172955,
          -0.9075402340794535,
          0.24104376712171527,
          -0.26683695105423477,
          0.5297046101182764,
          -0.5898451706324817,
          -0.46118554508543186,
          0.4438889661881818,
          -0.022849201447032792,
          0.6538508162804493,
          -0.8969955791054491,
          0.5151826075293686,
          -1.716075531842265,
          -1.2459443299216126,
          -0.39468032622605176,
          -0.594068760568758,
          1.1781478136671775,
          -1.0799218215036783,
          1.0329478909914607,
          0.2282708120345758,
          0.5740812637562833,
          0.998004452114102,
          -0.4240139456347152,
          1.5697362346573667,
          -2.301553062519039,
          -0.05564169983599276,
          -0.5750252875191277,
          0.36899773315170714,
          1.2352274250634883,
          -0.2760983305352888,
          -1.1315843014714326,
          0.47160626469032957,
          0.6224993997445093,
          0.3056078012612184,
          0.3565127710229608,
          0.16192329536141162,
          -0.4482276412402648,
          -0.255341393719222,
          2.731094066424876,
          -0.3509008449363998,
          0.7562307284894754,
          0.307461984745654,
          -0.028086364160419496,
          0.3078805805283829,
          0.2717827333298244,
          -0.21005022861881803,
          0.15616678270870996,
          -0.5508037116094993,
          -0.8595019402724217,
          -1.1811403903781978,
          -1.1051152466130356,
          0.18553196417980916,
          0.625579015927619,
          -0.6408948128706429,
          -0.12432769691673103,
          -1.0699306999590428,
          0.26771926977846544,
          0.8026332176389065,
          1.80141470610895,
          -1.873013331107765,
          0.9099007759609501,
          -1.4396917779942568
         ],
         "xaxis": "x6",
         "yaxis": "y6"
        },
        {
         "line": {
          "color": "rgba(128, 128, 128, 1.0)",
          "dash": "solid",
          "shape": "linear",
          "width": 1.3
         },
         "marker": {
          "size": 2,
          "symbol": "circle"
         },
         "mode": "markers",
         "name": "B",
         "text": "",
         "type": "scatter",
         "x": [
          -0.5329383118117111,
          0.557158984686362,
          -0.7773784640077513,
          0.4502948550666474,
          1.0138880505622996,
          0.8643796572088078,
          1.403327846853929,
          0.17662681793324203,
          -0.9256916191776521,
          0.11113838946336113,
          -0.5003135852854012,
          -1.4373836749538296,
          0.004390886289931718,
          0.5052863861856433,
          1.0398284942816312,
          0.4700021219352897,
          1.2942516711557286,
          0.4562530916282091,
          0.4867757023349144,
          0.5251023387128786,
          1.366687500871755,
          0.7341868934647509,
          -0.7406234269138862,
          1.7902580011984228,
          -0.052280405347552884,
          -1.2994890823643053,
          -0.03998407812874461,
          0.2409334336633333,
          -1.1431901553946213,
          -1.3375003089870747,
          0.21267439088163337,
          -0.3727133338594834,
          -1.7432581570902688,
          1.1140649602434551,
          0.11880631666273851,
          -2.009441502210672,
          -0.5510243805032415,
          -0.3965855723196719,
          -0.9207409303162719,
          -1.0943443758622298,
          0.2763122759552882,
          -1.5883444069275798,
          -1.0330063980789108,
          0.5362525437628567,
          0.1411710405785407,
          -0.38437445757092265,
          1.3919900976151998,
          0.9517151174256139,
          -1.1901950141859108,
          -0.14189555170734033,
          0.5968986628418939,
          -0.5005443285631248,
          1.416423978087898,
          0.1431483587824421,
          3.4124450680223752,
          -0.06761336436845361,
          0.8701406858782743,
          -1.5729354220756329,
          -1.5239639144707235,
          -0.35001468782544215,
          -0.3141329650511141,
          1.289147141353759,
          0.6571940529834378,
          0.12691583464319822,
          -0.35819019671388636,
          0.3512140322402031,
          -1.570650531955033,
          1.6844680221586628,
          -1.138982064296053,
          -0.0669494830020375,
          0.10910710717061158,
          0.4366525495605837,
          0.031831925732240654,
          0.7073775791321979,
          0.26398938042263326,
          1.65842532898978,
          1.1225040754670954,
          2.1251585555550387,
          -0.2210800855085304,
          -0.580723734930385,
          0.6749862640274892,
          -0.3248229431990396,
          0.8908237137126089,
          0.38853005247553696,
          -0.008631663873746373,
          1.1576062810456162,
          -2.5163976663842575,
          -0.3794418799086721,
          -1.3282923544858762,
          -2.0459800517490567,
          -0.3781167481915554,
          -0.026801909417827462,
          -0.3209689443383593,
          -1.255685088054047,
          2.753703318492102,
          1.5388188394422968,
          -1.479870267117127,
          0.39163662921207093,
          -0.48390531047703966,
          0.7573644209629506
         ],
         "xaxis": "x7",
         "y": [
          -0.1157907510446745,
          0.4798485260848488,
          0.2942811047577971,
          0.7131066424167334,
          -0.614145259332274,
          1.3367013379768597,
          -0.3611519306104252,
          -0.22674171311266222,
          -0.7922763953214255,
          -1.912388440068962,
          2.94461710583469,
          0.7466399419377467,
          -0.5062250561740432,
          -0.6267758673924915,
          -0.5301364252727697,
          -1.1356102411393012,
          1.7097173351457045,
          -0.5982673480241042,
          0.632599712583573,
          -0.7191789918807273,
          -1.011913867593541,
          1.0862462490282248,
          1.1499817116204132,
          0.7121776705596654,
          -0.7249853951963967,
          -0.24484654770034245,
          -0.10946886787942355,
          0.9444906377964262,
          -0.03956551316859267,
          -1.1913735024463135,
          -0.963486275341088,
          -1.3533511104197,
          -0.10146602362529568,
          0.40726711160299367,
          -1.3279311786454684,
          0.08999558075822016,
          1.4193027223212058,
          0.8481711573298252,
          1.237710700172955,
          -0.9075402340794535,
          0.24104376712171527,
          -0.26683695105423477,
          0.5297046101182764,
          -0.5898451706324817,
          -0.46118554508543186,
          0.4438889661881818,
          -0.022849201447032792,
          0.6538508162804493,
          -0.8969955791054491,
          0.5151826075293686,
          -1.716075531842265,
          -1.2459443299216126,
          -0.39468032622605176,
          -0.594068760568758,
          1.1781478136671775,
          -1.0799218215036783,
          1.0329478909914607,
          0.2282708120345758,
          0.5740812637562833,
          0.998004452114102,
          -0.4240139456347152,
          1.5697362346573667,
          -2.301553062519039,
          -0.05564169983599276,
          -0.5750252875191277,
          0.36899773315170714,
          1.2352274250634883,
          -0.2760983305352888,
          -1.1315843014714326,
          0.47160626469032957,
          0.6224993997445093,
          0.3056078012612184,
          0.3565127710229608,
          0.16192329536141162,
          -0.4482276412402648,
          -0.255341393719222,
          2.731094066424876,
          -0.3509008449363998,
          0.7562307284894754,
          0.307461984745654,
          -0.028086364160419496,
          0.3078805805283829,
          0.2717827333298244,
          -0.21005022861881803,
          0.15616678270870996,
          -0.5508037116094993,
          -0.8595019402724217,
          -1.1811403903781978,
          -1.1051152466130356,
          0.18553196417980916,
          0.625579015927619,
          -0.6408948128706429,
          -0.12432769691673103,
          -1.0699306999590428,
          0.26771926977846544,
          0.8026332176389065,
          1.80141470610895,
          -1.873013331107765,
          0.9099007759609501,
          -1.4396917779942568
         ],
         "yaxis": "y7"
        },
        {
         "line": {
          "color": "rgba(128, 128, 128, 1.0)",
          "dash": "solid",
          "shape": "linear",
          "width": 1.3
         },
         "marker": {
          "size": 2,
          "symbol": "circle"
         },
         "mode": "markers",
         "name": "B",
         "text": "",
         "type": "scatter",
         "x": [
          -0.2193839724920814,
          0.03673834097851173,
          0.987799585989557,
          -0.45680697868842046,
          0.7271098863401266,
          0.30329210727865613,
          -0.26712978821937444,
          1.0095723743385,
          -0.4228909507045194,
          0.3075892397528451,
          0.9489828485601433,
          -0.22451513255242508,
          -1.1107116681174418,
          0.7680108676987024,
          -0.11630608147155315,
          0.29093326534482966,
          1.9542889849467535,
          1.1110135911541346,
          -2.3296160711306944,
          0.02187744257320405,
          -0.6629555946608392,
          -0.4928989052670513,
          -0.8759945384540662,
          0.6922627648086038,
          1.1262086084701817,
          1.9691467010080486,
          1.3741557642209405,
          -1.3713246219745756,
          -0.1836866932419942,
          1.043777373642293,
          1.1171414932728372,
          -0.8483544586416497,
          0.5475171172834119,
          0.22746681771477958,
          -0.6308476174813245,
          -0.09854811827025602,
          0.022769378814638853,
          -0.4487986629320674,
          -0.9034597245484658,
          -0.6378949254903331,
          -0.4492768708891525,
          1.0555579449603434,
          -0.11470394720695867,
          -0.14609532264882724,
          -0.3802579048952034,
          2.1033300796058008,
          -0.07835629365401076,
          0.255763285824464,
          -1.0829429872566125,
          -0.5984508218594459,
          0.2988305135551518,
          0.7610733152132845,
          -0.15331145876966712,
          -1.0899092691503058,
          0.6887506413586928,
          0.09057229714387154,
          -0.1831544794728409,
          -0.23219247443813748,
          1.0850595737659272,
          0.7079347962395922,
          0.9239648370430716,
          0.5752666639473206,
          -0.0782466539059608,
          -0.5751549927849406,
          0.30293306177254614,
          -1.6128733507367412,
          0.954161956224829,
          0.35331662927665525,
          0.4867032255124756,
          -1.4425153880296329,
          -2.439129093983263,
          1.300863150160351,
          -1.2320162675360742,
          -0.17352268024345233,
          -0.3202322874932672,
          -0.35092980882229036,
          0.5275550115628105,
          1.7884140357936633,
          3.1450296067129244,
          -0.5314874202448286,
          -2.064718091313124,
          0.9534673941924888,
          -0.040331506354160544,
          -0.6352729350658008,
          -0.06096951786361323,
          0.5609324550321262,
          0.3574741859411366,
          -1.7928844510806905,
          -0.033542057166446475,
          -1.412194137336305,
          -0.12324110708590304,
          -0.553675978465696,
          0.7324784603482485,
          -0.250450527950122,
          0.3814857723717101,
          0.0693795153937473,
          1.2127267520325036,
          0.31639856434337044,
          -0.16116887362125037,
          0.7714979567097996
         ],
         "xaxis": "x8",
         "y": [
          -0.1157907510446745,
          0.4798485260848488,
          0.2942811047577971,
          0.7131066424167334,
          -0.614145259332274,
          1.3367013379768597,
          -0.3611519306104252,
          -0.22674171311266222,
          -0.7922763953214255,
          -1.912388440068962,
          2.94461710583469,
          0.7466399419377467,
          -0.5062250561740432,
          -0.6267758673924915,
          -0.5301364252727697,
          -1.1356102411393012,
          1.7097173351457045,
          -0.5982673480241042,
          0.632599712583573,
          -0.7191789918807273,
          -1.011913867593541,
          1.0862462490282248,
          1.1499817116204132,
          0.7121776705596654,
          -0.7249853951963967,
          -0.24484654770034245,
          -0.10946886787942355,
          0.9444906377964262,
          -0.03956551316859267,
          -1.1913735024463135,
          -0.963486275341088,
          -1.3533511104197,
          -0.10146602362529568,
          0.40726711160299367,
          -1.3279311786454684,
          0.08999558075822016,
          1.4193027223212058,
          0.8481711573298252,
          1.237710700172955,
          -0.9075402340794535,
          0.24104376712171527,
          -0.26683695105423477,
          0.5297046101182764,
          -0.5898451706324817,
          -0.46118554508543186,
          0.4438889661881818,
          -0.022849201447032792,
          0.6538508162804493,
          -0.8969955791054491,
          0.5151826075293686,
          -1.716075531842265,
          -1.2459443299216126,
          -0.39468032622605176,
          -0.594068760568758,
          1.1781478136671775,
          -1.0799218215036783,
          1.0329478909914607,
          0.2282708120345758,
          0.5740812637562833,
          0.998004452114102,
          -0.4240139456347152,
          1.5697362346573667,
          -2.301553062519039,
          -0.05564169983599276,
          -0.5750252875191277,
          0.36899773315170714,
          1.2352274250634883,
          -0.2760983305352888,
          -1.1315843014714326,
          0.47160626469032957,
          0.6224993997445093,
          0.3056078012612184,
          0.3565127710229608,
          0.16192329536141162,
          -0.4482276412402648,
          -0.255341393719222,
          2.731094066424876,
          -0.3509008449363998,
          0.7562307284894754,
          0.307461984745654,
          -0.028086364160419496,
          0.3078805805283829,
          0.2717827333298244,
          -0.21005022861881803,
          0.15616678270870996,
          -0.5508037116094993,
          -0.8595019402724217,
          -1.1811403903781978,
          -1.1051152466130356,
          0.18553196417980916,
          0.625579015927619,
          -0.6408948128706429,
          -0.12432769691673103,
          -1.0699306999590428,
          0.26771926977846544,
          0.8026332176389065,
          1.80141470610895,
          -1.873013331107765,
          0.9099007759609501,
          -1.4396917779942568
         ],
         "yaxis": "y8"
        },
        {
         "line": {
          "color": "rgba(128, 128, 128, 1.0)",
          "dash": "solid",
          "shape": "linear",
          "width": 1.3
         },
         "marker": {
          "size": 2,
          "symbol": "circle"
         },
         "mode": "markers",
         "name": "C",
         "text": "",
         "type": "scatter",
         "x": [
          -0.5926298961513271,
          0.25673020586304807,
          -0.43782540602292713,
          1.0534689198889642,
          -0.9919513407195126,
          1.611767926213217,
          0.06330100258337129,
          -0.7794590258443483,
          1.3213895611178617,
          2.0428480315223823,
          1.3942054388325047,
          -1.0038641189563902,
          0.38499375800912655,
          0.43771904183757787,
          -0.03450546160271116,
          1.053234080805073,
          2.0397975570567692,
          0.385375865370009,
          1.7676509480340017,
          -0.6649155567520971,
          1.436288459640299,
          -0.4036051333866007,
          0.09260910325620314,
          -0.6542216569397591,
          1.4741915479685124,
          0.9051017853546715,
          -2.196271747394207,
          -0.11339517644243712,
          -0.4449131865951581,
          -0.22841259825041527,
          0.8679037688166911,
          -0.8281381473996741,
          -0.3197383644114914,
          -0.22840516815474368,
          2.853834584156512,
          0.6216999835149216,
          1.5240921155040292,
          -0.31203354460191196,
          0.08094205015951837,
          0.015646307251275072,
          1.7932205291927203,
          0.4653034182676237,
          1.1593511785630377,
          1.5737474570494507,
          1.1662651409043536,
          -0.13617317080506597,
          -1.6664432754952285,
          0.6658652654155452,
          -0.5158901261812123,
          -0.9417598894899648,
          0.5250610445322508,
          1.1998623089464961,
          -0.3229256151506854,
          -1.2920143018845127,
          -0.05205440705465112,
          0.26600301743930166,
          -0.9644056385681528,
          2.4529695305287142,
          2.713126831567635,
          0.23352598710271472,
          0.24763388006906298,
          -1.2243351213532416,
          0.41903421957586184,
          0.48867062808082373,
          -0.7861677504690421,
          -1.2514626078351387,
          0.21186021746577036,
          -0.06017875815427523,
          2.3055917858896997,
          -0.72211444002813,
          -0.12793695931512533,
          -0.007755887247505297,
          -1.0097227248055003,
          0.6030326691920733,
          -0.1739761026833534,
          0.7520083111574457,
          -0.5412741041067098,
          0.12309165184098429,
          0.7562849692392389,
          1.0348364759469733,
          -1.3908296564977056,
          -0.4406362876635684,
          0.574944055766053,
          -0.5819853653510465,
          0.881152636747594,
          0.07868416646062422,
          1.8226632065021642,
          -0.13719437995366995,
          1.1162581459854621,
          -0.7985545018909256,
          0.17241094898690948,
          0.2552260864441374,
          1.0605714157563813,
          0.5179693571027562,
          0.4155143057576676,
          1.4316485846465625,
          -0.7775443753105155,
          -1.063630020330371,
          -0.16289165324194577,
          -0.29531247931902405
         ],
         "xaxis": "x9",
         "y": [
          -0.5329383118117111,
          0.557158984686362,
          -0.7773784640077513,
          0.4502948550666474,
          1.0138880505622996,
          0.8643796572088078,
          1.403327846853929,
          0.17662681793324203,
          -0.9256916191776521,
          0.11113838946336113,
          -0.5003135852854012,
          -1.4373836749538296,
          0.004390886289931718,
          0.5052863861856433,
          1.0398284942816312,
          0.4700021219352897,
          1.2942516711557286,
          0.4562530916282091,
          0.4867757023349144,
          0.5251023387128786,
          1.366687500871755,
          0.7341868934647509,
          -0.7406234269138862,
          1.7902580011984228,
          -0.052280405347552884,
          -1.2994890823643053,
          -0.03998407812874461,
          0.2409334336633333,
          -1.1431901553946213,
          -1.3375003089870747,
          0.21267439088163337,
          -0.3727133338594834,
          -1.7432581570902688,
          1.1140649602434551,
          0.11880631666273851,
          -2.009441502210672,
          -0.5510243805032415,
          -0.3965855723196719,
          -0.9207409303162719,
          -1.0943443758622298,
          0.2763122759552882,
          -1.5883444069275798,
          -1.0330063980789108,
          0.5362525437628567,
          0.1411710405785407,
          -0.38437445757092265,
          1.3919900976151998,
          0.9517151174256139,
          -1.1901950141859108,
          -0.14189555170734033,
          0.5968986628418939,
          -0.5005443285631248,
          1.416423978087898,
          0.1431483587824421,
          3.4124450680223752,
          -0.06761336436845361,
          0.8701406858782743,
          -1.5729354220756329,
          -1.5239639144707235,
          -0.35001468782544215,
          -0.3141329650511141,
          1.289147141353759,
          0.6571940529834378,
          0.12691583464319822,
          -0.35819019671388636,
          0.3512140322402031,
          -1.570650531955033,
          1.6844680221586628,
          -1.138982064296053,
          -0.0669494830020375,
          0.10910710717061158,
          0.4366525495605837,
          0.031831925732240654,
          0.7073775791321979,
          0.26398938042263326,
          1.65842532898978,
          1.1225040754670954,
          2.1251585555550387,
          -0.2210800855085304,
          -0.580723734930385,
          0.6749862640274892,
          -0.3248229431990396,
          0.8908237137126089,
          0.38853005247553696,
          -0.008631663873746373,
          1.1576062810456162,
          -2.5163976663842575,
          -0.3794418799086721,
          -1.3282923544858762,
          -2.0459800517490567,
          -0.3781167481915554,
          -0.026801909417827462,
          -0.3209689443383593,
          -1.255685088054047,
          2.753703318492102,
          1.5388188394422968,
          -1.479870267117127,
          0.39163662921207093,
          -0.48390531047703966,
          0.7573644209629506
         ],
         "yaxis": "y9"
        },
        {
         "line": {
          "color": "rgba(128, 128, 128, 1.0)",
          "dash": "solid",
          "shape": "linear",
          "width": 1.3
         },
         "marker": {
          "size": 2,
          "symbol": "circle"
         },
         "mode": "markers",
         "name": "C",
         "text": "",
         "type": "scatter",
         "x": [
          -0.1157907510446745,
          0.4798485260848488,
          0.2942811047577971,
          0.7131066424167334,
          -0.614145259332274,
          1.3367013379768597,
          -0.3611519306104252,
          -0.22674171311266222,
          -0.7922763953214255,
          -1.912388440068962,
          2.94461710583469,
          0.7466399419377467,
          -0.5062250561740432,
          -0.6267758673924915,
          -0.5301364252727697,
          -1.1356102411393012,
          1.7097173351457045,
          -0.5982673480241042,
          0.632599712583573,
          -0.7191789918807273,
          -1.011913867593541,
          1.0862462490282248,
          1.1499817116204132,
          0.7121776705596654,
          -0.7249853951963967,
          -0.24484654770034245,
          -0.10946886787942355,
          0.9444906377964262,
          -0.03956551316859267,
          -1.1913735024463135,
          -0.963486275341088,
          -1.3533511104197,
          -0.10146602362529568,
          0.40726711160299367,
          -1.3279311786454684,
          0.08999558075822016,
          1.4193027223212058,
          0.8481711573298252,
          1.237710700172955,
          -0.9075402340794535,
          0.24104376712171527,
          -0.26683695105423477,
          0.5297046101182764,
          -0.5898451706324817,
          -0.46118554508543186,
          0.4438889661881818,
          -0.022849201447032792,
          0.6538508162804493,
          -0.8969955791054491,
          0.5151826075293686,
          -1.716075531842265,
          -1.2459443299216126,
          -0.39468032622605176,
          -0.594068760568758,
          1.1781478136671775,
          -1.0799218215036783,
          1.0329478909914607,
          0.2282708120345758,
          0.5740812637562833,
          0.998004452114102,
          -0.4240139456347152,
          1.5697362346573667,
          -2.301553062519039,
          -0.05564169983599276,
          -0.5750252875191277,
          0.36899773315170714,
          1.2352274250634883,
          -0.2760983305352888,
          -1.1315843014714326,
          0.47160626469032957,
          0.6224993997445093,
          0.3056078012612184,
          0.3565127710229608,
          0.16192329536141162,
          -0.4482276412402648,
          -0.255341393719222,
          2.731094066424876,
          -0.3509008449363998,
          0.7562307284894754,
          0.307461984745654,
          -0.028086364160419496,
          0.3078805805283829,
          0.2717827333298244,
          -0.21005022861881803,
          0.15616678270870996,
          -0.5508037116094993,
          -0.8595019402724217,
          -1.1811403903781978,
          -1.1051152466130356,
          0.18553196417980916,
          0.625579015927619,
          -0.6408948128706429,
          -0.12432769691673103,
          -1.0699306999590428,
          0.26771926977846544,
          0.8026332176389065,
          1.80141470610895,
          -1.873013331107765,
          0.9099007759609501,
          -1.4396917779942568
         ],
         "xaxis": "x10",
         "y": [
          -0.5329383118117111,
          0.557158984686362,
          -0.7773784640077513,
          0.4502948550666474,
          1.0138880505622996,
          0.8643796572088078,
          1.403327846853929,
          0.17662681793324203,
          -0.9256916191776521,
          0.11113838946336113,
          -0.5003135852854012,
          -1.4373836749538296,
          0.004390886289931718,
          0.5052863861856433,
          1.0398284942816312,
          0.4700021219352897,
          1.2942516711557286,
          0.4562530916282091,
          0.4867757023349144,
          0.5251023387128786,
          1.366687500871755,
          0.7341868934647509,
          -0.7406234269138862,
          1.7902580011984228,
          -0.052280405347552884,
          -1.2994890823643053,
          -0.03998407812874461,
          0.2409334336633333,
          -1.1431901553946213,
          -1.3375003089870747,
          0.21267439088163337,
          -0.3727133338594834,
          -1.7432581570902688,
          1.1140649602434551,
          0.11880631666273851,
          -2.009441502210672,
          -0.5510243805032415,
          -0.3965855723196719,
          -0.9207409303162719,
          -1.0943443758622298,
          0.2763122759552882,
          -1.5883444069275798,
          -1.0330063980789108,
          0.5362525437628567,
          0.1411710405785407,
          -0.38437445757092265,
          1.3919900976151998,
          0.9517151174256139,
          -1.1901950141859108,
          -0.14189555170734033,
          0.5968986628418939,
          -0.5005443285631248,
          1.416423978087898,
          0.1431483587824421,
          3.4124450680223752,
          -0.06761336436845361,
          0.8701406858782743,
          -1.5729354220756329,
          -1.5239639144707235,
          -0.35001468782544215,
          -0.3141329650511141,
          1.289147141353759,
          0.6571940529834378,
          0.12691583464319822,
          -0.35819019671388636,
          0.3512140322402031,
          -1.570650531955033,
          1.6844680221586628,
          -1.138982064296053,
          -0.0669494830020375,
          0.10910710717061158,
          0.4366525495605837,
          0.031831925732240654,
          0.7073775791321979,
          0.26398938042263326,
          1.65842532898978,
          1.1225040754670954,
          2.1251585555550387,
          -0.2210800855085304,
          -0.580723734930385,
          0.6749862640274892,
          -0.3248229431990396,
          0.8908237137126089,
          0.38853005247553696,
          -0.008631663873746373,
          1.1576062810456162,
          -2.5163976663842575,
          -0.3794418799086721,
          -1.3282923544858762,
          -2.0459800517490567,
          -0.3781167481915554,
          -0.026801909417827462,
          -0.3209689443383593,
          -1.255685088054047,
          2.753703318492102,
          1.5388188394422968,
          -1.479870267117127,
          0.39163662921207093,
          -0.48390531047703966,
          0.7573644209629506
         ],
         "yaxis": "y10"
        },
        {
         "histfunc": "count",
         "histnorm": "",
         "marker": {
          "color": "rgba(50, 171, 96, 1.0)",
          "line": {
           "color": "#4D5663",
           "width": 1.3
          }
         },
         "name": "C",
         "nbinsx": 10,
         "opacity": 0.8,
         "orientation": "v",
         "type": "histogram",
         "x": [
          -0.5329383118117111,
          0.557158984686362,
          -0.7773784640077513,
          0.4502948550666474,
          1.0138880505622996,
          0.8643796572088078,
          1.403327846853929,
          0.17662681793324203,
          -0.9256916191776521,
          0.11113838946336113,
          -0.5003135852854012,
          -1.4373836749538296,
          0.004390886289931718,
          0.5052863861856433,
          1.0398284942816312,
          0.4700021219352897,
          1.2942516711557286,
          0.4562530916282091,
          0.4867757023349144,
          0.5251023387128786,
          1.366687500871755,
          0.7341868934647509,
          -0.7406234269138862,
          1.7902580011984228,
          -0.052280405347552884,
          -1.2994890823643053,
          -0.03998407812874461,
          0.2409334336633333,
          -1.1431901553946213,
          -1.3375003089870747,
          0.21267439088163337,
          -0.3727133338594834,
          -1.7432581570902688,
          1.1140649602434551,
          0.11880631666273851,
          -2.009441502210672,
          -0.5510243805032415,
          -0.3965855723196719,
          -0.9207409303162719,
          -1.0943443758622298,
          0.2763122759552882,
          -1.5883444069275798,
          -1.0330063980789108,
          0.5362525437628567,
          0.1411710405785407,
          -0.38437445757092265,
          1.3919900976151998,
          0.9517151174256139,
          -1.1901950141859108,
          -0.14189555170734033,
          0.5968986628418939,
          -0.5005443285631248,
          1.416423978087898,
          0.1431483587824421,
          3.4124450680223752,
          -0.06761336436845361,
          0.8701406858782743,
          -1.5729354220756329,
          -1.5239639144707235,
          -0.35001468782544215,
          -0.3141329650511141,
          1.289147141353759,
          0.6571940529834378,
          0.12691583464319822,
          -0.35819019671388636,
          0.3512140322402031,
          -1.570650531955033,
          1.6844680221586628,
          -1.138982064296053,
          -0.0669494830020375,
          0.10910710717061158,
          0.4366525495605837,
          0.031831925732240654,
          0.7073775791321979,
          0.26398938042263326,
          1.65842532898978,
          1.1225040754670954,
          2.1251585555550387,
          -0.2210800855085304,
          -0.580723734930385,
          0.6749862640274892,
          -0.3248229431990396,
          0.8908237137126089,
          0.38853005247553696,
          -0.008631663873746373,
          1.1576062810456162,
          -2.5163976663842575,
          -0.3794418799086721,
          -1.3282923544858762,
          -2.0459800517490567,
          -0.3781167481915554,
          -0.026801909417827462,
          -0.3209689443383593,
          -1.255685088054047,
          2.753703318492102,
          1.5388188394422968,
          -1.479870267117127,
          0.39163662921207093,
          -0.48390531047703966,
          0.7573644209629506
         ],
         "xaxis": "x11",
         "yaxis": "y11"
        },
        {
         "line": {
          "color": "rgba(128, 128, 128, 1.0)",
          "dash": "solid",
          "shape": "linear",
          "width": 1.3
         },
         "marker": {
          "size": 2,
          "symbol": "circle"
         },
         "mode": "markers",
         "name": "C",
         "text": "",
         "type": "scatter",
         "x": [
          -0.2193839724920814,
          0.03673834097851173,
          0.987799585989557,
          -0.45680697868842046,
          0.7271098863401266,
          0.30329210727865613,
          -0.26712978821937444,
          1.0095723743385,
          -0.4228909507045194,
          0.3075892397528451,
          0.9489828485601433,
          -0.22451513255242508,
          -1.1107116681174418,
          0.7680108676987024,
          -0.11630608147155315,
          0.29093326534482966,
          1.9542889849467535,
          1.1110135911541346,
          -2.3296160711306944,
          0.02187744257320405,
          -0.6629555946608392,
          -0.4928989052670513,
          -0.8759945384540662,
          0.6922627648086038,
          1.1262086084701817,
          1.9691467010080486,
          1.3741557642209405,
          -1.3713246219745756,
          -0.1836866932419942,
          1.043777373642293,
          1.1171414932728372,
          -0.8483544586416497,
          0.5475171172834119,
          0.22746681771477958,
          -0.6308476174813245,
          -0.09854811827025602,
          0.022769378814638853,
          -0.4487986629320674,
          -0.9034597245484658,
          -0.6378949254903331,
          -0.4492768708891525,
          1.0555579449603434,
          -0.11470394720695867,
          -0.14609532264882724,
          -0.3802579048952034,
          2.1033300796058008,
          -0.07835629365401076,
          0.255763285824464,
          -1.0829429872566125,
          -0.5984508218594459,
          0.2988305135551518,
          0.7610733152132845,
          -0.15331145876966712,
          -1.0899092691503058,
          0.6887506413586928,
          0.09057229714387154,
          -0.1831544794728409,
          -0.23219247443813748,
          1.0850595737659272,
          0.7079347962395922,
          0.9239648370430716,
          0.5752666639473206,
          -0.0782466539059608,
          -0.5751549927849406,
          0.30293306177254614,
          -1.6128733507367412,
          0.954161956224829,
          0.35331662927665525,
          0.4867032255124756,
          -1.4425153880296329,
          -2.439129093983263,
          1.300863150160351,
          -1.2320162675360742,
          -0.17352268024345233,
          -0.3202322874932672,
          -0.35092980882229036,
          0.5275550115628105,
          1.7884140357936633,
          3.1450296067129244,
          -0.5314874202448286,
          -2.064718091313124,
          0.9534673941924888,
          -0.040331506354160544,
          -0.6352729350658008,
          -0.06096951786361323,
          0.5609324550321262,
          0.3574741859411366,
          -1.7928844510806905,
          -0.033542057166446475,
          -1.412194137336305,
          -0.12324110708590304,
          -0.553675978465696,
          0.7324784603482485,
          -0.250450527950122,
          0.3814857723717101,
          0.0693795153937473,
          1.2127267520325036,
          0.31639856434337044,
          -0.16116887362125037,
          0.7714979567097996
         ],
         "xaxis": "x12",
         "y": [
          -0.5329383118117111,
          0.557158984686362,
          -0.7773784640077513,
          0.4502948550666474,
          1.0138880505622996,
          0.8643796572088078,
          1.403327846853929,
          0.17662681793324203,
          -0.9256916191776521,
          0.11113838946336113,
          -0.5003135852854012,
          -1.4373836749538296,
          0.004390886289931718,
          0.5052863861856433,
          1.0398284942816312,
          0.4700021219352897,
          1.2942516711557286,
          0.4562530916282091,
          0.4867757023349144,
          0.5251023387128786,
          1.366687500871755,
          0.7341868934647509,
          -0.7406234269138862,
          1.7902580011984228,
          -0.052280405347552884,
          -1.2994890823643053,
          -0.03998407812874461,
          0.2409334336633333,
          -1.1431901553946213,
          -1.3375003089870747,
          0.21267439088163337,
          -0.3727133338594834,
          -1.7432581570902688,
          1.1140649602434551,
          0.11880631666273851,
          -2.009441502210672,
          -0.5510243805032415,
          -0.3965855723196719,
          -0.9207409303162719,
          -1.0943443758622298,
          0.2763122759552882,
          -1.5883444069275798,
          -1.0330063980789108,
          0.5362525437628567,
          0.1411710405785407,
          -0.38437445757092265,
          1.3919900976151998,
          0.9517151174256139,
          -1.1901950141859108,
          -0.14189555170734033,
          0.5968986628418939,
          -0.5005443285631248,
          1.416423978087898,
          0.1431483587824421,
          3.4124450680223752,
          -0.06761336436845361,
          0.8701406858782743,
          -1.5729354220756329,
          -1.5239639144707235,
          -0.35001468782544215,
          -0.3141329650511141,
          1.289147141353759,
          0.6571940529834378,
          0.12691583464319822,
          -0.35819019671388636,
          0.3512140322402031,
          -1.570650531955033,
          1.6844680221586628,
          -1.138982064296053,
          -0.0669494830020375,
          0.10910710717061158,
          0.4366525495605837,
          0.031831925732240654,
          0.7073775791321979,
          0.26398938042263326,
          1.65842532898978,
          1.1225040754670954,
          2.1251585555550387,
          -0.2210800855085304,
          -0.580723734930385,
          0.6749862640274892,
          -0.3248229431990396,
          0.8908237137126089,
          0.38853005247553696,
          -0.008631663873746373,
          1.1576062810456162,
          -2.5163976663842575,
          -0.3794418799086721,
          -1.3282923544858762,
          -2.0459800517490567,
          -0.3781167481915554,
          -0.026801909417827462,
          -0.3209689443383593,
          -1.255685088054047,
          2.753703318492102,
          1.5388188394422968,
          -1.479870267117127,
          0.39163662921207093,
          -0.48390531047703966,
          0.7573644209629506
         ],
         "yaxis": "y12"
        },
        {
         "line": {
          "color": "rgba(128, 128, 128, 1.0)",
          "dash": "solid",
          "shape": "linear",
          "width": 1.3
         },
         "marker": {
          "size": 2,
          "symbol": "circle"
         },
         "mode": "markers",
         "name": "D",
         "text": "",
         "type": "scatter",
         "x": [
          -0.5926298961513271,
          0.25673020586304807,
          -0.43782540602292713,
          1.0534689198889642,
          -0.9919513407195126,
          1.611767926213217,
          0.06330100258337129,
          -0.7794590258443483,
          1.3213895611178617,
          2.0428480315223823,
          1.3942054388325047,
          -1.0038641189563902,
          0.38499375800912655,
          0.43771904183757787,
          -0.03450546160271116,
          1.053234080805073,
          2.0397975570567692,
          0.385375865370009,
          1.7676509480340017,
          -0.6649155567520971,
          1.436288459640299,
          -0.4036051333866007,
          0.09260910325620314,
          -0.6542216569397591,
          1.4741915479685124,
          0.9051017853546715,
          -2.196271747394207,
          -0.11339517644243712,
          -0.4449131865951581,
          -0.22841259825041527,
          0.8679037688166911,
          -0.8281381473996741,
          -0.3197383644114914,
          -0.22840516815474368,
          2.853834584156512,
          0.6216999835149216,
          1.5240921155040292,
          -0.31203354460191196,
          0.08094205015951837,
          0.015646307251275072,
          1.7932205291927203,
          0.4653034182676237,
          1.1593511785630377,
          1.5737474570494507,
          1.1662651409043536,
          -0.13617317080506597,
          -1.6664432754952285,
          0.6658652654155452,
          -0.5158901261812123,
          -0.9417598894899648,
          0.5250610445322508,
          1.1998623089464961,
          -0.3229256151506854,
          -1.2920143018845127,
          -0.05205440705465112,
          0.26600301743930166,
          -0.9644056385681528,
          2.4529695305287142,
          2.713126831567635,
          0.23352598710271472,
          0.24763388006906298,
          -1.2243351213532416,
          0.41903421957586184,
          0.48867062808082373,
          -0.7861677504690421,
          -1.2514626078351387,
          0.21186021746577036,
          -0.06017875815427523,
          2.3055917858896997,
          -0.72211444002813,
          -0.12793695931512533,
          -0.007755887247505297,
          -1.0097227248055003,
          0.6030326691920733,
          -0.1739761026833534,
          0.7520083111574457,
          -0.5412741041067098,
          0.12309165184098429,
          0.7562849692392389,
          1.0348364759469733,
          -1.3908296564977056,
          -0.4406362876635684,
          0.574944055766053,
          -0.5819853653510465,
          0.881152636747594,
          0.07868416646062422,
          1.8226632065021642,
          -0.13719437995366995,
          1.1162581459854621,
          -0.7985545018909256,
          0.17241094898690948,
          0.2552260864441374,
          1.0605714157563813,
          0.5179693571027562,
          0.4155143057576676,
          1.4316485846465625,
          -0.7775443753105155,
          -1.063630020330371,
          -0.16289165324194577,
          -0.29531247931902405
         ],
         "xaxis": "x13",
         "y": [
          -0.2193839724920814,
          0.03673834097851173,
          0.987799585989557,
          -0.45680697868842046,
          0.7271098863401266,
          0.30329210727865613,
          -0.26712978821937444,
          1.0095723743385,
          -0.4228909507045194,
          0.3075892397528451,
          0.9489828485601433,
          -0.22451513255242508,
          -1.1107116681174418,
          0.7680108676987024,
          -0.11630608147155315,
          0.29093326534482966,
          1.9542889849467535,
          1.1110135911541346,
          -2.3296160711306944,
          0.02187744257320405,
          -0.6629555946608392,
          -0.4928989052670513,
          -0.8759945384540662,
          0.6922627648086038,
          1.1262086084701817,
          1.9691467010080486,
          1.3741557642209405,
          -1.3713246219745756,
          -0.1836866932419942,
          1.043777373642293,
          1.1171414932728372,
          -0.8483544586416497,
          0.5475171172834119,
          0.22746681771477958,
          -0.6308476174813245,
          -0.09854811827025602,
          0.022769378814638853,
          -0.4487986629320674,
          -0.9034597245484658,
          -0.6378949254903331,
          -0.4492768708891525,
          1.0555579449603434,
          -0.11470394720695867,
          -0.14609532264882724,
          -0.3802579048952034,
          2.1033300796058008,
          -0.07835629365401076,
          0.255763285824464,
          -1.0829429872566125,
          -0.5984508218594459,
          0.2988305135551518,
          0.7610733152132845,
          -0.15331145876966712,
          -1.0899092691503058,
          0.6887506413586928,
          0.09057229714387154,
          -0.1831544794728409,
          -0.23219247443813748,
          1.0850595737659272,
          0.7079347962395922,
          0.9239648370430716,
          0.5752666639473206,
          -0.0782466539059608,
          -0.5751549927849406,
          0.30293306177254614,
          -1.6128733507367412,
          0.954161956224829,
          0.35331662927665525,
          0.4867032255124756,
          -1.4425153880296329,
          -2.439129093983263,
          1.300863150160351,
          -1.2320162675360742,
          -0.17352268024345233,
          -0.3202322874932672,
          -0.35092980882229036,
          0.5275550115628105,
          1.7884140357936633,
          3.1450296067129244,
          -0.5314874202448286,
          -2.064718091313124,
          0.9534673941924888,
          -0.040331506354160544,
          -0.6352729350658008,
          -0.06096951786361323,
          0.5609324550321262,
          0.3574741859411366,
          -1.7928844510806905,
          -0.033542057166446475,
          -1.412194137336305,
          -0.12324110708590304,
          -0.553675978465696,
          0.7324784603482485,
          -0.250450527950122,
          0.3814857723717101,
          0.0693795153937473,
          1.2127267520325036,
          0.31639856434337044,
          -0.16116887362125037,
          0.7714979567097996
         ],
         "yaxis": "y13"
        },
        {
         "line": {
          "color": "rgba(128, 128, 128, 1.0)",
          "dash": "solid",
          "shape": "linear",
          "width": 1.3
         },
         "marker": {
          "size": 2,
          "symbol": "circle"
         },
         "mode": "markers",
         "name": "D",
         "text": "",
         "type": "scatter",
         "x": [
          -0.1157907510446745,
          0.4798485260848488,
          0.2942811047577971,
          0.7131066424167334,
          -0.614145259332274,
          1.3367013379768597,
          -0.3611519306104252,
          -0.22674171311266222,
          -0.7922763953214255,
          -1.912388440068962,
          2.94461710583469,
          0.7466399419377467,
          -0.5062250561740432,
          -0.6267758673924915,
          -0.5301364252727697,
          -1.1356102411393012,
          1.7097173351457045,
          -0.5982673480241042,
          0.632599712583573,
          -0.7191789918807273,
          -1.011913867593541,
          1.0862462490282248,
          1.1499817116204132,
          0.7121776705596654,
          -0.7249853951963967,
          -0.24484654770034245,
          -0.10946886787942355,
          0.9444906377964262,
          -0.03956551316859267,
          -1.1913735024463135,
          -0.963486275341088,
          -1.3533511104197,
          -0.10146602362529568,
          0.40726711160299367,
          -1.3279311786454684,
          0.08999558075822016,
          1.4193027223212058,
          0.8481711573298252,
          1.237710700172955,
          -0.9075402340794535,
          0.24104376712171527,
          -0.26683695105423477,
          0.5297046101182764,
          -0.5898451706324817,
          -0.46118554508543186,
          0.4438889661881818,
          -0.022849201447032792,
          0.6538508162804493,
          -0.8969955791054491,
          0.5151826075293686,
          -1.716075531842265,
          -1.2459443299216126,
          -0.39468032622605176,
          -0.594068760568758,
          1.1781478136671775,
          -1.0799218215036783,
          1.0329478909914607,
          0.2282708120345758,
          0.5740812637562833,
          0.998004452114102,
          -0.4240139456347152,
          1.5697362346573667,
          -2.301553062519039,
          -0.05564169983599276,
          -0.5750252875191277,
          0.36899773315170714,
          1.2352274250634883,
          -0.2760983305352888,
          -1.1315843014714326,
          0.47160626469032957,
          0.6224993997445093,
          0.3056078012612184,
          0.3565127710229608,
          0.16192329536141162,
          -0.4482276412402648,
          -0.255341393719222,
          2.731094066424876,
          -0.3509008449363998,
          0.7562307284894754,
          0.307461984745654,
          -0.028086364160419496,
          0.3078805805283829,
          0.2717827333298244,
          -0.21005022861881803,
          0.15616678270870996,
          -0.5508037116094993,
          -0.8595019402724217,
          -1.1811403903781978,
          -1.1051152466130356,
          0.18553196417980916,
          0.625579015927619,
          -0.6408948128706429,
          -0.12432769691673103,
          -1.0699306999590428,
          0.26771926977846544,
          0.8026332176389065,
          1.80141470610895,
          -1.873013331107765,
          0.9099007759609501,
          -1.4396917779942568
         ],
         "xaxis": "x14",
         "y": [
          -0.2193839724920814,
          0.03673834097851173,
          0.987799585989557,
          -0.45680697868842046,
          0.7271098863401266,
          0.30329210727865613,
          -0.26712978821937444,
          1.0095723743385,
          -0.4228909507045194,
          0.3075892397528451,
          0.9489828485601433,
          -0.22451513255242508,
          -1.1107116681174418,
          0.7680108676987024,
          -0.11630608147155315,
          0.29093326534482966,
          1.9542889849467535,
          1.1110135911541346,
          -2.3296160711306944,
          0.02187744257320405,
          -0.6629555946608392,
          -0.4928989052670513,
          -0.8759945384540662,
          0.6922627648086038,
          1.1262086084701817,
          1.9691467010080486,
          1.3741557642209405,
          -1.3713246219745756,
          -0.1836866932419942,
          1.043777373642293,
          1.1171414932728372,
          -0.8483544586416497,
          0.5475171172834119,
          0.22746681771477958,
          -0.6308476174813245,
          -0.09854811827025602,
          0.022769378814638853,
          -0.4487986629320674,
          -0.9034597245484658,
          -0.6378949254903331,
          -0.4492768708891525,
          1.0555579449603434,
          -0.11470394720695867,
          -0.14609532264882724,
          -0.3802579048952034,
          2.1033300796058008,
          -0.07835629365401076,
          0.255763285824464,
          -1.0829429872566125,
          -0.5984508218594459,
          0.2988305135551518,
          0.7610733152132845,
          -0.15331145876966712,
          -1.0899092691503058,
          0.6887506413586928,
          0.09057229714387154,
          -0.1831544794728409,
          -0.23219247443813748,
          1.0850595737659272,
          0.7079347962395922,
          0.9239648370430716,
          0.5752666639473206,
          -0.0782466539059608,
          -0.5751549927849406,
          0.30293306177254614,
          -1.6128733507367412,
          0.954161956224829,
          0.35331662927665525,
          0.4867032255124756,
          -1.4425153880296329,
          -2.439129093983263,
          1.300863150160351,
          -1.2320162675360742,
          -0.17352268024345233,
          -0.3202322874932672,
          -0.35092980882229036,
          0.5275550115628105,
          1.7884140357936633,
          3.1450296067129244,
          -0.5314874202448286,
          -2.064718091313124,
          0.9534673941924888,
          -0.040331506354160544,
          -0.6352729350658008,
          -0.06096951786361323,
          0.5609324550321262,
          0.3574741859411366,
          -1.7928844510806905,
          -0.033542057166446475,
          -1.412194137336305,
          -0.12324110708590304,
          -0.553675978465696,
          0.7324784603482485,
          -0.250450527950122,
          0.3814857723717101,
          0.0693795153937473,
          1.2127267520325036,
          0.31639856434337044,
          -0.16116887362125037,
          0.7714979567097996
         ],
         "yaxis": "y14"
        },
        {
         "line": {
          "color": "rgba(128, 128, 128, 1.0)",
          "dash": "solid",
          "shape": "linear",
          "width": 1.3
         },
         "marker": {
          "size": 2,
          "symbol": "circle"
         },
         "mode": "markers",
         "name": "D",
         "text": "",
         "type": "scatter",
         "x": [
          -0.5329383118117111,
          0.557158984686362,
          -0.7773784640077513,
          0.4502948550666474,
          1.0138880505622996,
          0.8643796572088078,
          1.403327846853929,
          0.17662681793324203,
          -0.9256916191776521,
          0.11113838946336113,
          -0.5003135852854012,
          -1.4373836749538296,
          0.004390886289931718,
          0.5052863861856433,
          1.0398284942816312,
          0.4700021219352897,
          1.2942516711557286,
          0.4562530916282091,
          0.4867757023349144,
          0.5251023387128786,
          1.366687500871755,
          0.7341868934647509,
          -0.7406234269138862,
          1.7902580011984228,
          -0.052280405347552884,
          -1.2994890823643053,
          -0.03998407812874461,
          0.2409334336633333,
          -1.1431901553946213,
          -1.3375003089870747,
          0.21267439088163337,
          -0.3727133338594834,
          -1.7432581570902688,
          1.1140649602434551,
          0.11880631666273851,
          -2.009441502210672,
          -0.5510243805032415,
          -0.3965855723196719,
          -0.9207409303162719,
          -1.0943443758622298,
          0.2763122759552882,
          -1.5883444069275798,
          -1.0330063980789108,
          0.5362525437628567,
          0.1411710405785407,
          -0.38437445757092265,
          1.3919900976151998,
          0.9517151174256139,
          -1.1901950141859108,
          -0.14189555170734033,
          0.5968986628418939,
          -0.5005443285631248,
          1.416423978087898,
          0.1431483587824421,
          3.4124450680223752,
          -0.06761336436845361,
          0.8701406858782743,
          -1.5729354220756329,
          -1.5239639144707235,
          -0.35001468782544215,
          -0.3141329650511141,
          1.289147141353759,
          0.6571940529834378,
          0.12691583464319822,
          -0.35819019671388636,
          0.3512140322402031,
          -1.570650531955033,
          1.6844680221586628,
          -1.138982064296053,
          -0.0669494830020375,
          0.10910710717061158,
          0.4366525495605837,
          0.031831925732240654,
          0.7073775791321979,
          0.26398938042263326,
          1.65842532898978,
          1.1225040754670954,
          2.1251585555550387,
          -0.2210800855085304,
          -0.580723734930385,
          0.6749862640274892,
          -0.3248229431990396,
          0.8908237137126089,
          0.38853005247553696,
          -0.008631663873746373,
          1.1576062810456162,
          -2.5163976663842575,
          -0.3794418799086721,
          -1.3282923544858762,
          -2.0459800517490567,
          -0.3781167481915554,
          -0.026801909417827462,
          -0.3209689443383593,
          -1.255685088054047,
          2.753703318492102,
          1.5388188394422968,
          -1.479870267117127,
          0.39163662921207093,
          -0.48390531047703966,
          0.7573644209629506
         ],
         "xaxis": "x15",
         "y": [
          -0.2193839724920814,
          0.03673834097851173,
          0.987799585989557,
          -0.45680697868842046,
          0.7271098863401266,
          0.30329210727865613,
          -0.26712978821937444,
          1.0095723743385,
          -0.4228909507045194,
          0.3075892397528451,
          0.9489828485601433,
          -0.22451513255242508,
          -1.1107116681174418,
          0.7680108676987024,
          -0.11630608147155315,
          0.29093326534482966,
          1.9542889849467535,
          1.1110135911541346,
          -2.3296160711306944,
          0.02187744257320405,
          -0.6629555946608392,
          -0.4928989052670513,
          -0.8759945384540662,
          0.6922627648086038,
          1.1262086084701817,
          1.9691467010080486,
          1.3741557642209405,
          -1.3713246219745756,
          -0.1836866932419942,
          1.043777373642293,
          1.1171414932728372,
          -0.8483544586416497,
          0.5475171172834119,
          0.22746681771477958,
          -0.6308476174813245,
          -0.09854811827025602,
          0.022769378814638853,
          -0.4487986629320674,
          -0.9034597245484658,
          -0.6378949254903331,
          -0.4492768708891525,
          1.0555579449603434,
          -0.11470394720695867,
          -0.14609532264882724,
          -0.3802579048952034,
          2.1033300796058008,
          -0.07835629365401076,
          0.255763285824464,
          -1.0829429872566125,
          -0.5984508218594459,
          0.2988305135551518,
          0.7610733152132845,
          -0.15331145876966712,
          -1.0899092691503058,
          0.6887506413586928,
          0.09057229714387154,
          -0.1831544794728409,
          -0.23219247443813748,
          1.0850595737659272,
          0.7079347962395922,
          0.9239648370430716,
          0.5752666639473206,
          -0.0782466539059608,
          -0.5751549927849406,
          0.30293306177254614,
          -1.6128733507367412,
          0.954161956224829,
          0.35331662927665525,
          0.4867032255124756,
          -1.4425153880296329,
          -2.439129093983263,
          1.300863150160351,
          -1.2320162675360742,
          -0.17352268024345233,
          -0.3202322874932672,
          -0.35092980882229036,
          0.5275550115628105,
          1.7884140357936633,
          3.1450296067129244,
          -0.5314874202448286,
          -2.064718091313124,
          0.9534673941924888,
          -0.040331506354160544,
          -0.6352729350658008,
          -0.06096951786361323,
          0.5609324550321262,
          0.3574741859411366,
          -1.7928844510806905,
          -0.033542057166446475,
          -1.412194137336305,
          -0.12324110708590304,
          -0.553675978465696,
          0.7324784603482485,
          -0.250450527950122,
          0.3814857723717101,
          0.0693795153937473,
          1.2127267520325036,
          0.31639856434337044,
          -0.16116887362125037,
          0.7714979567097996
         ],
         "yaxis": "y15"
        },
        {
         "histfunc": "count",
         "histnorm": "",
         "marker": {
          "color": "rgba(128, 0, 128, 1.0)",
          "line": {
           "color": "#4D5663",
           "width": 1.3
          }
         },
         "name": "D",
         "nbinsx": 10,
         "opacity": 0.8,
         "orientation": "v",
         "type": "histogram",
         "x": [
          -0.2193839724920814,
          0.03673834097851173,
          0.987799585989557,
          -0.45680697868842046,
          0.7271098863401266,
          0.30329210727865613,
          -0.26712978821937444,
          1.0095723743385,
          -0.4228909507045194,
          0.3075892397528451,
          0.9489828485601433,
          -0.22451513255242508,
          -1.1107116681174418,
          0.7680108676987024,
          -0.11630608147155315,
          0.29093326534482966,
          1.9542889849467535,
          1.1110135911541346,
          -2.3296160711306944,
          0.02187744257320405,
          -0.6629555946608392,
          -0.4928989052670513,
          -0.8759945384540662,
          0.6922627648086038,
          1.1262086084701817,
          1.9691467010080486,
          1.3741557642209405,
          -1.3713246219745756,
          -0.1836866932419942,
          1.043777373642293,
          1.1171414932728372,
          -0.8483544586416497,
          0.5475171172834119,
          0.22746681771477958,
          -0.6308476174813245,
          -0.09854811827025602,
          0.022769378814638853,
          -0.4487986629320674,
          -0.9034597245484658,
          -0.6378949254903331,
          -0.4492768708891525,
          1.0555579449603434,
          -0.11470394720695867,
          -0.14609532264882724,
          -0.3802579048952034,
          2.1033300796058008,
          -0.07835629365401076,
          0.255763285824464,
          -1.0829429872566125,
          -0.5984508218594459,
          0.2988305135551518,
          0.7610733152132845,
          -0.15331145876966712,
          -1.0899092691503058,
          0.6887506413586928,
          0.09057229714387154,
          -0.1831544794728409,
          -0.23219247443813748,
          1.0850595737659272,
          0.7079347962395922,
          0.9239648370430716,
          0.5752666639473206,
          -0.0782466539059608,
          -0.5751549927849406,
          0.30293306177254614,
          -1.6128733507367412,
          0.954161956224829,
          0.35331662927665525,
          0.4867032255124756,
          -1.4425153880296329,
          -2.439129093983263,
          1.300863150160351,
          -1.2320162675360742,
          -0.17352268024345233,
          -0.3202322874932672,
          -0.35092980882229036,
          0.5275550115628105,
          1.7884140357936633,
          3.1450296067129244,
          -0.5314874202448286,
          -2.064718091313124,
          0.9534673941924888,
          -0.040331506354160544,
          -0.6352729350658008,
          -0.06096951786361323,
          0.5609324550321262,
          0.3574741859411366,
          -1.7928844510806905,
          -0.033542057166446475,
          -1.412194137336305,
          -0.12324110708590304,
          -0.553675978465696,
          0.7324784603482485,
          -0.250450527950122,
          0.3814857723717101,
          0.0693795153937473,
          1.2127267520325036,
          0.31639856434337044,
          -0.16116887362125037,
          0.7714979567097996
         ],
         "xaxis": "x16",
         "yaxis": "y16"
        }
       ],
       "layout": {
        "bargap": 0.02,
        "legend": {
         "bgcolor": "#F5F6F9",
         "font": {
          "color": "#4D5663"
         }
        },
        "paper_bgcolor": "#F5F6F9",
        "plot_bgcolor": "#F5F6F9",
        "showlegend": false,
        "template": {
         "data": {
          "bar": [
           {
            "error_x": {
             "color": "#2a3f5f"
            },
            "error_y": {
             "color": "#2a3f5f"
            },
            "marker": {
             "line": {
              "color": "#E5ECF6",
              "width": 0.5
             },
             "pattern": {
              "fillmode": "overlay",
              "size": 10,
              "solidity": 0.2
             }
            },
            "type": "bar"
           }
          ],
          "barpolar": [
           {
            "marker": {
             "line": {
              "color": "#E5ECF6",
              "width": 0.5
             },
             "pattern": {
              "fillmode": "overlay",
              "size": 10,
              "solidity": 0.2
             }
            },
            "type": "barpolar"
           }
          ],
          "carpet": [
           {
            "aaxis": {
             "endlinecolor": "#2a3f5f",
             "gridcolor": "white",
             "linecolor": "white",
             "minorgridcolor": "white",
             "startlinecolor": "#2a3f5f"
            },
            "baxis": {
             "endlinecolor": "#2a3f5f",
             "gridcolor": "white",
             "linecolor": "white",
             "minorgridcolor": "white",
             "startlinecolor": "#2a3f5f"
            },
            "type": "carpet"
           }
          ],
          "choropleth": [
           {
            "colorbar": {
             "outlinewidth": 0,
             "ticks": ""
            },
            "type": "choropleth"
           }
          ],
          "contour": [
           {
            "colorbar": {
             "outlinewidth": 0,
             "ticks": ""
            },
            "colorscale": [
             [
              0,
              "#0d0887"
             ],
             [
              0.1111111111111111,
              "#46039f"
             ],
             [
              0.2222222222222222,
              "#7201a8"
             ],
             [
              0.3333333333333333,
              "#9c179e"
             ],
             [
              0.4444444444444444,
              "#bd3786"
             ],
             [
              0.5555555555555556,
              "#d8576b"
             ],
             [
              0.6666666666666666,
              "#ed7953"
             ],
             [
              0.7777777777777778,
              "#fb9f3a"
             ],
             [
              0.8888888888888888,
              "#fdca26"
             ],
             [
              1,
              "#f0f921"
             ]
            ],
            "type": "contour"
           }
          ],
          "contourcarpet": [
           {
            "colorbar": {
             "outlinewidth": 0,
             "ticks": ""
            },
            "type": "contourcarpet"
           }
          ],
          "heatmap": [
           {
            "colorbar": {
             "outlinewidth": 0,
             "ticks": ""
            },
            "colorscale": [
             [
              0,
              "#0d0887"
             ],
             [
              0.1111111111111111,
              "#46039f"
             ],
             [
              0.2222222222222222,
              "#7201a8"
             ],
             [
              0.3333333333333333,
              "#9c179e"
             ],
             [
              0.4444444444444444,
              "#bd3786"
             ],
             [
              0.5555555555555556,
              "#d8576b"
             ],
             [
              0.6666666666666666,
              "#ed7953"
             ],
             [
              0.7777777777777778,
              "#fb9f3a"
             ],
             [
              0.8888888888888888,
              "#fdca26"
             ],
             [
              1,
              "#f0f921"
             ]
            ],
            "type": "heatmap"
           }
          ],
          "heatmapgl": [
           {
            "colorbar": {
             "outlinewidth": 0,
             "ticks": ""
            },
            "colorscale": [
             [
              0,
              "#0d0887"
             ],
             [
              0.1111111111111111,
              "#46039f"
             ],
             [
              0.2222222222222222,
              "#7201a8"
             ],
             [
              0.3333333333333333,
              "#9c179e"
             ],
             [
              0.4444444444444444,
              "#bd3786"
             ],
             [
              0.5555555555555556,
              "#d8576b"
             ],
             [
              0.6666666666666666,
              "#ed7953"
             ],
             [
              0.7777777777777778,
              "#fb9f3a"
             ],
             [
              0.8888888888888888,
              "#fdca26"
             ],
             [
              1,
              "#f0f921"
             ]
            ],
            "type": "heatmapgl"
           }
          ],
          "histogram": [
           {
            "marker": {
             "pattern": {
              "fillmode": "overlay",
              "size": 10,
              "solidity": 0.2
             }
            },
            "type": "histogram"
           }
          ],
          "histogram2d": [
           {
            "colorbar": {
             "outlinewidth": 0,
             "ticks": ""
            },
            "colorscale": [
             [
              0,
              "#0d0887"
             ],
             [
              0.1111111111111111,
              "#46039f"
             ],
             [
              0.2222222222222222,
              "#7201a8"
             ],
             [
              0.3333333333333333,
              "#9c179e"
             ],
             [
              0.4444444444444444,
              "#bd3786"
             ],
             [
              0.5555555555555556,
              "#d8576b"
             ],
             [
              0.6666666666666666,
              "#ed7953"
             ],
             [
              0.7777777777777778,
              "#fb9f3a"
             ],
             [
              0.8888888888888888,
              "#fdca26"
             ],
             [
              1,
              "#f0f921"
             ]
            ],
            "type": "histogram2d"
           }
          ],
          "histogram2dcontour": [
           {
            "colorbar": {
             "outlinewidth": 0,
             "ticks": ""
            },
            "colorscale": [
             [
              0,
              "#0d0887"
             ],
             [
              0.1111111111111111,
              "#46039f"
             ],
             [
              0.2222222222222222,
              "#7201a8"
             ],
             [
              0.3333333333333333,
              "#9c179e"
             ],
             [
              0.4444444444444444,
              "#bd3786"
             ],
             [
              0.5555555555555556,
              "#d8576b"
             ],
             [
              0.6666666666666666,
              "#ed7953"
             ],
             [
              0.7777777777777778,
              "#fb9f3a"
             ],
             [
              0.8888888888888888,
              "#fdca26"
             ],
             [
              1,
              "#f0f921"
             ]
            ],
            "type": "histogram2dcontour"
           }
          ],
          "mesh3d": [
           {
            "colorbar": {
             "outlinewidth": 0,
             "ticks": ""
            },
            "type": "mesh3d"
           }
          ],
          "parcoords": [
           {
            "line": {
             "colorbar": {
              "outlinewidth": 0,
              "ticks": ""
             }
            },
            "type": "parcoords"
           }
          ],
          "pie": [
           {
            "automargin": true,
            "type": "pie"
           }
          ],
          "scatter": [
           {
            "fillpattern": {
             "fillmode": "overlay",
             "size": 10,
             "solidity": 0.2
            },
            "type": "scatter"
           }
          ],
          "scatter3d": [
           {
            "line": {
             "colorbar": {
              "outlinewidth": 0,
              "ticks": ""
             }
            },
            "marker": {
             "colorbar": {
              "outlinewidth": 0,
              "ticks": ""
             }
            },
            "type": "scatter3d"
           }
          ],
          "scattercarpet": [
           {
            "marker": {
             "colorbar": {
              "outlinewidth": 0,
              "ticks": ""
             }
            },
            "type": "scattercarpet"
           }
          ],
          "scattergeo": [
           {
            "marker": {
             "colorbar": {
              "outlinewidth": 0,
              "ticks": ""
             }
            },
            "type": "scattergeo"
           }
          ],
          "scattergl": [
           {
            "marker": {
             "colorbar": {
              "outlinewidth": 0,
              "ticks": ""
             }
            },
            "type": "scattergl"
           }
          ],
          "scattermapbox": [
           {
            "marker": {
             "colorbar": {
              "outlinewidth": 0,
              "ticks": ""
             }
            },
            "type": "scattermapbox"
           }
          ],
          "scatterpolar": [
           {
            "marker": {
             "colorbar": {
              "outlinewidth": 0,
              "ticks": ""
             }
            },
            "type": "scatterpolar"
           }
          ],
          "scatterpolargl": [
           {
            "marker": {
             "colorbar": {
              "outlinewidth": 0,
              "ticks": ""
             }
            },
            "type": "scatterpolargl"
           }
          ],
          "scatterternary": [
           {
            "marker": {
             "colorbar": {
              "outlinewidth": 0,
              "ticks": ""
             }
            },
            "type": "scatterternary"
           }
          ],
          "surface": [
           {
            "colorbar": {
             "outlinewidth": 0,
             "ticks": ""
            },
            "colorscale": [
             [
              0,
              "#0d0887"
             ],
             [
              0.1111111111111111,
              "#46039f"
             ],
             [
              0.2222222222222222,
              "#7201a8"
             ],
             [
              0.3333333333333333,
              "#9c179e"
             ],
             [
              0.4444444444444444,
              "#bd3786"
             ],
             [
              0.5555555555555556,
              "#d8576b"
             ],
             [
              0.6666666666666666,
              "#ed7953"
             ],
             [
              0.7777777777777778,
              "#fb9f3a"
             ],
             [
              0.8888888888888888,
              "#fdca26"
             ],
             [
              1,
              "#f0f921"
             ]
            ],
            "type": "surface"
           }
          ],
          "table": [
           {
            "cells": {
             "fill": {
              "color": "#EBF0F8"
             },
             "line": {
              "color": "white"
             }
            },
            "header": {
             "fill": {
              "color": "#C8D4E3"
             },
             "line": {
              "color": "white"
             }
            },
            "type": "table"
           }
          ]
         },
         "layout": {
          "annotationdefaults": {
           "arrowcolor": "#2a3f5f",
           "arrowhead": 0,
           "arrowwidth": 1
          },
          "autotypenumbers": "strict",
          "coloraxis": {
           "colorbar": {
            "outlinewidth": 0,
            "ticks": ""
           }
          },
          "colorscale": {
           "diverging": [
            [
             0,
             "#8e0152"
            ],
            [
             0.1,
             "#c51b7d"
            ],
            [
             0.2,
             "#de77ae"
            ],
            [
             0.3,
             "#f1b6da"
            ],
            [
             0.4,
             "#fde0ef"
            ],
            [
             0.5,
             "#f7f7f7"
            ],
            [
             0.6,
             "#e6f5d0"
            ],
            [
             0.7,
             "#b8e186"
            ],
            [
             0.8,
             "#7fbc41"
            ],
            [
             0.9,
             "#4d9221"
            ],
            [
             1,
             "#276419"
            ]
           ],
           "sequential": [
            [
             0,
             "#0d0887"
            ],
            [
             0.1111111111111111,
             "#46039f"
            ],
            [
             0.2222222222222222,
             "#7201a8"
            ],
            [
             0.3333333333333333,
             "#9c179e"
            ],
            [
             0.4444444444444444,
             "#bd3786"
            ],
            [
             0.5555555555555556,
             "#d8576b"
            ],
            [
             0.6666666666666666,
             "#ed7953"
            ],
            [
             0.7777777777777778,
             "#fb9f3a"
            ],
            [
             0.8888888888888888,
             "#fdca26"
            ],
            [
             1,
             "#f0f921"
            ]
           ],
           "sequentialminus": [
            [
             0,
             "#0d0887"
            ],
            [
             0.1111111111111111,
             "#46039f"
            ],
            [
             0.2222222222222222,
             "#7201a8"
            ],
            [
             0.3333333333333333,
             "#9c179e"
            ],
            [
             0.4444444444444444,
             "#bd3786"
            ],
            [
             0.5555555555555556,
             "#d8576b"
            ],
            [
             0.6666666666666666,
             "#ed7953"
            ],
            [
             0.7777777777777778,
             "#fb9f3a"
            ],
            [
             0.8888888888888888,
             "#fdca26"
            ],
            [
             1,
             "#f0f921"
            ]
           ]
          },
          "colorway": [
           "#636efa",
           "#EF553B",
           "#00cc96",
           "#ab63fa",
           "#FFA15A",
           "#19d3f3",
           "#FF6692",
           "#B6E880",
           "#FF97FF",
           "#FECB52"
          ],
          "font": {
           "color": "#2a3f5f"
          },
          "geo": {
           "bgcolor": "white",
           "lakecolor": "white",
           "landcolor": "#E5ECF6",
           "showlakes": true,
           "showland": true,
           "subunitcolor": "white"
          },
          "hoverlabel": {
           "align": "left"
          },
          "hovermode": "closest",
          "mapbox": {
           "style": "light"
          },
          "paper_bgcolor": "white",
          "plot_bgcolor": "#E5ECF6",
          "polar": {
           "angularaxis": {
            "gridcolor": "white",
            "linecolor": "white",
            "ticks": ""
           },
           "bgcolor": "#E5ECF6",
           "radialaxis": {
            "gridcolor": "white",
            "linecolor": "white",
            "ticks": ""
           }
          },
          "scene": {
           "xaxis": {
            "backgroundcolor": "#E5ECF6",
            "gridcolor": "white",
            "gridwidth": 2,
            "linecolor": "white",
            "showbackground": true,
            "ticks": "",
            "zerolinecolor": "white"
           },
           "yaxis": {
            "backgroundcolor": "#E5ECF6",
            "gridcolor": "white",
            "gridwidth": 2,
            "linecolor": "white",
            "showbackground": true,
            "ticks": "",
            "zerolinecolor": "white"
           },
           "zaxis": {
            "backgroundcolor": "#E5ECF6",
            "gridcolor": "white",
            "gridwidth": 2,
            "linecolor": "white",
            "showbackground": true,
            "ticks": "",
            "zerolinecolor": "white"
           }
          },
          "shapedefaults": {
           "line": {
            "color": "#2a3f5f"
           }
          },
          "ternary": {
           "aaxis": {
            "gridcolor": "white",
            "linecolor": "white",
            "ticks": ""
           },
           "baxis": {
            "gridcolor": "white",
            "linecolor": "white",
            "ticks": ""
           },
           "bgcolor": "#E5ECF6",
           "caxis": {
            "gridcolor": "white",
            "linecolor": "white",
            "ticks": ""
           }
          },
          "title": {
           "x": 0.05
          },
          "xaxis": {
           "automargin": true,
           "gridcolor": "white",
           "linecolor": "white",
           "ticks": "",
           "title": {
            "standoff": 15
           },
           "zerolinecolor": "white",
           "zerolinewidth": 2
          },
          "yaxis": {
           "automargin": true,
           "gridcolor": "white",
           "linecolor": "white",
           "ticks": "",
           "title": {
            "standoff": 15
           },
           "zerolinecolor": "white",
           "zerolinewidth": 2
          }
         }
        },
        "title": {
         "font": {
          "color": "#4D5663"
         }
        },
        "xaxis": {
         "anchor": "y",
         "domain": [
          0,
          0.2125
         ],
         "gridcolor": "#E1E5ED",
         "showgrid": false,
         "tickfont": {
          "color": "#4D5663"
         },
         "title": {
          "font": {
           "color": "#4D5663"
          },
          "text": ""
         },
         "zerolinecolor": "#E1E5ED"
        },
        "xaxis10": {
         "anchor": "y10",
         "domain": [
          0.2625,
          0.475
         ],
         "gridcolor": "#E1E5ED",
         "showgrid": false,
         "tickfont": {
          "color": "#4D5663"
         },
         "title": {
          "font": {
           "color": "#4D5663"
          },
          "text": ""
         },
         "zerolinecolor": "#E1E5ED"
        },
        "xaxis11": {
         "anchor": "y11",
         "domain": [
          0.525,
          0.7375
         ],
         "gridcolor": "#E1E5ED",
         "showgrid": false,
         "tickfont": {
          "color": "#4D5663"
         },
         "title": {
          "font": {
           "color": "#4D5663"
          },
          "text": ""
         },
         "zerolinecolor": "#E1E5ED"
        },
        "xaxis12": {
         "anchor": "y12",
         "domain": [
          0.7875,
          1
         ],
         "gridcolor": "#E1E5ED",
         "showgrid": false,
         "tickfont": {
          "color": "#4D5663"
         },
         "title": {
          "font": {
           "color": "#4D5663"
          },
          "text": ""
         },
         "zerolinecolor": "#E1E5ED"
        },
        "xaxis13": {
         "anchor": "y13",
         "domain": [
          0,
          0.2125
         ],
         "gridcolor": "#E1E5ED",
         "showgrid": false,
         "tickfont": {
          "color": "#4D5663"
         },
         "title": {
          "font": {
           "color": "#4D5663"
          },
          "text": ""
         },
         "zerolinecolor": "#E1E5ED"
        },
        "xaxis14": {
         "anchor": "y14",
         "domain": [
          0.2625,
          0.475
         ],
         "gridcolor": "#E1E5ED",
         "showgrid": false,
         "tickfont": {
          "color": "#4D5663"
         },
         "title": {
          "font": {
           "color": "#4D5663"
          },
          "text": ""
         },
         "zerolinecolor": "#E1E5ED"
        },
        "xaxis15": {
         "anchor": "y15",
         "domain": [
          0.525,
          0.7375
         ],
         "gridcolor": "#E1E5ED",
         "showgrid": false,
         "tickfont": {
          "color": "#4D5663"
         },
         "title": {
          "font": {
           "color": "#4D5663"
          },
          "text": ""
         },
         "zerolinecolor": "#E1E5ED"
        },
        "xaxis16": {
         "anchor": "y16",
         "domain": [
          0.7875,
          1
         ],
         "gridcolor": "#E1E5ED",
         "showgrid": false,
         "tickfont": {
          "color": "#4D5663"
         },
         "title": {
          "font": {
           "color": "#4D5663"
          },
          "text": ""
         },
         "zerolinecolor": "#E1E5ED"
        },
        "xaxis2": {
         "anchor": "y2",
         "domain": [
          0.2625,
          0.475
         ],
         "gridcolor": "#E1E5ED",
         "showgrid": false,
         "tickfont": {
          "color": "#4D5663"
         },
         "title": {
          "font": {
           "color": "#4D5663"
          },
          "text": ""
         },
         "zerolinecolor": "#E1E5ED"
        },
        "xaxis3": {
         "anchor": "y3",
         "domain": [
          0.525,
          0.7375
         ],
         "gridcolor": "#E1E5ED",
         "showgrid": false,
         "tickfont": {
          "color": "#4D5663"
         },
         "title": {
          "font": {
           "color": "#4D5663"
          },
          "text": ""
         },
         "zerolinecolor": "#E1E5ED"
        },
        "xaxis4": {
         "anchor": "y4",
         "domain": [
          0.7875,
          1
         ],
         "gridcolor": "#E1E5ED",
         "showgrid": false,
         "tickfont": {
          "color": "#4D5663"
         },
         "title": {
          "font": {
           "color": "#4D5663"
          },
          "text": ""
         },
         "zerolinecolor": "#E1E5ED"
        },
        "xaxis5": {
         "anchor": "y5",
         "domain": [
          0,
          0.2125
         ],
         "gridcolor": "#E1E5ED",
         "showgrid": false,
         "tickfont": {
          "color": "#4D5663"
         },
         "title": {
          "font": {
           "color": "#4D5663"
          },
          "text": ""
         },
         "zerolinecolor": "#E1E5ED"
        },
        "xaxis6": {
         "anchor": "y6",
         "domain": [
          0.2625,
          0.475
         ],
         "gridcolor": "#E1E5ED",
         "showgrid": false,
         "tickfont": {
          "color": "#4D5663"
         },
         "title": {
          "font": {
           "color": "#4D5663"
          },
          "text": ""
         },
         "zerolinecolor": "#E1E5ED"
        },
        "xaxis7": {
         "anchor": "y7",
         "domain": [
          0.525,
          0.7375
         ],
         "gridcolor": "#E1E5ED",
         "showgrid": false,
         "tickfont": {
          "color": "#4D5663"
         },
         "title": {
          "font": {
           "color": "#4D5663"
          },
          "text": ""
         },
         "zerolinecolor": "#E1E5ED"
        },
        "xaxis8": {
         "anchor": "y8",
         "domain": [
          0.7875,
          1
         ],
         "gridcolor": "#E1E5ED",
         "showgrid": false,
         "tickfont": {
          "color": "#4D5663"
         },
         "title": {
          "font": {
           "color": "#4D5663"
          },
          "text": ""
         },
         "zerolinecolor": "#E1E5ED"
        },
        "xaxis9": {
         "anchor": "y9",
         "domain": [
          0,
          0.2125
         ],
         "gridcolor": "#E1E5ED",
         "showgrid": false,
         "tickfont": {
          "color": "#4D5663"
         },
         "title": {
          "font": {
           "color": "#4D5663"
          },
          "text": ""
         },
         "zerolinecolor": "#E1E5ED"
        },
        "yaxis": {
         "anchor": "x",
         "domain": [
          0.8025,
          1
         ],
         "gridcolor": "#E1E5ED",
         "showgrid": false,
         "tickfont": {
          "color": "#4D5663"
         },
         "title": {
          "font": {
           "color": "#4D5663"
          },
          "text": ""
         },
         "zerolinecolor": "#E1E5ED"
        },
        "yaxis10": {
         "anchor": "x10",
         "domain": [
          0.2675,
          0.465
         ],
         "gridcolor": "#E1E5ED",
         "showgrid": false,
         "tickfont": {
          "color": "#4D5663"
         },
         "title": {
          "font": {
           "color": "#4D5663"
          },
          "text": ""
         },
         "zerolinecolor": "#E1E5ED"
        },
        "yaxis11": {
         "anchor": "x11",
         "domain": [
          0.2675,
          0.465
         ],
         "gridcolor": "#E1E5ED",
         "showgrid": false,
         "tickfont": {
          "color": "#4D5663"
         },
         "title": {
          "font": {
           "color": "#4D5663"
          },
          "text": ""
         },
         "zerolinecolor": "#E1E5ED"
        },
        "yaxis12": {
         "anchor": "x12",
         "domain": [
          0.2675,
          0.465
         ],
         "gridcolor": "#E1E5ED",
         "showgrid": false,
         "tickfont": {
          "color": "#4D5663"
         },
         "title": {
          "font": {
           "color": "#4D5663"
          },
          "text": ""
         },
         "zerolinecolor": "#E1E5ED"
        },
        "yaxis13": {
         "anchor": "x13",
         "domain": [
          0,
          0.1975
         ],
         "gridcolor": "#E1E5ED",
         "showgrid": false,
         "tickfont": {
          "color": "#4D5663"
         },
         "title": {
          "font": {
           "color": "#4D5663"
          },
          "text": ""
         },
         "zerolinecolor": "#E1E5ED"
        },
        "yaxis14": {
         "anchor": "x14",
         "domain": [
          0,
          0.1975
         ],
         "gridcolor": "#E1E5ED",
         "showgrid": false,
         "tickfont": {
          "color": "#4D5663"
         },
         "title": {
          "font": {
           "color": "#4D5663"
          },
          "text": ""
         },
         "zerolinecolor": "#E1E5ED"
        },
        "yaxis15": {
         "anchor": "x15",
         "domain": [
          0,
          0.1975
         ],
         "gridcolor": "#E1E5ED",
         "showgrid": false,
         "tickfont": {
          "color": "#4D5663"
         },
         "title": {
          "font": {
           "color": "#4D5663"
          },
          "text": ""
         },
         "zerolinecolor": "#E1E5ED"
        },
        "yaxis16": {
         "anchor": "x16",
         "domain": [
          0,
          0.1975
         ],
         "gridcolor": "#E1E5ED",
         "showgrid": false,
         "tickfont": {
          "color": "#4D5663"
         },
         "title": {
          "font": {
           "color": "#4D5663"
          },
          "text": ""
         },
         "zerolinecolor": "#E1E5ED"
        },
        "yaxis2": {
         "anchor": "x2",
         "domain": [
          0.8025,
          1
         ],
         "gridcolor": "#E1E5ED",
         "showgrid": false,
         "tickfont": {
          "color": "#4D5663"
         },
         "title": {
          "font": {
           "color": "#4D5663"
          },
          "text": ""
         },
         "zerolinecolor": "#E1E5ED"
        },
        "yaxis3": {
         "anchor": "x3",
         "domain": [
          0.8025,
          1
         ],
         "gridcolor": "#E1E5ED",
         "showgrid": false,
         "tickfont": {
          "color": "#4D5663"
         },
         "title": {
          "font": {
           "color": "#4D5663"
          },
          "text": ""
         },
         "zerolinecolor": "#E1E5ED"
        },
        "yaxis4": {
         "anchor": "x4",
         "domain": [
          0.8025,
          1
         ],
         "gridcolor": "#E1E5ED",
         "showgrid": false,
         "tickfont": {
          "color": "#4D5663"
         },
         "title": {
          "font": {
           "color": "#4D5663"
          },
          "text": ""
         },
         "zerolinecolor": "#E1E5ED"
        },
        "yaxis5": {
         "anchor": "x5",
         "domain": [
          0.535,
          0.7325
         ],
         "gridcolor": "#E1E5ED",
         "showgrid": false,
         "tickfont": {
          "color": "#4D5663"
         },
         "title": {
          "font": {
           "color": "#4D5663"
          },
          "text": ""
         },
         "zerolinecolor": "#E1E5ED"
        },
        "yaxis6": {
         "anchor": "x6",
         "domain": [
          0.535,
          0.7325
         ],
         "gridcolor": "#E1E5ED",
         "showgrid": false,
         "tickfont": {
          "color": "#4D5663"
         },
         "title": {
          "font": {
           "color": "#4D5663"
          },
          "text": ""
         },
         "zerolinecolor": "#E1E5ED"
        },
        "yaxis7": {
         "anchor": "x7",
         "domain": [
          0.535,
          0.7325
         ],
         "gridcolor": "#E1E5ED",
         "showgrid": false,
         "tickfont": {
          "color": "#4D5663"
         },
         "title": {
          "font": {
           "color": "#4D5663"
          },
          "text": ""
         },
         "zerolinecolor": "#E1E5ED"
        },
        "yaxis8": {
         "anchor": "x8",
         "domain": [
          0.535,
          0.7325
         ],
         "gridcolor": "#E1E5ED",
         "showgrid": false,
         "tickfont": {
          "color": "#4D5663"
         },
         "title": {
          "font": {
           "color": "#4D5663"
          },
          "text": ""
         },
         "zerolinecolor": "#E1E5ED"
        },
        "yaxis9": {
         "anchor": "x9",
         "domain": [
          0.2675,
          0.465
         ],
         "gridcolor": "#E1E5ED",
         "showgrid": false,
         "tickfont": {
          "color": "#4D5663"
         },
         "title": {
          "font": {
           "color": "#4D5663"
          },
          "text": ""
         },
         "zerolinecolor": "#E1E5ED"
        }
       }
      },
      "text/html": [
       "<div>                            <div id=\"4b5ebb8a-5f25-4ac1-97e8-f9c255dd3c6c\" class=\"plotly-graph-div\" style=\"height:525px; width:100%;\"></div>            <script type=\"text/javascript\">                require([\"plotly\"], function(Plotly) {                    window.PLOTLYENV=window.PLOTLYENV || {};\n",
       "                    window.PLOTLYENV.BASE_URL='https://plot.ly';                                    if (document.getElementById(\"4b5ebb8a-5f25-4ac1-97e8-f9c255dd3c6c\")) {                    Plotly.newPlot(                        \"4b5ebb8a-5f25-4ac1-97e8-f9c255dd3c6c\",                        [{\"histfunc\":\"count\",\"histnorm\":\"\",\"marker\":{\"color\":\"rgba(255, 153, 51, 1.0)\",\"line\":{\"color\":\"#4D5663\",\"width\":1.3}},\"name\":\"A\",\"nbinsx\":10,\"opacity\":0.8,\"orientation\":\"v\",\"x\":[-0.5926298961513271,0.25673020586304807,-0.43782540602292713,1.0534689198889642,-0.9919513407195126,1.611767926213217,0.06330100258337129,-0.7794590258443483,1.3213895611178617,2.0428480315223823,1.3942054388325047,-1.0038641189563902,0.38499375800912655,0.43771904183757787,-0.03450546160271116,1.053234080805073,2.0397975570567692,0.385375865370009,1.7676509480340017,-0.6649155567520971,1.436288459640299,-0.4036051333866007,0.09260910325620314,-0.6542216569397591,1.4741915479685124,0.9051017853546715,-2.196271747394207,-0.11339517644243712,-0.4449131865951581,-0.22841259825041527,0.8679037688166911,-0.8281381473996741,-0.3197383644114914,-0.22840516815474368,2.853834584156512,0.6216999835149216,1.5240921155040292,-0.31203354460191196,0.08094205015951837,0.015646307251275072,1.7932205291927203,0.4653034182676237,1.1593511785630377,1.5737474570494507,1.1662651409043536,-0.13617317080506597,-1.6664432754952285,0.6658652654155452,-0.5158901261812123,-0.9417598894899648,0.5250610445322508,1.1998623089464961,-0.3229256151506854,-1.2920143018845127,-0.05205440705465112,0.26600301743930166,-0.9644056385681528,2.4529695305287142,2.713126831567635,0.23352598710271472,0.24763388006906298,-1.2243351213532416,0.41903421957586184,0.48867062808082373,-0.7861677504690421,-1.2514626078351387,0.21186021746577036,-0.06017875815427523,2.3055917858896997,-0.72211444002813,-0.12793695931512533,-0.007755887247505297,-1.0097227248055003,0.6030326691920733,-0.1739761026833534,0.7520083111574457,-0.5412741041067098,0.12309165184098429,0.7562849692392389,1.0348364759469733,-1.3908296564977056,-0.4406362876635684,0.574944055766053,-0.5819853653510465,0.881152636747594,0.07868416646062422,1.8226632065021642,-0.13719437995366995,1.1162581459854621,-0.7985545018909256,0.17241094898690948,0.2552260864441374,1.0605714157563813,0.5179693571027562,0.4155143057576676,1.4316485846465625,-0.7775443753105155,-1.063630020330371,-0.16289165324194577,-0.29531247931902405],\"xaxis\":\"x\",\"yaxis\":\"y\",\"type\":\"histogram\"},{\"line\":{\"color\":\"rgba(128, 128, 128, 1.0)\",\"dash\":\"solid\",\"shape\":\"linear\",\"width\":1.3},\"marker\":{\"size\":2,\"symbol\":\"circle\"},\"mode\":\"markers\",\"name\":\"A\",\"text\":\"\",\"x\":[-0.1157907510446745,0.4798485260848488,0.2942811047577971,0.7131066424167334,-0.614145259332274,1.3367013379768597,-0.3611519306104252,-0.22674171311266222,-0.7922763953214255,-1.912388440068962,2.94461710583469,0.7466399419377467,-0.5062250561740432,-0.6267758673924915,-0.5301364252727697,-1.1356102411393012,1.7097173351457045,-0.5982673480241042,0.632599712583573,-0.7191789918807273,-1.011913867593541,1.0862462490282248,1.1499817116204132,0.7121776705596654,-0.7249853951963967,-0.24484654770034245,-0.10946886787942355,0.9444906377964262,-0.03956551316859267,-1.1913735024463135,-0.963486275341088,-1.3533511104197,-0.10146602362529568,0.40726711160299367,-1.3279311786454684,0.08999558075822016,1.4193027223212058,0.8481711573298252,1.237710700172955,-0.9075402340794535,0.24104376712171527,-0.26683695105423477,0.5297046101182764,-0.5898451706324817,-0.46118554508543186,0.4438889661881818,-0.022849201447032792,0.6538508162804493,-0.8969955791054491,0.5151826075293686,-1.716075531842265,-1.2459443299216126,-0.39468032622605176,-0.594068760568758,1.1781478136671775,-1.0799218215036783,1.0329478909914607,0.2282708120345758,0.5740812637562833,0.998004452114102,-0.4240139456347152,1.5697362346573667,-2.301553062519039,-0.05564169983599276,-0.5750252875191277,0.36899773315170714,1.2352274250634883,-0.2760983305352888,-1.1315843014714326,0.47160626469032957,0.6224993997445093,0.3056078012612184,0.3565127710229608,0.16192329536141162,-0.4482276412402648,-0.255341393719222,2.731094066424876,-0.3509008449363998,0.7562307284894754,0.307461984745654,-0.028086364160419496,0.3078805805283829,0.2717827333298244,-0.21005022861881803,0.15616678270870996,-0.5508037116094993,-0.8595019402724217,-1.1811403903781978,-1.1051152466130356,0.18553196417980916,0.625579015927619,-0.6408948128706429,-0.12432769691673103,-1.0699306999590428,0.26771926977846544,0.8026332176389065,1.80141470610895,-1.873013331107765,0.9099007759609501,-1.4396917779942568],\"xaxis\":\"x2\",\"y\":[-0.5926298961513271,0.25673020586304807,-0.43782540602292713,1.0534689198889642,-0.9919513407195126,1.611767926213217,0.06330100258337129,-0.7794590258443483,1.3213895611178617,2.0428480315223823,1.3942054388325047,-1.0038641189563902,0.38499375800912655,0.43771904183757787,-0.03450546160271116,1.053234080805073,2.0397975570567692,0.385375865370009,1.7676509480340017,-0.6649155567520971,1.436288459640299,-0.4036051333866007,0.09260910325620314,-0.6542216569397591,1.4741915479685124,0.9051017853546715,-2.196271747394207,-0.11339517644243712,-0.4449131865951581,-0.22841259825041527,0.8679037688166911,-0.8281381473996741,-0.3197383644114914,-0.22840516815474368,2.853834584156512,0.6216999835149216,1.5240921155040292,-0.31203354460191196,0.08094205015951837,0.015646307251275072,1.7932205291927203,0.4653034182676237,1.1593511785630377,1.5737474570494507,1.1662651409043536,-0.13617317080506597,-1.6664432754952285,0.6658652654155452,-0.5158901261812123,-0.9417598894899648,0.5250610445322508,1.1998623089464961,-0.3229256151506854,-1.2920143018845127,-0.05205440705465112,0.26600301743930166,-0.9644056385681528,2.4529695305287142,2.713126831567635,0.23352598710271472,0.24763388006906298,-1.2243351213532416,0.41903421957586184,0.48867062808082373,-0.7861677504690421,-1.2514626078351387,0.21186021746577036,-0.06017875815427523,2.3055917858896997,-0.72211444002813,-0.12793695931512533,-0.007755887247505297,-1.0097227248055003,0.6030326691920733,-0.1739761026833534,0.7520083111574457,-0.5412741041067098,0.12309165184098429,0.7562849692392389,1.0348364759469733,-1.3908296564977056,-0.4406362876635684,0.574944055766053,-0.5819853653510465,0.881152636747594,0.07868416646062422,1.8226632065021642,-0.13719437995366995,1.1162581459854621,-0.7985545018909256,0.17241094898690948,0.2552260864441374,1.0605714157563813,0.5179693571027562,0.4155143057576676,1.4316485846465625,-0.7775443753105155,-1.063630020330371,-0.16289165324194577,-0.29531247931902405],\"yaxis\":\"y2\",\"type\":\"scatter\"},{\"line\":{\"color\":\"rgba(128, 128, 128, 1.0)\",\"dash\":\"solid\",\"shape\":\"linear\",\"width\":1.3},\"marker\":{\"size\":2,\"symbol\":\"circle\"},\"mode\":\"markers\",\"name\":\"A\",\"text\":\"\",\"x\":[-0.5329383118117111,0.557158984686362,-0.7773784640077513,0.4502948550666474,1.0138880505622996,0.8643796572088078,1.403327846853929,0.17662681793324203,-0.9256916191776521,0.11113838946336113,-0.5003135852854012,-1.4373836749538296,0.004390886289931718,0.5052863861856433,1.0398284942816312,0.4700021219352897,1.2942516711557286,0.4562530916282091,0.4867757023349144,0.5251023387128786,1.366687500871755,0.7341868934647509,-0.7406234269138862,1.7902580011984228,-0.052280405347552884,-1.2994890823643053,-0.03998407812874461,0.2409334336633333,-1.1431901553946213,-1.3375003089870747,0.21267439088163337,-0.3727133338594834,-1.7432581570902688,1.1140649602434551,0.11880631666273851,-2.009441502210672,-0.5510243805032415,-0.3965855723196719,-0.9207409303162719,-1.0943443758622298,0.2763122759552882,-1.5883444069275798,-1.0330063980789108,0.5362525437628567,0.1411710405785407,-0.38437445757092265,1.3919900976151998,0.9517151174256139,-1.1901950141859108,-0.14189555170734033,0.5968986628418939,-0.5005443285631248,1.416423978087898,0.1431483587824421,3.4124450680223752,-0.06761336436845361,0.8701406858782743,-1.5729354220756329,-1.5239639144707235,-0.35001468782544215,-0.3141329650511141,1.289147141353759,0.6571940529834378,0.12691583464319822,-0.35819019671388636,0.3512140322402031,-1.570650531955033,1.6844680221586628,-1.138982064296053,-0.0669494830020375,0.10910710717061158,0.4366525495605837,0.031831925732240654,0.7073775791321979,0.26398938042263326,1.65842532898978,1.1225040754670954,2.1251585555550387,-0.2210800855085304,-0.580723734930385,0.6749862640274892,-0.3248229431990396,0.8908237137126089,0.38853005247553696,-0.008631663873746373,1.1576062810456162,-2.5163976663842575,-0.3794418799086721,-1.3282923544858762,-2.0459800517490567,-0.3781167481915554,-0.026801909417827462,-0.3209689443383593,-1.255685088054047,2.753703318492102,1.5388188394422968,-1.479870267117127,0.39163662921207093,-0.48390531047703966,0.7573644209629506],\"xaxis\":\"x3\",\"y\":[-0.5926298961513271,0.25673020586304807,-0.43782540602292713,1.0534689198889642,-0.9919513407195126,1.611767926213217,0.06330100258337129,-0.7794590258443483,1.3213895611178617,2.0428480315223823,1.3942054388325047,-1.0038641189563902,0.38499375800912655,0.43771904183757787,-0.03450546160271116,1.053234080805073,2.0397975570567692,0.385375865370009,1.7676509480340017,-0.6649155567520971,1.436288459640299,-0.4036051333866007,0.09260910325620314,-0.6542216569397591,1.4741915479685124,0.9051017853546715,-2.196271747394207,-0.11339517644243712,-0.4449131865951581,-0.22841259825041527,0.8679037688166911,-0.8281381473996741,-0.3197383644114914,-0.22840516815474368,2.853834584156512,0.6216999835149216,1.5240921155040292,-0.31203354460191196,0.08094205015951837,0.015646307251275072,1.7932205291927203,0.4653034182676237,1.1593511785630377,1.5737474570494507,1.1662651409043536,-0.13617317080506597,-1.6664432754952285,0.6658652654155452,-0.5158901261812123,-0.9417598894899648,0.5250610445322508,1.1998623089464961,-0.3229256151506854,-1.2920143018845127,-0.05205440705465112,0.26600301743930166,-0.9644056385681528,2.4529695305287142,2.713126831567635,0.23352598710271472,0.24763388006906298,-1.2243351213532416,0.41903421957586184,0.48867062808082373,-0.7861677504690421,-1.2514626078351387,0.21186021746577036,-0.06017875815427523,2.3055917858896997,-0.72211444002813,-0.12793695931512533,-0.007755887247505297,-1.0097227248055003,0.6030326691920733,-0.1739761026833534,0.7520083111574457,-0.5412741041067098,0.12309165184098429,0.7562849692392389,1.0348364759469733,-1.3908296564977056,-0.4406362876635684,0.574944055766053,-0.5819853653510465,0.881152636747594,0.07868416646062422,1.8226632065021642,-0.13719437995366995,1.1162581459854621,-0.7985545018909256,0.17241094898690948,0.2552260864441374,1.0605714157563813,0.5179693571027562,0.4155143057576676,1.4316485846465625,-0.7775443753105155,-1.063630020330371,-0.16289165324194577,-0.29531247931902405],\"yaxis\":\"y3\",\"type\":\"scatter\"},{\"line\":{\"color\":\"rgba(128, 128, 128, 1.0)\",\"dash\":\"solid\",\"shape\":\"linear\",\"width\":1.3},\"marker\":{\"size\":2,\"symbol\":\"circle\"},\"mode\":\"markers\",\"name\":\"A\",\"text\":\"\",\"x\":[-0.2193839724920814,0.03673834097851173,0.987799585989557,-0.45680697868842046,0.7271098863401266,0.30329210727865613,-0.26712978821937444,1.0095723743385,-0.4228909507045194,0.3075892397528451,0.9489828485601433,-0.22451513255242508,-1.1107116681174418,0.7680108676987024,-0.11630608147155315,0.29093326534482966,1.9542889849467535,1.1110135911541346,-2.3296160711306944,0.02187744257320405,-0.6629555946608392,-0.4928989052670513,-0.8759945384540662,0.6922627648086038,1.1262086084701817,1.9691467010080486,1.3741557642209405,-1.3713246219745756,-0.1836866932419942,1.043777373642293,1.1171414932728372,-0.8483544586416497,0.5475171172834119,0.22746681771477958,-0.6308476174813245,-0.09854811827025602,0.022769378814638853,-0.4487986629320674,-0.9034597245484658,-0.6378949254903331,-0.4492768708891525,1.0555579449603434,-0.11470394720695867,-0.14609532264882724,-0.3802579048952034,2.1033300796058008,-0.07835629365401076,0.255763285824464,-1.0829429872566125,-0.5984508218594459,0.2988305135551518,0.7610733152132845,-0.15331145876966712,-1.0899092691503058,0.6887506413586928,0.09057229714387154,-0.1831544794728409,-0.23219247443813748,1.0850595737659272,0.7079347962395922,0.9239648370430716,0.5752666639473206,-0.0782466539059608,-0.5751549927849406,0.30293306177254614,-1.6128733507367412,0.954161956224829,0.35331662927665525,0.4867032255124756,-1.4425153880296329,-2.439129093983263,1.300863150160351,-1.2320162675360742,-0.17352268024345233,-0.3202322874932672,-0.35092980882229036,0.5275550115628105,1.7884140357936633,3.1450296067129244,-0.5314874202448286,-2.064718091313124,0.9534673941924888,-0.040331506354160544,-0.6352729350658008,-0.06096951786361323,0.5609324550321262,0.3574741859411366,-1.7928844510806905,-0.033542057166446475,-1.412194137336305,-0.12324110708590304,-0.553675978465696,0.7324784603482485,-0.250450527950122,0.3814857723717101,0.0693795153937473,1.2127267520325036,0.31639856434337044,-0.16116887362125037,0.7714979567097996],\"xaxis\":\"x4\",\"y\":[-0.5926298961513271,0.25673020586304807,-0.43782540602292713,1.0534689198889642,-0.9919513407195126,1.611767926213217,0.06330100258337129,-0.7794590258443483,1.3213895611178617,2.0428480315223823,1.3942054388325047,-1.0038641189563902,0.38499375800912655,0.43771904183757787,-0.03450546160271116,1.053234080805073,2.0397975570567692,0.385375865370009,1.7676509480340017,-0.6649155567520971,1.436288459640299,-0.4036051333866007,0.09260910325620314,-0.6542216569397591,1.4741915479685124,0.9051017853546715,-2.196271747394207,-0.11339517644243712,-0.4449131865951581,-0.22841259825041527,0.8679037688166911,-0.8281381473996741,-0.3197383644114914,-0.22840516815474368,2.853834584156512,0.6216999835149216,1.5240921155040292,-0.31203354460191196,0.08094205015951837,0.015646307251275072,1.7932205291927203,0.4653034182676237,1.1593511785630377,1.5737474570494507,1.1662651409043536,-0.13617317080506597,-1.6664432754952285,0.6658652654155452,-0.5158901261812123,-0.9417598894899648,0.5250610445322508,1.1998623089464961,-0.3229256151506854,-1.2920143018845127,-0.05205440705465112,0.26600301743930166,-0.9644056385681528,2.4529695305287142,2.713126831567635,0.23352598710271472,0.24763388006906298,-1.2243351213532416,0.41903421957586184,0.48867062808082373,-0.7861677504690421,-1.2514626078351387,0.21186021746577036,-0.06017875815427523,2.3055917858896997,-0.72211444002813,-0.12793695931512533,-0.007755887247505297,-1.0097227248055003,0.6030326691920733,-0.1739761026833534,0.7520083111574457,-0.5412741041067098,0.12309165184098429,0.7562849692392389,1.0348364759469733,-1.3908296564977056,-0.4406362876635684,0.574944055766053,-0.5819853653510465,0.881152636747594,0.07868416646062422,1.8226632065021642,-0.13719437995366995,1.1162581459854621,-0.7985545018909256,0.17241094898690948,0.2552260864441374,1.0605714157563813,0.5179693571027562,0.4155143057576676,1.4316485846465625,-0.7775443753105155,-1.063630020330371,-0.16289165324194577,-0.29531247931902405],\"yaxis\":\"y4\",\"type\":\"scatter\"},{\"line\":{\"color\":\"rgba(128, 128, 128, 1.0)\",\"dash\":\"solid\",\"shape\":\"linear\",\"width\":1.3},\"marker\":{\"size\":2,\"symbol\":\"circle\"},\"mode\":\"markers\",\"name\":\"B\",\"text\":\"\",\"x\":[-0.5926298961513271,0.25673020586304807,-0.43782540602292713,1.0534689198889642,-0.9919513407195126,1.611767926213217,0.06330100258337129,-0.7794590258443483,1.3213895611178617,2.0428480315223823,1.3942054388325047,-1.0038641189563902,0.38499375800912655,0.43771904183757787,-0.03450546160271116,1.053234080805073,2.0397975570567692,0.385375865370009,1.7676509480340017,-0.6649155567520971,1.436288459640299,-0.4036051333866007,0.09260910325620314,-0.6542216569397591,1.4741915479685124,0.9051017853546715,-2.196271747394207,-0.11339517644243712,-0.4449131865951581,-0.22841259825041527,0.8679037688166911,-0.8281381473996741,-0.3197383644114914,-0.22840516815474368,2.853834584156512,0.6216999835149216,1.5240921155040292,-0.31203354460191196,0.08094205015951837,0.015646307251275072,1.7932205291927203,0.4653034182676237,1.1593511785630377,1.5737474570494507,1.1662651409043536,-0.13617317080506597,-1.6664432754952285,0.6658652654155452,-0.5158901261812123,-0.9417598894899648,0.5250610445322508,1.1998623089464961,-0.3229256151506854,-1.2920143018845127,-0.05205440705465112,0.26600301743930166,-0.9644056385681528,2.4529695305287142,2.713126831567635,0.23352598710271472,0.24763388006906298,-1.2243351213532416,0.41903421957586184,0.48867062808082373,-0.7861677504690421,-1.2514626078351387,0.21186021746577036,-0.06017875815427523,2.3055917858896997,-0.72211444002813,-0.12793695931512533,-0.007755887247505297,-1.0097227248055003,0.6030326691920733,-0.1739761026833534,0.7520083111574457,-0.5412741041067098,0.12309165184098429,0.7562849692392389,1.0348364759469733,-1.3908296564977056,-0.4406362876635684,0.574944055766053,-0.5819853653510465,0.881152636747594,0.07868416646062422,1.8226632065021642,-0.13719437995366995,1.1162581459854621,-0.7985545018909256,0.17241094898690948,0.2552260864441374,1.0605714157563813,0.5179693571027562,0.4155143057576676,1.4316485846465625,-0.7775443753105155,-1.063630020330371,-0.16289165324194577,-0.29531247931902405],\"xaxis\":\"x5\",\"y\":[-0.1157907510446745,0.4798485260848488,0.2942811047577971,0.7131066424167334,-0.614145259332274,1.3367013379768597,-0.3611519306104252,-0.22674171311266222,-0.7922763953214255,-1.912388440068962,2.94461710583469,0.7466399419377467,-0.5062250561740432,-0.6267758673924915,-0.5301364252727697,-1.1356102411393012,1.7097173351457045,-0.5982673480241042,0.632599712583573,-0.7191789918807273,-1.011913867593541,1.0862462490282248,1.1499817116204132,0.7121776705596654,-0.7249853951963967,-0.24484654770034245,-0.10946886787942355,0.9444906377964262,-0.03956551316859267,-1.1913735024463135,-0.963486275341088,-1.3533511104197,-0.10146602362529568,0.40726711160299367,-1.3279311786454684,0.08999558075822016,1.4193027223212058,0.8481711573298252,1.237710700172955,-0.9075402340794535,0.24104376712171527,-0.26683695105423477,0.5297046101182764,-0.5898451706324817,-0.46118554508543186,0.4438889661881818,-0.022849201447032792,0.6538508162804493,-0.8969955791054491,0.5151826075293686,-1.716075531842265,-1.2459443299216126,-0.39468032622605176,-0.594068760568758,1.1781478136671775,-1.0799218215036783,1.0329478909914607,0.2282708120345758,0.5740812637562833,0.998004452114102,-0.4240139456347152,1.5697362346573667,-2.301553062519039,-0.05564169983599276,-0.5750252875191277,0.36899773315170714,1.2352274250634883,-0.2760983305352888,-1.1315843014714326,0.47160626469032957,0.6224993997445093,0.3056078012612184,0.3565127710229608,0.16192329536141162,-0.4482276412402648,-0.255341393719222,2.731094066424876,-0.3509008449363998,0.7562307284894754,0.307461984745654,-0.028086364160419496,0.3078805805283829,0.2717827333298244,-0.21005022861881803,0.15616678270870996,-0.5508037116094993,-0.8595019402724217,-1.1811403903781978,-1.1051152466130356,0.18553196417980916,0.625579015927619,-0.6408948128706429,-0.12432769691673103,-1.0699306999590428,0.26771926977846544,0.8026332176389065,1.80141470610895,-1.873013331107765,0.9099007759609501,-1.4396917779942568],\"yaxis\":\"y5\",\"type\":\"scatter\"},{\"histfunc\":\"count\",\"histnorm\":\"\",\"marker\":{\"color\":\"rgba(55, 128, 191, 1.0)\",\"line\":{\"color\":\"#4D5663\",\"width\":1.3}},\"name\":\"B\",\"nbinsx\":10,\"opacity\":0.8,\"orientation\":\"v\",\"x\":[-0.1157907510446745,0.4798485260848488,0.2942811047577971,0.7131066424167334,-0.614145259332274,1.3367013379768597,-0.3611519306104252,-0.22674171311266222,-0.7922763953214255,-1.912388440068962,2.94461710583469,0.7466399419377467,-0.5062250561740432,-0.6267758673924915,-0.5301364252727697,-1.1356102411393012,1.7097173351457045,-0.5982673480241042,0.632599712583573,-0.7191789918807273,-1.011913867593541,1.0862462490282248,1.1499817116204132,0.7121776705596654,-0.7249853951963967,-0.24484654770034245,-0.10946886787942355,0.9444906377964262,-0.03956551316859267,-1.1913735024463135,-0.963486275341088,-1.3533511104197,-0.10146602362529568,0.40726711160299367,-1.3279311786454684,0.08999558075822016,1.4193027223212058,0.8481711573298252,1.237710700172955,-0.9075402340794535,0.24104376712171527,-0.26683695105423477,0.5297046101182764,-0.5898451706324817,-0.46118554508543186,0.4438889661881818,-0.022849201447032792,0.6538508162804493,-0.8969955791054491,0.5151826075293686,-1.716075531842265,-1.2459443299216126,-0.39468032622605176,-0.594068760568758,1.1781478136671775,-1.0799218215036783,1.0329478909914607,0.2282708120345758,0.5740812637562833,0.998004452114102,-0.4240139456347152,1.5697362346573667,-2.301553062519039,-0.05564169983599276,-0.5750252875191277,0.36899773315170714,1.2352274250634883,-0.2760983305352888,-1.1315843014714326,0.47160626469032957,0.6224993997445093,0.3056078012612184,0.3565127710229608,0.16192329536141162,-0.4482276412402648,-0.255341393719222,2.731094066424876,-0.3509008449363998,0.7562307284894754,0.307461984745654,-0.028086364160419496,0.3078805805283829,0.2717827333298244,-0.21005022861881803,0.15616678270870996,-0.5508037116094993,-0.8595019402724217,-1.1811403903781978,-1.1051152466130356,0.18553196417980916,0.625579015927619,-0.6408948128706429,-0.12432769691673103,-1.0699306999590428,0.26771926977846544,0.8026332176389065,1.80141470610895,-1.873013331107765,0.9099007759609501,-1.4396917779942568],\"xaxis\":\"x6\",\"yaxis\":\"y6\",\"type\":\"histogram\"},{\"line\":{\"color\":\"rgba(128, 128, 128, 1.0)\",\"dash\":\"solid\",\"shape\":\"linear\",\"width\":1.3},\"marker\":{\"size\":2,\"symbol\":\"circle\"},\"mode\":\"markers\",\"name\":\"B\",\"text\":\"\",\"x\":[-0.5329383118117111,0.557158984686362,-0.7773784640077513,0.4502948550666474,1.0138880505622996,0.8643796572088078,1.403327846853929,0.17662681793324203,-0.9256916191776521,0.11113838946336113,-0.5003135852854012,-1.4373836749538296,0.004390886289931718,0.5052863861856433,1.0398284942816312,0.4700021219352897,1.2942516711557286,0.4562530916282091,0.4867757023349144,0.5251023387128786,1.366687500871755,0.7341868934647509,-0.7406234269138862,1.7902580011984228,-0.052280405347552884,-1.2994890823643053,-0.03998407812874461,0.2409334336633333,-1.1431901553946213,-1.3375003089870747,0.21267439088163337,-0.3727133338594834,-1.7432581570902688,1.1140649602434551,0.11880631666273851,-2.009441502210672,-0.5510243805032415,-0.3965855723196719,-0.9207409303162719,-1.0943443758622298,0.2763122759552882,-1.5883444069275798,-1.0330063980789108,0.5362525437628567,0.1411710405785407,-0.38437445757092265,1.3919900976151998,0.9517151174256139,-1.1901950141859108,-0.14189555170734033,0.5968986628418939,-0.5005443285631248,1.416423978087898,0.1431483587824421,3.4124450680223752,-0.06761336436845361,0.8701406858782743,-1.5729354220756329,-1.5239639144707235,-0.35001468782544215,-0.3141329650511141,1.289147141353759,0.6571940529834378,0.12691583464319822,-0.35819019671388636,0.3512140322402031,-1.570650531955033,1.6844680221586628,-1.138982064296053,-0.0669494830020375,0.10910710717061158,0.4366525495605837,0.031831925732240654,0.7073775791321979,0.26398938042263326,1.65842532898978,1.1225040754670954,2.1251585555550387,-0.2210800855085304,-0.580723734930385,0.6749862640274892,-0.3248229431990396,0.8908237137126089,0.38853005247553696,-0.008631663873746373,1.1576062810456162,-2.5163976663842575,-0.3794418799086721,-1.3282923544858762,-2.0459800517490567,-0.3781167481915554,-0.026801909417827462,-0.3209689443383593,-1.255685088054047,2.753703318492102,1.5388188394422968,-1.479870267117127,0.39163662921207093,-0.48390531047703966,0.7573644209629506],\"xaxis\":\"x7\",\"y\":[-0.1157907510446745,0.4798485260848488,0.2942811047577971,0.7131066424167334,-0.614145259332274,1.3367013379768597,-0.3611519306104252,-0.22674171311266222,-0.7922763953214255,-1.912388440068962,2.94461710583469,0.7466399419377467,-0.5062250561740432,-0.6267758673924915,-0.5301364252727697,-1.1356102411393012,1.7097173351457045,-0.5982673480241042,0.632599712583573,-0.7191789918807273,-1.011913867593541,1.0862462490282248,1.1499817116204132,0.7121776705596654,-0.7249853951963967,-0.24484654770034245,-0.10946886787942355,0.9444906377964262,-0.03956551316859267,-1.1913735024463135,-0.963486275341088,-1.3533511104197,-0.10146602362529568,0.40726711160299367,-1.3279311786454684,0.08999558075822016,1.4193027223212058,0.8481711573298252,1.237710700172955,-0.9075402340794535,0.24104376712171527,-0.26683695105423477,0.5297046101182764,-0.5898451706324817,-0.46118554508543186,0.4438889661881818,-0.022849201447032792,0.6538508162804493,-0.8969955791054491,0.5151826075293686,-1.716075531842265,-1.2459443299216126,-0.39468032622605176,-0.594068760568758,1.1781478136671775,-1.0799218215036783,1.0329478909914607,0.2282708120345758,0.5740812637562833,0.998004452114102,-0.4240139456347152,1.5697362346573667,-2.301553062519039,-0.05564169983599276,-0.5750252875191277,0.36899773315170714,1.2352274250634883,-0.2760983305352888,-1.1315843014714326,0.47160626469032957,0.6224993997445093,0.3056078012612184,0.3565127710229608,0.16192329536141162,-0.4482276412402648,-0.255341393719222,2.731094066424876,-0.3509008449363998,0.7562307284894754,0.307461984745654,-0.028086364160419496,0.3078805805283829,0.2717827333298244,-0.21005022861881803,0.15616678270870996,-0.5508037116094993,-0.8595019402724217,-1.1811403903781978,-1.1051152466130356,0.18553196417980916,0.625579015927619,-0.6408948128706429,-0.12432769691673103,-1.0699306999590428,0.26771926977846544,0.8026332176389065,1.80141470610895,-1.873013331107765,0.9099007759609501,-1.4396917779942568],\"yaxis\":\"y7\",\"type\":\"scatter\"},{\"line\":{\"color\":\"rgba(128, 128, 128, 1.0)\",\"dash\":\"solid\",\"shape\":\"linear\",\"width\":1.3},\"marker\":{\"size\":2,\"symbol\":\"circle\"},\"mode\":\"markers\",\"name\":\"B\",\"text\":\"\",\"x\":[-0.2193839724920814,0.03673834097851173,0.987799585989557,-0.45680697868842046,0.7271098863401266,0.30329210727865613,-0.26712978821937444,1.0095723743385,-0.4228909507045194,0.3075892397528451,0.9489828485601433,-0.22451513255242508,-1.1107116681174418,0.7680108676987024,-0.11630608147155315,0.29093326534482966,1.9542889849467535,1.1110135911541346,-2.3296160711306944,0.02187744257320405,-0.6629555946608392,-0.4928989052670513,-0.8759945384540662,0.6922627648086038,1.1262086084701817,1.9691467010080486,1.3741557642209405,-1.3713246219745756,-0.1836866932419942,1.043777373642293,1.1171414932728372,-0.8483544586416497,0.5475171172834119,0.22746681771477958,-0.6308476174813245,-0.09854811827025602,0.022769378814638853,-0.4487986629320674,-0.9034597245484658,-0.6378949254903331,-0.4492768708891525,1.0555579449603434,-0.11470394720695867,-0.14609532264882724,-0.3802579048952034,2.1033300796058008,-0.07835629365401076,0.255763285824464,-1.0829429872566125,-0.5984508218594459,0.2988305135551518,0.7610733152132845,-0.15331145876966712,-1.0899092691503058,0.6887506413586928,0.09057229714387154,-0.1831544794728409,-0.23219247443813748,1.0850595737659272,0.7079347962395922,0.9239648370430716,0.5752666639473206,-0.0782466539059608,-0.5751549927849406,0.30293306177254614,-1.6128733507367412,0.954161956224829,0.35331662927665525,0.4867032255124756,-1.4425153880296329,-2.439129093983263,1.300863150160351,-1.2320162675360742,-0.17352268024345233,-0.3202322874932672,-0.35092980882229036,0.5275550115628105,1.7884140357936633,3.1450296067129244,-0.5314874202448286,-2.064718091313124,0.9534673941924888,-0.040331506354160544,-0.6352729350658008,-0.06096951786361323,0.5609324550321262,0.3574741859411366,-1.7928844510806905,-0.033542057166446475,-1.412194137336305,-0.12324110708590304,-0.553675978465696,0.7324784603482485,-0.250450527950122,0.3814857723717101,0.0693795153937473,1.2127267520325036,0.31639856434337044,-0.16116887362125037,0.7714979567097996],\"xaxis\":\"x8\",\"y\":[-0.1157907510446745,0.4798485260848488,0.2942811047577971,0.7131066424167334,-0.614145259332274,1.3367013379768597,-0.3611519306104252,-0.22674171311266222,-0.7922763953214255,-1.912388440068962,2.94461710583469,0.7466399419377467,-0.5062250561740432,-0.6267758673924915,-0.5301364252727697,-1.1356102411393012,1.7097173351457045,-0.5982673480241042,0.632599712583573,-0.7191789918807273,-1.011913867593541,1.0862462490282248,1.1499817116204132,0.7121776705596654,-0.7249853951963967,-0.24484654770034245,-0.10946886787942355,0.9444906377964262,-0.03956551316859267,-1.1913735024463135,-0.963486275341088,-1.3533511104197,-0.10146602362529568,0.40726711160299367,-1.3279311786454684,0.08999558075822016,1.4193027223212058,0.8481711573298252,1.237710700172955,-0.9075402340794535,0.24104376712171527,-0.26683695105423477,0.5297046101182764,-0.5898451706324817,-0.46118554508543186,0.4438889661881818,-0.022849201447032792,0.6538508162804493,-0.8969955791054491,0.5151826075293686,-1.716075531842265,-1.2459443299216126,-0.39468032622605176,-0.594068760568758,1.1781478136671775,-1.0799218215036783,1.0329478909914607,0.2282708120345758,0.5740812637562833,0.998004452114102,-0.4240139456347152,1.5697362346573667,-2.301553062519039,-0.05564169983599276,-0.5750252875191277,0.36899773315170714,1.2352274250634883,-0.2760983305352888,-1.1315843014714326,0.47160626469032957,0.6224993997445093,0.3056078012612184,0.3565127710229608,0.16192329536141162,-0.4482276412402648,-0.255341393719222,2.731094066424876,-0.3509008449363998,0.7562307284894754,0.307461984745654,-0.028086364160419496,0.3078805805283829,0.2717827333298244,-0.21005022861881803,0.15616678270870996,-0.5508037116094993,-0.8595019402724217,-1.1811403903781978,-1.1051152466130356,0.18553196417980916,0.625579015927619,-0.6408948128706429,-0.12432769691673103,-1.0699306999590428,0.26771926977846544,0.8026332176389065,1.80141470610895,-1.873013331107765,0.9099007759609501,-1.4396917779942568],\"yaxis\":\"y8\",\"type\":\"scatter\"},{\"line\":{\"color\":\"rgba(128, 128, 128, 1.0)\",\"dash\":\"solid\",\"shape\":\"linear\",\"width\":1.3},\"marker\":{\"size\":2,\"symbol\":\"circle\"},\"mode\":\"markers\",\"name\":\"C\",\"text\":\"\",\"x\":[-0.5926298961513271,0.25673020586304807,-0.43782540602292713,1.0534689198889642,-0.9919513407195126,1.611767926213217,0.06330100258337129,-0.7794590258443483,1.3213895611178617,2.0428480315223823,1.3942054388325047,-1.0038641189563902,0.38499375800912655,0.43771904183757787,-0.03450546160271116,1.053234080805073,2.0397975570567692,0.385375865370009,1.7676509480340017,-0.6649155567520971,1.436288459640299,-0.4036051333866007,0.09260910325620314,-0.6542216569397591,1.4741915479685124,0.9051017853546715,-2.196271747394207,-0.11339517644243712,-0.4449131865951581,-0.22841259825041527,0.8679037688166911,-0.8281381473996741,-0.3197383644114914,-0.22840516815474368,2.853834584156512,0.6216999835149216,1.5240921155040292,-0.31203354460191196,0.08094205015951837,0.015646307251275072,1.7932205291927203,0.4653034182676237,1.1593511785630377,1.5737474570494507,1.1662651409043536,-0.13617317080506597,-1.6664432754952285,0.6658652654155452,-0.5158901261812123,-0.9417598894899648,0.5250610445322508,1.1998623089464961,-0.3229256151506854,-1.2920143018845127,-0.05205440705465112,0.26600301743930166,-0.9644056385681528,2.4529695305287142,2.713126831567635,0.23352598710271472,0.24763388006906298,-1.2243351213532416,0.41903421957586184,0.48867062808082373,-0.7861677504690421,-1.2514626078351387,0.21186021746577036,-0.06017875815427523,2.3055917858896997,-0.72211444002813,-0.12793695931512533,-0.007755887247505297,-1.0097227248055003,0.6030326691920733,-0.1739761026833534,0.7520083111574457,-0.5412741041067098,0.12309165184098429,0.7562849692392389,1.0348364759469733,-1.3908296564977056,-0.4406362876635684,0.574944055766053,-0.5819853653510465,0.881152636747594,0.07868416646062422,1.8226632065021642,-0.13719437995366995,1.1162581459854621,-0.7985545018909256,0.17241094898690948,0.2552260864441374,1.0605714157563813,0.5179693571027562,0.4155143057576676,1.4316485846465625,-0.7775443753105155,-1.063630020330371,-0.16289165324194577,-0.29531247931902405],\"xaxis\":\"x9\",\"y\":[-0.5329383118117111,0.557158984686362,-0.7773784640077513,0.4502948550666474,1.0138880505622996,0.8643796572088078,1.403327846853929,0.17662681793324203,-0.9256916191776521,0.11113838946336113,-0.5003135852854012,-1.4373836749538296,0.004390886289931718,0.5052863861856433,1.0398284942816312,0.4700021219352897,1.2942516711557286,0.4562530916282091,0.4867757023349144,0.5251023387128786,1.366687500871755,0.7341868934647509,-0.7406234269138862,1.7902580011984228,-0.052280405347552884,-1.2994890823643053,-0.03998407812874461,0.2409334336633333,-1.1431901553946213,-1.3375003089870747,0.21267439088163337,-0.3727133338594834,-1.7432581570902688,1.1140649602434551,0.11880631666273851,-2.009441502210672,-0.5510243805032415,-0.3965855723196719,-0.9207409303162719,-1.0943443758622298,0.2763122759552882,-1.5883444069275798,-1.0330063980789108,0.5362525437628567,0.1411710405785407,-0.38437445757092265,1.3919900976151998,0.9517151174256139,-1.1901950141859108,-0.14189555170734033,0.5968986628418939,-0.5005443285631248,1.416423978087898,0.1431483587824421,3.4124450680223752,-0.06761336436845361,0.8701406858782743,-1.5729354220756329,-1.5239639144707235,-0.35001468782544215,-0.3141329650511141,1.289147141353759,0.6571940529834378,0.12691583464319822,-0.35819019671388636,0.3512140322402031,-1.570650531955033,1.6844680221586628,-1.138982064296053,-0.0669494830020375,0.10910710717061158,0.4366525495605837,0.031831925732240654,0.7073775791321979,0.26398938042263326,1.65842532898978,1.1225040754670954,2.1251585555550387,-0.2210800855085304,-0.580723734930385,0.6749862640274892,-0.3248229431990396,0.8908237137126089,0.38853005247553696,-0.008631663873746373,1.1576062810456162,-2.5163976663842575,-0.3794418799086721,-1.3282923544858762,-2.0459800517490567,-0.3781167481915554,-0.026801909417827462,-0.3209689443383593,-1.255685088054047,2.753703318492102,1.5388188394422968,-1.479870267117127,0.39163662921207093,-0.48390531047703966,0.7573644209629506],\"yaxis\":\"y9\",\"type\":\"scatter\"},{\"line\":{\"color\":\"rgba(128, 128, 128, 1.0)\",\"dash\":\"solid\",\"shape\":\"linear\",\"width\":1.3},\"marker\":{\"size\":2,\"symbol\":\"circle\"},\"mode\":\"markers\",\"name\":\"C\",\"text\":\"\",\"x\":[-0.1157907510446745,0.4798485260848488,0.2942811047577971,0.7131066424167334,-0.614145259332274,1.3367013379768597,-0.3611519306104252,-0.22674171311266222,-0.7922763953214255,-1.912388440068962,2.94461710583469,0.7466399419377467,-0.5062250561740432,-0.6267758673924915,-0.5301364252727697,-1.1356102411393012,1.7097173351457045,-0.5982673480241042,0.632599712583573,-0.7191789918807273,-1.011913867593541,1.0862462490282248,1.1499817116204132,0.7121776705596654,-0.7249853951963967,-0.24484654770034245,-0.10946886787942355,0.9444906377964262,-0.03956551316859267,-1.1913735024463135,-0.963486275341088,-1.3533511104197,-0.10146602362529568,0.40726711160299367,-1.3279311786454684,0.08999558075822016,1.4193027223212058,0.8481711573298252,1.237710700172955,-0.9075402340794535,0.24104376712171527,-0.26683695105423477,0.5297046101182764,-0.5898451706324817,-0.46118554508543186,0.4438889661881818,-0.022849201447032792,0.6538508162804493,-0.8969955791054491,0.5151826075293686,-1.716075531842265,-1.2459443299216126,-0.39468032622605176,-0.594068760568758,1.1781478136671775,-1.0799218215036783,1.0329478909914607,0.2282708120345758,0.5740812637562833,0.998004452114102,-0.4240139456347152,1.5697362346573667,-2.301553062519039,-0.05564169983599276,-0.5750252875191277,0.36899773315170714,1.2352274250634883,-0.2760983305352888,-1.1315843014714326,0.47160626469032957,0.6224993997445093,0.3056078012612184,0.3565127710229608,0.16192329536141162,-0.4482276412402648,-0.255341393719222,2.731094066424876,-0.3509008449363998,0.7562307284894754,0.307461984745654,-0.028086364160419496,0.3078805805283829,0.2717827333298244,-0.21005022861881803,0.15616678270870996,-0.5508037116094993,-0.8595019402724217,-1.1811403903781978,-1.1051152466130356,0.18553196417980916,0.625579015927619,-0.6408948128706429,-0.12432769691673103,-1.0699306999590428,0.26771926977846544,0.8026332176389065,1.80141470610895,-1.873013331107765,0.9099007759609501,-1.4396917779942568],\"xaxis\":\"x10\",\"y\":[-0.5329383118117111,0.557158984686362,-0.7773784640077513,0.4502948550666474,1.0138880505622996,0.8643796572088078,1.403327846853929,0.17662681793324203,-0.9256916191776521,0.11113838946336113,-0.5003135852854012,-1.4373836749538296,0.004390886289931718,0.5052863861856433,1.0398284942816312,0.4700021219352897,1.2942516711557286,0.4562530916282091,0.4867757023349144,0.5251023387128786,1.366687500871755,0.7341868934647509,-0.7406234269138862,1.7902580011984228,-0.052280405347552884,-1.2994890823643053,-0.03998407812874461,0.2409334336633333,-1.1431901553946213,-1.3375003089870747,0.21267439088163337,-0.3727133338594834,-1.7432581570902688,1.1140649602434551,0.11880631666273851,-2.009441502210672,-0.5510243805032415,-0.3965855723196719,-0.9207409303162719,-1.0943443758622298,0.2763122759552882,-1.5883444069275798,-1.0330063980789108,0.5362525437628567,0.1411710405785407,-0.38437445757092265,1.3919900976151998,0.9517151174256139,-1.1901950141859108,-0.14189555170734033,0.5968986628418939,-0.5005443285631248,1.416423978087898,0.1431483587824421,3.4124450680223752,-0.06761336436845361,0.8701406858782743,-1.5729354220756329,-1.5239639144707235,-0.35001468782544215,-0.3141329650511141,1.289147141353759,0.6571940529834378,0.12691583464319822,-0.35819019671388636,0.3512140322402031,-1.570650531955033,1.6844680221586628,-1.138982064296053,-0.0669494830020375,0.10910710717061158,0.4366525495605837,0.031831925732240654,0.7073775791321979,0.26398938042263326,1.65842532898978,1.1225040754670954,2.1251585555550387,-0.2210800855085304,-0.580723734930385,0.6749862640274892,-0.3248229431990396,0.8908237137126089,0.38853005247553696,-0.008631663873746373,1.1576062810456162,-2.5163976663842575,-0.3794418799086721,-1.3282923544858762,-2.0459800517490567,-0.3781167481915554,-0.026801909417827462,-0.3209689443383593,-1.255685088054047,2.753703318492102,1.5388188394422968,-1.479870267117127,0.39163662921207093,-0.48390531047703966,0.7573644209629506],\"yaxis\":\"y10\",\"type\":\"scatter\"},{\"histfunc\":\"count\",\"histnorm\":\"\",\"marker\":{\"color\":\"rgba(50, 171, 96, 1.0)\",\"line\":{\"color\":\"#4D5663\",\"width\":1.3}},\"name\":\"C\",\"nbinsx\":10,\"opacity\":0.8,\"orientation\":\"v\",\"x\":[-0.5329383118117111,0.557158984686362,-0.7773784640077513,0.4502948550666474,1.0138880505622996,0.8643796572088078,1.403327846853929,0.17662681793324203,-0.9256916191776521,0.11113838946336113,-0.5003135852854012,-1.4373836749538296,0.004390886289931718,0.5052863861856433,1.0398284942816312,0.4700021219352897,1.2942516711557286,0.4562530916282091,0.4867757023349144,0.5251023387128786,1.366687500871755,0.7341868934647509,-0.7406234269138862,1.7902580011984228,-0.052280405347552884,-1.2994890823643053,-0.03998407812874461,0.2409334336633333,-1.1431901553946213,-1.3375003089870747,0.21267439088163337,-0.3727133338594834,-1.7432581570902688,1.1140649602434551,0.11880631666273851,-2.009441502210672,-0.5510243805032415,-0.3965855723196719,-0.9207409303162719,-1.0943443758622298,0.2763122759552882,-1.5883444069275798,-1.0330063980789108,0.5362525437628567,0.1411710405785407,-0.38437445757092265,1.3919900976151998,0.9517151174256139,-1.1901950141859108,-0.14189555170734033,0.5968986628418939,-0.5005443285631248,1.416423978087898,0.1431483587824421,3.4124450680223752,-0.06761336436845361,0.8701406858782743,-1.5729354220756329,-1.5239639144707235,-0.35001468782544215,-0.3141329650511141,1.289147141353759,0.6571940529834378,0.12691583464319822,-0.35819019671388636,0.3512140322402031,-1.570650531955033,1.6844680221586628,-1.138982064296053,-0.0669494830020375,0.10910710717061158,0.4366525495605837,0.031831925732240654,0.7073775791321979,0.26398938042263326,1.65842532898978,1.1225040754670954,2.1251585555550387,-0.2210800855085304,-0.580723734930385,0.6749862640274892,-0.3248229431990396,0.8908237137126089,0.38853005247553696,-0.008631663873746373,1.1576062810456162,-2.5163976663842575,-0.3794418799086721,-1.3282923544858762,-2.0459800517490567,-0.3781167481915554,-0.026801909417827462,-0.3209689443383593,-1.255685088054047,2.753703318492102,1.5388188394422968,-1.479870267117127,0.39163662921207093,-0.48390531047703966,0.7573644209629506],\"xaxis\":\"x11\",\"yaxis\":\"y11\",\"type\":\"histogram\"},{\"line\":{\"color\":\"rgba(128, 128, 128, 1.0)\",\"dash\":\"solid\",\"shape\":\"linear\",\"width\":1.3},\"marker\":{\"size\":2,\"symbol\":\"circle\"},\"mode\":\"markers\",\"name\":\"C\",\"text\":\"\",\"x\":[-0.2193839724920814,0.03673834097851173,0.987799585989557,-0.45680697868842046,0.7271098863401266,0.30329210727865613,-0.26712978821937444,1.0095723743385,-0.4228909507045194,0.3075892397528451,0.9489828485601433,-0.22451513255242508,-1.1107116681174418,0.7680108676987024,-0.11630608147155315,0.29093326534482966,1.9542889849467535,1.1110135911541346,-2.3296160711306944,0.02187744257320405,-0.6629555946608392,-0.4928989052670513,-0.8759945384540662,0.6922627648086038,1.1262086084701817,1.9691467010080486,1.3741557642209405,-1.3713246219745756,-0.1836866932419942,1.043777373642293,1.1171414932728372,-0.8483544586416497,0.5475171172834119,0.22746681771477958,-0.6308476174813245,-0.09854811827025602,0.022769378814638853,-0.4487986629320674,-0.9034597245484658,-0.6378949254903331,-0.4492768708891525,1.0555579449603434,-0.11470394720695867,-0.14609532264882724,-0.3802579048952034,2.1033300796058008,-0.07835629365401076,0.255763285824464,-1.0829429872566125,-0.5984508218594459,0.2988305135551518,0.7610733152132845,-0.15331145876966712,-1.0899092691503058,0.6887506413586928,0.09057229714387154,-0.1831544794728409,-0.23219247443813748,1.0850595737659272,0.7079347962395922,0.9239648370430716,0.5752666639473206,-0.0782466539059608,-0.5751549927849406,0.30293306177254614,-1.6128733507367412,0.954161956224829,0.35331662927665525,0.4867032255124756,-1.4425153880296329,-2.439129093983263,1.300863150160351,-1.2320162675360742,-0.17352268024345233,-0.3202322874932672,-0.35092980882229036,0.5275550115628105,1.7884140357936633,3.1450296067129244,-0.5314874202448286,-2.064718091313124,0.9534673941924888,-0.040331506354160544,-0.6352729350658008,-0.06096951786361323,0.5609324550321262,0.3574741859411366,-1.7928844510806905,-0.033542057166446475,-1.412194137336305,-0.12324110708590304,-0.553675978465696,0.7324784603482485,-0.250450527950122,0.3814857723717101,0.0693795153937473,1.2127267520325036,0.31639856434337044,-0.16116887362125037,0.7714979567097996],\"xaxis\":\"x12\",\"y\":[-0.5329383118117111,0.557158984686362,-0.7773784640077513,0.4502948550666474,1.0138880505622996,0.8643796572088078,1.403327846853929,0.17662681793324203,-0.9256916191776521,0.11113838946336113,-0.5003135852854012,-1.4373836749538296,0.004390886289931718,0.5052863861856433,1.0398284942816312,0.4700021219352897,1.2942516711557286,0.4562530916282091,0.4867757023349144,0.5251023387128786,1.366687500871755,0.7341868934647509,-0.7406234269138862,1.7902580011984228,-0.052280405347552884,-1.2994890823643053,-0.03998407812874461,0.2409334336633333,-1.1431901553946213,-1.3375003089870747,0.21267439088163337,-0.3727133338594834,-1.7432581570902688,1.1140649602434551,0.11880631666273851,-2.009441502210672,-0.5510243805032415,-0.3965855723196719,-0.9207409303162719,-1.0943443758622298,0.2763122759552882,-1.5883444069275798,-1.0330063980789108,0.5362525437628567,0.1411710405785407,-0.38437445757092265,1.3919900976151998,0.9517151174256139,-1.1901950141859108,-0.14189555170734033,0.5968986628418939,-0.5005443285631248,1.416423978087898,0.1431483587824421,3.4124450680223752,-0.06761336436845361,0.8701406858782743,-1.5729354220756329,-1.5239639144707235,-0.35001468782544215,-0.3141329650511141,1.289147141353759,0.6571940529834378,0.12691583464319822,-0.35819019671388636,0.3512140322402031,-1.570650531955033,1.6844680221586628,-1.138982064296053,-0.0669494830020375,0.10910710717061158,0.4366525495605837,0.031831925732240654,0.7073775791321979,0.26398938042263326,1.65842532898978,1.1225040754670954,2.1251585555550387,-0.2210800855085304,-0.580723734930385,0.6749862640274892,-0.3248229431990396,0.8908237137126089,0.38853005247553696,-0.008631663873746373,1.1576062810456162,-2.5163976663842575,-0.3794418799086721,-1.3282923544858762,-2.0459800517490567,-0.3781167481915554,-0.026801909417827462,-0.3209689443383593,-1.255685088054047,2.753703318492102,1.5388188394422968,-1.479870267117127,0.39163662921207093,-0.48390531047703966,0.7573644209629506],\"yaxis\":\"y12\",\"type\":\"scatter\"},{\"line\":{\"color\":\"rgba(128, 128, 128, 1.0)\",\"dash\":\"solid\",\"shape\":\"linear\",\"width\":1.3},\"marker\":{\"size\":2,\"symbol\":\"circle\"},\"mode\":\"markers\",\"name\":\"D\",\"text\":\"\",\"x\":[-0.5926298961513271,0.25673020586304807,-0.43782540602292713,1.0534689198889642,-0.9919513407195126,1.611767926213217,0.06330100258337129,-0.7794590258443483,1.3213895611178617,2.0428480315223823,1.3942054388325047,-1.0038641189563902,0.38499375800912655,0.43771904183757787,-0.03450546160271116,1.053234080805073,2.0397975570567692,0.385375865370009,1.7676509480340017,-0.6649155567520971,1.436288459640299,-0.4036051333866007,0.09260910325620314,-0.6542216569397591,1.4741915479685124,0.9051017853546715,-2.196271747394207,-0.11339517644243712,-0.4449131865951581,-0.22841259825041527,0.8679037688166911,-0.8281381473996741,-0.3197383644114914,-0.22840516815474368,2.853834584156512,0.6216999835149216,1.5240921155040292,-0.31203354460191196,0.08094205015951837,0.015646307251275072,1.7932205291927203,0.4653034182676237,1.1593511785630377,1.5737474570494507,1.1662651409043536,-0.13617317080506597,-1.6664432754952285,0.6658652654155452,-0.5158901261812123,-0.9417598894899648,0.5250610445322508,1.1998623089464961,-0.3229256151506854,-1.2920143018845127,-0.05205440705465112,0.26600301743930166,-0.9644056385681528,2.4529695305287142,2.713126831567635,0.23352598710271472,0.24763388006906298,-1.2243351213532416,0.41903421957586184,0.48867062808082373,-0.7861677504690421,-1.2514626078351387,0.21186021746577036,-0.06017875815427523,2.3055917858896997,-0.72211444002813,-0.12793695931512533,-0.007755887247505297,-1.0097227248055003,0.6030326691920733,-0.1739761026833534,0.7520083111574457,-0.5412741041067098,0.12309165184098429,0.7562849692392389,1.0348364759469733,-1.3908296564977056,-0.4406362876635684,0.574944055766053,-0.5819853653510465,0.881152636747594,0.07868416646062422,1.8226632065021642,-0.13719437995366995,1.1162581459854621,-0.7985545018909256,0.17241094898690948,0.2552260864441374,1.0605714157563813,0.5179693571027562,0.4155143057576676,1.4316485846465625,-0.7775443753105155,-1.063630020330371,-0.16289165324194577,-0.29531247931902405],\"xaxis\":\"x13\",\"y\":[-0.2193839724920814,0.03673834097851173,0.987799585989557,-0.45680697868842046,0.7271098863401266,0.30329210727865613,-0.26712978821937444,1.0095723743385,-0.4228909507045194,0.3075892397528451,0.9489828485601433,-0.22451513255242508,-1.1107116681174418,0.7680108676987024,-0.11630608147155315,0.29093326534482966,1.9542889849467535,1.1110135911541346,-2.3296160711306944,0.02187744257320405,-0.6629555946608392,-0.4928989052670513,-0.8759945384540662,0.6922627648086038,1.1262086084701817,1.9691467010080486,1.3741557642209405,-1.3713246219745756,-0.1836866932419942,1.043777373642293,1.1171414932728372,-0.8483544586416497,0.5475171172834119,0.22746681771477958,-0.6308476174813245,-0.09854811827025602,0.022769378814638853,-0.4487986629320674,-0.9034597245484658,-0.6378949254903331,-0.4492768708891525,1.0555579449603434,-0.11470394720695867,-0.14609532264882724,-0.3802579048952034,2.1033300796058008,-0.07835629365401076,0.255763285824464,-1.0829429872566125,-0.5984508218594459,0.2988305135551518,0.7610733152132845,-0.15331145876966712,-1.0899092691503058,0.6887506413586928,0.09057229714387154,-0.1831544794728409,-0.23219247443813748,1.0850595737659272,0.7079347962395922,0.9239648370430716,0.5752666639473206,-0.0782466539059608,-0.5751549927849406,0.30293306177254614,-1.6128733507367412,0.954161956224829,0.35331662927665525,0.4867032255124756,-1.4425153880296329,-2.439129093983263,1.300863150160351,-1.2320162675360742,-0.17352268024345233,-0.3202322874932672,-0.35092980882229036,0.5275550115628105,1.7884140357936633,3.1450296067129244,-0.5314874202448286,-2.064718091313124,0.9534673941924888,-0.040331506354160544,-0.6352729350658008,-0.06096951786361323,0.5609324550321262,0.3574741859411366,-1.7928844510806905,-0.033542057166446475,-1.412194137336305,-0.12324110708590304,-0.553675978465696,0.7324784603482485,-0.250450527950122,0.3814857723717101,0.0693795153937473,1.2127267520325036,0.31639856434337044,-0.16116887362125037,0.7714979567097996],\"yaxis\":\"y13\",\"type\":\"scatter\"},{\"line\":{\"color\":\"rgba(128, 128, 128, 1.0)\",\"dash\":\"solid\",\"shape\":\"linear\",\"width\":1.3},\"marker\":{\"size\":2,\"symbol\":\"circle\"},\"mode\":\"markers\",\"name\":\"D\",\"text\":\"\",\"x\":[-0.1157907510446745,0.4798485260848488,0.2942811047577971,0.7131066424167334,-0.614145259332274,1.3367013379768597,-0.3611519306104252,-0.22674171311266222,-0.7922763953214255,-1.912388440068962,2.94461710583469,0.7466399419377467,-0.5062250561740432,-0.6267758673924915,-0.5301364252727697,-1.1356102411393012,1.7097173351457045,-0.5982673480241042,0.632599712583573,-0.7191789918807273,-1.011913867593541,1.0862462490282248,1.1499817116204132,0.7121776705596654,-0.7249853951963967,-0.24484654770034245,-0.10946886787942355,0.9444906377964262,-0.03956551316859267,-1.1913735024463135,-0.963486275341088,-1.3533511104197,-0.10146602362529568,0.40726711160299367,-1.3279311786454684,0.08999558075822016,1.4193027223212058,0.8481711573298252,1.237710700172955,-0.9075402340794535,0.24104376712171527,-0.26683695105423477,0.5297046101182764,-0.5898451706324817,-0.46118554508543186,0.4438889661881818,-0.022849201447032792,0.6538508162804493,-0.8969955791054491,0.5151826075293686,-1.716075531842265,-1.2459443299216126,-0.39468032622605176,-0.594068760568758,1.1781478136671775,-1.0799218215036783,1.0329478909914607,0.2282708120345758,0.5740812637562833,0.998004452114102,-0.4240139456347152,1.5697362346573667,-2.301553062519039,-0.05564169983599276,-0.5750252875191277,0.36899773315170714,1.2352274250634883,-0.2760983305352888,-1.1315843014714326,0.47160626469032957,0.6224993997445093,0.3056078012612184,0.3565127710229608,0.16192329536141162,-0.4482276412402648,-0.255341393719222,2.731094066424876,-0.3509008449363998,0.7562307284894754,0.307461984745654,-0.028086364160419496,0.3078805805283829,0.2717827333298244,-0.21005022861881803,0.15616678270870996,-0.5508037116094993,-0.8595019402724217,-1.1811403903781978,-1.1051152466130356,0.18553196417980916,0.625579015927619,-0.6408948128706429,-0.12432769691673103,-1.0699306999590428,0.26771926977846544,0.8026332176389065,1.80141470610895,-1.873013331107765,0.9099007759609501,-1.4396917779942568],\"xaxis\":\"x14\",\"y\":[-0.2193839724920814,0.03673834097851173,0.987799585989557,-0.45680697868842046,0.7271098863401266,0.30329210727865613,-0.26712978821937444,1.0095723743385,-0.4228909507045194,0.3075892397528451,0.9489828485601433,-0.22451513255242508,-1.1107116681174418,0.7680108676987024,-0.11630608147155315,0.29093326534482966,1.9542889849467535,1.1110135911541346,-2.3296160711306944,0.02187744257320405,-0.6629555946608392,-0.4928989052670513,-0.8759945384540662,0.6922627648086038,1.1262086084701817,1.9691467010080486,1.3741557642209405,-1.3713246219745756,-0.1836866932419942,1.043777373642293,1.1171414932728372,-0.8483544586416497,0.5475171172834119,0.22746681771477958,-0.6308476174813245,-0.09854811827025602,0.022769378814638853,-0.4487986629320674,-0.9034597245484658,-0.6378949254903331,-0.4492768708891525,1.0555579449603434,-0.11470394720695867,-0.14609532264882724,-0.3802579048952034,2.1033300796058008,-0.07835629365401076,0.255763285824464,-1.0829429872566125,-0.5984508218594459,0.2988305135551518,0.7610733152132845,-0.15331145876966712,-1.0899092691503058,0.6887506413586928,0.09057229714387154,-0.1831544794728409,-0.23219247443813748,1.0850595737659272,0.7079347962395922,0.9239648370430716,0.5752666639473206,-0.0782466539059608,-0.5751549927849406,0.30293306177254614,-1.6128733507367412,0.954161956224829,0.35331662927665525,0.4867032255124756,-1.4425153880296329,-2.439129093983263,1.300863150160351,-1.2320162675360742,-0.17352268024345233,-0.3202322874932672,-0.35092980882229036,0.5275550115628105,1.7884140357936633,3.1450296067129244,-0.5314874202448286,-2.064718091313124,0.9534673941924888,-0.040331506354160544,-0.6352729350658008,-0.06096951786361323,0.5609324550321262,0.3574741859411366,-1.7928844510806905,-0.033542057166446475,-1.412194137336305,-0.12324110708590304,-0.553675978465696,0.7324784603482485,-0.250450527950122,0.3814857723717101,0.0693795153937473,1.2127267520325036,0.31639856434337044,-0.16116887362125037,0.7714979567097996],\"yaxis\":\"y14\",\"type\":\"scatter\"},{\"line\":{\"color\":\"rgba(128, 128, 128, 1.0)\",\"dash\":\"solid\",\"shape\":\"linear\",\"width\":1.3},\"marker\":{\"size\":2,\"symbol\":\"circle\"},\"mode\":\"markers\",\"name\":\"D\",\"text\":\"\",\"x\":[-0.5329383118117111,0.557158984686362,-0.7773784640077513,0.4502948550666474,1.0138880505622996,0.8643796572088078,1.403327846853929,0.17662681793324203,-0.9256916191776521,0.11113838946336113,-0.5003135852854012,-1.4373836749538296,0.004390886289931718,0.5052863861856433,1.0398284942816312,0.4700021219352897,1.2942516711557286,0.4562530916282091,0.4867757023349144,0.5251023387128786,1.366687500871755,0.7341868934647509,-0.7406234269138862,1.7902580011984228,-0.052280405347552884,-1.2994890823643053,-0.03998407812874461,0.2409334336633333,-1.1431901553946213,-1.3375003089870747,0.21267439088163337,-0.3727133338594834,-1.7432581570902688,1.1140649602434551,0.11880631666273851,-2.009441502210672,-0.5510243805032415,-0.3965855723196719,-0.9207409303162719,-1.0943443758622298,0.2763122759552882,-1.5883444069275798,-1.0330063980789108,0.5362525437628567,0.1411710405785407,-0.38437445757092265,1.3919900976151998,0.9517151174256139,-1.1901950141859108,-0.14189555170734033,0.5968986628418939,-0.5005443285631248,1.416423978087898,0.1431483587824421,3.4124450680223752,-0.06761336436845361,0.8701406858782743,-1.5729354220756329,-1.5239639144707235,-0.35001468782544215,-0.3141329650511141,1.289147141353759,0.6571940529834378,0.12691583464319822,-0.35819019671388636,0.3512140322402031,-1.570650531955033,1.6844680221586628,-1.138982064296053,-0.0669494830020375,0.10910710717061158,0.4366525495605837,0.031831925732240654,0.7073775791321979,0.26398938042263326,1.65842532898978,1.1225040754670954,2.1251585555550387,-0.2210800855085304,-0.580723734930385,0.6749862640274892,-0.3248229431990396,0.8908237137126089,0.38853005247553696,-0.008631663873746373,1.1576062810456162,-2.5163976663842575,-0.3794418799086721,-1.3282923544858762,-2.0459800517490567,-0.3781167481915554,-0.026801909417827462,-0.3209689443383593,-1.255685088054047,2.753703318492102,1.5388188394422968,-1.479870267117127,0.39163662921207093,-0.48390531047703966,0.7573644209629506],\"xaxis\":\"x15\",\"y\":[-0.2193839724920814,0.03673834097851173,0.987799585989557,-0.45680697868842046,0.7271098863401266,0.30329210727865613,-0.26712978821937444,1.0095723743385,-0.4228909507045194,0.3075892397528451,0.9489828485601433,-0.22451513255242508,-1.1107116681174418,0.7680108676987024,-0.11630608147155315,0.29093326534482966,1.9542889849467535,1.1110135911541346,-2.3296160711306944,0.02187744257320405,-0.6629555946608392,-0.4928989052670513,-0.8759945384540662,0.6922627648086038,1.1262086084701817,1.9691467010080486,1.3741557642209405,-1.3713246219745756,-0.1836866932419942,1.043777373642293,1.1171414932728372,-0.8483544586416497,0.5475171172834119,0.22746681771477958,-0.6308476174813245,-0.09854811827025602,0.022769378814638853,-0.4487986629320674,-0.9034597245484658,-0.6378949254903331,-0.4492768708891525,1.0555579449603434,-0.11470394720695867,-0.14609532264882724,-0.3802579048952034,2.1033300796058008,-0.07835629365401076,0.255763285824464,-1.0829429872566125,-0.5984508218594459,0.2988305135551518,0.7610733152132845,-0.15331145876966712,-1.0899092691503058,0.6887506413586928,0.09057229714387154,-0.1831544794728409,-0.23219247443813748,1.0850595737659272,0.7079347962395922,0.9239648370430716,0.5752666639473206,-0.0782466539059608,-0.5751549927849406,0.30293306177254614,-1.6128733507367412,0.954161956224829,0.35331662927665525,0.4867032255124756,-1.4425153880296329,-2.439129093983263,1.300863150160351,-1.2320162675360742,-0.17352268024345233,-0.3202322874932672,-0.35092980882229036,0.5275550115628105,1.7884140357936633,3.1450296067129244,-0.5314874202448286,-2.064718091313124,0.9534673941924888,-0.040331506354160544,-0.6352729350658008,-0.06096951786361323,0.5609324550321262,0.3574741859411366,-1.7928844510806905,-0.033542057166446475,-1.412194137336305,-0.12324110708590304,-0.553675978465696,0.7324784603482485,-0.250450527950122,0.3814857723717101,0.0693795153937473,1.2127267520325036,0.31639856434337044,-0.16116887362125037,0.7714979567097996],\"yaxis\":\"y15\",\"type\":\"scatter\"},{\"histfunc\":\"count\",\"histnorm\":\"\",\"marker\":{\"color\":\"rgba(128, 0, 128, 1.0)\",\"line\":{\"color\":\"#4D5663\",\"width\":1.3}},\"name\":\"D\",\"nbinsx\":10,\"opacity\":0.8,\"orientation\":\"v\",\"x\":[-0.2193839724920814,0.03673834097851173,0.987799585989557,-0.45680697868842046,0.7271098863401266,0.30329210727865613,-0.26712978821937444,1.0095723743385,-0.4228909507045194,0.3075892397528451,0.9489828485601433,-0.22451513255242508,-1.1107116681174418,0.7680108676987024,-0.11630608147155315,0.29093326534482966,1.9542889849467535,1.1110135911541346,-2.3296160711306944,0.02187744257320405,-0.6629555946608392,-0.4928989052670513,-0.8759945384540662,0.6922627648086038,1.1262086084701817,1.9691467010080486,1.3741557642209405,-1.3713246219745756,-0.1836866932419942,1.043777373642293,1.1171414932728372,-0.8483544586416497,0.5475171172834119,0.22746681771477958,-0.6308476174813245,-0.09854811827025602,0.022769378814638853,-0.4487986629320674,-0.9034597245484658,-0.6378949254903331,-0.4492768708891525,1.0555579449603434,-0.11470394720695867,-0.14609532264882724,-0.3802579048952034,2.1033300796058008,-0.07835629365401076,0.255763285824464,-1.0829429872566125,-0.5984508218594459,0.2988305135551518,0.7610733152132845,-0.15331145876966712,-1.0899092691503058,0.6887506413586928,0.09057229714387154,-0.1831544794728409,-0.23219247443813748,1.0850595737659272,0.7079347962395922,0.9239648370430716,0.5752666639473206,-0.0782466539059608,-0.5751549927849406,0.30293306177254614,-1.6128733507367412,0.954161956224829,0.35331662927665525,0.4867032255124756,-1.4425153880296329,-2.439129093983263,1.300863150160351,-1.2320162675360742,-0.17352268024345233,-0.3202322874932672,-0.35092980882229036,0.5275550115628105,1.7884140357936633,3.1450296067129244,-0.5314874202448286,-2.064718091313124,0.9534673941924888,-0.040331506354160544,-0.6352729350658008,-0.06096951786361323,0.5609324550321262,0.3574741859411366,-1.7928844510806905,-0.033542057166446475,-1.412194137336305,-0.12324110708590304,-0.553675978465696,0.7324784603482485,-0.250450527950122,0.3814857723717101,0.0693795153937473,1.2127267520325036,0.31639856434337044,-0.16116887362125037,0.7714979567097996],\"xaxis\":\"x16\",\"yaxis\":\"y16\",\"type\":\"histogram\"}],                        {\"bargap\":0.02,\"legend\":{\"bgcolor\":\"#F5F6F9\",\"font\":{\"color\":\"#4D5663\"}},\"paper_bgcolor\":\"#F5F6F9\",\"plot_bgcolor\":\"#F5F6F9\",\"showlegend\":false,\"template\":{\"data\":{\"barpolar\":[{\"marker\":{\"line\":{\"color\":\"#E5ECF6\",\"width\":0.5},\"pattern\":{\"fillmode\":\"overlay\",\"size\":10,\"solidity\":0.2}},\"type\":\"barpolar\"}],\"bar\":[{\"error_x\":{\"color\":\"#2a3f5f\"},\"error_y\":{\"color\":\"#2a3f5f\"},\"marker\":{\"line\":{\"color\":\"#E5ECF6\",\"width\":0.5},\"pattern\":{\"fillmode\":\"overlay\",\"size\":10,\"solidity\":0.2}},\"type\":\"bar\"}],\"carpet\":[{\"aaxis\":{\"endlinecolor\":\"#2a3f5f\",\"gridcolor\":\"white\",\"linecolor\":\"white\",\"minorgridcolor\":\"white\",\"startlinecolor\":\"#2a3f5f\"},\"baxis\":{\"endlinecolor\":\"#2a3f5f\",\"gridcolor\":\"white\",\"linecolor\":\"white\",\"minorgridcolor\":\"white\",\"startlinecolor\":\"#2a3f5f\"},\"type\":\"carpet\"}],\"choropleth\":[{\"colorbar\":{\"outlinewidth\":0,\"ticks\":\"\"},\"type\":\"choropleth\"}],\"contourcarpet\":[{\"colorbar\":{\"outlinewidth\":0,\"ticks\":\"\"},\"type\":\"contourcarpet\"}],\"contour\":[{\"colorbar\":{\"outlinewidth\":0,\"ticks\":\"\"},\"colorscale\":[[0.0,\"#0d0887\"],[0.1111111111111111,\"#46039f\"],[0.2222222222222222,\"#7201a8\"],[0.3333333333333333,\"#9c179e\"],[0.4444444444444444,\"#bd3786\"],[0.5555555555555556,\"#d8576b\"],[0.6666666666666666,\"#ed7953\"],[0.7777777777777778,\"#fb9f3a\"],[0.8888888888888888,\"#fdca26\"],[1.0,\"#f0f921\"]],\"type\":\"contour\"}],\"heatmapgl\":[{\"colorbar\":{\"outlinewidth\":0,\"ticks\":\"\"},\"colorscale\":[[0.0,\"#0d0887\"],[0.1111111111111111,\"#46039f\"],[0.2222222222222222,\"#7201a8\"],[0.3333333333333333,\"#9c179e\"],[0.4444444444444444,\"#bd3786\"],[0.5555555555555556,\"#d8576b\"],[0.6666666666666666,\"#ed7953\"],[0.7777777777777778,\"#fb9f3a\"],[0.8888888888888888,\"#fdca26\"],[1.0,\"#f0f921\"]],\"type\":\"heatmapgl\"}],\"heatmap\":[{\"colorbar\":{\"outlinewidth\":0,\"ticks\":\"\"},\"colorscale\":[[0.0,\"#0d0887\"],[0.1111111111111111,\"#46039f\"],[0.2222222222222222,\"#7201a8\"],[0.3333333333333333,\"#9c179e\"],[0.4444444444444444,\"#bd3786\"],[0.5555555555555556,\"#d8576b\"],[0.6666666666666666,\"#ed7953\"],[0.7777777777777778,\"#fb9f3a\"],[0.8888888888888888,\"#fdca26\"],[1.0,\"#f0f921\"]],\"type\":\"heatmap\"}],\"histogram2dcontour\":[{\"colorbar\":{\"outlinewidth\":0,\"ticks\":\"\"},\"colorscale\":[[0.0,\"#0d0887\"],[0.1111111111111111,\"#46039f\"],[0.2222222222222222,\"#7201a8\"],[0.3333333333333333,\"#9c179e\"],[0.4444444444444444,\"#bd3786\"],[0.5555555555555556,\"#d8576b\"],[0.6666666666666666,\"#ed7953\"],[0.7777777777777778,\"#fb9f3a\"],[0.8888888888888888,\"#fdca26\"],[1.0,\"#f0f921\"]],\"type\":\"histogram2dcontour\"}],\"histogram2d\":[{\"colorbar\":{\"outlinewidth\":0,\"ticks\":\"\"},\"colorscale\":[[0.0,\"#0d0887\"],[0.1111111111111111,\"#46039f\"],[0.2222222222222222,\"#7201a8\"],[0.3333333333333333,\"#9c179e\"],[0.4444444444444444,\"#bd3786\"],[0.5555555555555556,\"#d8576b\"],[0.6666666666666666,\"#ed7953\"],[0.7777777777777778,\"#fb9f3a\"],[0.8888888888888888,\"#fdca26\"],[1.0,\"#f0f921\"]],\"type\":\"histogram2d\"}],\"histogram\":[{\"marker\":{\"pattern\":{\"fillmode\":\"overlay\",\"size\":10,\"solidity\":0.2}},\"type\":\"histogram\"}],\"mesh3d\":[{\"colorbar\":{\"outlinewidth\":0,\"ticks\":\"\"},\"type\":\"mesh3d\"}],\"parcoords\":[{\"line\":{\"colorbar\":{\"outlinewidth\":0,\"ticks\":\"\"}},\"type\":\"parcoords\"}],\"pie\":[{\"automargin\":true,\"type\":\"pie\"}],\"scatter3d\":[{\"line\":{\"colorbar\":{\"outlinewidth\":0,\"ticks\":\"\"}},\"marker\":{\"colorbar\":{\"outlinewidth\":0,\"ticks\":\"\"}},\"type\":\"scatter3d\"}],\"scattercarpet\":[{\"marker\":{\"colorbar\":{\"outlinewidth\":0,\"ticks\":\"\"}},\"type\":\"scattercarpet\"}],\"scattergeo\":[{\"marker\":{\"colorbar\":{\"outlinewidth\":0,\"ticks\":\"\"}},\"type\":\"scattergeo\"}],\"scattergl\":[{\"marker\":{\"colorbar\":{\"outlinewidth\":0,\"ticks\":\"\"}},\"type\":\"scattergl\"}],\"scattermapbox\":[{\"marker\":{\"colorbar\":{\"outlinewidth\":0,\"ticks\":\"\"}},\"type\":\"scattermapbox\"}],\"scatterpolargl\":[{\"marker\":{\"colorbar\":{\"outlinewidth\":0,\"ticks\":\"\"}},\"type\":\"scatterpolargl\"}],\"scatterpolar\":[{\"marker\":{\"colorbar\":{\"outlinewidth\":0,\"ticks\":\"\"}},\"type\":\"scatterpolar\"}],\"scatter\":[{\"fillpattern\":{\"fillmode\":\"overlay\",\"size\":10,\"solidity\":0.2},\"type\":\"scatter\"}],\"scatterternary\":[{\"marker\":{\"colorbar\":{\"outlinewidth\":0,\"ticks\":\"\"}},\"type\":\"scatterternary\"}],\"surface\":[{\"colorbar\":{\"outlinewidth\":0,\"ticks\":\"\"},\"colorscale\":[[0.0,\"#0d0887\"],[0.1111111111111111,\"#46039f\"],[0.2222222222222222,\"#7201a8\"],[0.3333333333333333,\"#9c179e\"],[0.4444444444444444,\"#bd3786\"],[0.5555555555555556,\"#d8576b\"],[0.6666666666666666,\"#ed7953\"],[0.7777777777777778,\"#fb9f3a\"],[0.8888888888888888,\"#fdca26\"],[1.0,\"#f0f921\"]],\"type\":\"surface\"}],\"table\":[{\"cells\":{\"fill\":{\"color\":\"#EBF0F8\"},\"line\":{\"color\":\"white\"}},\"header\":{\"fill\":{\"color\":\"#C8D4E3\"},\"line\":{\"color\":\"white\"}},\"type\":\"table\"}]},\"layout\":{\"annotationdefaults\":{\"arrowcolor\":\"#2a3f5f\",\"arrowhead\":0,\"arrowwidth\":1},\"autotypenumbers\":\"strict\",\"coloraxis\":{\"colorbar\":{\"outlinewidth\":0,\"ticks\":\"\"}},\"colorscale\":{\"diverging\":[[0,\"#8e0152\"],[0.1,\"#c51b7d\"],[0.2,\"#de77ae\"],[0.3,\"#f1b6da\"],[0.4,\"#fde0ef\"],[0.5,\"#f7f7f7\"],[0.6,\"#e6f5d0\"],[0.7,\"#b8e186\"],[0.8,\"#7fbc41\"],[0.9,\"#4d9221\"],[1,\"#276419\"]],\"sequential\":[[0.0,\"#0d0887\"],[0.1111111111111111,\"#46039f\"],[0.2222222222222222,\"#7201a8\"],[0.3333333333333333,\"#9c179e\"],[0.4444444444444444,\"#bd3786\"],[0.5555555555555556,\"#d8576b\"],[0.6666666666666666,\"#ed7953\"],[0.7777777777777778,\"#fb9f3a\"],[0.8888888888888888,\"#fdca26\"],[1.0,\"#f0f921\"]],\"sequentialminus\":[[0.0,\"#0d0887\"],[0.1111111111111111,\"#46039f\"],[0.2222222222222222,\"#7201a8\"],[0.3333333333333333,\"#9c179e\"],[0.4444444444444444,\"#bd3786\"],[0.5555555555555556,\"#d8576b\"],[0.6666666666666666,\"#ed7953\"],[0.7777777777777778,\"#fb9f3a\"],[0.8888888888888888,\"#fdca26\"],[1.0,\"#f0f921\"]]},\"colorway\":[\"#636efa\",\"#EF553B\",\"#00cc96\",\"#ab63fa\",\"#FFA15A\",\"#19d3f3\",\"#FF6692\",\"#B6E880\",\"#FF97FF\",\"#FECB52\"],\"font\":{\"color\":\"#2a3f5f\"},\"geo\":{\"bgcolor\":\"white\",\"lakecolor\":\"white\",\"landcolor\":\"#E5ECF6\",\"showlakes\":true,\"showland\":true,\"subunitcolor\":\"white\"},\"hoverlabel\":{\"align\":\"left\"},\"hovermode\":\"closest\",\"mapbox\":{\"style\":\"light\"},\"paper_bgcolor\":\"white\",\"plot_bgcolor\":\"#E5ECF6\",\"polar\":{\"angularaxis\":{\"gridcolor\":\"white\",\"linecolor\":\"white\",\"ticks\":\"\"},\"bgcolor\":\"#E5ECF6\",\"radialaxis\":{\"gridcolor\":\"white\",\"linecolor\":\"white\",\"ticks\":\"\"}},\"scene\":{\"xaxis\":{\"backgroundcolor\":\"#E5ECF6\",\"gridcolor\":\"white\",\"gridwidth\":2,\"linecolor\":\"white\",\"showbackground\":true,\"ticks\":\"\",\"zerolinecolor\":\"white\"},\"yaxis\":{\"backgroundcolor\":\"#E5ECF6\",\"gridcolor\":\"white\",\"gridwidth\":2,\"linecolor\":\"white\",\"showbackground\":true,\"ticks\":\"\",\"zerolinecolor\":\"white\"},\"zaxis\":{\"backgroundcolor\":\"#E5ECF6\",\"gridcolor\":\"white\",\"gridwidth\":2,\"linecolor\":\"white\",\"showbackground\":true,\"ticks\":\"\",\"zerolinecolor\":\"white\"}},\"shapedefaults\":{\"line\":{\"color\":\"#2a3f5f\"}},\"ternary\":{\"aaxis\":{\"gridcolor\":\"white\",\"linecolor\":\"white\",\"ticks\":\"\"},\"baxis\":{\"gridcolor\":\"white\",\"linecolor\":\"white\",\"ticks\":\"\"},\"bgcolor\":\"#E5ECF6\",\"caxis\":{\"gridcolor\":\"white\",\"linecolor\":\"white\",\"ticks\":\"\"}},\"title\":{\"x\":0.05},\"xaxis\":{\"automargin\":true,\"gridcolor\":\"white\",\"linecolor\":\"white\",\"ticks\":\"\",\"title\":{\"standoff\":15},\"zerolinecolor\":\"white\",\"zerolinewidth\":2},\"yaxis\":{\"automargin\":true,\"gridcolor\":\"white\",\"linecolor\":\"white\",\"ticks\":\"\",\"title\":{\"standoff\":15},\"zerolinecolor\":\"white\",\"zerolinewidth\":2}}},\"title\":{\"font\":{\"color\":\"#4D5663\"}},\"xaxis\":{\"anchor\":\"y\",\"domain\":[0.0,0.2125],\"gridcolor\":\"#E1E5ED\",\"showgrid\":false,\"tickfont\":{\"color\":\"#4D5663\"},\"title\":{\"font\":{\"color\":\"#4D5663\"},\"text\":\"\"},\"zerolinecolor\":\"#E1E5ED\"},\"yaxis\":{\"anchor\":\"x\",\"domain\":[0.8025,1.0],\"gridcolor\":\"#E1E5ED\",\"showgrid\":false,\"tickfont\":{\"color\":\"#4D5663\"},\"title\":{\"font\":{\"color\":\"#4D5663\"},\"text\":\"\"},\"zerolinecolor\":\"#E1E5ED\"},\"xaxis2\":{\"anchor\":\"y2\",\"domain\":[0.2625,0.475],\"gridcolor\":\"#E1E5ED\",\"showgrid\":false,\"tickfont\":{\"color\":\"#4D5663\"},\"title\":{\"font\":{\"color\":\"#4D5663\"},\"text\":\"\"},\"zerolinecolor\":\"#E1E5ED\"},\"yaxis2\":{\"anchor\":\"x2\",\"domain\":[0.8025,1.0],\"gridcolor\":\"#E1E5ED\",\"showgrid\":false,\"tickfont\":{\"color\":\"#4D5663\"},\"title\":{\"font\":{\"color\":\"#4D5663\"},\"text\":\"\"},\"zerolinecolor\":\"#E1E5ED\"},\"xaxis3\":{\"anchor\":\"y3\",\"domain\":[0.525,0.7375],\"gridcolor\":\"#E1E5ED\",\"showgrid\":false,\"tickfont\":{\"color\":\"#4D5663\"},\"title\":{\"font\":{\"color\":\"#4D5663\"},\"text\":\"\"},\"zerolinecolor\":\"#E1E5ED\"},\"yaxis3\":{\"anchor\":\"x3\",\"domain\":[0.8025,1.0],\"gridcolor\":\"#E1E5ED\",\"showgrid\":false,\"tickfont\":{\"color\":\"#4D5663\"},\"title\":{\"font\":{\"color\":\"#4D5663\"},\"text\":\"\"},\"zerolinecolor\":\"#E1E5ED\"},\"xaxis4\":{\"anchor\":\"y4\",\"domain\":[0.7875,1.0],\"gridcolor\":\"#E1E5ED\",\"showgrid\":false,\"tickfont\":{\"color\":\"#4D5663\"},\"title\":{\"font\":{\"color\":\"#4D5663\"},\"text\":\"\"},\"zerolinecolor\":\"#E1E5ED\"},\"yaxis4\":{\"anchor\":\"x4\",\"domain\":[0.8025,1.0],\"gridcolor\":\"#E1E5ED\",\"showgrid\":false,\"tickfont\":{\"color\":\"#4D5663\"},\"title\":{\"font\":{\"color\":\"#4D5663\"},\"text\":\"\"},\"zerolinecolor\":\"#E1E5ED\"},\"xaxis5\":{\"anchor\":\"y5\",\"domain\":[0.0,0.2125],\"gridcolor\":\"#E1E5ED\",\"showgrid\":false,\"tickfont\":{\"color\":\"#4D5663\"},\"title\":{\"font\":{\"color\":\"#4D5663\"},\"text\":\"\"},\"zerolinecolor\":\"#E1E5ED\"},\"yaxis5\":{\"anchor\":\"x5\",\"domain\":[0.535,0.7325],\"gridcolor\":\"#E1E5ED\",\"showgrid\":false,\"tickfont\":{\"color\":\"#4D5663\"},\"title\":{\"font\":{\"color\":\"#4D5663\"},\"text\":\"\"},\"zerolinecolor\":\"#E1E5ED\"},\"xaxis6\":{\"anchor\":\"y6\",\"domain\":[0.2625,0.475],\"gridcolor\":\"#E1E5ED\",\"showgrid\":false,\"tickfont\":{\"color\":\"#4D5663\"},\"title\":{\"font\":{\"color\":\"#4D5663\"},\"text\":\"\"},\"zerolinecolor\":\"#E1E5ED\"},\"yaxis6\":{\"anchor\":\"x6\",\"domain\":[0.535,0.7325],\"gridcolor\":\"#E1E5ED\",\"showgrid\":false,\"tickfont\":{\"color\":\"#4D5663\"},\"title\":{\"font\":{\"color\":\"#4D5663\"},\"text\":\"\"},\"zerolinecolor\":\"#E1E5ED\"},\"xaxis7\":{\"anchor\":\"y7\",\"domain\":[0.525,0.7375],\"gridcolor\":\"#E1E5ED\",\"showgrid\":false,\"tickfont\":{\"color\":\"#4D5663\"},\"title\":{\"font\":{\"color\":\"#4D5663\"},\"text\":\"\"},\"zerolinecolor\":\"#E1E5ED\"},\"yaxis7\":{\"anchor\":\"x7\",\"domain\":[0.535,0.7325],\"gridcolor\":\"#E1E5ED\",\"showgrid\":false,\"tickfont\":{\"color\":\"#4D5663\"},\"title\":{\"font\":{\"color\":\"#4D5663\"},\"text\":\"\"},\"zerolinecolor\":\"#E1E5ED\"},\"xaxis8\":{\"anchor\":\"y8\",\"domain\":[0.7875,1.0],\"gridcolor\":\"#E1E5ED\",\"showgrid\":false,\"tickfont\":{\"color\":\"#4D5663\"},\"title\":{\"font\":{\"color\":\"#4D5663\"},\"text\":\"\"},\"zerolinecolor\":\"#E1E5ED\"},\"yaxis8\":{\"anchor\":\"x8\",\"domain\":[0.535,0.7325],\"gridcolor\":\"#E1E5ED\",\"showgrid\":false,\"tickfont\":{\"color\":\"#4D5663\"},\"title\":{\"font\":{\"color\":\"#4D5663\"},\"text\":\"\"},\"zerolinecolor\":\"#E1E5ED\"},\"xaxis9\":{\"anchor\":\"y9\",\"domain\":[0.0,0.2125],\"gridcolor\":\"#E1E5ED\",\"showgrid\":false,\"tickfont\":{\"color\":\"#4D5663\"},\"title\":{\"font\":{\"color\":\"#4D5663\"},\"text\":\"\"},\"zerolinecolor\":\"#E1E5ED\"},\"yaxis9\":{\"anchor\":\"x9\",\"domain\":[0.2675,0.465],\"gridcolor\":\"#E1E5ED\",\"showgrid\":false,\"tickfont\":{\"color\":\"#4D5663\"},\"title\":{\"font\":{\"color\":\"#4D5663\"},\"text\":\"\"},\"zerolinecolor\":\"#E1E5ED\"},\"xaxis10\":{\"anchor\":\"y10\",\"domain\":[0.2625,0.475],\"gridcolor\":\"#E1E5ED\",\"showgrid\":false,\"tickfont\":{\"color\":\"#4D5663\"},\"title\":{\"font\":{\"color\":\"#4D5663\"},\"text\":\"\"},\"zerolinecolor\":\"#E1E5ED\"},\"yaxis10\":{\"anchor\":\"x10\",\"domain\":[0.2675,0.465],\"gridcolor\":\"#E1E5ED\",\"showgrid\":false,\"tickfont\":{\"color\":\"#4D5663\"},\"title\":{\"font\":{\"color\":\"#4D5663\"},\"text\":\"\"},\"zerolinecolor\":\"#E1E5ED\"},\"xaxis11\":{\"anchor\":\"y11\",\"domain\":[0.525,0.7375],\"gridcolor\":\"#E1E5ED\",\"showgrid\":false,\"tickfont\":{\"color\":\"#4D5663\"},\"title\":{\"font\":{\"color\":\"#4D5663\"},\"text\":\"\"},\"zerolinecolor\":\"#E1E5ED\"},\"yaxis11\":{\"anchor\":\"x11\",\"domain\":[0.2675,0.465],\"gridcolor\":\"#E1E5ED\",\"showgrid\":false,\"tickfont\":{\"color\":\"#4D5663\"},\"title\":{\"font\":{\"color\":\"#4D5663\"},\"text\":\"\"},\"zerolinecolor\":\"#E1E5ED\"},\"xaxis12\":{\"anchor\":\"y12\",\"domain\":[0.7875,1.0],\"gridcolor\":\"#E1E5ED\",\"showgrid\":false,\"tickfont\":{\"color\":\"#4D5663\"},\"title\":{\"font\":{\"color\":\"#4D5663\"},\"text\":\"\"},\"zerolinecolor\":\"#E1E5ED\"},\"yaxis12\":{\"anchor\":\"x12\",\"domain\":[0.2675,0.465],\"gridcolor\":\"#E1E5ED\",\"showgrid\":false,\"tickfont\":{\"color\":\"#4D5663\"},\"title\":{\"font\":{\"color\":\"#4D5663\"},\"text\":\"\"},\"zerolinecolor\":\"#E1E5ED\"},\"xaxis13\":{\"anchor\":\"y13\",\"domain\":[0.0,0.2125],\"gridcolor\":\"#E1E5ED\",\"showgrid\":false,\"tickfont\":{\"color\":\"#4D5663\"},\"title\":{\"font\":{\"color\":\"#4D5663\"},\"text\":\"\"},\"zerolinecolor\":\"#E1E5ED\"},\"yaxis13\":{\"anchor\":\"x13\",\"domain\":[0.0,0.1975],\"gridcolor\":\"#E1E5ED\",\"showgrid\":false,\"tickfont\":{\"color\":\"#4D5663\"},\"title\":{\"font\":{\"color\":\"#4D5663\"},\"text\":\"\"},\"zerolinecolor\":\"#E1E5ED\"},\"xaxis14\":{\"anchor\":\"y14\",\"domain\":[0.2625,0.475],\"gridcolor\":\"#E1E5ED\",\"showgrid\":false,\"tickfont\":{\"color\":\"#4D5663\"},\"title\":{\"font\":{\"color\":\"#4D5663\"},\"text\":\"\"},\"zerolinecolor\":\"#E1E5ED\"},\"yaxis14\":{\"anchor\":\"x14\",\"domain\":[0.0,0.1975],\"gridcolor\":\"#E1E5ED\",\"showgrid\":false,\"tickfont\":{\"color\":\"#4D5663\"},\"title\":{\"font\":{\"color\":\"#4D5663\"},\"text\":\"\"},\"zerolinecolor\":\"#E1E5ED\"},\"xaxis15\":{\"anchor\":\"y15\",\"domain\":[0.525,0.7375],\"gridcolor\":\"#E1E5ED\",\"showgrid\":false,\"tickfont\":{\"color\":\"#4D5663\"},\"title\":{\"font\":{\"color\":\"#4D5663\"},\"text\":\"\"},\"zerolinecolor\":\"#E1E5ED\"},\"yaxis15\":{\"anchor\":\"x15\",\"domain\":[0.0,0.1975],\"gridcolor\":\"#E1E5ED\",\"showgrid\":false,\"tickfont\":{\"color\":\"#4D5663\"},\"title\":{\"font\":{\"color\":\"#4D5663\"},\"text\":\"\"},\"zerolinecolor\":\"#E1E5ED\"},\"xaxis16\":{\"anchor\":\"y16\",\"domain\":[0.7875,1.0],\"gridcolor\":\"#E1E5ED\",\"showgrid\":false,\"tickfont\":{\"color\":\"#4D5663\"},\"title\":{\"font\":{\"color\":\"#4D5663\"},\"text\":\"\"},\"zerolinecolor\":\"#E1E5ED\"},\"yaxis16\":{\"anchor\":\"x16\",\"domain\":[0.0,0.1975],\"gridcolor\":\"#E1E5ED\",\"showgrid\":false,\"tickfont\":{\"color\":\"#4D5663\"},\"title\":{\"font\":{\"color\":\"#4D5663\"},\"text\":\"\"},\"zerolinecolor\":\"#E1E5ED\"}},                        {\"showLink\": true, \"linkText\": \"Export to plot.ly\", \"plotlyServerURL\": \"https://plot.ly\", \"responsive\": true}                    ).then(function(){\n",
       "                            \n",
       "var gd = document.getElementById('4b5ebb8a-5f25-4ac1-97e8-f9c255dd3c6c');\n",
       "var x = new MutationObserver(function (mutations, observer) {{\n",
       "        var display = window.getComputedStyle(gd).display;\n",
       "        if (!display || display === 'none') {{\n",
       "            console.log([gd, 'removed!']);\n",
       "            Plotly.purge(gd);\n",
       "            observer.disconnect();\n",
       "        }}\n",
       "}});\n",
       "\n",
       "// Listen for the removal of the full notebook cells\n",
       "var notebookContainer = gd.closest('#notebook-container');\n",
       "if (notebookContainer) {{\n",
       "    x.observe(notebookContainer, {childList: true});\n",
       "}}\n",
       "\n",
       "// Listen for the clearing of the current output cell\n",
       "var outputEl = gd.closest('.output');\n",
       "if (outputEl) {{\n",
       "    x.observe(outputEl, {childList: true});\n",
       "}}\n",
       "\n",
       "                        })                };                });            </script>        </div>"
      ]
     },
     "metadata": {},
     "output_type": "display_data"
    }
   ],
   "source": [
    "df.scatter_matrix()"
   ]
  },
  {
   "cell_type": "code",
   "execution_count": null,
   "id": "cb45f72c",
   "metadata": {},
   "outputs": [],
   "source": []
  }
 ],
 "metadata": {
  "kernelspec": {
   "display_name": "Python 3 (ipykernel)",
   "language": "python",
   "name": "python3"
  },
  "language_info": {
   "codemirror_mode": {
    "name": "ipython",
    "version": 3
   },
   "file_extension": ".py",
   "mimetype": "text/x-python",
   "name": "python",
   "nbconvert_exporter": "python",
   "pygments_lexer": "ipython3",
   "version": "3.12.7"
  }
 },
 "nbformat": 4,
 "nbformat_minor": 5
}
